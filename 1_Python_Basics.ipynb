{
  "nbformat": 4,
  "nbformat_minor": 0,
  "metadata": {
    "colab": {
      "name": "1. Python Basics.ipynb",
      "provenance": [],
      "authorship_tag": "ABX9TyPykcypogoDJ1QP/0PMhV2B",
      "include_colab_link": true
    },
    "kernelspec": {
      "name": "python3",
      "display_name": "Python 3"
    },
    "language_info": {
      "name": "python"
    }
  },
  "cells": [
    {
      "cell_type": "markdown",
      "metadata": {
        "id": "view-in-github",
        "colab_type": "text"
      },
      "source": [
        "<a href=\"https://colab.research.google.com/github/diwakarojha/Python_ML_Basics/blob/main/1_Python_Basics.ipynb\" target=\"_parent\"><img src=\"https://colab.research.google.com/assets/colab-badge.svg\" alt=\"Open In Colab\"/></a>"
      ]
    },
    {
      "cell_type": "code",
      "source": [
        "#import sys and check python Version\n",
        "import sys\n",
        "print(sys.version)"
      ],
      "metadata": {
        "colab": {
          "base_uri": "https://localhost:8080/"
        },
        "id": "T4NtWhUj2Lqe",
        "outputId": "219dbf29-a5ec-4c82-9e68-f8a43800b626"
      },
      "execution_count": null,
      "outputs": [
        {
          "output_type": "stream",
          "name": "stdout",
          "text": [
            "3.7.13 (default, Apr 24 2022, 01:04:09) \n",
            "[GCC 7.5.0]\n"
          ]
        }
      ]
    },
    {
      "cell_type": "markdown",
      "source": [
        "### If Else"
      ],
      "metadata": {
        "id": "Nysjk2QhuXZl"
      }
    },
    {
      "cell_type": "code",
      "source": [
        "##If else\n",
        "a=2\n",
        "if a>3:\n",
        "  print(\"hi\")\n",
        "elif a>6:\n",
        "  print(\"hello\")\n",
        "else:\n",
        "  print(\"Bye\")"
      ],
      "metadata": {
        "colab": {
          "base_uri": "https://localhost:8080/"
        },
        "id": "kp8VNlBGkWIy",
        "outputId": "6e0702c8-6c33-4f90-8bc1-67efe9307a4e"
      },
      "execution_count": 2,
      "outputs": [
        {
          "output_type": "stream",
          "name": "stdout",
          "text": [
            "Bye\n"
          ]
        }
      ]
    },
    {
      "cell_type": "markdown",
      "source": [
        "### Switch"
      ],
      "metadata": {
        "id": "HcHco1BDuS1a"
      }
    },
    {
      "cell_type": "code",
      "source": [
        "#Switch Case below\n",
        "\n",
        "a=2\n",
        "match a:\n",
        "  case 2:\n",
        "    print(\"Match\")\n",
        "  case 4:\n",
        "    print(\"Greatet than 4\")\n"
      ],
      "metadata": {
        "colab": {
          "base_uri": "https://localhost:8080/"
        },
        "id": "BTKKLB1vpLBv",
        "outputId": "6b7f37d4-a427-4ec6-9d8d-93c9a426e7a0"
      },
      "execution_count": 4,
      "outputs": [
        {
          "output_type": "stream",
          "name": "stdout",
          "text": [
            "Match\n"
          ]
        }
      ]
    },
    {
      "cell_type": "markdown",
      "source": [
        "### Lambda"
      ],
      "metadata": {
        "id": "3GDw7WUluVY7"
      }
    },
    {
      "cell_type": "code",
      "source": [
        "#lambda function\n",
        "x1 = lambda x, y: x + y\n",
        "x1(2,3)"
      ],
      "metadata": {
        "colab": {
          "base_uri": "https://localhost:8080/"
        },
        "id": "dBBT_BDKqlin",
        "outputId": "e1cbb960-87c0-4e97-9d5c-b1486cf653c9"
      },
      "execution_count": 8,
      "outputs": [
        {
          "output_type": "execute_result",
          "data": {
            "text/plain": [
              "5"
            ]
          },
          "metadata": {},
          "execution_count": 8
        }
      ]
    },
    {
      "cell_type": "markdown",
      "source": [
        "### List"
      ],
      "metadata": {
        "id": "dcTxy2RNuP3a"
      }
    },
    {
      "cell_type": "code",
      "source": [
        "# List operations\n",
        "l1=[1,2,3,\"hello\",(3,5)]\n",
        "\n",
        "x=[\"A\",\"B\",6,5,4]\n",
        "print([1,2,3] + x) # Concatnate\n",
        "x.append(7)\n",
        "print(x)\n",
        "x.insert(-1,8) #Insert before the given position element\n",
        "print(x)\n",
        "del x[1]\n",
        "print(x)\n",
        "x.remove(\"A\") #Remove first occurrence of value.\n",
        "print(x)\n",
        "x.sort()\n",
        "print(x)\n",
        "print(sorted(x))\n",
        "# x.pop()"
      ],
      "metadata": {
        "colab": {
          "base_uri": "https://localhost:8080/"
        },
        "id": "IZr9CLuFrD8n",
        "outputId": "dbab6768-8826-4742-f3ea-863b90713e49"
      },
      "execution_count": 28,
      "outputs": [
        {
          "output_type": "stream",
          "name": "stdout",
          "text": [
            "[1, 2, 3, 'A', 'B', 6, 5, 4]\n",
            "['A', 'B', 6, 5, 4, 7]\n",
            "['A', 'B', 6, 5, 4, 8, 7]\n",
            "['A', 6, 5, 4, 8, 7]\n",
            "[6, 5, 4, 8, 7]\n",
            "[4, 5, 6, 7, 8]\n",
            "[4, 5, 6, 7, 8]\n"
          ]
        }
      ]
    },
    {
      "cell_type": "code",
      "source": [
        "(1,2,3)"
      ],
      "metadata": {
        "colab": {
          "base_uri": "https://localhost:8080/"
        },
        "id": "8nhwgYWzuE09",
        "outputId": "e1097ffe-0f1e-48d8-aac8-091a6860f13c"
      },
      "execution_count": 29,
      "outputs": [
        {
          "output_type": "execute_result",
          "data": {
            "text/plain": [
              "(1, 2, 3)"
            ]
          },
          "metadata": {},
          "execution_count": 29
        }
      ]
    },
    {
      "cell_type": "markdown",
      "source": [
        "### Tuples\n",
        "\n",
        "**Tuples are immutable objects, lists are mutable**. This means that tuples cannot be changed while the lists can be modified."
      ],
      "metadata": {
        "id": "36d1rALM7QO7"
      }
    },
    {
      "cell_type": "code",
      "source": [
        "a=(1,2,3,3,\"hi\")\n",
        "print(type(a))\n",
        "print(a)"
      ],
      "metadata": {
        "id": "PA5IwlYj6iKC",
        "colab": {
          "base_uri": "https://localhost:8080/"
        },
        "outputId": "74244a33-9222-43a7-d1b4-696125c11fca"
      },
      "execution_count": 32,
      "outputs": [
        {
          "output_type": "stream",
          "name": "stdout",
          "text": [
            "<class 'tuple'>\n",
            "(1, 2, 3, 3, 'hi')\n"
          ]
        }
      ]
    },
    {
      "cell_type": "code",
      "source": [
        "print(a[0]) #Access individual tuple object\n",
        "print(a[:3])\n",
        "# a[0]=8 #will throw error"
      ],
      "metadata": {
        "colab": {
          "base_uri": "https://localhost:8080/"
        },
        "id": "0Z0kBOHC7UXB",
        "outputId": "8f71e118-b99a-426d-faed-703e15967b2d"
      },
      "execution_count": 78,
      "outputs": [
        {
          "output_type": "stream",
          "name": "stdout",
          "text": [
            "1\n",
            "[1, 2, 3]\n"
          ]
        }
      ]
    },
    {
      "cell_type": "markdown",
      "source": [
        "### Set\n",
        "A set is a unique collection of objects in Python. You can denote a set with a curly bracket {}."
      ],
      "metadata": {
        "id": "lkYtxzri8ZA1"
      }
    },
    {
      "cell_type": "code",
      "source": [
        "s={1,2,3,3,4}\n",
        "print(s)\n",
        "\n",
        "print(\"List to Set: \", set([1,2,2,3,4,4,5])) #list to set\n",
        "\n",
        "s.add(5)\n",
        "print(\"Added 5: \",s)\n",
        "\n",
        "s.update([2, 3, 4, 5, 6,7,7,8])\n",
        "print(\"update - Add Multiples\",s)\n",
        "\n",
        "s.remove(1) #raise a key error if the value doesn’t exist\n",
        "\n",
        "s.discard(3) #does not raise error"
      ],
      "metadata": {
        "id": "s7ZX51k67ZAA",
        "colab": {
          "base_uri": "https://localhost:8080/"
        },
        "outputId": "183d63b1-ae0f-4eac-aeaf-3bb54f859051"
      },
      "execution_count": 47,
      "outputs": [
        {
          "output_type": "stream",
          "name": "stdout",
          "text": [
            "{1, 2, 3, 4}\n",
            "List to Set:  {1, 2, 3, 4, 5}\n",
            "Added 5:  {1, 2, 3, 4, 5}\n",
            "update - Add Multiples {1, 2, 3, 4, 5, 6, 7, 8}\n"
          ]
        }
      ]
    },
    {
      "cell_type": "code",
      "source": [
        "s1 = {1,2,3}\n",
        "s2 = {2,3,4,9}\n",
        "print(\"Union:\",s1.union(s2))\n",
        "\n",
        "print(\"intersection:\",s1.intersection(s2))\n",
        "\n",
        "print(\"difference:\",s1.difference(s2))\n",
        "\n",
        "print( \"Symmetric Differences: \", s2.symmetric_difference(s1))\n"
      ],
      "metadata": {
        "id": "g4LI6X528e6H",
        "colab": {
          "base_uri": "https://localhost:8080/"
        },
        "outputId": "fce581c1-6b01-41c7-a250-6ef3b1df4c52"
      },
      "execution_count": 51,
      "outputs": [
        {
          "output_type": "stream",
          "name": "stdout",
          "text": [
            "Union: {1, 2, 3, 4, 9}\n",
            "intersection: {2, 3}\n",
            "difference: {1}\n"
          ]
        }
      ]
    },
    {
      "cell_type": "markdown",
      "source": [
        "### List, Set, Dict Comprehension\n",
        "a concise way to create lists."
      ],
      "metadata": {
        "id": "MGamY4Fwx2V5"
      }
    },
    {
      "cell_type": "code",
      "source": [
        "x= [1,2,3,4,4]\n",
        "print(\n",
        "    [z**2 for z in x],\n",
        "    [z for z in x if z%2==0],\n",
        "    [z if z%2==0 else 0 for z in x ],\n",
        "\n",
        "    sep =\"\\n\")\n",
        "\n",
        "print(\"Set and Dict comprehension\")\n",
        "\n",
        "print(\n",
        "    {z for z in x},\n",
        "    {\"Hi\"+str(k):v for v,k in zip(x,x)},\n",
        "    sep=\"\\n\"\n",
        ")"
      ],
      "metadata": {
        "colab": {
          "base_uri": "https://localhost:8080/"
        },
        "id": "9oFAvp-OAv-Q",
        "outputId": "a8e3ca24-8ed7-4d82-e36e-08c015a5c4bd"
      },
      "execution_count": 68,
      "outputs": [
        {
          "output_type": "stream",
          "name": "stdout",
          "text": [
            "[1, 4, 9, 16, 16]\n",
            "[2, 4, 4]\n",
            "[0, 2, 0, 4, 4]\n",
            "Set and Dict comprehension\n",
            "{1, 2, 3, 4}\n",
            "{'Hi1': 1, 'Hi2': 2, 'Hi3': 3, 'Hi4': 4}\n"
          ]
        }
      ]
    },
    {
      "cell_type": "markdown",
      "source": [
        "### Exception handling"
      ],
      "metadata": {
        "id": "y40A4iNN2LaA"
      }
    },
    {
      "cell_type": "code",
      "source": [
        "def divide(dividend , divisor):\n",
        "  try:\n",
        "    print(dividend / divisor)\n",
        "  except ZeroDivisionError:\n",
        "    print('You can not divide by 0')\n",
        "  finally:\n",
        "    print('Execution finished')\n",
        "divide(2,3)"
      ],
      "metadata": {
        "colab": {
          "base_uri": "https://localhost:8080/"
        },
        "id": "tGVr50dR2Nx7",
        "outputId": "b90fa4aa-9a3c-40c8-d9ce-a0fb66450ac7"
      },
      "execution_count": 70,
      "outputs": [
        {
          "output_type": "stream",
          "name": "stdout",
          "text": [
            "0.6666666666666666\n",
            "Execution finished\n"
          ]
        }
      ]
    },
    {
      "cell_type": "markdown",
      "source": [
        "### args and kwargs in function"
      ],
      "metadata": {
        "id": "kVdOtH4pDoYd"
      }
    },
    {
      "cell_type": "code",
      "source": [
        "def function1(*args,**kwargs):\n",
        "  print(\"inside function\")\n",
        "  if args:\n",
        "    print(args[0])\n",
        "  if kwargs:\n",
        "    print(kwargs[\"k1\"])\n",
        "\n",
        "function1()\n",
        "function1(\"Hi\")\n",
        "function1(\"Hi\",k1=\"k1_val\")"
      ],
      "metadata": {
        "colab": {
          "base_uri": "https://localhost:8080/"
        },
        "id": "2VeXBNx_Dnlw",
        "outputId": "32bd57e7-9843-46f4-f57a-1a4678ff3be6"
      },
      "execution_count": 74,
      "outputs": [
        {
          "output_type": "stream",
          "name": "stdout",
          "text": [
            "inside function\n",
            "inside function\n",
            "Hi\n",
            "inside function\n",
            "Hi\n",
            "k1_val\n"
          ]
        }
      ]
    },
    {
      "cell_type": "markdown",
      "source": [
        "### Encapsulation:\n",
        "helps to protect the data and methods of an object from unauthorized access and modification. It is a way to achieve data abstraction, which means that the implementation details of an object are hidden from the outside world, and only the essential information is exposed."
      ],
      "metadata": {
        "id": "VKlYxqKyFASz"
      }
    },
    {
      "cell_type": "code",
      "source": [
        "dict1.keys()"
      ],
      "metadata": {
        "colab": {
          "base_uri": "https://localhost:8080/"
        },
        "id": "7GJWz80RCded",
        "outputId": "0301eb18-45d7-4aac-b234-0bbc5e0bc8ca"
      },
      "execution_count": null,
      "outputs": [
        {
          "output_type": "execute_result",
          "data": {
            "text/plain": [
              "dict_keys(['key1', 'key2'])"
            ]
          },
          "metadata": {},
          "execution_count": 63
        }
      ]
    },
    {
      "cell_type": "markdown",
      "source": [
        "### Loops"
      ],
      "metadata": {
        "id": "SmpIegXJHU97"
      }
    },
    {
      "cell_type": "code",
      "source": [
        "a=[1,2,3,4,5]\n",
        "for i in a:\n",
        "  print(\"val: \",i)\n",
        "\n",
        "for i in range(len(a)):\n",
        "  print(\"val :\",a[i])\n",
        "\n",
        "while True:\n",
        "  print(\"all good!\")\n",
        "  break"
      ],
      "metadata": {
        "colab": {
          "base_uri": "https://localhost:8080/"
        },
        "id": "SBWW9L2mHJxL",
        "outputId": "5d46ab5a-15bd-452d-c873-c4735a5d7ce8"
      },
      "execution_count": 77,
      "outputs": [
        {
          "output_type": "stream",
          "name": "stdout",
          "text": [
            "val:  1\n",
            "val:  2\n",
            "val:  3\n",
            "val:  4\n",
            "val:  5\n",
            "val : 1\n",
            "val : 2\n",
            "val : 3\n",
            "val : 4\n",
            "val : 5\n",
            "all good!\n"
          ]
        }
      ]
    },
    {
      "cell_type": "markdown",
      "source": [
        "### Functions"
      ],
      "metadata": {
        "id": "dnbcWNRyKf97"
      }
    },
    {
      "cell_type": "code",
      "source": [
        "def add(a,b):\n",
        "  c=a+b\n",
        "  return c"
      ],
      "metadata": {
        "id": "3rDYa3-KKT9x"
      },
      "execution_count": null,
      "outputs": []
    },
    {
      "cell_type": "code",
      "source": [
        "add(3,4)"
      ],
      "metadata": {
        "colab": {
          "base_uri": "https://localhost:8080/"
        },
        "id": "ea-kjSDmKkWY",
        "outputId": "61e891f8-6f79-4154-dae4-22c02593efc4"
      },
      "execution_count": null,
      "outputs": [
        {
          "output_type": "execute_result",
          "data": {
            "text/plain": [
              "7"
            ]
          },
          "metadata": {},
          "execution_count": 80
        }
      ]
    },
    {
      "cell_type": "markdown",
      "source": [
        "### Classes"
      ],
      "metadata": {
        "id": "75RC13QFLtP5"
      }
    },
    {
      "cell_type": "code",
      "source": [
        "class Circle:\n",
        "  def __init__(self,radius):\n",
        "    self.radius=10\n",
        "\n",
        "  def set_color(self,color):\n",
        "    self.color=color\n",
        "\n",
        "c1=Circle(10)\n",
        "c1.set_color(\"red\")\n",
        "print(c1.color)"
      ],
      "metadata": {
        "colab": {
          "base_uri": "https://localhost:8080/"
        },
        "id": "1lp73NAhLbeC",
        "outputId": "1a4c073a-8ca5-4141-aee7-580d51d735b2"
      },
      "execution_count": null,
      "outputs": [
        {
          "output_type": "stream",
          "name": "stdout",
          "text": [
            "red\n"
          ]
        }
      ]
    }
  ]
}