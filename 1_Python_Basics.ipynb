{
  "nbformat": 4,
  "nbformat_minor": 0,
  "metadata": {
    "colab": {
      "name": "1. Python Basics.ipynb",
      "provenance": [],
      "collapsed_sections": [],
      "authorship_tag": "ABX9TyMrVDLIun4O677wLjT4XZ4d",
      "include_colab_link": true
    },
    "kernelspec": {
      "name": "python3",
      "display_name": "Python 3"
    },
    "language_info": {
      "name": "python"
    }
  },
  "cells": [
    {
      "cell_type": "markdown",
      "metadata": {
        "id": "view-in-github",
        "colab_type": "text"
      },
      "source": [
        "<a href=\"https://colab.research.google.com/github/diwakarojha/Python_ML_Basics/blob/main/1_Python_Basics.ipynb\" target=\"_parent\"><img src=\"https://colab.research.google.com/assets/colab-badge.svg\" alt=\"Open In Colab\"/></a>"
      ]
    },
    {
      "cell_type": "markdown",
      "source": [
        "### Say \"Hello World!\" in Pyhton\n"
      ],
      "metadata": {
        "id": "1f1Jrr7h11Lz"
      }
    },
    {
      "cell_type": "code",
      "execution_count": 3,
      "metadata": {
        "colab": {
          "base_uri": "https://localhost:8080/"
        },
        "collapsed": true,
        "id": "cmABfce91v7t",
        "outputId": "7866af81-4de5-4269-f9b1-89aaf1c17c79"
      },
      "outputs": [
        {
          "output_type": "stream",
          "name": "stdout",
          "text": [
            "Hello World!\n"
          ]
        }
      ],
      "source": [
        "print(\"Hello World!\")"
      ]
    },
    {
      "cell_type": "code",
      "source": [
        "!python -V"
      ],
      "metadata": {
        "colab": {
          "base_uri": "https://localhost:8080/"
        },
        "id": "RG8m_YZC2FUP",
        "outputId": "ea6de190-4701-4de2-b51d-012d2880ef85"
      },
      "execution_count": 2,
      "outputs": [
        {
          "output_type": "stream",
          "name": "stdout",
          "text": [
            "Python 3.7.13\n"
          ]
        }
      ]
    },
    {
      "cell_type": "code",
      "source": [
        "#import sys and check python Version\n",
        "import sys\n",
        "print(sys.version)"
      ],
      "metadata": {
        "colab": {
          "base_uri": "https://localhost:8080/"
        },
        "id": "T4NtWhUj2Lqe",
        "outputId": "219dbf29-a5ec-4c82-9e68-f8a43800b626"
      },
      "execution_count": 4,
      "outputs": [
        {
          "output_type": "stream",
          "name": "stdout",
          "text": [
            "3.7.13 (default, Apr 24 2022, 01:04:09) \n",
            "[GCC 7.5.0]\n"
          ]
        }
      ]
    },
    {
      "cell_type": "markdown",
      "source": [
        "### Types of Objects\n",
        "* Float\n",
        "* Integer\n",
        "* String"
      ],
      "metadata": {
        "id": "iIQb4P3H5Lh1"
      }
    },
    {
      "cell_type": "code",
      "source": [
        "print(type(10))"
      ],
      "metadata": {
        "colab": {
          "base_uri": "https://localhost:8080/"
        },
        "id": "gS6Ikf3p46ZI",
        "outputId": "48db1c5d-d242-4961-8748-e2d64174ccb9"
      },
      "execution_count": 5,
      "outputs": [
        {
          "output_type": "stream",
          "name": "stdout",
          "text": [
            "<class 'int'>\n"
          ]
        }
      ]
    },
    {
      "cell_type": "code",
      "source": [
        "print(type(1.0))"
      ],
      "metadata": {
        "colab": {
          "base_uri": "https://localhost:8080/"
        },
        "id": "z4orlBrx5pHl",
        "outputId": "de26a0fe-9132-4eae-b6dd-39931650ac9b"
      },
      "execution_count": 6,
      "outputs": [
        {
          "output_type": "stream",
          "name": "stdout",
          "text": [
            "<class 'float'>\n"
          ]
        }
      ]
    },
    {
      "cell_type": "code",
      "source": [
        "print(type(\"hello\"))"
      ],
      "metadata": {
        "colab": {
          "base_uri": "https://localhost:8080/"
        },
        "id": "BOKDg97L5uiH",
        "outputId": "8e4f9dc0-5099-4010-ca9c-29d304e8a1ac"
      },
      "execution_count": 9,
      "outputs": [
        {
          "output_type": "stream",
          "name": "stdout",
          "text": [
            "<class 'str'>\n"
          ]
        }
      ]
    },
    {
      "cell_type": "code",
      "source": [
        "# Convert Object Type=> Float to int\n",
        "print(int(1.7))"
      ],
      "metadata": {
        "colab": {
          "base_uri": "https://localhost:8080/"
        },
        "id": "pP92Iq9Z5q9l",
        "outputId": "e1d208c4-69c4-4760-f471-0460a29a74fe"
      },
      "execution_count": 11,
      "outputs": [
        {
          "output_type": "stream",
          "name": "stdout",
          "text": [
            "1\n"
          ]
        }
      ]
    },
    {
      "cell_type": "code",
      "source": [
        "int(\"hi\")"
      ],
      "metadata": {
        "colab": {
          "base_uri": "https://localhost:8080/"
        },
        "id": "scnxU4bu501Y",
        "outputId": "674fa5e8-6c5b-4b2d-b27f-e63009ba1a62"
      },
      "execution_count": 13,
      "outputs": [
        {
          "output_type": "execute_result",
          "data": {
            "text/plain": [
              "1"
            ]
          },
          "metadata": {},
          "execution_count": 13
        }
      ]
    },
    {
      "cell_type": "code",
      "source": [
        "int(\"1\")"
      ],
      "metadata": {
        "id": "OEs58L_b6Guu"
      },
      "execution_count": null,
      "outputs": []
    },
    {
      "cell_type": "code",
      "source": [
        "#Expressions\n",
        "1/2"
      ],
      "metadata": {
        "colab": {
          "base_uri": "https://localhost:8080/"
        },
        "id": "W3RXhWIy6UuB",
        "outputId": "16d3f5cd-327b-4897-f1c3-99c7e0697817"
      },
      "execution_count": 17,
      "outputs": [
        {
          "output_type": "execute_result",
          "data": {
            "text/plain": [
              "0.5"
            ]
          },
          "metadata": {},
          "execution_count": 17
        }
      ]
    },
    {
      "cell_type": "code",
      "source": [
        "#Variables\n",
        "a=2\n",
        "b=\"Hello\""
      ],
      "metadata": {
        "id": "EJyN2xZ86VrM"
      },
      "execution_count": 25,
      "outputs": []
    },
    {
      "cell_type": "code",
      "source": [
        "print(a)"
      ],
      "metadata": {
        "colab": {
          "base_uri": "https://localhost:8080/"
        },
        "id": "RulokAsa6hMi",
        "outputId": "d808d94c-5bd3-469b-82d8-7029496c7e45"
      },
      "execution_count": 20,
      "outputs": [
        {
          "output_type": "stream",
          "name": "stdout",
          "text": [
            "2\n"
          ]
        }
      ]
    },
    {
      "cell_type": "markdown",
      "source": [
        "## Tuples"
      ],
      "metadata": {
        "id": "36d1rALM7QO7"
      }
    },
    {
      "cell_type": "code",
      "source": [
        "a=(1,2,3,3,\"hi\")"
      ],
      "metadata": {
        "id": "PA5IwlYj6iKC"
      },
      "execution_count": 44,
      "outputs": []
    },
    {
      "cell_type": "code",
      "source": [
        "print(type(a))\n",
        "print(a)"
      ],
      "metadata": {
        "colab": {
          "base_uri": "https://localhost:8080/"
        },
        "id": "fjadUSjh7TXo",
        "outputId": "c778c868-5e97-4480-eda3-2402f2867c43"
      },
      "execution_count": 33,
      "outputs": [
        {
          "output_type": "stream",
          "name": "stdout",
          "text": [
            "<class 'tuple'>\n",
            "(1, 2, 3, 3, 'hi')\n"
          ]
        }
      ]
    },
    {
      "cell_type": "code",
      "source": [
        "print(a[0]) #Access individual tuple object\n",
        "print(a[:3])"
      ],
      "metadata": {
        "colab": {
          "base_uri": "https://localhost:8080/"
        },
        "id": "0Z0kBOHC7UXB",
        "outputId": "f0459521-f782-4036-ad23-055ddbcb8caf"
      },
      "execution_count": 37,
      "outputs": [
        {
          "output_type": "stream",
          "name": "stdout",
          "text": [
            "1\n",
            "(1, 2, 3)\n"
          ]
        }
      ]
    },
    {
      "cell_type": "code",
      "source": [
        "a[0]=8"
      ],
      "metadata": {
        "colab": {
          "base_uri": "https://localhost:8080/",
          "height": 166
        },
        "id": "ziqD30oGACQ2",
        "outputId": "c0fedf9e-6816-4483-aff5-83c2a41b5e85"
      },
      "execution_count": 45,
      "outputs": [
        {
          "output_type": "error",
          "ename": "TypeError",
          "evalue": "ignored",
          "traceback": [
            "\u001b[0;31m---------------------------------------------------------------------------\u001b[0m",
            "\u001b[0;31mTypeError\u001b[0m                                 Traceback (most recent call last)",
            "\u001b[0;32m<ipython-input-45-051a4cbb8141>\u001b[0m in \u001b[0;36m<module>\u001b[0;34m()\u001b[0m\n\u001b[0;32m----> 1\u001b[0;31m \u001b[0ma\u001b[0m\u001b[0;34m[\u001b[0m\u001b[0;36m0\u001b[0m\u001b[0;34m]\u001b[0m\u001b[0;34m=\u001b[0m\u001b[0;36m8\u001b[0m\u001b[0;34m\u001b[0m\u001b[0;34m\u001b[0m\u001b[0m\n\u001b[0m",
            "\u001b[0;31mTypeError\u001b[0m: 'tuple' object does not support item assignment"
          ]
        }
      ]
    },
    {
      "cell_type": "markdown",
      "source": [
        "### List"
      ],
      "metadata": {
        "id": "_7a-rQKU85HQ"
      }
    },
    {
      "cell_type": "code",
      "source": [
        "l1=[1,2,3,\"hello\",(3,5)]"
      ],
      "metadata": {
        "id": "uZZ2azWU87rX"
      },
      "execution_count": 47,
      "outputs": []
    },
    {
      "cell_type": "code",
      "source": [
        "print(type(l1))\n",
        "print(l1)"
      ],
      "metadata": {
        "colab": {
          "base_uri": "https://localhost:8080/"
        },
        "id": "HDbPxObm_8DB",
        "outputId": "6233e99d-833f-4d3f-8e11-99f7f7765e91"
      },
      "execution_count": 48,
      "outputs": [
        {
          "output_type": "stream",
          "name": "stdout",
          "text": [
            "<class 'list'>\n",
            "[1, 2, 3, 'hello', (3, 5)]\n"
          ]
        }
      ]
    },
    {
      "cell_type": "code",
      "source": [
        "l1[0]=5\n",
        "print(l1)"
      ],
      "metadata": {
        "colab": {
          "base_uri": "https://localhost:8080/"
        },
        "id": "ybC8p8LHAKc_",
        "outputId": "028470fd-2438-4819-c6db-4643b4a07239"
      },
      "execution_count": 50,
      "outputs": [
        {
          "output_type": "stream",
          "name": "stdout",
          "text": [
            "[5, 2, 3, 'hello', (3, 5)]\n"
          ]
        }
      ]
    },
    {
      "cell_type": "markdown",
      "source": [
        "### Set \n",
        "A set is a unique collection of objects in Python. You can denote a set with a curly bracket {}. "
      ],
      "metadata": {
        "id": "lkYtxzri8ZA1"
      }
    },
    {
      "cell_type": "code",
      "source": [
        "s={1,2,3,3,4}"
      ],
      "metadata": {
        "id": "s7ZX51k67ZAA"
      },
      "execution_count": 38,
      "outputs": []
    },
    {
      "cell_type": "code",
      "source": [
        "print(s)"
      ],
      "metadata": {
        "colab": {
          "base_uri": "https://localhost:8080/"
        },
        "id": "sPnPE1UW8d9O",
        "outputId": "b03e7293-da73-4fd9-ff33-225126dfd547"
      },
      "execution_count": 39,
      "outputs": [
        {
          "output_type": "stream",
          "name": "stdout",
          "text": [
            "{1, 2, 3, 4}\n"
          ]
        }
      ]
    },
    {
      "cell_type": "code",
      "source": [
        "#list to set\n",
        "l2=[1,2,2,3,4,4,5]\n",
        "s1=set(l2)"
      ],
      "metadata": {
        "id": "g4LI6X528e6H"
      },
      "execution_count": 54,
      "outputs": []
    },
    {
      "cell_type": "code",
      "source": [
        "print(s1)"
      ],
      "metadata": {
        "colab": {
          "base_uri": "https://localhost:8080/"
        },
        "id": "yCSyvYN_APbq",
        "outputId": "fa54a94b-1284-42ac-96a4-f02c7c8c970b"
      },
      "execution_count": 55,
      "outputs": [
        {
          "output_type": "stream",
          "name": "stdout",
          "text": [
            "{1, 2, 3, 4, 5}\n"
          ]
        }
      ]
    },
    {
      "cell_type": "code",
      "source": [
        "# Intersection - Common Objects\n",
        "s1 & s"
      ],
      "metadata": {
        "colab": {
          "base_uri": "https://localhost:8080/"
        },
        "id": "9oFAvp-OAv-Q",
        "outputId": "39b66a64-290e-4ad4-f702-b6cc470733d2"
      },
      "execution_count": 56,
      "outputs": [
        {
          "output_type": "execute_result",
          "data": {
            "text/plain": [
              "{1, 2, 3, 4}"
            ]
          },
          "metadata": {},
          "execution_count": 56
        }
      ]
    },
    {
      "cell_type": "markdown",
      "source": [
        "## Dictionary\n",
        "\n",
        "![image.png](data:image/png;base64,iVBORw0KGgoAAAANSUhEUgAAA9wAAAKhCAYAAACim6a2AAAgAElEQVR4nOzdZ3gU5f4//vfuJpveKy0NCFITQm/Se5GqIAiIIgJ6DoKIgqLHwg9F5QgCgnIdC1IUkK70GkgIBFIJJKQH0ssmm+07/wf8mS9DQkggIZT367ryILMz93zu2U1mP3M3mdlsFkBEREREREREtUpe3wEQERERERERPY2YcBMRERERERHVAQuZTFbfMRARERERERE9ddjCTURERERERFQHmHATERERERER1QEm3ERERERERER1gAk3ERERERERUR1gwk1ERERERERUB5hwExEREREREdUBJtxEREREREREdYAJNxEREREREVEdYMJNREREREREVAeYcBMRERERERHVASbcRERERERERHWACTcRERERERFRHWDCTURERERERFQHmHATERERERER1QEm3ERERERERER1gAk3ERERERERUR1gwk1ERERERERUB5hwExEREREREdUBJtxEREREREREdYAJNxEREREREVEdYMJNREREREREVAeYcBMRERERERHVASbcRERERERERHWACTcRERERERFRHWDCTURERERERFQHmHATERERERER1QEm3ERERERERER1gAk3ERERERERUR1gwk1ERERERERUB5hwExEREREREdUBJtxEREREREREdYAJNxEREREREVEdYMJNREREREREVAeYcBMRERERERHVASbcRERERERERHXAor4DICIiIqInh9FoRGRkJC5cuACdTgcvLy/07dsX3t7ekMlk9R3eQykpKUF4eDgSEhIgCAJ8fHwwdOhQWFtb13doRPSEYsJNRERE9ITQaDTYsmULoqKiIAjCPfezsLCAo6MjHB0d4eTkBC8vL7Rp0wZNmjSBQqF4qBiSk5MxZ84cpKenw2g0wt7eHlOmTMHixYthb2//UGXXJ4PBgIMHD+KTTz5Bbm4uBEGAk5MTcnNzMWvWrPoOj4ieUEy4iYiIiJ4Qu3fvxmeffYbs7Owq95PJZFAoFOKPpaUlbG1t4e/vj549e+LFF19E69atHyiG8+fPIzIyUkz4i4qKcODAAbzzzjtPdMJdWlqKsLAwsXUbAAoLC7Fjxw4m3ET0wJhwExERET0h4uPjkZeXB61W+0DHp6am4sSJE/j2228xZcoULFiwAM2aNatRGQUFBRVa11UqFcxm8wPF9LgwGAwoLS2tULfCwsJ6ioiIngacNI2IiIjoCWE2myUJoUwmg5WVFezs7CQ/tra2sLKygqWlJeTy//u6JwgCzGYzysrK8MMPP6B///7YsGFDpYnmvQQEBECpVEpiaNq0KSwtLWuvog9g165d6N27N4KCgtCrVy/89ttvKC8vr/bxNjY2aNiwISws/q89Si6XP3BPACIigC3cRERERE8sR0dHDB8+HCEhIZLtGo0GRUVFKCoqws2bN5GZmYn8/Hzk5eXBZDKJ+6Wnp2Px4sW4ceMGZs2aVa2Jz55//nlMnToVkZGRMJvNcHZ2xltvvQUHB4c6qWN1bd++HadOnRJ/b9SoEfr37w9bW9tqHX/7WsbFxeH69euQyWTw9PTEwoUL6ypkInoGMOEmIiIiekI5ODhg2LBhmDx58j330Wq1uH79OiIiInDw4EGcOHFCMga8oKAAX331FYxGI95///37jsN2cnLC2rVrkZOTA51OB3d3dzg4OEha0uvD3S301W2xv1Pnzp3xyy+/IDc3FzKZDF5eXrCxsamtEInoGcSEm4gAANnZ2QgPD0dubi6sra3RokULtG/fvt67CBIR0cOxtrZG69at0bp1awwfPhwHDhzAjz/+iNDQUHEfjUaDdevWISAgADNmzLhvmZaWlmjcuHFdhl1v7Ozs4O/vX99hENFTggk30RNEp9Nh8+bNuHDhAjQaDZydndGvXz8MHz78odY+VavVWLVqFbZv346ioiIolUq0adMGS5YswfPPP1+LNSAiovrk4eGBadOmITAwEJ9++in++ecf8bXCwkJ89tln6NKlC8ctExHVEibcRE+QnJwcbNiwARcvXoTJZIKlpSWys7PRv3//h+rylpGRgePHjyMxMVHcplarcfbsWSbcRERPoc6dO2Px4sXIz8/HhQsXxO2pqalYuXIlfvrpp3qMjojo6cGEm+gJotfroVKpYDAYANxq8a6NpVhUKlWFJWYMBgNUKtVDlUtERI8nhUKBLl26YNasWUhMTERJSYn42p9//ol3330Xzz33XKXHms1mZGZmIjIyElqtFg0bNkRISMgDrcGdl5eH06dPIzw8HDdv3kRxcTGcnZ3h4+ODzp07o2fPnnBxcam0F1dGRgaysrLEe2B+fr7k9fz8fERERMDDw0OyXS6Xw8/PD15eXhXK1ev1SEhIwNWrV2E2m9G0aVN07NixxvUCbl2niIgIHD16FBkZGcjJyYFGo4GjoyM8PDwQGBiIAQMGoGXLlg/US+3mzZs4e/YsDAYDmjZtirZt28La2lpy/uTkZOzevRuxsbHIy8uDvb09GjZsiAEDBqBfv36S/R9EYWEhzp8/j4iICGRkZCA7OxtarRbOzs7w8vJCcHAwevXqhYCAAMns7/ej0+kQFxeHxMRE8bPapEkT8XW1Wo2jR4/iwIEDSE1Nha2tLYKDgzF69Gi0a9cOZrMZiYmJuHLlCsrLy2FnZ4fu3btX+CxU1+XLl5GQkACZTIaAgAC0adOGY/up+gQiemIkJiYKrVq1EgCIP8OHDxfKysoeutwePXpIynVzcxNWrlxZS5HXzKVLl4SXXnpJCAkJEbp27Sp8+OGH9RIHEdHjZsmSJYKtra34v7px48bCpk2bHri8lJQUYdy4cZL//wqFQli4cOE9j8nPzxdCQkIkx6xZs0bQ6XTVOqfJZBISExOFuXPnCs7OzpJy7v5xdnYW5s+fL2RnZwsmk0ks4/r168KwYcOqPLaqnxdffFFITU2tENs///wj+Pn5SfY9d+5cta+nyWQS8vPzheXLlwuNGze+bxxyuVxo27atsGXLFkGtVgtms7na57rzvu3j4yPs2bNHjCErK0sYP368oFQqKz2vTCYTAgIChG3btlX7fRMEQTCbzYJWqxVOnjwpjB07VrC3t79vHS0tLYWRI0cKkZGRkvewKseOHRP8/f3FMrp27SqePzY2VhgyZIggl8srnKt58+ZCbGysEBcXJ/Tv31/yWvv27YXy8vJq1/W2sLCwCt+P/vrrrxqXQ88ursNNRGjatCleeuklBAUFwc/PD82aNcPgwYMxevToRx6LwWDAhQsXsG3bNkRGRiIsLAzLly9/oNlmiYioaj4+PujWrZukddpsNiM0NFTsTXU3QRAqrG9dXl5erd5WarUaW7duxYABA7BmzRoUFxdXuX9xcTG+/fZbBAcHY8+ePTAajQButV4XFhbe93z3kpOTA7VaXWG7wWCAXq+XbCstLa1WmeXl5di9ezeGDh2KJUuWIDMz877HmM1mxMTEYPr06Zg2bRouXbok1rE657tNr9eLPdN+/fVXBAcHY/v27RXqcpsgCEhOTsasWbPw+eefo6io6L7nEwQBERERGDZsGPr06YOdO3eirKzsvscZDAbs3bsXffv2xaZNm+4Z052MRqNkv9t1jYyMxPTp0/HPP/9U+nnT6XTIzc2Fh4cHvLy8JDPnp6Wl4ejRo/c9991+/PFHye9eXl5wcXGpcTn07GKXciKCTCbD22+/jYkTJyI3N1fsclZfM5TfnVwz2SYiqhtyuRwdO3ZE06ZNERUVBeDW/9zs7GwkJSWhZcuWtXYug8GA//3vf1i6dGmFBM/R0RGurq5QKpUwGAwoKSlBSUmJuGZ4dnY23nzzTRw9ehStW7eGvb09nJycYGFhId4jzGaz5H4hk8kqXapMJpPB1dX1obtT36msrAxbt27F8uXLcf36dclrVlZW8PT0hK2tLWQyGfR6PQoKCqBSqcR4dTodduzYgeLiYnz22Wfo1KkTFApFjWLIzc3FqlWrsGLFCnFImEKhgKOjI+zs7GA0GlFYWChJZIuLi7F+/Xo0aNAA06dPr7KbdH5+PmbMmIG4uDhxm0wmg4ODg7g0nFKphNFohFqtRm5uLkpKSsQ6lpSUYPbs2XB1dcWIESNqVDcASElJwbx58yRzDtxNJpNBJpPBw8MDnTp1wj///CM+mFGr1Thw4ACGDh1a7WtbWFiI/fv3S8oPCQlBs2bNahw/PbuYcBORyMPD44HHNxER0ZMpICAA3t7eYsIN3Eogo6OjazXhPnDgAD766CNJq7aTkxN69OiBnj17olmzZrC3t0d5eTkyMjIQGRmJM2fOID09HSaTCSqVCpcvX0br1q3h6+uL6dOni+N1b5d/5coVsezAwED06dOnwthyuVyOHj16wMvLq1bqZTQacfjwYXzxxRdITU0Vt1taWqJnz57o2rUr2rRpA3d3d8jlcpSWluL69euIjIzE4cOHxbHngiDgyJEjsLOzw/fff1+jZdc0Gg1+++03JCYmisl2kyZN0KdPH7Rv3x4eHh7QarWIj4/HoUOHJElzbm4ufvvtN/To0QPt2rW75zlSU1PF9dsVCgV8fHzQvn17dOjQAa1atYK3tzfs7e2h1+uRm5uLy5cvY9++fbh48aI4T0x5eTmWL1+Obt26wc3Nrdr1U6vV+OCDD3DmzBnx2j733HMICgqCk5MTVCoVkpOToVQqxfe1d+/e+OWXX8SEW6fT4cKFC0hLS0NAQEC1znv48GEUFBSIvzs6OqJTp07w9vauduxETLiJiIiInmFeXl5o0KABFAqF2KKs1+uRlZVVa+dIT0/H0qVLJcm2h4cHZsyYgddffx0BAQGS1mhBEJCbm4uwsDBs3boVO3fulLRY29nZYeLEiZg4caJ4zM2bNyUJd1BQEJYuXYqGDRvWWj0qk5GRgRUrVkiSbVtbW8yePRtTp05F69atK21Rzc3Nxa5du/DNN9/g2rVr4va///4bmzZtwvvvv1/tGFQqFc6dOye2Jvfo0QPz5s3D888/D09PT3E/rVaLoUOHYv78+YiNjRW3X7x4EefPn0eLFi1gZWVV6TmcnZ1hZWUFb29vjBkzBoMHD0ZISAgaNmxYaf369euHXr164cMPP8Tp06fFz1ZiYiJCQ0MxatSoatfvxo0b2L59O4Bb7/2wYcMwc+ZMdOjQQZJwl5aWimuot2zZEkFBQYiPjxdb9TMzM3H69OlqJdxmsxl//fWXGDcANGvWDB06dKhx7wN6tjHhJiIiInqGKZVKeHp6QqlUQqPRALjVanvnzOUPa+vWrUhISBB/t7a2xvjx4zFv3rxKWwtlMhm8vLwwatQoBAUFoWPHjjh8+DA6dOhQazHVls2bN+P8+fPi73K5HG+++Sbee+89SbJ7N09PT0yfPh22trZYsGABcnNzAdx62LFmzRrMnj0bTk5O1Yrhzq7048aNw9KlS9G2bdsKs59bW1tjwIAB+OijjzBx4kTxOL1ej9OnT2P06NH3TLh9fX2xdu1a2Nvbo02bNvftIaBUKtGlSxdMnDgRV65cQU5ODoBbrdURERE1Srhvfy4tLS0xaNAgfP7552jWrJn4AMbFxaXCZ8Pa2hpDhgzBvn37xFbq/Px8hIaGYsKECbC1ta3ynMnJyYiMjBR7UCgUCrRq1arKXgBElWHCTUQAbt0AL126hJycHFhbW6Nly5bV7nIF3OomFhYWhnPnziE9PR0qlQoKhQJeXl5o1aoVunfvfs+uiSUlJUhKSoLJZILJZJK0EtwWERFR6bFeXl5o0qRJpeP0iIioehwcHGBpaVknCXd+fj62b98umYStZcuWePnll++btMlkMvj5+WH27Nl46aWX0KBBg1qJqbZoNBqsX79e0grapUsXTJ06tVpDtJRKJQYPHoywsDCsWbNG3J6VlYU//vgDM2fOrFE8w4YNwxdffIEWLVrccx+ZTCa2Tl+8eFHcHh8fL77/94p1xIgRkMvl1V7GzMLCAl26dIGHh4eYcGu1WiQlJVWzRlLNmzfHsmXL0Lx582rFMGjQIHh5eYkJt8FgQGxsLK5cuXLfhzfHjh2TdCd3c3NDjx494ODg8ECx07OLCTcRAQBWrFiB1atXi7O2tmvXDlu2bEHTpk2rPE6r1WLz5s1idzqTySSZuEYul0Mul0OhUKBz58747LPP0KtXL0kZ7733HjZv3izOzHrnF5fbv/fu3bvS87u7u+Py5cs1GgtGRERSdnZ2knWSTSZTtWagro6LFy/i5s2b4n3BwsICwcHB6NKlS7UTN1tb2/u2SNaHffv2SWYjl8lkGDduHFq0aFHturm7u2PYsGHYsWOHOEZaEARs27atRgn37XtsYGDgffe1s7PD6NGjJQl3amoqdDpdlcc9SFfqBg0aSN47k8kkTqZW0/XHv/322xpdW1dXVwwfPhxXrlwRP39Xr17FpUuXqky4jUYjjh49Knno5O3tjb59+9YoXiIAYJMQEQG41cqs0Wig0+mg0+mgVqsrXTLlNkEQkJaWhrlz5+Ktt95CQkICtFotDAaDmHSbzWZxaQ+NRoOTJ09iwoQJOHjwoKSsuLg4qNVqaLVasYy73X7t7p/MzEzJE2giIqo5o9EoWWZJoVDUWoIbHR0tWVrLxcUFXbt2rbeVMGrTsWPHJN25/f390bZt2xrNgC6TyeDr64s2bdpItoeFhd03Ab5Tly5d4OPjU61kVC6XV+h1plKpqr0kWU24ublVuB4Gg6FGdQOAWbNmYfDgwTVO0idNmiT5rBUWFuLChQtVfneIjo5GYmKi2ABgaWmJ4OBgNG/evEbnJgKYcBPRA8rLy8M333yDTZs2iV3QZDIZvL29xZlD27Zti+bNm8PDw0N8Kq7RaBAdHS0py83NDQqFQmwNr+xmevu1u38cHR2rXMaEiIjuT61WS5IthUJRK11nBUFAfHy85AGug4NDtVphH3eCICA0NFSyrWnTpg80SZunp2eFYVzl5eWSydRqk0wmq9Az7PZa3rVBEATxwfvtXm53v17TJT9Hjx79QLEEBwdXaM2OiIhAYmJipfsLgoCwsDBJzwVbW1u88MILNU72iQB2KSeiB2A0GhEaGoqtW7eKM39aWFhg0KBBmDBhAoKDg+Hm5gaDwYDs7GxER0fj9OnTuHDhAnJzcyXdFgHgtddeg5eXl9jCkpSUJPkSI5PJMG3atEpj8ff3h7u7e91VlojoGVBWVlYh4XZ0dHzocg0GAwoKCiRl29jYoFGjRg9ddn3TarVITk6WbPPy8oKrq2uNy3J0dKx0grXs7Gy0bdv2gWOsSmUPq+9co7s6NBoNsrOzkZeXh+LiYpSWlsJgMECv10ve89td5euDTCbDnDlzcO7cOXHblStXEBcXhw4dOlToaVFSUlKhBbxRo0bsTk4PjAk3EdVYaWkpDh06hLy8PHFbr169sG7dOvj4+Ej2DQgIQPfu3TFlyhScOHECERER6Nmzp2SfUaNGibOVGgwG/Pzzz5KEWy6XY+PGjXyyTERUB/R6PfLz8yWtm5aWlnBxcXnostVqdYUkztLSstqzbz/OioqKJN3wgVut9w/SFd/KygoODg6SpdkASJZRq00ymeyhlrYqKioSH6THx8cjPT0d2dnZKCwshE6nq5Ou6Q9j+PDhaNy4sdhqrdFocPr0aQwfPrzCLPkJCQmIi4uTvLfDhw+vlb8HejYx4SaiGlOr1YiKipJsmzJlSpUtFvb29hgxYgQGDBgApVJZ1yESEVE15ebmIicnR5LoWVtb12ilinspLy+vkHDL5fIajXF+XN2e+OtOSqXygcemK5VKWFhYSN4HrVb7UDHWhbNnz2Lt2rUIDw9HWlparXVDr0suLi4YPXo0vv/+e3HbiRMncPPmTUnCbTabERMTI+nKr1AoMHny5EcaLz1dmHATUY0ZjcYKk434+vpWa2mup+FLFhHR0yQ9PV1cA/o2e3v7OltvWBCECqtRPIkqu+fdnjT0QVR2rJ2d3QOVVVd27tyJDz/8ENeuXavwHjo5OcHPzw/Ozs6wtraWXJ/w8HAUFhY+6nAlJk6ciA0bNogPgDIzMxEeHo42bdqID0ny8/Nx8eJFyezkXbt2RevWreslZno6MOEmohqTy+UVxn7Fxsaid+/eFcZnExHR4y06Ohqpqani73K5XJzw8mFZW1tXaPE1mUzQaDRPfBddBweHCkOdtFptjcdBA7ceQmi12gpdsZ2dnR8qxtp06dIlLFy4UDJu3dLSEr1798brr7+Ozp07w9bWFgqFosJ1GTNmDE6fPv2oQ5YIDAxEt27dcPLkSQC3Pod79uzByy+/LH5G09PTcf78eUnPhenTp/O7DT0UzlJORDVmZWVVoavh559/XuEmRUREj7ebN2/i7NmzktZHuVyOXr161cq8Gba2thWGEel0OskcIE8qJyenCteosLBQ0jpaXaWlpcjPz69wD32QGc/rgtlsxrJly5CWliZuc3BwwMKFC7Fz50689NJL8Pf3h5eXF9zd3eHm5ib5eRyWgHNwcMALL7wg2Xb06FHk5OQAuJWAX7t2TbKSiqOjIyZMmPBI46SnDxNuIqoxZ2dnDB06VDIxTH5+PgYPHox169YhIyMDGo2GyTcR0WPMZDLh/PnzOHPmjGS7q6srpkyZUivnsLa2hpubm6SFUK1W4/r167VS/v3U5X3Izs6uwkShN27cqHJ953spKChARkaGZJubm9tjs+5zTEwM4uPjxW7kcrkczz//PN55551aWT7uUbC2tkaPHj0k883o9Xps27YNwK2J4I4fPy7pKj9mzJjHrls/PXmYcBNRjVlZWWHQoEEYM2aMpOWirKwM//rXvzB69GisW7cO4eHhyM3NfSrG6hERPU0EQUBSUhI2btyIlJQUyWuvvfZarbWsymQyPPfcc5Kkpbi4GJcvX37gsc5VnetOer2+zh/8du/eXfJ7UlISUlJSalQ3QRCQlpaGmJgYyfa+ffs+1EzitenatWtQqVTi73Z2dujWrdsTtyxn48aN0a9fP8m2bdu2QavVIi8vDydOnBC3K5VKjB079rF5D+jJxYSbiB5IkyZNMGfOHAwaNAj29vbidpPJhMjISCxatAjTpk3Dxx9/jB07dlR4ck9ERPUnLS0N33//PQ4ePCjZ3rx5c8yaNatWzxUUFCS5T6jVaoSHh9f4vpCfn1/lclN3T8pZUlLyQOOpa2LQoEGS3wsKCnD69OkaTRCmVqsRGhoqefAhl8vx8ssv11qcD6ukpEQyG7mFhUW1x5dXNja9vnh4eKBnz56Sz2NcXBzCw8Nx6dIlyfj0Vq1aISgoiEuS0kNjwk1ED0Qul6NLly5YtmwZ5syZA39/f8lNyWg04tq1a1i/fj0WLFiABQsWYM+ePY/NTZeI6FlkMplw7tw5LF68GD/99JMkIfXw8MDHH38MX1/fWj1np06d4OvrK94jBEFAVFQU9u7dW61lr4xGI/bs2YP3338fFy9evOd+d6/tnZ6ejvLy8ocL/j4GDhwouV6CIGDPnj04c+ZMte53ZrMZkZGR2Lx5syShbd26dYVkvj5ZWFhI7vF6vR43b96873FarRY7duyQTMpXnywtLREUFIRWrVqJ2wRBwIYNG7B7925Jz4ShQ4fC1dW1PsKkpwwTbiJ6YAqFAm3btsXChQuxceNGvPfeexXGmwmCgMzMTPz5559YsGABPv/88zr/AkRERFIlJSU4ffo03n33XcydOxd//PGHJNm1trYWhwTVNnd3d4wYMUIyjjs3Nxc//vgjDh06VGUrdHp6OpYtW4aFCxfi999/x7lz5+65r5+fn+T3jIwMREVF1emDXldXV0yfPr3CeZctW4azZ8/e9/ioqCgsXboUCQkJ4jalUol58+ZJ5kmpb40bN5bEo9FoEBERUWUiXVZWhi1btmDZsmXIysp6FGFWS4sWLdCxY0fJsmUHDhzA4cOHxd/d3NzQs2dPjt+mWsE57onoobm7u6Nv374ICQnBtGnTEBoaik2bNuHs2bOSJ/ZJSUn44Ycf4OnpiTlz5tRjxERET4fy8nKcO3euwprQOp0OxcXFKCoqQkpKChISEpCXl4ecnBxoNBrJvs7Oznj77bcxc+bMOkvyXnvtNWzdulWcAVoQBMTFxWHevHmYMmUKJk+ejBYtWgC41ep78+ZN7Nq1C1u2bEFMTAxKS0uhVCorxH6n9u3bQy6Xi62Uer0en376KTw8PNCvXz9YWFiguLgYp06dgkwmQ+/eveHo6PjQdXv11Vdx8OBBhIWFiXW7ePEipk+fjhkzZmDixIlo2rSppIU4NTUV27dvx4YNG5CcnCxpWZ04cSJGjBjx0HHVpuDgYHh6eiIlJQWCIMBsNiMsLAwrV67EwoUL0bhxY3FfQRCQnp6O77//Hr///jtycnJqfbz+w3ByckLnzp2xa9cu3LhxA8CteQXu1LFjRzRr1qzStdaJaooJNxHVGicnJzg5OaF58+YYN24cjh49is8//xzR0dHixDW3WzU6duyIzp0713PERERPtqKiImzYsAEbN26s8JogCBAEASaTCWazudIJxJo0aYKPPvoIL7/8MmxtbetsvKqnpyfWrl2Lfv36iS3aJpMJKSkp+PLLL7Fy5Uq4ubnB3d0dpaWlyMvLQ3l5uWTiM7lcjgYNGtzzHE2bNkVwcDAiIyPFbYmJiRgzZgwcHR3h6emJ7OxslJaWonfv3ggMDKyVhLtJkyb4z3/+gylTpojLnZnNZqSkpOCzzz7DN998gyZNmqBRo0aQy+W4ceMG0tLSUF5eDp1OJymrV69eWLBgQa2sgV6b3NzcMGnSJMTExECtVgMAVCoV1q1bh2PHjqFnz55o1aoVdDod4uLicODAARQVFYkP3Rs2bIjc3NzHYliZTCZD165d0bx5czHhvvv1Hj16oEmTJvUQHT2NmHATUa2zsLCAi4sLxo8fjzZt2mDu3Lk4efIkTCYTBEFASkoKjh8/zoSbiKiG7k6IBUGAwWCQ9Ca635zu8T0AACAASURBVPEWFhZwcnLCkCFD8M477yAkJKQuQq2gR48e+PPPPzFjxgwUFRVJWqL1ej3Kysok6zzfGbOVlRX69etX5ZrIbm5umDNnDt566y2xu7wgCCgvL0d5eTmys7PFfbVaba2toCGXy9G3b1+sW7cOH3zwAZKTk8Wyb9etuLi4wizkd9ZPqVSiT58+WL58Odq1a1crcdUmmUyGmTNn4vTp09i9e7f4eTMYDIiNjUVsbGylx1hZWWHIkCEYN24cFixY8Nisvx4YGIjg4GCEhYVVeOjh7++PkJAQ2NjY1FN09LRhwk1Edeq5557D8uXLMXLkSOTk5AC49VQ8LS0NZrO50u5ad3+hNJvNMBgMkiXIiIieRc2aNYOzs/N958JQKBSwsLAQf2xtbeHg4AB3d3d06tQJ06ZNQ3Bw8AO1aN9OEO/83dLSslplDRs2DL/99hu+/vprxMTEoKio6J6tnrcfDPj4+GDy5Ml46623YGVldc+ylUolRo4ciaSkJPzyyy/Iy8urtGylUgk/P79KW7dvX7fb5HI5LC0t71svS0tLvPDCC3B3d8fq1asRHh6O/Pz8KieFk8lkcHJyQqNGjTBmzBjMnDmzwrreVbnzWtx+kFKTLtAKhQKWlpZi8mxpaVnlElg2NjbYuHEj3NzccODAAeTm5lZIVu/ct0mTJhg7dizmzJmDmzdvirFV5/NyO7bb5HJ5rX4HkMlkGDx4MPbv34+kpCTJ9qCgILRu3brWzkXEhJuI6lxISIhk4hFBEKDX62E0GivcQCv7ciMIAvLy8tCoUaNHEi8R0eNq1KhRuHHjBqKioqrcz8bGBg4ODrC3txeT1tatW6NFixZVJq3VYW1tjQkTJsDHxwcmkwn29vYICQmRJKr3YmFhgSFDhiAoKAj79u1DaGgoUlNTUVpaCo1GA5lMBhsbGzg6OsLX1xedOnXCyJEj0aRJk2ol9J6enli4cCHatGmDv//+G2lpaSgrKxMf2jo5OaFZs2aYOnUqvL29Kxzv5+eHsWPH4tq1axAEAc7OzhUmA62qbr1790b79u1x9OhRnDx5ElevXkVhYSG0Wi30ej3kcjmsra1ha2uLBg0aoGPHjujXrx9CQkJqPF74xRdfhIeHBwwGA2xtbdGjR48ajcH39PTE1KlTxdnGvb294enpWeUxjo6OWLNmDf7++28cOHAAV69eRVFRkfje2drawsXFBcHBwRg+fDi6d+8OpVIpPpDIyMiAUqlEv379qkygbyfrCQkJ4vsQGBhY7bpVx/PPP4+OHTsiNTVVfDBjZ2eHkJAQdienWiUTKhvQQ0SPpaSkJLzwwguIj48Xtw0fPhzbtm176Jk033nnHaxfv16ckKZVq1bYsmVLpV3bBEGA0Wis1lN/4FaLdlBQkDibqUKhwNy5c/Hf//630u6R27dvx6RJkyTd/Q4ePPhYLZFCRPQsM5lMUKlUMBgMsLe3h42NzQO1lms0GqSnpyM/Px+lpaUAbs0H4uHhgUaNGj1Ut161Wo20tDQUFBRAp9PBxsYGXl5e9y1Xp9OhtLQUgiDAycnpoVpWc3JykJmZibKyMpSXl0OhUMDBwQFOTk7w9/d/qPoJgiCuNW5jYwM7O7saJ+16vR4qlQrArWS6JnXV6/W4ceMGsrKyoFKpIJPJ4OzsjAYNGsDHx6fC50Gn00GlUok9F+4Xa22+D/cqf8aMGfjjjz/EhLtVq1ZYtWoV+vfvX6vnomcbW7iJqEYEQcCJEyewf/9+jBo1Cp07d4a1tXWV++/evVsyA+jtLxqVfTmTyWRwcHCAi4sL8vPzxe2bN2/GwIED62xCHyIiqj6FQgEXF5eHLsfGxgYtWrQQZyivTXZ2dpL1lqvLysrqoXsB3Obl5QUvL69aKetutxPch6FUKuHu7v7Ax/r5+VVYju1erKysajQZXG2+D5WJiYlBZGSkmGwrFAoEBgY+sjkN6NnBhJvoCZeamop169bV6Kbk4uKCiRMnVqv7393MZjMOHz6MNWvW4J9//kH//v0xfvx4dO7cuUIMpaWlOHDgAL755hvxCToANGrUCN27d7/nOdzc3ODr6ytJuHft2oWOHTvi1VdfhZ2dHbRaLaKiohAfH49JkyZVmfQTERER3envv/+WzFLu4OCAXr161cqDJKI7MeEmesJdvXoVn376aY1afm1tbREQEFBl0lsVg8EArVaL+Ph4XL9+Hdu2bUPz5s3RqVMnNGjQAIIgICMjQ0yIi4uLxdlo7ezsMHz4cLRv3/6e5fv4+KB9+/a4ePGiuK2kpARLlizB6tWrxWVj8vPzodFoMGDAAI63IiIiomrJyMjAuXPnxGEMAODq6oohQ4bUY1T0tGLCTfQEqSypNhqNkhtGdWi1WqSnpz9Qwi2TydCsWTMAt7qLa7VaaLVa5OTk4MyZM/c9duDAgViyZEmV47+9vLwwdOhQHD58WLJEjEqlgkqlwrVr1yrUh4iIiKg6zp07h/j4eMka70FBQQ80BIHofmo2swIR1St3d3e4u7tXuWxHdSgUigrjvu7uXi6Xyys9j1wux9ixYzFz5kx4e3tXa6IcGxsbeHt7Y/78+fjtt99gb29/3xiHDh2KOXPmwNfX9571lclk8Pb2hqur633LIyIiIiorK8PZs2eRkZEhbrO0tMRLL71Uj1HR04wt3ERPECcnJyxatAgbN25ESUnJA5fj7u6Ozp07S7Z17twZsbGxKCoqgkKhQPv27e850YuHhwdWrVqFV155Bbt378bly5eRl5cHjUYDvV4PQRBgaWkJGxsbuLq6olOnTpgwYQK6dOlS7RhtbGzw73//G8899xx+/fVXpKSkoKysDEajEXK5HDY2NvD09MQrr7wCBweHB74WRERE9OyIj49HeHi4ONQNuPW9hiuhUF3hsmBEJCotLUVpaSksLS3h4uJS7UnVVCoVkpOTkZ+fD5VKBZPJBDs7O3h6eiIgIADOzs41XqrkTgaDAdevX8eNGzdQXl4OS0tLsWxHR0fOXE5ERET3pdfr8fPPP2PBggUoKysTt7/99ttYtWpVPUZGTzO2cBORyMHB4YFaix0dHREcHFwHEd1iaWmJ5557Ds8991ydnYOIiIiebmq1GomJiVCr1eI2Hx8fvPrqq/UYFT3tmHATEREREdFTz87ODhMmTICfnx+0Wi3s7e3RtGlTtG3btr5Do6cYu5QTEREREdEzwWw2w2AwwGw2w8LCospVU4hqAxNuIiIiIiIiojrAZcGIiIiIiIiI6gATbiIiIiIiIqI6wISbiIiIiIiIqA4w4SYiIiIiIiKqA0y4iYiIiIiIiOoAE24iIiIiIiKiOsCEm4iIiIiIiKgOMOEmIiIiIiIiqgNMuImIiIiIiIjqABNuIiIiIiIiojrAhJuIiIiIiIioDjDhJiIiIiIiIqoDTLiJiIiIiIiI6gATbiIiIiIiIqI6wISbiIiIiIiIqA4w4SYiIiIiIiKqA0y4iYiIiIiIiOoAE24iIiIiIiKiOsCEm4iIiIiIiKgOMOEmIiIiIiIiqgNMuImIiIiIiIjqABNuIiIiIiIiojrAhJueaP/973/RpUsXfPLJJ/UdChERERERkYRFfQdAT4fs7Gz88ssv0Gq1mDNnDjw8PB7JeePi4nD58mW4uro+kvMRERERERFVFxNuqhUxMTFYsWIFiouL0bt3b/Tp06e+QyIiIiIiIqpX7FJORERERHWquLgYqampUKlU9R2KhEqlwrVr15CTk1NvMRiNRmRnZyMlJQXl5eUPXV5JSckjrZMgCMjOzkZiYmKtxE/0tGHCTURERPQQtFot4uPjkZaWBqPRWN/hVMlsNuPq1auIj4+HXq9/ZOfdtGkTFi1ahG3btj2yc1bH/v378e6772LVqlX1FkNhYSHWrFmDDz/8EJcvX37o8vbv348FCxbg+++/r4Xo7k+tVmP9+vV49913ERYW9kjOSfQkYcJNdU6n0yErKwtlZWUAbt3sc3JyEBYWhoiICBQVFUEQhCrLuP0FITQ0FNHR0WJZ1VVYWIiIiAicPn0a8fHxUKvVktcFQYBKpUJGRgZKS0srLaO8vByZmZkoLS29b7xERFRRdHQ0Zs2aheXLlyMvL6/C61qtFqtXr8asWbOwefNmaLXaeoiyZsxmMw4ePIi5c+fi888/x5UrV+o7pCpFRUXhrbfewvz583H48OFHdt6jR49i+/btOHbs2CM7Z3VERkZi//79OHToUL3FUFpaiuPHj2Pv3r1IS0t76PIuXryI/fv3P7L3V6PR4NSpU9izZ89j//knqg8cw011bteuXfjhhx/Qs2dPvP/++/jhhx+wc+dOFBYWQiaTwdvbG++//z4GDRpU6fHR0dH46quvEBMTA51OB0tLS7Rq1Qpz586FwWCo8tx5eXlYt24d/v77b5SUlMBkMsHa2hpNmzbFG2+8gX79+kGpVEKj0WDt2rXYvn07unfvjvnz58PPz08sp7CwEMuXL8fx48cxc+ZMTJs2DVZWVrV6nYiInnZxcXH46aef0KFDB4waNarCBJu//fYbPv30U8jlcgQFBcHC4vH/miIIAqKjo3HixAlkZ2dj/PjxaNu2bX2HdU9JSUk4fvw4rK2t0adPHwwfPvyRnJcPqonoWfX438noiXfz5k1ERUXB0dERr7/+Ovbt2weFQgE7Ozvk5+cjISEBMTEx2LNnD7p16yY59vLly5g1axYuXboEk8kEX19fqNVq7N69G1FRUTAajTCbzZWeNysrC3PnzsWRI0dgNBoREhICDw8PxMbGYv/+/Th37hx++uknDBs2DNbW1ujQoQO+/vprXLt2De3atcPUqVOhVCohCAJCQ0OxZs0aNGvWDE2bNoVSqXwUl46I6KliMBhgNpthMpkq/O8ODQ3Fe++9B61Wi6lTp+Lll19+IhJuuVyOkSNHIj09HYGBgWjXrl19h1SlXr164Y033oBMJsOoUaPqOxwioqceu5TTI7N3717s3LkT48ePx5UrV5CVlYVDhw6hZcuWyM/Px0cffSTZv7y8HN9++y0iIyMhl8uxZ88eJCcn4+rVq1i3bh30ej2Sk5MrHS9nMBiwYsUKHDx4EK6urjh79izOnj2L3bt3IywsDK+//jpKSkrwySefQK/XQy6Xo1OnTnj99ddRVlaGH374AUlJSWIc77//PmQyGcaMGYPevXtDJpM9kmtGRPQsSE9Px6RJk6BSqdC9e3d8/vnncHZ2ru+wqkUmkyE4OBg//vgjFi5ciAYNGtR3SFXy9vbG2rVrsWbNGrRq1aq+wyEieuo9/o+O6akhk8kwe/ZsrFixApaWlgCA3r17Y9KkSfjyyy9x9OhR5ObmwtPTEwBw4cIFREdHw2Qy4ZtvvhG7vdna2mL69OlwcnLCokWLcP369QrnunjxIs6cOQOj0YjVq1cjJCREfM3DwwOzZs1CeHg4Lly4gMOHD2PEiBFwdnbG+PHjcerUKYSFhYkTvCxfvhwJCQno168fpk2b9kS0uBARPSlycnIwe/ZsZGVloVWrVli7dm2Frua3GY1GFBcXQ61Ww2g0QqFQwNbWFi4uLuJ9Bbg1iVNJSQmUSiVcXFygUCgqlGUwGFBYWAiTyQRPT0/xf7sgCBAEATKZrNoPV/V6PfLz82FlZQUnJyfJfUIQBJSUlKC0tBQGgwFyubzSmKsiCAI0Gg1UKhW0Wi2MRqNYjqura416Xd2eRwUA3NzcxGPNZjMKCgpgMBjg7e0N4NZs1yqVCkajEUqlEq6urrCzs6syztvHGAwGWFhYwMnJCY6OjtWqY3FxseQ6WVtbw9nZGdbW1uJ7cftaKxQKODk5wdraWlKOXq9HYWEh5HI5nJ2da3RtBEGAVqtFUVERtFotZDIZ7Ozs4OrqKnlPS0tLUVpaCisrK7i6ulb6OdHr9SgoKIAgCPDy8qr0M1jdmHQ6HVQqFTQaDYxGI2QyGaysrODm5lah/g9ap7uZTCYUFRVJ/tZsbGzg6upa7c8tEd3CzIEeGRcXFyxfvrzCP+quXbvC1tYWZWVlyMjIEBPu69evIycnBy4uLhg7dqzkGJlMhtGjR+Ovv/6qdIKR6OhopKWlwdfXFyEhIRUmWfPx8YGHhwdkMhkuXLiAESNGAADatWuHyZMnIykpCRs2bEDDhg3x3XffwdvbGzNnzoS/v39tXhIiomdaYWEhVqxYgVOnTsHX1xdr1qxBixYtKt1XpVLhyJEj2L59OyIjI1FUVAR7e3u0a9cOEyZMwNChQ+Hi4gIAOHnyJFatWgVPT098+eWXlbY6R0dH48svv0Rubi62b98Od3d3aLVaxMXFITU1FS1btkRgYOB9H7IKgoC4uDjMmzcPHTt2xLx589CkSRPxtTNnzmDbtm04d+4csrOzYW1tjXbt2mHatGkYPXr0fa+RTqdDbGwsDh8+jBMnTiAxMRElJSWwsbFBmzZtMHnyZAwcOBBeXl73LQsAioqK8Morr0CpVOKLL75A+/btAQBlZWVYvHgxrl69im3btiEpKQlbt27F8ePHUVRUhIYNG2L8+PGYOnUqGjVqVKFck8mEixcv4tdff8XJkyeRl5cHNzc3DBw4EJMmTapyzpXy8nKEh4dj27ZtOHv2LHJzc6FUKhEYGIiRI0di9OjR8PHxgUwmQ2pqKubPnw8AePPNNzF48GDxe4XRaMSZM2ewYsUK+Pn5Yf78+WjevHm1rovZbEZ6ejp2796NHTt2IDExEUqlEsHBwZg6dSoGDx4sPmzYvXs3fv75Z/j6+uL777+HjY1NhfLOnz+PL774Anq9Hn/++SdcXV2rFcfdrl69iqNHj+Lo0aOIj49HYWEhLC0tERAQgIkTJ2LkyJHw8fG5Z53S0tKwe/du7Ny5U6xT+/btMXXqVAwaNKjSByilpaXi39rFixfFv7W2bdti/PjxGDZs2APXh+hZxISbHhmlUlnpk1gnJyfI5bdGN2g0GnF7QUEB1Go1WrduXenT8dtPv+9+siwIAm7evIni4mLY2dlh1apVlZ43PT0dAJCRkSGJceTIkThz5gx27tyJRYsWQafTYdSoURg5cuSDVZyIiCooKyvD1q1bsXXrVjg5OeH//b//h+eff77SfcvLy7Fy5Ur897//hVKpRMeOHeHs7Izi4mKcOXMGhw4dwrvvvosPP/wQlpaWUCgUSE9Px9GjRzFhwgSMGDFCcq8wm83Yv38/Dh48CE9PT9jb2wMAMjMz8Z///Af79u3Da6+9huXLl8PNze2+dcnOzsapU6egUChQXFwsJtyRkZF4/fXXkZ2dje7du6Nt27YoLy/H1atX8dVXX1Ur4b5x4wYWLlyIy5cvo1mzZmjXrh0sLS1RUFCAU6dOISIiAgsXLsTbb78NW1vb+5ZXWlqKkydPwtHRETdu3BAT7vLycly8eBGXLl3Cpk2bsGnTJhQWFqJ58+ZwcnJCXFwcli5dipSUFHz//fcVWo5DQ0Px73//G1FRUfDx8UFQUBDKy8uxZcsWXLhwATk5OZVOnKbT6bBt2zb85z//QU5ODnr06CFep5iYGHzwwQeIiorCypUrxdZyFxcXbN68GYIgIDAwEIGBgQBu9Zb45ptvcObMGYSEhMDd3f2+1+O220PbDh06BD8/P7Rr1w5paWnYt28fTp06ha+++gqvvfYaZDIZFAoFEhMTcerUKbzxxhvo0qWLpCyz2Yw//vgDx48fR/PmzavsFVAVQRCwZMkSHDp0CAEBAWjevDlsbGxQUlKC8+fP45133kFsbCy+/PLLSr8n5ebm4qOPPsKRI0fg6+sr1mnv3r1inWbMmCH52ygvL8d3332Hb775BpaWlujYsSNcXFxQUlKCs2fP4vDhw5g3bx4+/vhjzmdDVE1MuKneKRQK8Z/9nTdjlUqF8vJyODo6igl5dZhMJrHbVUFBAfbt23fP41u3bi1+2bjNx8cHISEhOHjwIIqKimBhYYGBAwdW+gSbiIhqzmAw4OTJk/j999+h0Wjw4YcfYsyYMffcf9euXfjyyy9hb2+PpUuXYvDgwXBxcUFRURH279+PJUuWYPXq1ejbty/69OmDdu3aoW3btkhISMCOHTswfPhwSVKRm5uLyMhIlJaW4u233xYfyup0OnHpx6KiIphMpoeq57p165CcnIzRo0fjiy++gLe3N9RqNRISEpCVlVWtMmQyGQIDAzFq1Ch07twZjRs3hlKpRH5+Pn766SesWrUK+/fvx5AhQxAUFPRQ8d729ddfo3nz5li0aBHatGkDjUaDTZs24eeff8Yvv/yCKVOmSB6OFBQU4LvvvkNsbCz8/f2xbNkyMeE+ffo01q9fj5SUlEoT7rCwMKxcuRI3b97E4sWLMX78eHh7e6O8vBxnzpzBsmXLsHnzZvTv3x+TJ0+Gh4cHpk2bhkuXLuHEiRPYvXs35s6dC1tbW2zduhXHjh1Dt27dMGHCBLHHQ3XcuHEDJ0+exOzZs8XPV3JyMj755BNERERgzZo1GDhwIHx9fdG9e3cEBAQgIyMDmzZtqpBwZ2VlISIiAnq9Hq+88spDrWri4uKC999/H926dYO/vz9sbGxQXFyMv/76C0uWLMHff/+N8ePHo3///hWOzcrKwunTpzF79mwMGjRIrNPHH3+MCxcuYN26dRg4cKCkhXzv3r348ssvoVQq8dFHH2HIkCFwdXVFcXExDhw4gI8++girV69G//790a9fvweuF9GzhAk3PbYsLCygUCig1WprtJyIXC4Xk/hmzZphxYoV93y6LJPJKnQ3y8zMxKVLl6BWq2FrawutVosdO3ZIupMREdGDy8zMxP/+9z8kJSVh7NixmDBhwj1by9RqNdasWQONRoPp06djxowZ4gNQNzc3zJw5E4cPH8bBgwfx66+/ok+fPvDy8kLnzp1x5MgRHDhwAEVFRZKW6qioKCQmJsLGxgbjx48Xtzdu3BgzZsxA69atMXjw4GqNPa5KTEwMLCwsxO7pAODo6IgGDRrcc4WNuzVo0ABLly6Fq6urpLeWt7c33njjDfz++++4efMm0tLSai3hbtiwIVauXImQkBBx7LGnpyeOHDmChIQEHDhwQJJwh4eH49KlSzAajViyZAnGjx8vHteiRQs0atQICxYsEHuW3abT6bBr1y4kJiZiwIABWLBggdjbwM3NDWPHjkVMTAxWr16NNWvWYPLkyVAoFOjcuTNefPFFfP3111i/fj0GDBgApVKJlStXwsXFBZMnT0br1q1rVGdbW1ssXLgQU6ZMESfsCwwMhCAIGD58ONLT0/HPP/9g1qxZaNy4Mbp27YqIiAhs374dX3zxheSzcu7cOWRlZcHW1haTJk2q+Rvw/5PJZFi6dCnc3Nwk3z+8vb0xd+5crF69GqWlpYiLi6s04ba3t8fChQsxefJkSZ3MZjNGjBiB1NRUHDx4EDNnzgRw62/thx9+gFqtxqRJk/D6669L/tZee+01HDt2DHv27MHPP//MhJuomjhLOT22nJ2dYWtri5SUlEpnIgcqX9dTLpfDxcUFtra20Ol06NChA7p161bpT9euXSVfwgwGA3bt2oVDhw4hMDAQX3zxBcxmM44cOYI//vijzupKRPQscXFxQWBgIORyOSIiIpCenn7PB6vx8fFISUkBAIwZM6ZCbyNbW1v06NEDRqMRsbGxMJlMkMvl6N27N5o0aYK8vDzs2bNH3N9kMiEyMhIpKSno0aMH/Pz8xNccHR0xfvx4fPrppxg0aNB9J6S6H39/f+j1ehw6dAiRkZGS16rbc8vKygoNGzasNBYXFxd4eXmhrKwMKpXqoWK909SpU9GxY0fJRF++vr4ICAgQx1HfKSEhASUlJfD29sZLL70kOc7Ozg4jR45E69atK9Q5MzMTCQkJ0Gq1GD16tJhs32ZlZYV27drBwcEBkZGR4jhwR0dHvPTSS+jevTtSUlKwfPlyvPPOO8jNzUWfPn0wfvz4Gk/s5efnh1dffVUyO75MJsOAAQPg7+8PtVqNqKgoALd65g0dOhSurq7IycnBwYMHxWOMRiNCQ0ORk5ODAQMGoHHjxjWK424+Pj6VPux3dHSEj4+POIlcZfz9/TF9+vQKdRo4cCD8/f1RVlYm1gkArly5guTkZAiCgHHjxlX6t9atWzeYzWZxUlsiuj+2cNNjq1GjRnBxcUFqaiouX76Mvn37Sl6PiIjAxYsXodfrKxzr7+8PT09PXL16FVFRUejTp0+1znn58mX8/vvvUKlUWLlyJSZMmIBjx45h37592LhxI3r27FntCViIiKhyTk5OeOWVV2AwGHDw4EEsWLAABw8erLRFOTExETqdDgCwfv16bN68ucI+165dA3BrXHh+fj68vLwQHByMli1bIi4uDj/99BNeffVVAP/Xi0mj0WD06NGScc8ymQw2Nja1NoRo6dKl2Lt3LyIiIjBq1CiMGzcOb775Jlq0aFGjoVLArQfMaWlpiI+PR0ZGBvLy8lBSUoKCggJxbfPa4uLiUmF+lNsPs2UyGcrLyyWv5eTkQKPRoE2bNpUmh1ZWVpX2YMjJyRGTxR07duDs2bMV9snKyoJKpYJOp0NWVpb4gCQwMBBTpkxBXFwcduzYAUEQ0KBBA3zwwQdwcnKqcZ2VSmWlsSuVSrRs2RKpqanIzs4WZ7Dv3r07mjZtiszMTPz222+YMGECACApKQmxsbHQ6/WYMmVKrSwjKggC8vLyEB0djfT0dOTk5MBgMIjx3KtRojp1uj22XiaT4fr16+JcOhs2bMDWrVsrHJuYmAjgVmt4Xl6eOKM9Ed0bE256bPXo0UO8IfzrX//CoUOH4OzsDLPZjEuXLmHx4sWIi4ur9GbWrVs3tGnTBmlpaZg/fz62bt2KRo0aibPNGo1GaDQaxMTEoFevXrCwsEBhYSG2bduG8+fPY9y4cejTpw+sra2xatUqhIaG4tKlS9i4cSM++eSTh271ICJ6lslkMrRs2RKzZ89GcnIywsPDsWjRInz33XcV3ueBOAAAIABJREFUErOysjIxmTx8+PA9l1dycXFBo0aNxKTdwsICw4cPx+HDh3H27FlcvXoVLVq0QGJiIqKiotCoUSN07969Tid+atWqFY4fP45///vfiI2Nxdq1a7Fx40a8/PLL+PDDD+85u/SdjEYjLly4gBUrVuDo0aPQ6/WwsLCATCaDIAgoLy9/ZDNG335IcHdvhIKCAuh0unsu53YvWq1WfJgSGhp6z1ZppVIJZ2dnySRoMpkMw4YNw08//YTMzEwAQK9evepkbXF3d3dxeS2dTgdra2tYWFhgwoQJCA0Nxblz55CcnIyAgABcvnwZiYmJ8PX1RY8ePR763MnJyVi+fDl27dqF0tJSWFhYiO+DWq1+4O8jbm5uFep059/akSNHqvxba9iw4QM92CB6FjHhpseWt7c3Ro0ahejoaMTFxWHAgAEYMGAACgsLcfr0acjlcvTs2RPh4eEVjm3YsCFmzpyJzMxMREdHo1evXhgxYgT8/Pwgk8mQnJyMM2fO4ObNm0hOToarqyvOnDmDX375BU2aNJEse9KkSRMsWrQIH330Efbu3Yvnn38egwcPfuA1NYmI6JahQ4ciJiZGHIvboUMHTJs2TZJ4WVlZiQnGli1b7rk8o0wmQ4MGDSSt0wMHDoS3tzcKCgqwefNmLF68GLGxsbh+/TomT578SFrn/j/27js8qjL///9zWnoPKZBQEyC0UKQKirAoKlgQ+2JZy3rprj/XgujXZcWyfvysrqwfd9ldVyy7NnStKIhIUaqCAtJEeoAkENLb9PP7Y8zIMBMISpiEvB7XlUucc87MPZPJnHmd+77f99ChQ/1zzOfMmcOKFSt48cUX+e677/joo4+OOU/cMAzWr1/PzTffzN69exk6dCgTJ070Vw4vLS1l2rRpVFRUNPvzOJaG31FlZeUJHWe1Wv0Xwp955hlGjRrV6L5paWkBQ87dbjdz585l586d/qJeixcvZtmyZYwePfqk9Cw3qKiowGw2k5CQEBBwL7nkEh5++GHq6ur44IMP+PWvf826desoLCzkN7/5DfHx8T/rccvLy7nmmmtYv349+fn5XHTRRfTr14/k5GTMZjN33nknO3fu/MnPyWKxEB8f739OR/6tvf7663Tr1i3ksSaTiczMTBWTFWkiBW45KRITE+nevTtVVVVBXx7S0tLIzc1t9MQTGxtLbm4uCQkJQcded9111NbW8s4771BQUMCbb75JQkIC+fn53HjjjdTV1VFdXR3yC9iECROwWq28+OKLbNu2jU8++QSXy4XNZiM+Pp727dtz4YUXkpCQQH19PYsXLyYtLY0rrriCESNG+E86FouFa6+9ltWrV7N161Y2btzIqFGjfnYxHRGRts5ms3HbbbexZcsW5syZw/Tp0+ncuTPjxo3zB6b27dv7Q5nZbKZXr15Nvv+MjAzOPfdctmzZwty5c7niiitYvnw5kZGRnHXWWaesZzguLo7Jkyczfvx45syZw4wZM1i2bBmffvppQNG2ozmdTubNm8eWLVs477zzmDlzZkAPbnFxMXFxcWEP3O3atSMqKordu3f7z7NHcrvdIad/JSUl+b8beDyeE/rdbt26lf/85z+UlpZy//33M2/ePNatW8fMmTPp0aMHHTp0OKHn4Ha7Q7bd4XCwbds2IiIigi7QZGVlccEFF/Daa6/x6aefMmLECL755huio6MZN27czw6kc+fO5auvviIvL4+nn36a0aNHB2w/cm52KC6X67jP6cg16jMzM/0jPhpGoYjIz6fALSdFr169eOyxx3C73f5KrA3OOecc0tLSGq3w3alTJ2bMmIHdbic3NzdgW0xMDHfddRdjx45ly5Yt1NXVkZaWRv/+/enUqRMlJSWkpaUFnDAamM1mLrjgAoYNG8b69es5cOAAdrudyMhI2rVrR05ODt26dcNms2EymZg8eTIXXnghvXr1Clp3NTMzk//5n/9h+/bt/iVZRETk52vXrh0PPvggW7duZcOGDf7ls/r16wdA3759SUlJ8Rc/GzdunD+AN8XVV1/NrFmz2Lt3L3PmzGH16tX06tWLvn37Bn2WG4bB4cOHKSkp8Q9P/zk9pQ1zYxs0BO+XXnqJ/fv3+4dCN8br9fore+fk5AQNQa+oqDjhXuXm0L17dxISEti9ezerVq0KqGDudrtZuHAh27dvDxqK3rFjRzp16oTFYuHDDz/k5ptvblKxs/LycubMmcOXX37J2Wefza233srZZ5/N5MmTWblyJXPmzOGOO+44oeW4iouL+fjjj5k4cWLA+2vFihVs376dpKSkkAH0lltu4fXXX+f7779nzpw5fPvttwwcOJCePXv+7JFwDfOl09LSyM/PD9hWVVVFaWnpMY8vKipi3rx5/g6IBsuXL2fHjh0kJyfTs2dP/+19+vQhJSWFwsJC3n//fc4777wT+lsTkdD0VyQnRXx8POPGjQu5LSsryz88O5To6OhjLi1hsVgYMGAAAwYMCNqWkZHB+PHjj9m2lJSU4y5dERERwVlnndXodqvVSs+ePQNOTCIicnL07duXJ554gl/+8pd89dVXPPfcczzyyCO0b9/eP73oqaee4r333qNfv35ceeWV/gujXq/XPw88Ly+PM844I+C+Bw4cyBlnnMGaNWt4+eWXKSoq4qKLLgq6wAu+0PWPf/yDZcuWcckll3DTTTf95GHBRUVFPPvss0ycOJGhQ4cSERGBx+Nhw4YN/qB0vKWrzGazv6d2x44d7N69m759+2Iymfjuu+/44x//yIEDB8I+4mr06NF07tyZoqIiHnroIf72t7+Rn59PRUUFH330Ef/3f//Hvn37ggJ3UlISY8aMYdGiRSxdupRHH32U22+/3f+cvV4vRUVFfPnllyQnJzNmzBg8Hg+rVq1izpw5JCQkcNttt5Genk5mZia/+tWv+Mtf/sKcOXMYNmwYZ555ZpOfw6FDh3j44YcpLS3lkksuISUlhW+++YZHH30UwzDIzs4O+T1n2LBh5Ofns3XrVt58800OHz7MbbfddlKmKzSM3ispKWHdunWMGTPGXyX+2WefZdeuXccsvnf0c0pOTubrr7/mkUcewTAMOnXqFLCcWEZGBhdddBFbt27lgw8+ID8/n2uuuSbgb63hokpeXh6DBw/+2c9RpC1Q4BYREZGwGzduHA8//DD33HMP7733Hnl5edx+++1ER0fzu9/9jnXr1rFo0SJmzJjBG2+8QXZ2NlFRUZSUlFBUVERpaSlTp04NCtwRERHccsstrFq1iv3795Oens7gwYNDDic/fPgwS5YsYdmyZSQkJHD11Vf/5MBdWVnJP//5Tz788EO6detGhw4dqK+vZ8OGDezevZuJEycyYsSIY96HzWbj3HPP5ZVXXmHVqlX85je/oX///tjtdr7++mv27NlD165dj9vT2dyysrK47rrr2LRpEytXruSGG24gOzuburo6vv/+e1JSUjj//PP5+OOPA44zmUxccsklrF+/nhdeeIG//OUvfPbZZ3To0IHk5GTKy8spKiqisLCQq666ijFjxlBcXMzzzz/Pnj17uP322znrrLP8veK33XYbixcvZsOGDcyZM4fc3FzS09Ob9BxGjx5NYWEh06dP59///jcxMTEcOHCArVu3EhUVxb333huwhFyDyMhIpkyZwr333ktxcTHZ2dkMHjz4Z8/fBrjwwgvp2bMnu3fv5r777mPIkCGYzWY2btzIxo0b6d27N999912jx5999tn+5/TKK6/4n9OWLVuIiYnh7rvvDpiSZzab+e1vf8v69ev55JNPePTRR3nrrbfIysoiOjqaw4cPU1RUxMGDB5k6daoCt0gTKXCLiIjIKdEwtchisQQNHbZarVx//fVs2rSJ2bNnM3fuXMaOHcuAAQPo0KEDr7/+Os899xwvvvgiy5cvx2KxYDKZ8Hg8dOjQgUsvvZQJEyaEfNwrrriC6dOnU1hYSPfu3TnjjDNC9gzGx8eTkZEB+KY7NXVIckREBCaTKaAIWE5ODlOnTuXvf/878+fPx2q1YhgGsbGx3HTTTUydOjVo3emjmc1mBg8ezJ///Gf++Mc/snLlSr766isMw2DAgAG8+OKLLF26lLfeeqvJQ39tNhtmsxmTyRQwpN5qtfqHQDdW+brh9Th6u9ls5oYbbiAyMpLp06ezfv16vv32W6Kjozn//PO5//77WbFiBfPnzw8axp+amsqjjz5Kr169eOaZZ1i9ejUWiwWLxYLH4/GPUpsyZQoej4cvvviCTz75hIEDBwaMdABfj/Ddd9/NHXfcwfvvv89FF13U6Oi7Bg3tGT58OBMnTuTRRx9l8eLFuN1uDMMgLy+PJ598kvPPP7/RIeKTJk3iT3/6EwcPHmTgwIH06tXrhKYimM1mbDZbwO8AfD3OL7zwAn/4wx/44osv2Lx5M+BbEu2FF15g3759PPzww0GvacP/n3nmmVxwwQU8+uijLFmyxP+cevXqxZNPPsn48eOD/g46dOjAK6+8wqxZs3jhhRdC/q1ddNFFXHzxxf5jGn5fgAqpiYRgMo4e3yMiIiLSTKqqqrDZbI1+Mfd6vdTU1GC1WgPWyG7gcDjYs2cPRUVFREZG0qlTJ9q3b3/cda3Hjx/P4sWLuemmm/jb3/7WaECtr6+ntraWhISEJtfr8Hq91NbWYrFYgtrs8XjYtWsXxcXFJCUl0bVrV2JjY094brjT6WT//v0UFhbSoUMHfwVpl8uF3W4nJiamyXOGG5Z/OnpZp/r6ehwOR6PFuDweD+Xl5SQlJTX6+nk8HjZt2kRVVRVdunQhKysLs9mMYRiUlZWRmJh4zIsDe/fupaCgAMMwyMrKIjs7O+DCh8fjoaqqiujo6JAXBrxeL3V1dXi9XuLi4o77vvB4PFRUVPgrf7tcLvbu3UthYSEZGRnk5uYe93UtLy/nkksuYfXq1fz+97/noYceOuH523a7HafTSWxsbNCxHo+H4uJiCgoKSEpKIicnh4iICAzDoLKykri4uIDXtOH3lJKS8pOfE/jec7t376aoqIiIiAg6depEhw4dQr6mdrsdu91OYmLiSa0QL3I6UOAWERGR09r3339P7969yczM5KmnnuKaa64Jd5PkNLJixQpGjx5N9+7deeaZZ7jgggvC3SQRaUGOfdlPREREpJX761//itfrpVOnTowcOTLczZHTiGEYvPDCCxiGQc+ePRk4cGC4myQiLYwCt4iIiJy2iouLefvtt4mMjGTYsGF07Ngx3E2S00hhYSEffvgh8fHxDB061F8DQESkgYqmiYiIyGmrsLCQnJwc0tPTufrqqzW/VE6qgoIC8vLyyM3NZeLEiXp/iUgQzeEWERGR01ZVVRU7d+4kNjaWrl27BlVHF/k5Kioq2L17N4mJiXTq1KnJ1eJFpO1Q4BYRERERERFpBprDLSIiIiIiItIMFLhFREREREREmoECt4iIiIiIiEgzUOAWERERERERaQYqpSitUkWtm+/311JV5/HfFhVhZlSfpDC2SkRERERE5EcK3NIqFZU6mPP5QbYX1flvS0uIYGTvRK2BKSIiIiIiLYICt7RKLrdBeY2bw5Uu/20WkwmvARblbRERERERaQEUuKVV8mLgJXgJecNrgFmJW0RE5GQrq3ZxsNyJccTpNy3RRlpSRPgaJSLSwilwS6vk9YLhDbzNAFxeQ29qERGRZrD02wqe/WAvHs+PifuGcztwy/gsNJtLRCQ0ZRNplbxeA483sIfbMMDtaeQAERER+Vk8XgOvF448/R598VtERAJpWTBplTxeA09QD7eBy60zv4iISHPwGiGmcmFghLhdRER8FLilVXJ5DNzewHBtGOBwKXCLiIg0B7cnOFh7vAZe5W0RkUYpcEur5PIYQSd+BW4REZHm43aHCtyhe75FRMRHgVtaJZfLi8sdHLjrHArcIiIizcEZYtpWqCleIiLyIwVuaZUcbgPnUYHbaxjU21U1TUREpDk4XMELcrrdXjxK3CIijVLgllbJ4fLgdAWGa68XahW4RUREmkW908vRidvlAdUrFRFpnAK3tDqG4Tvph+rhrlLgFhERaRZ1Dg9HJ26n24tbiVtEpFEK3NLqON1e6kPM1fYaBlV17jC0SERE5PRXW+8JGlLucHlxhaheLiIiPgrc0uo4XF5q64N7sr1eqKhR4BYREWkO1fWeoCHlDlfwiDMREfmRAre0Og6Xl+r64GDt8RqUVzvD0CIREZHTm8drUGN3B/Vw1zu8OLUkp4hIoxS4pdWpd3hDDh33eA1Kq91aD1REROQkq7V7gpbjBF9NFYcCt4hIoxS4pdWpd3qprA0O3IYBNXYPNSGGm4uIiMhPV1nrwe0NDtx1Dg92BW4RkUYpcEurU+fwUNbIXG2700tZlesUt0hEROT0VlHrwhOiOFqt3ROykKmIiPgocEurU1PvprSRUG13ejhUqXncIiIiJ1N5tStkNfLqOjd1DhUsFRFpjAK3tCout0FJpQtnI2t+1jm8HKxQD7eIiMjJdLjKhTtE4HZ5DCprPVoaTESkEQrc0qrYnV4KShyNbq+zezhw2I7qpomIiJw8hyqcjV7sLq1y4XBqWLmISCgK3NKq1Dk97C6ua3S7w+WlqMxBnUOF00RERE4GwzAornCGrFIOcKjSiV2BW0QkJAVuaVWqat3sLKpvdLsBHKxwUljaeC+4iIiINF11vYfyaheeEFXKAQ6WO6l36kK3iEgoCtzSani8Btv211Jec+w52oVlDnYXNx7KRUREpOkOljuprms8UB8odVBrV+AWEQnFGu4GyImrd3rZsLOasmoXbWmqsttjMH9tadD87Jz20ewqqve/FuXVbj5bX0a904vVYjrl7QwXi9lEdrtIembHYrO2nectIiLN60Cpg8q6xiuRl1W7OFThpEdWDGazzj8iIkdS4G5l9h6y89Q7e9i+vw5PG5wu5XAFPulOaVFcdXYGT769F+OHoW4er8Hq7yr5Zkd1OJoYNiaTL3SP6pPEA1d0warQLSIiJ8Hug/XHHF3m8Rp8t7+WoT0TiYrQuUdE5EgK3K1IVZ2bv36wj/U7avCqDDcm4Jz8ZM7pn8JbXxxiR9GPxdTcHgO3p20Ob5u35jCJMVZ+e3FHTPreIyIiP0N5jZs9B+3HLYq2bkcNV53tJSpCsxVFRI6kwN1KGAYsWl/O1v21Ctv4wnbnjGjO7pdMXJSF2ydmM/3fO1Wd/AdvLTvIBYNTyc2KCXdTRERaPa9hUF7jptbuwdtI4bDT1Xf76thxIHB1EJvFRGKclcOVP/Z6byqoYcOuGjqlR57qJoaVCRPRkWaS423Y2tA0NhFpOpNhKL21BmXVLp55t4Al35a1+TWmI21mslIjueacTH4xMIUomxnDMJi9oJD5a0s5XOnE5WnjLxJw6fA0pl7RRb3cIiI/07qd1byxpJh1u6pVHAzo1zmWIT0TeWlhYZv/TmKzmOjVKZYrz8pgZJ8kIm3q4ReRQOrhbiV2FtWz52B9wIktNsrCuIEp2Cxt58PdZIL4aAv5XePJ7xpH1A8nNpPJxJSx7emWGcO2A7XYnd429SWgpNLJhl3VVNT+WNRm7fYqyqtdpCTYwtgyEZHWbV+JnZnvFbCjsO74O7cBZhNMHpVBZkokH311mEMVznA3KaxcHoNvd9dQVu0iwmZmZJ8kdJ1bRI6kwN0KeA2DPQfrKSoLXFu6X5c47pnUWRWpfxAVYWbsgGTGDkgOd1NOub2HfF8Iv9pW6b+tqt7Dpr01nN2v7b0eIiIngwG8trhYYfsIg3ISGNknCbfHYEx+Mu+sOIRbo8ooKnPyydpSembHkJYYEe7miEgL0na6RluxmnoP+0rs1B9VsGRk70SFbQGgQ0oEXTKiApZBc7i8bNpbE8ZWiYi0bgUH61m6sTzczWgxenWM5TcXdyQ2ykJCjJUJQ9sxIi+xTS3B2RiP1+C7fbVs3lsb7qaISAujHu5WoKLGzYHS4CFbg3skhqE10hLZrGa6ZUaTEGOlrNpXxMbp9rKjsB6Px8CiL0MiIidsxebKoDnbOe2j6dMprk0tvWg1m+iYFsXgHgl0SosCfFO8umZGc9ekTpy1vZpdxXW43AZtqa97055athfW+qewHaxwsqWglhG9EjWXW0T8FLhbgco6N8VHDSdPibf5T3oiAJ3Tokg8InAbBpTXuCipcpKZ3LaqxoqI/FyGYbDyu4qAquQxkRYmDGnH5FHpmNpYRUqTCSzmwOdsMZvokBJJ5pAIvEZqmFoWPiu3VDD93zv9hVo9XoPdxfUcrHDqO5qI+ClwtwJVdW4OVQb2cPftHKfq0xKgfWokcdGWgNvqHV6KyxS4RUROVFGZk+JyZ0CPbYfUSHpkx2KzqvfySGazqU3OURzaM4HYKEtAwdL9h+2UKHCLyBHa4udjq+Lx/rj255F6aH1lOUpqvI2EGEvAhZh6p6fNV5AVEfkpdhbWYz+qdkp6oo1OabqAKT5RERYG5cQH3HawwklJpatNrZQiIsemwN3COVzekIEpp310GFojLZnFYiIjOTKgeI3d6aWkUoFbRORE7TlUj8P1Y+C2WkxkJEWQEq+lFuVHA3ITAv7f7vRSXO4IeO+ISNumwN3CudwGhytdQbd3ztBQJQmWmRwRsC673eWltCr4/SMiIo0z8K2/fWRoio6wkJ0Whdms+Vzyo76d44JuKyxzUufwhNhbRNoiBe4Wzun2+otgNbD9cJVd5GhpiRHYjujhdrsNKuvcuNy60i4i0lR2p4fDVS48niMLpplpn6Lh5BKoc3okEUfN6S+pcFLv0HlXRHwUuFs4l8egvCYwcKfE27TchISUGm8LGFJuAHUOL7U68YuINFl5ta92ypHTcKMizLrYLUGiIy1kpgS+L0oqndid6uEWER+lthbO7TYCql8CtEu0oRLlEkpynC1oze16p4faep34RUSaqrzGRf1RBdMibWbf+VfkKJ3TA6f5Ha52YdccbhH5gQJ3C+f2GFTVBQbu1IQIFLcllKQ4S9A6qXanV3PJREROQHmNO6iHMirCTEqcArcEy0oJDNzVtW7q7B5VKhcRQIG7xXN5vNQc1TuZHKvl0yW0uBgr1sCluHG4DM0lExE5AVV1HuyuH9OS2WwiJT54BJEIQMZRQ8oNoLTahcerxC0iCtwtmmFAnd0T9IGdGKsr7BJapNVMtC0wcTtdXuwu9XCLiDRVTb0b5xFDgi1mSEnQuVdCS08MnttfXuPGqy5uEUGBu0UzgGp7cFCKj7EE7yzyg4SjRkA43V7sTp30RUSaqrreE7AkmNlkIkUXu6URqSEuxlTUuPFqcJmIoMDdohmGQZ09+NM6LkqBWxoXF20JmOPv8hg4tCyYiEiTGPhGl7ncRw4ph0RN55JGpMQHvzeq6t14NaRcRFDgbvFCFbuKjbKgqmnSmKPfHy63gUvVUkVEmsTt9lLv9AQMBzabTCRodJk0IjrSErRca3WdB+VtEQEF7hbNMHwVpo8WHWFW3pZGRUcEfin0eA1cHp31RUSawuEycLoCPzPNJoiLVg+3hGYxmYiLDjz31to9msMtIoACd4tmQMh1HKMi9GuTxh39/nB7FLhFRJrK6fYGTcMxmUzERKqHW0IzmSD2qPdHnV093CLio+TWkhkEVEltEGHTr00aF2kLHP/g8Rq4PRpSLiLSFC63F1dQ4IbYSJ17JTSTCWKOqq9T5/RgqIdbRFDgbvFC9UzarBpQLo2zWgL/rL1eA696uEVEmsTlAfdR5VNMJoiMUA+3hGYymYg+anSZ3WmgvC0ioMDdohkYuEMEJatFgVsaZzvq/eE1QHlbRKRp3B4v7qPWczJhIipC514JzWQiqGiaw+VV4BYRQIG7xQu1hqPVpJO+NM5iPjpwG1qaRESkidze4IvdJhNEWPWVSUIzAZFHvT+cbgVuEfHR2aOFCzX/R3lbjsVsMgVUsTcMXwE+ERE5Pq83+GK3CbBqOpc0ItT7w+X2YujsKyKA1rhowSxmE6Pzk8lqFxlwe0q8LUwtktagf7c4fntRp4ATfX7XuDC2SESk9fB6jeDlnExg0xRuaYwpeLqf26M53CLio8DdglnMJgbmxAeFJQ1rk2PJ6RBNl4yogOvqmvcvItI0hhG6h9ui4WVyDEdP99Ma3CLSQIG7hbNaTApLckIsZlPQPG4REWmaxnKSSYFbGmEieLqfSqeISAMF7lOorq6OmpoaQCduCR+v14thGFgsGh8pbY/X6yUuLo7Y2NhwN0VaqIRYC0N6JNA+NcJ/W3y0VfVTpFEWi4k+XeJweAKHRkRGaESiiIDJCFWVS5rFf//7X5577jksFgtWq651SHjU1dXhcDhISkrShR9pUzweD06nk5tuuolf/epX4W6OiIiItAFKfadQWVkZ3377LYO7VpCRHO7WSFu1tgC2F1qYOHEiMTEx4W6OyClTUVHBmjVrOHToULibIiIiIm2EAvcpFB0dTVRUJHdfDuf0D3drpK2a9k/YeziCJ598kg4dOoS7OSKnzObNm7n44os1nLyN8Xg8GIahET0SVg0DSvU+lLam4fPXbDa32fe/AvcpZDKZMGEiKgrUsSjhEmHzvRfj4+NJSEgId3NETpm4OC2P1xY9/vjjbNq0qc1+0ZOWQYFb2irDMIiLi+Oxxx4jOzs73M0JCwVuEREROW2tWrWKTz/9lGE9VbJGwsPlhh1FYI1KpXPnzqrjI21KQUEBhmEwbdq0cDclbPQXLyIiIqetdu3aAbDgqTA3RNqsQ+Vwx0xI7v4LnnrqKRITE8PdJJFT5g9/+AOffvppm77Q1HafuYiIiJz2GobwJmjqvoRJvQNsFoiIiCAhIUGBW9qUiIgI37TaNjydQgsEioiIiIiIiDQDBW4RERERERGRZqDALSIiIiIiItIMFLhFREREREREmoECt4iIiIiIiEgzUOAWERERERERaQZaFkxEms2hQ4dYvnw5FouF8847j+jo6HANvvPcAAAgAElEQVQ3SURERETklFHgbkXsTqiqhaoKKK6A+BhIT4b4OIiNhja8vJ2cArW1tVRVVWEYRqP7mEwmMjMz/Wstrlq1ivvvv5/KykrWrVtHdnb2qWquAIZhYLfbKSsrw+l0kp6eTmysFiMWEREROVUUuFsDAw6Wwpwl8OIC2LwX3B5fwM5IgqtGw60ToGcXsFrC3Vg5XT3//PM888wz1NXVNbpPdHQ0O3bsICoq6hS2rPUqKSnBMAySk5Ox2Wwn9b69Xi87duzgv//9L//85z85cOAAr776KpdffjlWqz76RURERE4FfetqBQ6Vw9NvwfPzICkWLhoGSfG+3u71O+Bvc2F3MfzvryGvM6CebmkGa9asobi4mLi4OAYPHhxyH6vVeswecPmRy+VixowZWCwWbrrpJgYMGHDS7ruiooLPPvuMF198kUWLFuHxePB4PLhcrpP2GCIicnrZuXMnGzZsIDY2lvHjx4e7OSKnDQXuFs7lhsXr4N+fQWo83HslXDka0pKgvAreWwH/8wZ8+g2MXAEd0yE2JtytltNZt27dmDVrVshtNptN87SbyOl0MmvWLFJSUhg6dOhJC9ylpaU88cQTvPHGG9hsNiZOnMjGjRvZvn37Sbl/kbbiwCEoOATpSZATajaMAZt3Q3kN5LSH9mmnvIlNY0BRCWwv9D2X3GzQIJeWb9OmTRw+fJhOnTrRrVu34+5fWlrKjh07iIiIoE+fPkRERJzwY3766ac8/vjjpKWlnRaBu7y8nK1bt+J0Ohk5cuRJH0km0lT6yG3hyqrgo5VwqALunQzX/gKSE3zbkpNg8mjYsR+efAvmfQWTx0COArc0o+joaLp37x7uZkgjdu/ezauvvsro0aO5/vrriY+PZ8aMGQrcIifojUXwzjLo1xWenxq8feEaeOotKK+G+66Aq8ad+jYej8MJS76GlxbA9wfgnH4w/UZISQh3y+R4Zs2axcqVK+nfvz//+te/jhmgPR4Pn3zyCc899xw9e/bk6aefJi3txK8A1dTUUFNT83Oa3SJ4PB42btzI7NmzWbVqFW63mwULFpCRkRHupkkbpcDdwpVWwecbISUeBvX0DSU/UkIsDO7lu2r9zQ6oqAQ6hKWpIifM7XazevVq5s2bx44dO/B4PHTq1Inx48czevTooN7yuro63nvvPQ4dOsTFF19Meno6H374IQsXLqSuro5evXoxefJk8vPzAaiqquK9995j4cKFOBwO+vXrx1VXXUXPnj1Dtsfr9bJt2zY+/PBDNm7cSF1dHampqYwePZpLLrmE+Pj4oGM++ugj1q5dy4QJE8jPz2fVqlV8+OGH7N27l6SkJMaPH8/kyZOxWHwFFgoLC5k7dy4HDhwAoL6+ng8++IDdu3cDMGjQIMaMGUNMzE+7ctatWzf+85//0Lt3bzp06MCWLVt+0v2ItHU7Cn3nVU+IWTJbdsETb8CyjTAoF0bnn/r2HU91JTz+Brz1Oew/7Kv9kpXqGzknLV96ejobNmzg8OHDrF+/nqFDhza6b0lJCUuWLOGrr77ijDPOaNM9ubW1tcyZM4e///3vbNmyxV93xm63h7ll0pYpcLdghgGVFVBYCgNyoHN6cCVykwkykqFDKqzbAYUlMLAnmLXCurRw5eXlzJw5k9mzZ1NWVuafX2y1Wnn11VeZMmUKDzzwQMAV6bq6Ol577TX27t2LzWbjyy+/5OOPP6a6uhrDMLDZbHz88cc88cQTdOvWjQceeIDPPvuM2tpaDMPg448/ZsmSJTz55JMMGzYsoD0Oh4O3336bhx9+mKKiIlwuF4ZhYDabeeutt3jjjTf4y1/+EtS7//bbbzN//ny8Xi8LFixg1qxZlJWV4Xa7MZvNvP/++6xdu5ZHHnmE6OhotmzZwl//+ld27NgB+L4EfPjhh3z88ccAXHrppQwaNOgnB+7k5GTGjRuHWR8CIs2itByemgMrN0P7ZHjnD5CZHu5WBVq1AW75C+wugk7pMCwPVmwOd6vkRFx99dU88sgjVFZW8umnnx4zcO/du5e1a9dis9kYN25cyIvDbUFpaSl33HEH8+bNIyYmhv79+7Nt2zbKysrC3TRp4/SNrAUzDCipBK/h6+FOjAu9X1IctPtheNiBUvB4T10bpe3xer24XK6gH7e76d0m9fX1vPjiizz99NPU19fz4IMPsm7dOjZs2MAf/vAHvF4v//jHP3j77bdxOp3+4wzDwOFwsH//fh577DHeffddLrjgAl599VV+//vfY7PZ+Prrr/nDH/7AlClTmD9/PpMmTeLNN9/k/vvvx2q1snTpUl599VUqKioC7nfZsmXccccdHDx4kGuuuYalS5eyadMmZs+eTUxMDJ9++ilPPPFEUJV2p9NJZWUlL730En/84x/p1q0bzzzzDLNmzWLAgAGUl5fz2muvMXfuXAAGDhzIfffdx0MPPQT4huhfdtllPPLIIzzyyCPceuutJCcn/+Tfj8lkUtgWaSYOBzz/Eby9DGIj4e3p0PEYo8oMw3dOdnt8/22spqRhNL7tRPZp8MhrsPcg/PpCWPEMTBrRtOOk5cjLy2PYsGHU1tby+eefU1tbG3I/j8fD9u3b2bx5M4MGDSI3N9c/ogp85zePx4Pb7cbtduP1/rQviV6v95hFUQ3DaNJ9e73en92WxixatIi5c+cyfPhwPvjgA+69914SEjR/QsJPPdwtmNeAQ5W+f0faILKR31aEFaJ+GD1UU+87TqS57N27lwceeCDo9pSUFKZOnXrcQi2GYbB582ZefvllIiIimDlzJtdcc43/uNzcXNLS0vjd737Hu+++y7hx48jLywu4j6qqKiIjI/njH//ILbfcQlxcHG63m+zsbG6//Xa+/PJLMjMzeeaZZ7j++uuJjo5m4sSJtG/fnrvvvpvVq1ezbds2fy93XV0djz76KG63m9tvv50ZM2b4ewjy8vLIy8tj3LhxrFq1iiVLljBhwoSA9jidTioqKrjhhht46KGH6NixI+DroRgyZAi7du1i/vz5XHrppaSmpnLDDTdQW1vL9OnTiYqKYsKECUyZMuWn/UJE5JRwueD95TDrI99598+3waBeoff1eOBgORQcgLXboboeMpOhbzdfAbakuB9HohUVwzfbITsDenWFiBCjgcsrYcN2iIuC3rkQc5yVF68dAzOug+H9AM/PetoSRrfeeitffvkl+/bt48svv2Ts2LFB+5SXl7Ns2TK8Xi8jR44kO9tX4c/tdnPw4EH279/Ppk2bKC4uxmKxkJOTw6BBg+jYsWOTC6sdPHiQ9evXEx0dzfDhw4OOq6urY+3atZSXlzN27NiQPexVVVUcOHCANWvWsH//fiwWCz169KBfv35kZ2eflOVE8/Pzee6557j66quJjY3lvffe+9n3KXIyKHC3YIbhK8YCvpO7rZHfltXyY8VRlwdQ4JZmdPjwYd54442g22NiYrj77ruPewJ3uVxs2LCBLVu2cOGFFzJixIiAYyIjIxk0aBB9+/bl66+/pri4OChwW61Wrr32Wq6//nri4uL8t40cOZL27dtTXFzMzTffzNVXX+2fBx4ZGcnw4cPJyMjg4MGDAT3c33//PStWrKBXr15MnDgx6MtCjx49OOecc/j000/ZtGkTF154IaYj5neYzWaGDh3Kgw8+6A/bAAkJCVxzzTU88sgjFBcXU1paSvv27Y/3EotIC+Pxwldb4c9vQ00d/PZSuOSs0OHY4YQV38Kf/wsLv4GEGIiJhMpa33n86tHwu8uhW7ZvFc9P1sDNM2FUX/i/O2HAUTUp3W5f8dRfPwtn94O/3gXdQ1VNP8L1F5y0py5hdOmllzJt2jSKiopYuXIlo0ePDui9Bt/87S+++ILU1FSGDBlCUlISAJ988gnPPvssq1atwmKxEBUVhd1up6amhvz8fKZNm8aVV17ZpBFRCxcuZNq0aURHR7Nq1aqggmzff/899957L2vXruWLL77grLPOCtheUFDAyy+/zD/+8Q8qKipITk7G7XZTXV1Nr169uOeee5g0adJPnkrVoOECuUhLo8DdwjUMDzc4Ro4+YmNcVPA8b5GTqVOnTjz44INBt8fFxTXpanl9fT2bNm3yD09bt24dO3fuDNhn//79eL1eqqurKSsrw+PxBHzJiIyMJCcnh5SUlIDjoqKiyMzMpKKigu7du5OYmBiwPTo6mnbt2rFv376AAiorV670t2fPnj3Mnz8/qM0ejwe73U5paSlOp5PIyEj/drPZTFZWFp07dw56vg1zvp1OJ/X19cd9fUSk5dl/EJ56EzYX+ALzzRc2UunbgFUbYdq/4Lv9cMVZMLyPb1rYriKY9yW8uMAXvB+9GeJjYERfyEyBrftg3XbonwOmIzJQWTV8/i043TA8z9dTLm1DSkoK559/Pq+//jrr1q3j4MGDdOjw4xwGj8fDpk2b2L59O6NHj6ZXr17+i8EzZszAbrf7C4UmJib654N//vnnTJ06lfz8fHr37n3cdhiG4R8yHmpYecN2IGiY+OHDh3nuued4/vnnycrK4uabbyYnJwe73c6qVav45JNPmD59Oh07dmTUqFGaEiWnJQXuFi72hxE2Dhc4XaH3cXl8J2KAdokqmCbNKyMjg5tuuuknH98wzA18QXfbtm0BvcXg6wU/fPgwZrMZj6fp4yHNZvMxh6WZzWYiIyPxeDwB97t3714A9uzZw+OPPx7Ug2AYBqWlpf4vAicy76whmHu93hN6LiLSMtQ74IlXYcHXcE5/+N1k6JIZet9D5fD6Yvh2N0wZC4/f/OP63E4X9O0CD70Iry2Gq8fCsD6Qngrjz4BXPoOvt8HFZ0Jq0o/3ebgcFm/wFUcd1MMX0qVtMJlMXH755bz55pt89913bNq0KSBwO51O5s2bh9lspn///uTk5Pi33XXXXbRv354zzjjDXxfEMAzGjRvHxIkTOXToEAsXLmxS4P6pDMPgiy++4N133yU6OprHHnuMSZMmYTabMQyDiRMnYrFYeP3113n55ZcZOnToSRlaLtLSKHC3YGYzpP1w0q2ph9pGVjSoqYeqH2pppCWART3c0oIdWVhlwIABnHfeeQG9xUeKj49nxIgRzX7Fu6E9WVlZXHfddf5h6keLiopixIgRjbY3lKMvJohI6+Jwwfy1vsJn7RJ8Vb9p5M96y1748juIj4ZbJkJmux+3Rdhg3EB4qyu8+Tms2uQL3AmxMGEovLEUVm2FXcU/Bm63xxfCCw7BBUOgd5fGH1tOTwMHDqRnz57s3r2bDRs2cM455/hHk1VXV7NgwQLat2/PkCFDiI2N9R83ZcqUoPOPyWRiwIAB5OTkUFJS4l8to7lUV1ezatUqCgoKuOGGGwJW0DCZTGRlZXHuueeyaNEi5s+fj8vlUuCW05ICdwtmNkHnNN8Q8UMVvjW5QzlcBUXlvt7wxMTAoWgiLY3FYvFXDc3NzWXKlCmkpqY2uq/NZmv20NowNL1du3ZMnjyZrl27htzPbDZjs9k05E2kDUmIgWlXwm3P+nqa318G158PJkvwvnsPwe5i6JIBeKGwOHC7YfiKoFrM8F2B7zarBfK6wIBusG4XbNsLA7v7bne44INVvn8P6g5dVQKizUlOTmb8+PHMnDmTtWvXUlRU5J++tHTpUoqLizn77LODlroMdd70er14vV5SUlIwDCOglklzKCkpYfv27bjdbrp06UJRURGlpaVB+0VHR7N//37Kysra7JJmcnpT4G7BTCZIToGumbDnIBQUgeENDNReN+zZ7zvBD8uDZH1OSQsXFRVFjx49ACgsLKSurs5fVTVczjjjDAAqKyspLi5u1iF2DRpCu2EYJ7SkmoicWmYzXDEWvvoOnp8Pz34A3TvDmX2P2tGAmlpfRfLNe2HM1NA1VVxuX32WsiNWeeqUAWMGwJfbYPE3cN5QSE8Ge7Wvd71zBgzt9WOBVGk74uLiGDduHLNmzWLt2rXs3r3bH7jffPNNIiMj6d+/f8gLxaWlpfznP//ho48+Ys+ePZSUlOByufzLbR5rma+Toaamxh/qH330UR5//PGgCwENS402XAAIVQtFpLXTR3cLl5oAY/vD7AXw4So4Mx/yOvlCt9cDG3bBq0t8J/UJQ32FV0SaU8PJsTE2W4iyvUeIiopi8ODBpKWl8fnnn7NixQqys7MDqpN6vV7sdjter5fo6OigOdUn24gRI+jYsSM7d+7kgw8+YNCgQSQkJASEYofD4R/udrzn2BTR0dEkJSXhcrnYt28fHo8Hk8mEYRiYzeaf1at/5FzxI+ebN8wjN5lMWq9b5AQkxMI9V/rmZn+5Df72LmSn+YJyA8PrWw4MfNPBzu73Yx2Wo1nMcNN5R9x/HAzOg4xkWLge7in3Be53VvjmkPfI8hVMk7bHbDbTtWtXhg4dyrJly9i4cSMjRoygrq6O+fPnk5qayrhx4wLOGV6vl/fee4+bb76Z+vp6kpOTSUtLY9CgQVitVr799tuQPc0n25G1S4YNG0aXLl0aPbdlZ2fTs2fPZm+TSDgocLdw7RLgytHw2TqYt9a39uZN4yExCYqL4a8f+eZ8ndkbzh8OcSqmIs2spKSEf//73yG3Wa1WrrzySv9SXKGYTCby8vK4+uqrmT17Ng8++CDFxcWcddZZ/vW0i4uLWbp0KWazmd/+9rd06tSpuZ4OALGxsdxzzz3MmDGDV155BafTyWWXXUa7du0wDIPKykpWrlxJQUEBN954IyNGjDgpjztkyBAWLVrEhx9+SH5+PtHR0VitVoYOHdroPPLjsdvtLFq0yF+FvaCggJKSEgC+/vpr/wWMmJgYxowZo/lyIk2Umw0PXg3/3yx4axn07Qp3XQ4xP3zcmSwQGeWrQJ6dCv9724kNAe/XFQZ3h4+/gjVboGdHeHWxbz740F6QqurkbVaHDh0YNWoUK1asYMmSJVx22WUsWLAAh8NBdnY2I0eODNh/x44d3HTTTTidTqZMmcK0adPo3r27P+xOnjyZDz74oMmP33CB9kRHY0VGRvovpl9zzTXcfPPNJ1QDReR0ocDdwpnMMKwvTLsK/j4X3lsJby/zXTWvrvfNLRvbH+653LeUiEhzadeuHRaLhR07dnDLLbeE3MdsNnPmmWf6l8Jq6Em1WCwBV7UzMzO57bbbqK+vZ8GCBUyfPh2r1UpmZiZ1dXVUV1eTkpLCFVdcgfWoMZQN9xWqd7bh9uNtb/g58j6vu+46SkpKeOedd3jppZeYPXs26enpeL1eysrKiIuLY8yYMUFfFhra01gvfMPtRz8mwH333ceePXv4+uuvufzyyzGZTFx11VX07t37JwfuoqIibrjhhpC9F8899xzPPfcc4PsdrFixgm7duv2kxxFpaywWGD0IbjofZr7rW2e7VzZcOubHfdISIT0J9pVAaYWvmnlTB6t0bQ+De/jmib+1DIb08F1Q75Lhq2IubVdCQgJnnHEGGRkZ/iJkc+bMwWq1MmbMmKAlMhcvXkxNTQ0ZGRk8+OCD5ObmBmw/0RUzGkZ2lZaWUlNTQ3p6un+b1+ulqKiI6urqoONSUlL8VdU3bdoUtKSmSFuhwN0KJMTC9eOhR0dYsQkKD4PdCYmxkJsF5wyAPl1VLE2a17XXXktGRoZ/7lcoZrM54ETcs2dPbrvtNtxud1AhlD59+jBjxgzGjh3Lhg0bOHToEC6Xi9jYWNLT0+nevTtnnnkmGRk/jtmMjY3l2muvZcSIEQwZMiTo8RMTE7nuuusYM2YM+fn5QdvT0tK48cYbOXToEHl5geMzU1NTuf/++znzzDNZs2YNhYWF1NfXExUVRUpKCjk5OQwZMoQ+ffoEHHfZZZfRsWNHhg4dGvI16d27N9OmTSM3NzeoONwvfvELnn76aZYvX055eTnR0dGcf/75QeuHn4iUlBSmTp1KXV3dMfeLj49vtFidiISWGAdTzvVVI39/Jfy/V6BLFgzwlaWgZzb07ggL18EbiyCvIwRdOzOgrBIS430hvoHNBsN6+6qgr9gEf3obvAb06gT9c5E2zGQy0bt3b/Lz81mwYAGvvfYaq1evJioqiksvvTRo/4a52UdfDDYMg2+++eaEq5NnZmaSnJzMnj17+Pjjj7nzzjsBX3DfsGEDs2fPpqCgIOi41NRU+vbtS0JCAvPmzeOKK65gzJgxQfvV19fjcDhITEzUyh5yWlLgbiViomHsGXB2f6ip863nGRMFcdGAgracAsOHD2f48OEndEzPnj3p1q0bJpMpqKcafMtwXXPNNUyaNInq6mrcbjdRUVHExcWFnCcdExPDddddh8fjCbk9MTGRG2+8Ea/XG/Lx2rVrx6233tro9sTERCZMmMC5555LdXU1TqcTm81GfHx8o1flJ02axIQJExqd192jRw8ee+yxkK+BxWLhoosu4rzzzqO2thabzUZcXNzPmludmJjItGnTfvLxInJs3TrAXZfBd/t8c7rv+we8/pBvPe3cbLhwGKzf5VtXu8YO5w+B7Ha+cF1YCut3wsZdMPN26JAReN/D8iAvG7bvh3eWQ6QVJg6HE+0UXL8N1u30/dvw+uadg6/n/c1Fvgv5Nguc0QN6hV6UQVqYLl26MGDAAJYuXcprr71GdXU1w4cPZ8CAAUH7Dh48mIiICCoqKpg5cya//OUviY6O5uuvv+bVV19l165dJ/TYvXv3pk+fPmzcuJGZM2ficDjIy8tj7969vPvuu+zevRubzeafytTAZrNx3nnnMX/+fJYsWcIDDzzAL3/5S/Ly8khNTaWqqopdu3bx1Vdf0aNHD+68807/kmc/RWVlJe+++66/dsk333xDTU0NAHPmzPFfZM7JyWHkyJEnpR6LSFMocLcyViskJYS7FSJN15QTWlRUVJPnElsslmMWUfu52wEiIiKa3PtrMpmOO0TuWK+ByWQ6oecvImFmgiG9YOoVcMdz8PlGePw1+L/fQmQETDkPquvgL+/By5/CJ2shNtI3tLzOAWXVkBTn670+WkoijOoLn38LFbWQkQSTfkLJiBc/gbe/+PH/a3/IQdv2wxNv+JYdjYqAWy9U4G4toqOjGTp0KFlZWf7AfNVVV4U8/+Tn53Pffffxv//7v7z88sssXLgQq9XK4cOHyc7O5oYbbuBf//pXkx87JSWFX//612zdupV169bxxBNPkJiYSG1tLampqdx111289dZbrFy5MujYXr16MX36dOx2O6tXr2bnzp0kJSURGRmJy+WiqqqKyspKpk6d+tNfnB9s3ryZ//f//p+/h9/hcPiHuj/99NP+i9njx48nLy+PzMzMn/2YIk2hwC0iIiJylAnDwGr2rY99NKsVLh/rq0q+bBN0bgd4ADO0S4J7r4aLR8C7y+Cr76Gy1ld7pWsmjOoNI/tD+/Tg+8UEl58Nsz/xBe7zBkNauxNv+0XDIPo4HYURVjgneOaNtGCjR4/mzjvvZMOGDf4pVKFERkby4IMPcvbZZ/P666+zd+9eIiMjufHGG5k0aRJVVVW4XC7GjRsXcNyIESO47rrrQgbRESNG8NprrzF79mxWr16NyWTizDPP5KqrriI3NxebzUbfvn3JyQksKGS1Whk1ahTvvPMO8+fPZ+HChRQUFOB2u8nIyKBPnz6MGzeOgQMH/uwe59zcXKZMmXLMOeomk4mBAweSlJT0sx5L5EQocIuIiIgc5aJRvp/GRNrg+gt9P0eLiYL+PX0/J2rvQaj/oVTGzeOBnzCl9dzhvh85vaSmpvK73/2uSfvGxMRw7rnncu6554bc/sILLwTdNmrUKEaNCv2mt1qt9OzZkz/96U8ht99xxx2NtsVisZCRkcGNN97IjTfe2ITW/zTp6ek89dRTzXb/Ij+VZv+KiIiItAAeD8z9EkoqoFsmjA6enisiIq2MAreIiIhIC7C7ENZs9c31/tV44NjlJkREpBVQ4BYRERFpAVZshh1FvvW8Lx8d7taIiMjJoDncIiIiIi1Ar45w3+W+wms5WeFujYiInAwK3CIiIiItwNDeMDgPzGZ+UrE0ERFpeRS4RURERFoCE5g1b1tE5LSiOdwiIiIiIiIizUA93KeQy+XC7XHz9VbwOsPdGmmrdheDx+Nh8eLFpKamhrs5IqfM7t278Xg8uFyucDdFRERE2ggF7lOovr4eu93Bn96CSFu4WyNtVWUtOJ1Opk6disWisYvSdrhcLhwOB3V1deFuioiIiLQRCtynUHR0NFGRkdxxfjX9uoa7NdJWvbQAFq638fDDD5OSkhLu5oicMgUFBTzxxBPExMSEuykiIiLSRihwn0I2mw2r1crZA2HswHC3RtqqlZthySYrF198MVlZWndG2o6NGzfypz/9CZtNQ4zaErvdDsD81WFuiLRZ5dVwsBLq9u9nwYIFxMXFhbtJIqfMrl27cDgceL3ecDclbBS4RURE5LRVWVkJwN2zwtwQabM8XigqA8vBb3jooYc0nUvalJKSEqxWKx6PJ9xNCRsFbhERETltJSQkAPDY9WFuiLRZFbXwt7kQ174fN9xwg6a1SJvyxhtvsGXLljZ9oUmBW0RERE5b0dHRAFw2JswNkTbrYBm8uxxSOndm0qRJJCUlhbtJIqfMN998w65duzCb2+5q1ArcIiIictprw50rEmYWC5hNYDabsVqtWK36+i1tR1sO2g30CoiIiIiIiIg0AwVuERERERERkWagwC0iIiIiIiLSDBS4RURERERERJqBAreIiIiIiIhIM1CZRBFpNmVlZaxfvx6z2cyIESOIjIwMd5NERERERE4ZBe7Wygt4AFu4GyLSuFWrVvHAAw9QXV3NypUr6dChQ7ib1Ka4XC4OHTpEfX096enpxMfHYzKZwt0sERERkTZDQ8pbEcOAejv8ex6kXgqJk+CfH4S7VdJWvPDCC+Tk5JCRkdHoT7du3XA4HP5j3G439fX11NbW4vV6w9j6lsnlcuF0OjEM46Tdp9PpZM2aNfzyl78kMzOT7OxsunfvTgss+fMAACAASURBVGZmJldddRVbtmzR70JERETkFFEPdytRWw9bdsGf/wtzV0OdA+Kjod5x/GNFToYlS5ZQUFCA1WolKysr5D5msxmXy6Wh403g8XiYOXMmhmFw+eWXk5OTc1Lu95///CcPPvggJpOJ1NRU2rVrh8vloqSkhP/+97988cUXzJ07lyFDhpyUxxMRkdODw+GgpqYGm81GQkJCuJsjctpQ4G4FyqpgziL4v/ehqhbGDfKFbpFTqaEXtmfPnrz44osh94mMjCQuLu5UNqvVstvtTJs2jZSUFLKysk5a4N64cSP5+fn84he/4Be/+AXt27entLSUt99+m//85z8cPHiQu+++m6VLl2K16hQg0mY0DKTRrBJpxFdffcU777xDu3bt+P3vfx/u5vwsHo8Hu92OYRjExMRgNmtQr4SPvm21Alv2wgufQFYq/O4yuHQ4ZH0Z7lZJWxUXF8egQYPC3QxpxJQpU0hMTKR///4Bt+fm5rJz507mzZvHypUrKSwspFOnTmFqpUjLt+xb+GY7dM6AS0cFb6+shvdXQGk1jOgNI/qc+jY2RVUNLN8I3+2FnCw4dyjEaBBSi/fWW29RUFBAjx49uPjii4+7/5YtW1i6dCnx8fFMmjTpJ138Xr16NS+99BJxcXGtMnAbhsG+fftYs2YNu3btorS0FMMwSE9PZ/DgwYwcOVIXmiUs9K5rBTqmwdQroE9XyOsEVk2/lNOEx+Nh8+bNrFq1iv379+P1esnIyGDYsGEMGDAgaGi6w+Hg888/p7y8nFGjRpGcnMzy5ctZs2YNdrudLl26cM455/h7i2tra/niiy9Ys2YNLpeLnJwcxo4d22jQ9Hq9FBQUsHz5cnbt2oXD4SAhIYGBAwcyatQoYmJigo5ZsWIF27ZtY8SIEeTm5rJp0yaWL19OcXExcXH/P3t3HhdVvT5w/DMMDMMOg2wioICogOAO7rivpJXpzSXLrMxs36/eW1qWad6yvZ/V9ZammaVmmrllbpErKoooKrIoIpvsA8PM74+TkzjglgOaz/v14hXMOWfmO0hzznO+z/d5nImJiSEuLs58dz03N5ft27dz9uxZ83vaunUrBoMBgLCwMNq1a4dWq72u32mPHj1qfdzb25vw8HA2btxIWVmZBNxCXMF3W2D+aohpaRlwV1XC/FUwZxmUlMO3N2FsYjJBagb832r4YQccPwNDY6BzpATct4KVK1eyePFi2rdvT+fOnfHy8qpz3/LycpYvX84bb7xBXFwcAwYMuC2zzVavXs38+fPZv38/p0+fpqqqCgCNRkN4eDgjR47kqaeewsHBoYFHKm43EnDfAgK8oUkvUKuVn02yblv8DRQVFbFo0SK+/PJLTp48SXFxsTn1KzAwkHvvvZcJEybg6elpPqakpITPP/+c9PR0KioqOHr0KMuXLyczM5Pq6mpcXV2JjY3lxRdfxN/fn3fffZfVq1eTlZVFdXU1Hh4e9O7dmxdffJHIyMga46msrGTDhg288847HDlyhMLCQgwGA/b29vj6+tKvXz9eeOEFAgICahy3ePFi1q5dyyOPPIK7uzuff/45x48fp7S0FDs7OwIDA5k4cSKTJk3C3t6e5ORk5syZw4kTJwDlQunbb7/lxx9/BCA+Pp6QkJDrDrgv5+LibLfjxZgQ16JCD4ZqKKm4ZINJCcY//hHOnYep90LPtg0yxLpVw9cb4KNVcOiUUu+l2qi8nxtYo1FY0YABA/j6669JS0tj+/btDB8+vM59s7Ky2LVrF2VlZXTv3v22/XyfNWsWe/bsoVOnTowbNw6dTseJEydYvHgxiYmJZGdn4+/vz3333dfQQxW3GQm4bwGy7ET83VRWVrJs2TJmzJhBcXEx48ePZ+DAgdjY2LBu3Tq++OIL5syZg4+PD6NHjzangBmNRnJzczl69ChvvvkmZ8+eJTY2lokTJ3Ls2DH++9//snr1aiorK9FoNGzatImePXvy6KOPcvDgQRYuXMi3335LYGAgL7/8svmixGQysW/fPh5//HHOnDlD//79GTlyJDqdjsTERGbNmsWCBQuwt7dn5syZNWbe8/LyyMzMZMGCBeTm5uLr68sjjzyCnZ0dixcv5tChQ3z00UeEhYUxaNAgmjVrxvDhw0lPT+f9999Ho9EQGxtLq1atAOjatatVLpYqKipISUmhoqKCRo0aERoaesNfQ4jbwfaD8N5ySMuB+3rDC6PByTL5pUFN+y98skpZtv34HVBUBu9JV5Nbyh133IGLiwtFRUWsXbuWYcOG1dnW8dSpU+zevducIXa7zuCGh4fz6KOP0rt3b1xcXLC1tUWv19OjRw/+8Y9/kJOTw9dff82oUaOkuKuoVxJwCyGuSWZmJm+//bbF440aNWLs2LFXtT4qJSWFTz75hLy8PN555x0mTJhgntHt1asXzZo149lnn2Xp0qV07drVoqBYfn4+JSUlvPDCCzzzzDO4u7tTVVVF8+bNefbZZ/npp5/QaDT8+9//5vHHH8fZ2Zny8nKCg4OZOnUqv/zyC3fddRft27cHlPZcM2bM4NSpU9x///3Mnj0bDw8PVCoVAwYMoHPnzvTp04f169czePBgevfuXWM8er2elJQU4uPjmT17tjmYnTJlChEREZw8eZLly5fTv39/mjRpwrPPPktpaSnvv/8+jo6OjB49mjFjxpifzxq9snft2kVqaipGo5FRo0ZZZQZdiL+7U9nw/veQkAzdI+HtyeBykwXbADuPQEQQfPokhDWF/yxt6BGJa+Xu7s7dd9/NggULSExMJD09naCgIIv9ysvLSUxMJCsri+HDhxMUFGSVc8it4JNPPkGlUtV4/1qtlhEjRtC6dWv279/PuXPnyMzMvGGFSoW4GjJ3KoS4JhkZGbzyyisWX88880yNHtx1MRgMHDx4kD179hAXF0evXr1wcHAwnyQdHR3p0qULbdq0YceOHWRlZVk8h42NDffffz9TpkwxB8YajYYBAwbg6+uLjY0NkydP5pFHHsHFxcX8vH369MHb25szZ86Qn59vfr60tDR+/vlnQkNDGTFiBDqdznzCVqlUREdH069fP1JTU9m3b5/FeFQqFbGxscyaNYvmzZub34unpyfjx4+nqqqKrKwscnNzzftfekF04TFrXCgVFhayaNEijh49ipeXF88999wNfw0h/u4Ki+HzH+H7HdC6Gbz/GDRyr33fknLYug8enAXh46HJPdBxErz8Kew/BlVKyQZMJli9DYa+BLMXKYXYLmUywb6jcP8b8M9PISvnymNdOg1+fRdahsBtGnv9LUyYMAG1Wk1WVhbbt2+vdZ+8vDxz14kuXbrQuHFjAIqLi9m6dSuPP/44nTp1IiAggKZNm9K3b1+++eYbzp8/f9Xj2L59O+PHj+fxxx+nqKjIYntmZibPPPMMQ4cONS+XupjBYCAjI4M5c+bQrVs3AgMDCQ4OJj4+nkWLFpGbm1tjydP1srGxqfUcqlKpzDVLjEajuWaKEPVFZriFENfE39+fBx54wOJxNzc3NBrNFY8vKysjMTERo9GIh4cH+fn5HDp0qMY+OTk5ODo6UlhYSGFhIUajsUZLDwcHByIjI/Hx8alxnIODA/7+/pSWlhIdHV1j/TeAo6MjPj4+ZGVlUVZWZn58y5YtVFdX4+joiMlkshhPWVkZrq6ulJeXk5ubS1VVFXZ2dubtarWa4OBgWrRoYfF+L6wVr6iooLS09Iq/nxutoqKCFStWsHbtWrRaLdOmTZNiaUJco8oqWLkF3v8BgrxhxngID6HWFlt55+HD7+Gd5WCrhkAvcHeGwhL4YCX88Bu8Mwl6d/yzNsu6vXDqLLRrAX071Hy+cj1s3A3/2wD3xv3Z3ety3Ou4ESBuLV26dKF58+acOHGChIQE7rrrrhrZSSaTidOnT5OQkEBwcDDR0dHm7dOnT+eDDz7Aw8ODRo0a4ePjg16vZ9euXWzatIkHH3yQefPm1VoM9FInTpxg/fr1aLVa/vWvf1n06D537hxbtmxhz549PP/88wQHB5u3VVdXs2PHDl588UX27t1L06ZN8fPzw2AwsGfPHjZu3Mj48eN59dVXLc7pN0p1dTXp6emoVCqcnZ0trg2EsDYJuIUQ1yQwMJDp06df9/FVVVWcPn0aUALd1NRU1BeuOv+g1+vJyMhApVJRVlZmEXDXRa1WX/biQa1Wo9VqMRgMVFdXmx8/fvy4+b9Tp061SIs3Go3mmfbKykqLgPtyLqylMxqNNV6zPlRVVbFt2zY+/vhjcnJyGDduHGPGjJF+pEJcoy37YMYicNTAk3cqQXFtq2cqq2DpL0pBNZ0zPHk3DO4IOlc4kg6f/QTfbYW3lkJUKPg2gjZhSvp3SibsOwY9okFz0cdL7nnYsA8cNNAlArw96u99i4alVqsZOXIkM2bMICkpiePHjxMR8Wf/OYPBwPbt28nLyyMuLo6WLVuatx07doy7776bPn360LZtW9zd3cnPz+fbb7/lvffeY9GiRYwcOZJ+/fpZ9T0cO3aMWbNmsXfvXu644w4ee+wxwsLCKC8vZ+PGjbz//vssWLCA2NhYxowZY5W2XUeOHOHIkSNoNBqioqIk4Bb1TgJuIUS9MplM5lYdvr6+tG3bts6ZcScnJ9q0aWMRkN9oF1LhXVxciI6OrrPgjL29PQMGDLimYisNtZbOZDKRmJjIm2++yYEDB4iPj+fpp59Gp9M1yHiEuFUVlsA/v4CMc3BPTxjVu+4iaWln4MffIK8I/vkwPDpcmeUG6OIOLk5w/DRsS4I9R2BIN3B3geGd4dWFsOsInM6Fpn7KMSYTpJ+FnSnQ3B+iQmoG4+Lvb/Dgwbz77rscPXqUAwcOEB4ebj6vVFZWsmrVKpydnWnXrp05nRzg1VdfJSAggEaNGpkfa9asGcHBwaxYsYITJ06wbds2qwbcBoOB9evXk5CQQGRkJDNnziQsLMy83d/fn9zcXGbPns0XX3zBPffcc8MDbr1ez0cffURlZSU+Pj6MGDHitl3jLhqOBNxCiHqlVqvNVbjbt2/Pyy+/jIdH7VM2Go0GR0dHq58c3f/IvwwICODJJ5+sM+VarVbj5ORk9RsAN8KxY8d4+eWX2b59O3379uWll14yry8XQlw9O1twsgejSQmkzxWCVx2zzEcylDZcjRtB345/BtsXtAyAkMawNQl+/yPgdtBC1yjwdoeEI3Di9J8Bd5UBtiQqQf+wLhBuWTNL/M01a9aMTp06sXnzZhITExkyZIg5pfvUqVPs3LmTpk2b0qlTpxrBatu2tfeq8/DwoGnTpqSmptZaI+VGys/PZ//+/RQWFjJ48GD8/f1rbNdqtURFReHt7c3u3bupqKi4qhT3a7F27VpWrlyJyWRi1KhRdO7c+YY+vxBXQwJuIUS90mg05vVdeXl5AA0+6xoVFQVAaWkpJSUl9TKeC2ndJpPphqeaZ2Vl8eCDD7Jz5046d+7Mq6++SlRU1C1xo0CIm42TFt5+GO6cAVsPwn9/gpfGgKeb5b7Z+XAmH7zclLZc7k6W+ySlKUu/j2crP9uolCC8SytY9TvsSYHYCHDUgr4Klm9XUtI7hIGultcUf2+urq4MHjyYDRs2sHv3btLT0821QX744QfKysoICQkxd924VElJCcnJyZw5c4a8vDz0ej1nz54FlBof1pSXl0dWVpa59ebMmTMtzkPp6emcP3+esrIyzpw5c0PPvwcPHmTevHlkZ2cTExPDSy+9JB06RIOQgFsIUa8cHBxo3749Li4ubN26laSkJJo1a9ag64q7deuGTqczF4aJjY21yjqyi2m1WpydnTEYDJw7d+6GPW9OTg733nsvv/32G+Hh4bz77rtERUXJum0h/oKoMJh5P0x8F774GaKawb39aq7jNlVDRQVUGpSg+9Mfa68QXmVQZssbufz5WIAX9GoDq3bC+j0wqg8EauH4Kdh3HNqFQmwrkP+Nbz9arZZOnTrh7+/Pnj17OHHiBBEREahUKr7++mvc3Nzo2rUrbm4178ZUVVXxn//8h4ULF5KZmUl1dTVGoxGwfqB9QUVFBSUlJQCsW7eODRs2WOxzYZmZvb29RTG2vyIjI4M333yTbdu20aRJExYvXoyvr+8Ne34hroUE3LcAQxXkF0BxufKzvlKpUmo0QU6BckIG5U66hwfYyCSWsKLz58+zZcuWWrfZ2dkRExNz2eDOxsaGiIgI4uPjWbJkCY8//jhlZWUMGjQIjUaDyWQiOzubVatWUVRUxIQJE2jSpIm13g6gpJQ/+uijzJo1iw8//BC1Ws2DDz5oTnUvKSlh3bp17N+/n5EjR9KxY8e//JoqlYqwsDASExNZvXo1d9xxB05OThQXF9O0adPrugtfWVnJ5MmT2bFjB2q1mjFjxpCdnU12drbFvq6urnTu3FlSzIW4CnZ2MKgzPJICH/4Ir30N4U2hXcs/g2qVDaj/+OhrGwJvTQS/OibrbNXQ7KLsWls7iAyFlk1g6yHIyYFAb1i0SdneKgDahlrv/YmbW0BAAF27dmXp0qUkJCTQs2dP0tPTOXjwIKGhofTp06fGZ7nBYGDEiBGsWrUKnU7H4MGD6dmzJ97e3tjZ2TFz5kx27txp9XHb2NiYrwf+9a9/MXDgwDozrby9vS1Szq9XTk4Oc+bMYdmyZfj4+LBkyRKaNWt2Q55biOshAfctYG8qPPIfSDxe8/HSCnjzG+ULIKYlfPVPaG7d2ETcpi6spU5KSqJnz5617qNSqUhOTrZoj3Vpb8yAgACeeOIJ8vLy+O233xgzZgxarZagoCCKi4vJy8vDzs6O+Ph4i36ZF07edQWKF/fPrm1bbf2ubW1tmTJlCunp6axZs4YZM2bwxhtv0KRJEwwGA2fPnsXGxoaOHTsybNiwOp/zSuO5dJ/nn3+eKVOmsHnzZiIjI1GpVAwfPpx3330XPz+/Wp/vcjIzMzl69CjV1dVUV1fz0ksv1bmvn58fCQkJ0iJMiKvUyB0mDIGkU7DlIMz4Ej56Bvy9/thBBQ6OSip4aQU0bQwh13A+jgxS0saT02FlAoQ1g6VboJEr9GoLNlIs7bbl6+tLly5dWLFiBb/88gsTJkxgyZIl2NjYEBYWRnR0dI39N27cyI8//oibmxvvvPMO48aNq7H9iy++uKbXV6vVqNVqysvLa+2XbTAYzLPnF3N0dDTPvNvb2xMZGVlnUdIb5dy5c7z33nt89tlnBAQE8J///KfOdHsh6osE3LcAT1fo2w6aXiETJjwQXKz7OSZuY8OHD6e0tPSyqWhqtbrG+it/f3/69OlDZWWlxUk2JiaGDz74gGXLlpGQkEBBQQEGgwE/Pz90Oh3R0dHEx8fXmN22t7enW7dueHh4EBpqOd3j5OREjx498PPzIyjIsrqQq6srcXFxhISEWNxJ9/X1Ze7cuXTv3p2NGzdy9uxZqqqqsLW1pXXr1rRq1YoBAwbQoUPNJrmxsbGUlpbWOesdFBTEkCFDaNOmjUW63IgRIygoKGD16tWUlpai0Wjo378/Li4utT7XlXh6ejJo0CBCQkKuuG+jRo0sUhCFEJcXHQxT7lAqlq/aCRHfwysPgP0fjRYCvZQ+3afOQmqGMottc5VJJN4e0KEFrEqAFb9B66bK67QJgd61178StwmNRkPr1q1p3rw5iYmJHDhwgBUrVqDRaBg2bJjFEqjk5GRMJhNOTk4MGDCgxraKigqKi4uv6fWdnZ1xcHAgLS2NrKysGv2yS0tL2bt3b61Lo7y8vAgODkatVrNt2zYeeOABqwbcRUVFfPrpp8ybNw9/f3/+/e9/079//6tu4ymEtUjAfQsI8Yc5jzb0KMTtbujQoQwdOvSajmnfvj2tW7dGpVLV2vorNDSUl156iZKSEnJzc6msrMTZ2RmdTldrSrWrqytTp07FYDDU+nyNGjXilVdewWAw1Nq6y9/fn9dffx2j0Vjr8V5eXjz00EOMHTuWvLw8ysrKcHBwQKfT4eRUS/Uj4PHHH2fixIl1tgpr164dy5YtQ61WW5z0bW1tmTRpEvfddx/5+fk4ODjg4eFx3cXN3NzceOutt67rWCHElanU0D9GmeV+53uYtwLCmsD9gwGVUkW8Y3M4lgVzvwMXZ+jcClR/XG0ZDHD6HCRnQPfW4Hhx7KGCrhEQ2hh2H4W3lymp551aQuA1Lj01GaC8UvneaFSWogEYqqG8HMrKlFR4rUZ5T+Lm17JlS6Kjozl8+DDvvfceqamp6HQ6i4AalHOZSqVCr9dz6NAh8895eXmsWLGCgwcPXtNrh4SE4Ofnx7Fjx/jggw94/fXX8fX1NT/fhx9+WGvFczc3N2JiYvj+++/ZtGkTX375JePGjcPb2xtQ1m+fP3+elJQU7OzsiI6Ovu7zX3V1NR9//DFz5szBwcGB0aNH07FjR3Nx1gtUKhXOzs5yw1nUKwm4hRBWo1KprqpntbOzs7lV2JXY2tpetqDZlbZfzZ1uBweHq143rlKpLtvGRKVSXXY9tkqlwsnJqc6AXghxc3F2hAmDlGrjK3bAK18qGWhx7cHPE8b0hQNpsCkRikqV5V6NPECthtwCOHEGjmbCz2+A4yVLVls1hdbByhKyXcfA2QHu6Y5S1vwafL0RfklUvjea4GCa8v2hUzD1C3DQKP28h8TAkK5/+Vci6oGPjw/t2rVjzZo1bN26FaPRSM+ePWtdFtS9e3dCQkJIS0vj1VdfpX///mi1WpKTk1m/fj3u7u7XVKwzNDSUnj17kpiYyDfffENxcTEBAQFkZ2ezc+dO/P39CQwM5NSpUzWOU6lU9OrVi7vuuosvvviCmTNnsnv3bgIDA/Hw8KCkpISsrCyOHDlCly5diIiIuO6AOz09nVmzZlFUVIROp2PHjh0kJSVZ7KdSqejSpQsPP/zwVV93CPFXScAthBBCCHEJjZ2SDq61TIahiQ/8e7TSdzspDd7+FrpHgdoOerSBdybBx6vgx52w8yg42iszygYD+DeCwZ2gtpUjWnsY1BF++h1O50MzX+jc+trHviMZPv/Z8vHMXPj6F+V7R3ulX7gE3LcGtVpNly5dCA4OZu/evdja2jJhwoRa64cEBATw/vvv88Ybb7Bjxw727duHWq3Gw8OD++67D2dnZ6ZOnWqR6WVra1vrjXJ7e3seeughKioq+PTTT81ZW25ubowYMYKxY8cyY8YMTp06ZfGcvr6+PPPMM/j6+rJgwQKWLFmCnZ0dWq3WXJ28bdu29OjR4y91BzEYDJSXK9WF8/Pza62IDkrAbWdnx4QJE677tYS4VhJwCyGEEEJcYuoYeLA/uNfRqSgiFFa9Dvn54O4CNn9cUWntoXsbCA+BGQVwLBPOlyr9vBs3Ai8deLiAWx2Ta+1DwdVJCbhH9bgk7fwq/fs+mHLX5fexUSkF2cSto127dixZsoTc3FwcHR1p2bJlrfupVCr69u1LREQE6enpZGRkYG9vT/PmzQkMDMRkMhEXF0fjxo1rHHfffffRrVu3Wmd+AwIC+Oc//8m9995LcnIyAC1atKBZs2a4urry8ccfU1hYSEREhMWxgYGBTJkyhX/84x+kpaWZ25R5eXnRpEkTGjVqhKen53XPbgM0bdqU/fv311q87VJubm43tAWZEFciAbcQQgghxCV8PJWvuqhsIMhP+bqUWg3e7spXWFOllaeK2vtyX2rzQcgvVgLiBwde59h1ypf4e7kQNIeGhl6xpaNaraZJkyb4+/sTGxtr0SkjJibG4hhPT088Pev+o3d3d6dt27bmqugXtwCtrZDpxS4sHQsKCjJXOr9ch49rZWdnZ9EhRYibhQTcQgghhBBWolJd/RLsygpYvwvyiqBve/D1ufIx4vZzLUHqjQxqL7g40L5W1hiPEDe76/8/RgghhBBC3DAJR5QK6CYTTLQsPi2EEOIWJAG3EEIIIcRNIDMXnLXQKxr6dWjo0QghhLgRJKVcCCGEEOIm0CUCfD3AVweutVQxF0IIceuRgFsIIYQQ4ibQ1E/5EkII8fchKeVCCCGEEEIIIYQVSMAthBBCCCGEEEJYgQTcQgghhBBCCCGEFUjALYQQQgghhBBCWIEE3EIIIYQQQgghhBVIwC2EEEIIIYQQQliBBNxCCCGEEEIIIYQVSMAthBBCCCGEEEJYgQTcQgghhBBCCCGEFUjALYQQQgghhBBCWIEE3EIIIYQQQgghhBVIwC2EEEIIIYQQQliBBNxCCCGEEEIIIYQVSMAthBBCCCGEEEJYgQTcQgghhBBCCCGEFUjALYQQQgghhBBCWIEE3EIIIYQQQgghhBVIwC2EEEIIIYQQQliBBNxCCCGEEEIIIYQVSMAthBBCCCGEEEJYgQTcQgghhBBCCCGEFUjALYQQQgghhBBCWIEE3EIIIYQQQgghhBVIwC2EEEIIIYQQQliBBNxCCCGEEEIIIYQVSMAthBBCCCGEEEJYgQTcQgghhBBCCCGEFUjALYQQQgghhBBCWIEE3EIIIYQQQgghhBVIwC2EEEIIIYQQQliBBNxCCCGEEEIIIYQVSMAthBBCCCGEEEJYgQTcQgghhBBCCCGEFUjALYQQQgghhBBCWIFtQw/gdmIymZRvjH98CdEATCblb9FoNGI0yh+iuH3I37sQQggh6psE3PWosrKSyqoqVv8GxzMbejTidnUgDaqrq/nqq6/w8PBo6OEIUW+ysrKoqqpCr9c39FCEEEIIcZuQgLseVVZWUllZybdbwdG+oUcjblc5hVBVVcVnn32GnZ1dQw9HiHqj1+sxGAwScAshhBCi3kjAXY8cHBxw0Gp55p5i2jVv6NGI29WHy2Hl7xpmz56Nl5dXQw9HiHpz4sQJnnvuORwdHRt6KEIIIYS4TUjAXY9sbW1Rq9VEhUCP6IYejbhdrdwKarWazp074+/v39DDEaLe6HQ6bGxssLWVU9/tpKKiAoAVvzbwQMRtq7AEzhRA8alTrFy5Eicnp4YekhD15ujRNbswAwAAIABJREFUo+j1+tu6jopcdQghhBDibys/Px+AcbMbeCDitmUyQUUlqE79xt69e1GpVA09JCHqjV6vx9XVFYPB0NBDaTAScAshhBDib+tCccglLzfwQMRtq7AE3vkenP278tBDD8kMt7itLFiwgIMHD97W2WW37zsXQgghxN+eg4MDAEO6NfBAxG3rbD58vQl0AQEMGTIEd3f3hh6SEPVm+/btHD16FBsbm4YeSoO5fd+5EEIIIYQQQghhRRJwCyGEEEIIIYQQViABtxBCCCGEEEIIYQUScAshhBBCCCGEEFYgAbcQQgghhBBCCGEFEnALIYQQQgghhBBWIG3BhBBWo9frOX/+PACenp6o1eoGHpEQQgghhBD1RwLuW0h5BeQXQ5keqo3goAFPV3B2bOiRiduBXq+nsLAQo9FY5z5qtRpvb2/zz9u2bWPq1KlUVlayZs0afH1962OoAigrKyMvL4/y8nJA6UXs4eGBk5MTKpWqgUcnhBBCCHF7kID7FlBaDgdS4bfDsPcoZOaBvgp83KFLOAyKhVZBYCv/msKKNm7cyMqVK9Hr9XXuY29vz/vvv49GowGgpKSE3Nxczp8/j8FgqK+h3tbKy8vZtWsX27dvJzExkezsbEwmE97e3rRt25b+/fvToUMHCbqFEEIIIeqBhGg3OX0VrN8Fry2Ew+ngrIVGbnC+FBKSYd1e2HYIpo6BmHBArqGFlSxbtoyFCxeiUqlo1KhRrftoNBoMBoM54BZ1q66u5pNPPkGlUjFw4ECCg4NvyPN+//33zJ49m6SkJJo2bYqXlxclJSXs3buXlStX8tNPP/HJJ58QGRl5Q15PCCHE30NBQQFpaWk4OzvTvHnzhh6OEH8bEnDf5Cr0sDMZSirg+RHQrgV4uEBpBaxNgE/WwLo90NQHmvmBt66hRyz+rioqKjCZTISGhjJ37txa97G1tUWr1dbzyG5NlZWVTJs2DWdnZ3x8fG5YwL127Vo0Gg2zZ8+mTZs2uLq6UlFRwfr165k/fz7bt29n5syZLF68+Ia8nhDiJmaCSj0Ul4G9BpwcQSXlcm8ZJpOpXrOR1q1bx//93//h7u7Od999V2+ve72qq6spKiqiqqoKnU6HraR6ipuU/GXe5Jy0cF8/GN4dWgaCixNc+OyNaArpObAyAXYfhcxcCbiF9el0OgYNGtTQw7jlGY1GCgsLsbGxMa+zvhGeeeYZtFotTZs2xcHBwfx4REQEBw8eZNWqVfz4449UVlZKJoIQl/F/q+C7LdA+DN54yHL7mRx4+QtIOwsP9IfxN9PHogFW7oCVv8GRdKg0gNoGQv1hyh0Q2/rPawlxc3rqqafYs2cPcXFxvPbaa1fc/+eff+aDDz7Ax8eHWbNm1ZmJdjnp6ens3r0bZ2fn6xlyvTCZTGRmZrJ06VI2b95MdnY2RqMRJycnWrduzeTJk4mIiGjoYQpRgwTcNzlbW2jRTPn+0pOjrw76tFUC7uwCKCip//EJ8VcZjUYOHz5MSkoKBoOB4OBgoqKisLe3r3Xfc+fOUVpair+/P/b29pw/f54dO3ZQWlpKq1atCA8PrzEjUFhYyNatW6moqCAiIoKWLVtiY1P3FI/RaCQ9PZ2kpCRKSkrw8fEhNja2RvB6scLCQs6cOUNgYCBOTk7o9Xr279/PyZMn0el0dOvWrcax1dXVnDt3zly93Wg0kp+fT3p6OgBubm64urpe96xGmzZtaj1Wp9MRFhaGvb09JSUllJSUoNPJHToh6pKYCr8egKIyy236cnjpM/jmV7CzhXceqf/x1aW4CP4xU1luVq6Hquo/t+1NhbW74M0H4OHhDTdGcWXl5eVs27aN06dP8+CDD9K0adM69y0qKmLDhg2sWbOGu+++ux5HWf/279/PmDFjSEtLo6KiwlzIVaVS8fvvv7N582bmzp3LwIEDG3ikQvxJEotuASpV7XeiVSrQ2Cnf29uBnXRcEreQ6upqfv31V3r27Em7du0YNWoUY8aMoXPnznTq1IlVq1ZZFFrLy8tj7NixDBgwgFWrVvHll18SFRXF0KFDueeee+jQoQP3338/p0+fRq/X89lnn9GqVSuGDx/OyJEjiYmJ4bnnnqOgoMBiPCaTiZSUFMaNG0d4eDjDhg1j7Nix9OnTh8DAQD788MNaC8Y99thjxMbG8sEHH7Blyxb69etH165duffee+nfvz+tWrVi27ZtmEwmADZv3kyPHj1o2bIloATsTz75JEFBQQQFBfHwww+TnZ193b/XugJ1o9HImTNnqKysxM3NDQ8Pj+t+DSFuB0YjmExKV5Aajxtg7jJl9rjaCP99Btq2bJgx1ub3I/BbstLB5JWxsG0u/D4Pnr9HWZKWXwyPfwTHTzX0SMXl3H333ahUKvLz89mwYcNl901PT2fPnj2YTCb69euHq6trPY2y/m3dupWsrCwGDx7MmjVryMvLIy0tjWnTpmE0GklOTua9997j7NmzDT1UIcxkhvsWpq+CZGVSjMaeoHNp2PEIcbUMBgOrV6/mhRde4PTp07Rr146YmBhsbGzYtWsX+/fv58knn6S6upr4+Pga/buNRiPl5eV8+OGHpKamotVqGTRoEJmZmaSmpvLNN99gb2+Pu7s7CxcuxNXVlY4dO5KWlsbx48f59NNP8fT05NlnnzWvNzeZTBw+fJiHH36YvXv3EhoaSkxMDO7u7iQlJbFz506mTZtGUVERzz77bI1UbKPRSHV1NevXr2fBggUUFRXRrVs3qqurOXHiBKdOnWLixIn873//IyYmBm9vb1q3bo29vT1JSUmo1Wr8/f3NAXB4ePgNXwdfUVHBli1b2Lt3LwCTJk2SKuVCXIcqAyzfAv/9WZk5fmUcjOjT0KOqKbQJ/PNemBwPjhdlBneKBBdHmL0USsph4SZ45YGGG6e4vLi4OJo0acKZM2fYsGED9913X63LgIxGI8ePHycxMZGQkBCio6P/1suFevTowZIlS+jbt695zbZOp2PGjBnk5uby8ccfk5mZyZEjR/Dx8Wng0QqhkID7FnY2XymYZqeGDmEQJJ8roh4UFBSwZs0ai8ft7e2Ji4urERzX5eTJk3zyySdkZGQwYcIE/vWvf5lPjNnZ2bz22mt89tlnLFu2jA4dOtCkSZMax2dlZXH+/HmGDh3K1KlTCQ8Pp7S0lOeee4758+fzv//9DxcXFwYPHsy0adMICwsjLy+P559/ngULFvDrr78yfPhw8zqvqqoq5s2bx65du+jfvz8zZ84kKioKlUpFdXU177zzDv/+979ZuXIl/fr1o0OHDjXGU1payrZt24iJiWH27Nn069cPe3t71q9fz9ixY8nIyOD777+nQ4cOtG7dmu+++47S0lKcnZ1xc3Nj5syZjB079nr/SSwUFxeTlJSEyWSivLycw4cP89VXX5Gfn098fDxPP/30DXstIW4X1dWw5wh8sAKy8uD+fvDkZbJ3S8uU9d25RUqg7mCvtPNs4gXai1bM5ORDxjnwdIUAb6jtI7S4DNKyQWMLQb6gvUw81bQxPHdvLRtUEB8L89coAXfq6at+66IBaDQaxo8fz+uvv86RI0dITk4mOjraYr+SkhJ27dpFQUEBw4YNq3G+LC0tJSMjg7y8PCoqKlCpVDg7OxMSEoKnp+dVj6WwsJD09HRsbW0JCwuzKE6m1+s5efIkpaWlhIeH17oEy2g0kpmZSVZWFmVlZdjY2ODq6kpgYCCenp6XXep1sejo6Fp/DwC9e/fm448/pry8nMLCwqt+f0JYmwTctyoTLFwHRzKhRROIa6MUVBPC2pKTk7nzzjstHtfpdKSmpuLkdPk/RIPBwIEDB9i6dStRUVE88MADNe5C+/r6MmrUKDZu3Mgvv/xCRkaGRcCtVqvp168fr776KmFhYeaLiIkTJ/Ldd99RWFhI//79mT59unndm06nY9y4caxYsYLjx4+TnZ1tDrizsrL49ttvady4MePGjatxMler1dx///0sW7aMlJQUfv/9d4uAW6VS0apVK6ZPn06PHj3MFw79+/dn+PDhzJ8/n8OHD3P+/Pl6WTe9b98+Jk6caC7MVlhYiEajIS4ujqeffhpvb2+rj0GIvxUTZJ6Fed/DrqMQHwMvjlJmjGtzOE2ZCV+/B46dVtZSuztDZFMY2hlG9ACdm5KyvuMATF8IXSPghX9AoF/N5zIaYechePUriAyCl8dAoO/1vQ0nLdj8kdxylfGNaECjR49m7ty5nD59mu3bt9caaObl5bF582acnZ2JiYnBy8sLgMTERJYvX85vv/3G8ePHzUU6fXx86NWrF+PGjaNTp05XNY7ff/+duXPn4uzszOeff26xJCkzM5PXX3+dQ4cO8dVXX1m0nSwuLmbdunV8//337N69m9zcXHN2V/fu3Rk9ejTt27fHzs7uOn9TitOnlbtITk5O13RDQQhrk4D7FrVxN3y0ClwdYUR36Nq6oUckbheNGzdmzJgxFo87OTld1cmyoqKCffv2UVpaSvPmzdFqtRZrrWxsbPDz8+P48ePk5eVhNBpr3P3WaDR0796d5s2bm1OjVSoVnp6eBAYGUl5eTu/evWnatKnF9saNG3P27FnKyv6shLR9+3YKCwsJDQ0lICDAYjwXxrpr1y7OnDmDwWCocYdfrVbTsmVLunfvbnGXPiYmhvnz51NeXl5vAbenpyddunTBaDRSUlJCVlYWJ0+eJDk5mTlz5pCXl8fw4VIxSYirVVoOHyyHVQnQpRU8PwoC/IBaVmYkn4Q3FsH326F5Y7inu7J2+mgmbD6gBOyGKpgwRJnp9vGE1DNK4dPe7SwD7uIy2LAHtiVBVDNlpvx6pWZBRZXyfVSz638eUT9atGhBp06d2LZtG7t27aKwsBB3d3fzdqPRyIkTJ0hMTKRFixa0bt3afB6ePn06a9euJTo6ml69euHm5kZhYSGbNm3io48+4uDBg3zzzTdXlXadk5NDUlISWq2Wqqoqi+1FRUUcOXKExMRE8vLyamzT6/UsWbKEt956izNnzjB06FCCg4OpqKggISGBzz77jKSkJD755JMa5/RrdfLkSb788ktsbW1p0aKFuU6KEDcDCbhvQUnH4amPoLAE7ugMk4aCq8xui3rSpEkTpk6davG4ra3tVa0bq6ysJCMjA1AKiJ06dcoiDb28vJzU1FQMBgPnz5+3CLhtbGywtbW1CG7VajVOTk6o1Wrs7OwsTty2trY4ODhQVVVVoyBbSkoKAKmpqTz//PMW7+PCRY3RaKS4uJiKigqLtil2dna1ptNfKF5zYa13fWjZsiVvvPEGJpMJvV5PUVERSUlJzJ07l9WrV3Po0CH8/PyIiYmpl/EIcav770/w2c/QzBeeuQfaNK99hrisHL7eqLTk6tAc3noYWgQoQXJuESzZBO9+B/OWw5AYCPKHYH8liN+0H/YdgwEdlX7ZF5w7DxsSlRnyTq1Ad731sIywYS8UlSotwoZ3uc7nEfXGxsaGUaNG8euvv5KcnExKSkqNz+2qqio2btxIWVkZ0dHRNYLMsLAwBg8eTMeOHfH19UWr1Zornz/00EMkJCSYlz1Z086dO5k/fz6ZmZnMnDmTESNGoNPpMBgMJCcn89prr7Fhwwa++eYbXnzxxau6jtDr9Zw+fZri4mIKCgo4dOgQy5YtIzExkfbt2/PEE09cV1s0IaxFAu5bTFoWPPYeHDoFbUPhrYngL2u3RT2ytbX9SxVQjUajeXb5QsB8oYL3BVqtlsjISDw9PYmIiLiqdeEXXOnuuEqlwmQy1XjNkpIS87YL2y89JiQkhKioKLp164ajYx15pLW4+D1e+rzWolarady4cY3HwsPDcXZ2ZtKkSZw4cYL33nuPRYsW1ct4hLiVnc6FV76E8kqIi4a+7aGuZJ7Dp+CXRKWg2j//ATHhfwbmAVoY2we2HYAff4eNe2GCvxJID+8C6/bC78lwKgfC/+gAZTTCiQw4cAI6tYDIZrWv8b4a25NgY6Iyw31vT2jW5MrHiIbXu3dvvL29SUlJYf/+/XTq1Ml8nqusrGTVqlV4enrSoUOHGhlUL730Eo6OjjVabLq7uzNs2DBmzZrFgQMHOHDggFXHrtfr2bx5MwcOHKBfv36MGTMGX98/10PExMRw5513kpiYyKJFi3j66aevKuA+dOgQkyZN4ty5cxgMBkpLSzl//jzjx4/nxRdfJCQkxJpvS4hrJgH3LeTMOZjyAWw/DL4esPwVCGxMrSltQtysbGxszAVV7rjjDqZNm1YjRe5iKpUKW1tbq1fUvrDuPDIykgULFuDv71/neNRq9VUXd7mZaDQaBg4ciKenJ2fPniUhIcEiNV4IYcnPEyIC4X8blKD192To0ab2fY+fUdZshzaG5kGWs+C+jcDXE0wowTmAvQbatVRmz39PgZOnITwIUEGlAVb/rgTw7Zr/8fh1KCqG//2s3Kz3cYf3H5M13LcKLy8v+vTpw+LFi9m3bx95eXnm2dtDhw5x6NAh2rdvXyMQB+ps/ajRaAgICGD//v1/qQXl1cjJySE5ORm9Xk9cXJzFuV6tVhMcHIxOpyMlJaXW7LHaaDQaPDw8KCgooLi42JwJt3DhQvbs2cPbb79N3759pRuHuGnIldYtwGSC7HPw0nxYvxeCvGD9mxBYe0wgxE1No9EQFKRcNebl5aHX62vcgW8IrVq1ApS12gUFBQQHB1v9NS++EKivme8LNwwuuBVvHAhR31QqmPswHEyDfcfhoxVKV5CgS9ZaY4K885B7XpmZfmweONby0XbwpHKfPCP3z8eCfKB3NHz+szID3i0K3JyhrAJ+SIDGOujQEhyuo2OgXq8E28u2KuP59EnwsH4pCXGDuLi4MGDAAJYuXcquXbs4efKkOeBesmQJNjY2tGjRgqioKItji4uLycnJYe/evaSnp5OTk4NerycpKQlQMs6sqbCw0FwTZfHixfz6668WQXBBQQFZWVkYjUaysrKuKhU8MjKSn3/+GVDOnwUFBSxdupTZs2dz8OBBHnvsMd5++23i4+Ml6BY3BQm4b3ImE2TnwpuLYdk2pQDLZ09D8HXe5RaioTk4ONC2bVscHR1JSEggMTGRxo0bW8y0VldXYzAYsLOzs3pg2LVrV1xdXTl16hQbNmyota2JyWSisrIStVp9Q2aF7e3t0Wq1GAwGzp0795efD5QbBmfOnMHLyws3N7ca2wwGA1u2bCE3V7nK79SpkwTcQlwldx3MnggPzIWVCcpM81P3gOtFk3EmI1RXgdEEFZWQkaO08bqUsxaig6FL+J+PebtD10j4ZotyY33iUCXg3n1IaS3WMwpir6MGlL4Svv8V5i5Tfp42Gvp0VG4iiFuDnZ0drVu3pkWLFhw+fJiUlBTatm1LVVUVy5cvR6fTERcXZ5GKfejQId5++21++uknDAYDrq6uaDQaVCoVOTk59TJ2g8FAZWUloMx2V1ZW1hoABwUF4eTkhJ/fpXexrkylUqHT6Zg0aRIdO3ZkyJAhpKam8t133xEbGytdOcRNQQLum1xJGSz4Cf67TjlBDu4EheVKxdJLebtBWODl+3MK8VedP3+ezZs317pNpVLRuXPny67BUqvVREVF0bt3b9asWcOHH35IdXU1YWFhuLq6UllZSUFBAcePHwegT58+Vi9+4u/vz+jRo5k/fz5ff/01Op3OvB7OZDJRVFREWloa+fn5dO3alebNm//l17xQ2fzQoUNs3ryZbt26YWdnh0ajITQ09Lpm/ZOSkpg+fTrR0dF07doVPz8/HBwcqKioIDU1lQ8//JBz587RqFEjJk6c+JffgxC3C7UNdIqAx4crN8A/Wa0UQ7srDuz+uJJS2YCtnZKq3dwfPnpC6bldGxsb8LloltlGDZEhSuXwXSmQkgbNGsP/1ivn9DYhEHqNWW3V1bA6QWk5VlIOjwyB8QPBybJFsrjJ+fv7061bNw4fPsy2bdsYMGAAiYmJpKenExkZSVxcXI39z549ywMPPEBiYiKxsbHcfffdhIeH4+bmhlqt5oUXXuDXX3+9pjGoVKprnhG/uJjq5MmTueuuu+rsZuLq6vqXu3hERETQt29fFi1aREZGBmfOnJGAW9wUJOC+yeUWwY87lZOlVgNLNsN322rfN7YlzHoYAqSImrCCC3fGjx8/zqRJk2rdx8bGhjVr1ph7X9clKCiIKVOmUFBQwObNmzl69CihoaF4eXlRXl5OdnY2qampxMXFERMTY/WA29bWlieeeILs7GzWrVvHtGnTaNGiBX5+fhiNRnJzczl69Cj+/v40b978hgTcAA899BDPPvssmzZt4uzZs2g0Gtq2bcvUqVOvqlXLpdzc3NDr9cyZM4cvvviCkJAQXFxcKC0tJTU1lZycHEJDQ3nssccsLtCEEJfn4gSjeik9thdvhllLoHkAtGvxxw4qZcbb3Uk5d3u4QpNr6Jfdogm0bw47U2D5DogKhbV7oJEb9GkHqmsslrb2d/jXf+FsIYzvB48OB29JJb8leXp6EhMTwzfffMPmzZs5d+4cixcvxtbWlg4dOlgsg9q8eTN79uxBp9Mxffp0evXqVWN7XXVT6nKhC0dxcXGt3TbKyspqbRfm6upqPn+Xlpbi7+9vrpliLRee/9JuJEI0JAm4b3IujjCog1Ik7UpaNFGKrwhhDfHx8VRUVFBRUVHnPmq1ukYFb39/f3r27EllZWWNFG07Ozt69uyJu7s7P/30EwkJCWRlZXHq1ClcXV3x9/enb9++9OvXr0bgaW9vb07/rq0KqaOjI127dsXb29u8Tvxirq6u9OjRg6ZNm9YojKZSqQgLC2PWrFn06NGDbdu2cfLkSfbt24ejoyM+Pj6MGjWKnj17Eh4eXuM5Y2NjKSwspEOHDrX+ToKCghgwYABt27a1SPMePXo0ZWVlrFu3jpycHGxtbQkPD7+mKugXCwkJ4bXXXmPr1q3s3r2btLQ00tPTUavVtG7dmnbt2tGrVy969ep1TZXfhRCKAB94NB5SMiHhCPzrC1gyDVxclO3BvhDiB4knYOt+CG1y9VXFXZ0hphUs3w6rdyrPU1ACrQKhW+S1jfPn3+H5/4P0HKUy+tMjIFBuxt+ybG1tiYyMpFWrVuzevZv169ezbt06NBoNw4YNs1gelJ2djclkwt7enoiIiBrbCgsLOXPmzDW9vru7O87Ozpw+fZrExMQaqd85OTn88MMPpKenWxzn5eVFWFgYGo2Gn376iUceeeQvB9wpKSk0a9as1ky6vLw8tm/fDkDjxo2v68a1ENYgAfdNTucCk++EkrpjHDMnLbi7WH9M4vY0aNAgOnXqdNmUMpVKVWM2OiIigldffRWwvKOu1Wrp1KkTrVq1Ijc3l9LSUoxGI3Z2djg5OeHh4YGzs3ONCwlnZ2cee+wxysvL8fT0tHh9nU7Hk08+SUVFBV5elrmcPj4+PPvss1RWVlqkmanValq0aEFAQAB33303xcXFGAwG1Go1Dg4OeHh4mNPxLjZ27Fji4+MtgukLIiMj+eijj3BwcLAYs7u7O5MnT+bOO++koqICW1tbfH19r6pKa23s7Ozo0qULbdq0IS8vj5KSEqqqqlCpVDg6OuLp6Ymrq6us3RbiOqlU0LYlTL4D0s8prbxe+gw+fAJQQ+tmSnB84CTMXKwE2+P7gc0fsYFeDwdTleMejQePSyYau0YoFc5/PQjvLlfWgPdpCx61f7zUatdheO5TSMmAmJZwZ2coLYXDqTX3U6uVINzh+u7viXrWokULoqOj2blzJ++88w7Z2dkEBgZazF4DBAcHo1KpKC0tZc2aNYwbNw61Ws3JkyfNhcWuRWRkJM2aNePIkSNMnz6dJk2aEB4ebm4xuXTpUoqKiiyOc3BwoHv37ixfvpwDBw7w1FNP8eabbxIaGmpOUT99+jQbN27E0dGR4cOH15lyfsHkyZMJCAhgxIgRxMbGotPpqKqqIjExkVmzZpGSkoKXlxfdu3ev0YJMiIYkAfdNzsYGdG7KlxANydHR8ZpnXh0cHAgICKhzu0qlwtXV9ar7etvY2Fz2jrVarb7sCdbOzu6KRVkcHR0JDAy8qvGAkupXW/B/gVarvWzVc0dHxxveM/R6/q2EEFfHzhZG9II9x+DjVbBgHbQNhYnx4OwEk+LhUJrS8/rpj2HGQgj0Bltbpad3XhGU6ZVe2JcG3IF+0D5MaQ92thBcHeGe7tc2vu+3wbEspXjbvuNw39u1dw91sIcn74SnRl73r0LUI1dXVzp06MCKFStIT0/HZDIxfPjwWm/29u7dm5iYGBISEnjhhRf46quvcHJy4siRI5w+fZq2bdvy22+/XfVrN27cmCFDhrBr1y52795Nv379cHNzo7i4mNLSUoYNG8aBAwfYv39/jeNUKhU9e/bkwQcf5I033mDlypVs27YNLy8vGjduTH5+PmfPnqWoqIgRI0YQHx9/xYC7oKCArVu3smrVKhwcHHBxcaG8vJyysjIKCgrQaDSMHDmSMWPGSNtLcdOQaQ4hhBBCiEs4OYC9nbIm+1JaDcx6ALq0Unpkf/IjVCvFmAkLUtLMXx6pBOeZubDjMGw5AKdylH7b8x4F31ruHdrYwPDOSq9sUGbMI6+xZISPO2jslNeuNipp6fm1fJ0vBVtZWXLLUKlUdO3alVatWmFra4uTkxMPPvhgrfs6OTnxww8/MGbMGIqKitiyZQtr165Fq9WycOFCJk+ebM4mu5hWq0Wj0VgE8TY2Njz66KO89dZbeHl5kZeXx4kTJ7Czs2PGjBnMnj2bwMBANBqNRYcPe3t7nnrqKb766itiYmLIy8vjyJEjbNq0icTERKqqqrjjjjt46qmnrqpY6IoVK5g8eTIuLi7k5OSQmppKVlYWBQUFtG7dms8++4x58+bV2YdciIYgt36EEEIIIS4xdxLMvB+0dcQA9k6w6T9QUQpaLXDRxJyHO7z2MLw2AY5nKcGtkxb8GoGrC7VPOf/BW6cE+gCxmjs1AAAgAElEQVQPDbz2cT81Umat/65atWrFzz//TGlpKQ4ODmi1dTdmb9SoEV9++SXz5s0jIyMDrVZLYGCgOSAePHiwRcA9ZcoU7rvvPougGZSA/4EHHmDkyJEcPXoUUOqGXMhQ+/bbb6mqqqp1jbZKpWLgwIEMHDiQs2fPkpmZSXV1NV5eXvj5+V32fVwqMDCQd999l7feeovs7GxycnJQqVQ0adJEUsjFTUsCbiGEEEKIS9mA9korM2xAe7naKbYQYlm/sW4mWPWbkk6uc4Hh3a7hWHFb0Gg0l229ebELPapra7dVWyq6SqWqsx7JBU5OTrRt29bicXt7+6uaofbx8bkhxczs7e0JCgqqtUCqEDcbSSkXQgghhLgJ5ObDlv1QVAp3doErxD5CCCFuARJwCyGEEELcBLYnw6EMZS33A/0bejRCCCFuBEkpF0IIIYS4CdioICYMRnRV2o8JIYS49UnALYQQQghxE+jVDjq0BAcNOFx9HSkhhBA3MQm4hRBCCCFuAs4OypcQQoi/D1nDLYQQQgghhBBCWIEE3EIIIYQQQgghhBVIwC2EEEIIIYQQQliBBNxCiP9n777jq6zv/o+/rjOTnOwFIexhCBhWAJllKUWovQEHtwpFbfVnB7Ta26Kt1mrtuqt26G1bbaut1r0nKmjRouwNYhiRDSF7n/3748iBw0kQSa6cQN7PxyMP4Vrnc+LhnPO+vktEREREREygwC0iIiIiIiJiAgVuERERERERERMocIuIiIiIiIiYQIFbRERERERExAQK3CIiIiIiIiImUOAWERERERERMYECt4iIiIiIiIgJFLhFRERERERETKDALSIiIiIiImICBW4REREREREREyhwi4iIiIiIiJhAgVtERERERETEBArcIiIiIiIiIiZQ4BYRERERERExgQK3iIiIiIiIiAkUuEVERERERERMoMAtIiIiIiIiYgIFbhERERERERETKHCLiIiIiIiImECBW0RERERERMQECtwiIiIiIiIiJlDgFhERERERETGBAreIiIiIiIiICRS4RUREREREREygwC0iIiIiIiJiAgVuERERERERERMocIuIiIiIiIiYQIFbRERERERExAQK3CIiIiIiIiImUOAWERERERERMYECt4iIiIiIiIgJbLEuoCOpr6+n0d3IH16AF5bFuhrpqJZvAY/Hw2233YbL5Yp1OSJtpry8HI/HQ319faxLERERkQ5CgbsN+Xw+fD4/yzeD0x7raqSjqqwDv9/P22+/jcWiTi7ScYTeg314vd5YlyIiIiIdhAJ3G0pKSiLRlcDff1DDpKGxrkY6qkUPwcPvxPHxxx+Tm5sb63JE2syWLVuYNm0aKSkpsS5FREREOggF7jZkGAZg4LCrhVtix2oNvRadTidOpzPW5Yi0GYfDEesSJAYaGxsBeGdFjAuRDquiBkqqoH7/fhYvXkxiYmKsSxJpM7t378btdhMIBGJdSswocIuIiMg5q7KyEoBv/S7GhUiH5Q9AeQ1YDqyiqKhIw7mkQ6mqqsLpdOLz+WJdSswocIuIiMg569gQgvu/HeNCpMOqqoX/ewUSuxRy7bXXasJS6VCeeOIJtmzZgs3WcWNnx33mIiIics6Lj48H4LKJMS5EOqwj5fDiB5DeowezZs0iNTU11iWJtJnVq1ezc+fODt2zo+M+cxERERERERETKXCLiIiIiIiImECBW0RERERERMQECtwiIiIiIiIiJlDgFhERERERETGBAreIiIiIiIiICbQsmIiY5sCBA6xcuZJAIMD06dNJSEiIdUkiIiIiIm1GgftsEQit47h9LxyuhEAQuqRDny7QtVOsi5OOoLKykqKiInw+X7PHOJ1OCgsLw3/fvHkzd999N/X19YwdO1aBO0Zqa2spKiqivLwcl8tFYWEhDocj1mWJiIiInPMUuM8CJeXw9FJ4ew3sPQo19RAEkhOgRzZcfSHMHAvx8bGuVM5l//jHP3jyySdxu93NHmOz2Vi2bBkulwsAt9tNbW0tVVVV+P3+tipVTuD1ennttdd44IEHqKysxOl08thjjzF48OBYlyYiIiJyzlPgbufqG+GZpfCzx8EXgEE9YeR5cLQa3lsPn+yFnYfAaYfZXwGMWFcs56o1a9awbt067HY7vXv3bvIYu92Ozaa3ldPh8/mYM2cOFouF//mf/+GCCy4w5XF27NjBo48+yqpVqwgEAgSDQSorK015LBEROXsdOHCANWvWkJGRwbhx42Jdjsg5Q9+M2zmvD0qrYPJguP1qyOsJVmuoS/nGT+G/7oSi/fDqchg1ALpkxbpiOVcda6EePHgwS5cubfIYwzBwOp1tWdZZy+Px8PLLL5OWlsasWbNMCdwNDQ0sXryY999/n9GjR7N371727t3b6o8jIu1UEBpqoaIOUhMhwYVuzJ9FgsEghnH6/8O+7PEne/bZZ/nVr35FUlISu3btOuPrtEct/d2ItIRmKW/nUlzws2/Ac3fCkP4QHwcOO8Q54Py+cN1XIRiEfUehvCbW1UpHYLVaSUhIaPIn/gzHNfh8PhobG2lsbMTr9RIMBps9NhAI4Pf7w8cEg0HcbjeNjY1Nji8PBAKn3N8Uv98fPsfj8XxhPT6fL6Ier9dLY2Mjbre7yXOPPYdjLc5+vz/8c6rH+jKCwSA7duzgwQcf5Pzzz2fWrFlkZGS0yrVFOoIf/xVSvgYzfxK9LxiEzUVQcB3EfRXufart62tOMAhlZfDzxyD/WnDNhNyrIHkm5M2Hv78GdQ2xrlK+yMUXX4zdbmf27NlfOCQrGAzy6KOP0rlzZ8aMGcPBgwfP6DF9Pl/4s+9c4PP5+MUvfkF2djYOh4OhQ4fqprPEhFq42zsDjGbmNrJaITst9GevD3waIitnmZqaGvbs2cP69evZtWsXfr+f7t27M2zYMPr06UNqamrE8R6Ph5UrV1JZWcmIESOw2Wxs3bqVlStXUl9fT79+/bjgggvo0aMHNpuN0tJStm7dykcffYTb7SYvL48xY8bQrVs3rFZrVD1ut5u9e/eyefNmPv30U+rq6sjMzGTEiBH069ePrKysqDvkGzZsoKioiBEjRtCpUyd27tzJqlWr2LdvH6mpqYwZM4aCggISExMBKC8vZ926dRw9ejT8nNauXRse996zZ08GDhzY4p4CDQ0NPPTQQ5SWlnLNNddwwQUX8MQTT7TomiIdSXkVNHrgYHn0vj0H4Qd/hm17oaAHXPaVtq+vOYdK4KJbofgQ5GbCsL5gMUI35fccgW/+Djbuht9+GzR3Yvs1bNgwFi9ezMqVK9m0aRNDhw5t9tijR4+yYsUKSkpKmDlzpiYoJXQTYtmyZTzxxBNUV1fj8/k4dOgQ1dXVsS5NOiAF7rNYYyOs2wGGAT06QWZKrCsSOX0lJSU89dRT/OUvf2Hv3r2kp6cDoUCamZnJ9ddfz3XXXUdOTk74nKqqKu666y4+++wzvv3tb3P48GH++c9/0tjYSF1dHRaLhfHjx3PnnXeSkZHBI488wuOPP47f76e2tha73c60adO48847GTx4cER4bmho4NVXX+XBBx9k/fr1JCUl4XA4KC8vx2KxMHfuXBYsWED//v0jnse9997LG2+8wY033kiXLl14+OGH2bt3b7jVPisri9tvv5358+eTkpLC5s2bWbBgAUVFRUBoBvE//vGPPPDAAwBceeWV3HvvvXTu3LlFv98PPviAp556ihEjRnDZZZedMy0WIrF2uBR+/TSs+AT6dYE//wB65sa6quP2l0JGEkwfAf81Fgp6gcMGa4vgl0/BkvXw0OvwjYugcECsq5XmXHbZZfz2t7+lurqat99++5SBe8+ePaxZs4b4+HgmT54cvsHbkZWUlPDEE09w4MABJkyYwLvvvhvrkqQDU+A+S1XXwDPvweI1kJMOU4ZB5/RYVyVyempqanj66af59a9/jcvl4nvf+x6DBg3CMAw2b97Mc889xx/+8AcyMjK45ppriIuLC58bDAYpLy/nr3/9K16vl+nTpzN48GAOHz7M008/zQcffMBdd91FfHw827ZtY/bs2RQUFLB3716ee+453nzzTXr16sXtt98eDvmBQIB///vf3H777dTU1PDf//3f4WXM9u3bx5NPPsljjz2G1Wrl7rvvjmh5P9al/fXXX8ftdtOvXz+uuuoqrFYry5cv54033uDee++lW7duzJo1iz59+vDd736XgwcP8qtf/Yr4+HimTZtGQUEBEGrVSEpKatHv9+jRo9x55504nU6uuuoq8vPzWb9+fYuuKSJQVQv/fAdeWh66yX3PdTCqINZVRTqvG9x7I4zsT8TAwXFD4IZqWLsDSiph+VYF7vasoKCAYcOGsXr1aj788ENuvPHGqF5fEOo2vX37dj799FPOP/988vPzO/zkpV6vl7fffpslS5YwatQoZs+e3ezcMyJtoWP/izyLfLoX/r0BquqhvBr2HIKPtkHXTJg/FaaPhg7+/iptZNeuXXznO9+J2p6cnMzdd999Wus779y5k8ceewyPx8Ott97KddddFw6ZX/va10hPT+euu+7ihRdeYPLkyZx33nkR51dUVOB0OlmwYAHXXnstnTt3xu12k52dzY9+9COWLVtGbm4u3//+95k3bx5ZWVnU1taSnp7OHXfcwYoVK9i9e3c4cLvdbu6//34OHjzI/Pnzuf3228nJycEwDAKBAPn5+cybN48lS5Ywffp0pk2bFlGP2+1m3759zJkzh+9///vk5eVht9v59NNP2b17Nzt37mTx4sXMmDGDrl278r3vfY+6urpw4J49ezZz58490/8lUf70pz+xbt06Zs6cyaxZszRRjEgr8HhhyRp45E3w+2HR5XDJ6OaPP1IK72+A7fuh3g3piTC4D4weCKkn3FPbvBP+sxX6d4WxBU138z5YCu+vg8R4mDAk8vyTpSbDyGaCdM9OoVVNABqaX+FR2gGbzca1117LypUr2b17Nxs2bGDixIlRx1VVVfHxxx9TV1fH2LFj6dq1a3hfSUkJy5cvp6ioKNxbq0uXLlx00UVRvbVOpbi4mA8//JD4+HguueSSiJvgx2pYunQpJSUlXH755U3OF+L1elm5ciUrVqygtLQUi8VC9+7dGT9+PHl5ea16k2D37t08++yz+P1+brjhBux2e6tdW+RMKKKdJdZ8Cr95GipqQ2PKGj2hidMK+8GAbpDVsgYxkdN25MgRHn744ajtycnJ3HHHHV8YuD0eDxs2bGDLli1ceOGFTJs2LaJFNykpiQkTJtC/f3/WrFnDkSNHogK33W5nzpw53HDDDWRmZgIQFxfH1KlT+cMf/sDhw4eZO3cu1157LWlpoYkOXC4XkydP5qGHHuLAgQOUlx8fmLl9+3Y+/PBD+vTpw6WXXkqXLl3C+ywWC2PHjmXMmDG8//77bNmyJSpwWywWRo4cyU9+8hN69OgRDrh5eXnMnj2be+65h3379lFeXt7iruJfZNWqVfztb38jKSmJW265JXxTQUTOXDAIn+yGXz0VGtN98yy48kJocqqFICxeBb9/AbZ+BpW1oTlWnA7ITIaJQ+COq6FHl9B1t++BO/8Bo/tDZioU9Im8nM8H/9kIix6B8efDoL6nDtynsutQ6PsDQF63M7uGtJ1LL72URYsWcfDgQZYvX86ECROibqCWlZXx73//OzzfyLFW8BdeeIHf//737Nu3j8rKStxuN4ZhkJCQwKOPPspNN93EvHnzTquOdevWce+994a7rJ8cuPfv38+f//xnNm7cyLBhw6ICd0lJCffddx+vv/46hw4doqGhAcMwSEpKomfPnixcuJDZs2ef8cSrJ6qvr+ett95i2bJlzJ07l/Hjx7N27doWX1ekJRS4zxLjBsIv5kNlHRytgt2H4JUV8PZa2FgM358F35wOLs2TISbLz8/n/vvvj9rucrmiPoSb0tDQwMaNG/F6veGW5507d0YcU1lZSWJiIlVVVRw9ehS/3x8xydmxtcBP/lB3uVzk5ORQXl5Ov379wmEbQkuWJSYmkpWVxZ49e6ivrw/vW758OW63G5fLhd1uj6qnvr6etLQ0GhoaKCkpwe12R0xqZrFYyMnJiQjbx+Tl5QGhVvC6urov/P20hNvt5r777uPgwYMsWrSIwsJCUx9PpKOorIZb/wabiuGqSfD/vh5qSW7Kv9fDTx+FdTvhwqFw/cWhycuWb4O/vgVPLIGUePjZdZCUEArQAX9o/9od0YG7ohaWrIMDZdA3NxTaz8T+w/C3t0KTp52XC9NafyVCaWUZGRlMmzaNZ599lg0bNnDkyJGIm7Z+v5+tW7dSVFTEuHHjGDBgABZLaBzBz372M3bv3s2MGTO46KKL6NSpE4cOHeIvf/kLGzdu5NZbb2XMmDH06dOnuYcPq6+vp7S0lLi4uCZnTPd4PJSXl1NSUkJDQ+QU+LW1tfzmN7/hkUcewTAMFi1axMiRI6mpqeGZZ57h1VdfZdGiReTl5VFYWNjiHlnFxcX86U9/olevXlx22WVkZ2e36HoirUGB+yzRo0vo50QlR+D6P8CrK0J33ft1gYtHozU2xVRpaWl89atfPePzfT4fJSUlAPzzn//k8ccfP+XxtbW1BAKBiMBtGEb450QWiwWHw9HkvmP77XZ7eEmuY44tE7J69eomu+yd6NhSYSfPIt7cYx67Yx8IBCIe0wzPP/88H374Id26deP222/HYrFELFd24pJjWpNU5DQF4Y6/h+ZM+UoB/GgOdO3U9KFVNfDEu7CmCOZMgMduC7VsA4waBHnd4eY/wcNvwg3TIa83ZKXBxSPgifdgfRHMHBMZ5o9WwdL10DkNhp4HSa7TK7t4b6g1vqoWVu+Ap/8NRfuhbxd473/hNO6PSowZhsGcOXN45pln2L59O1u2bIkI3F6vlzfffJNgMMiQIUMiuon/4Ac/YNy4ceGbvsdMmTKF0aNHc/ToUV5++WV++MMfmvoc3nnnHV566SV8Ph9vv/0248ePD++bNGkSSUlJ/P3vf+cvf/kLDzzwwGnduG+O2+0OT8T6wx/+kPHjx+tzTtoFBe6zWHYn+Nl8+HR/6Oe99TDqfEg7w7vfIm0hGAyG18MeNGgQhYWFzY6vysjIYPz48aaPv/J6vQB06dKFKVOmNNutLTExkZkzZ7Z4UjMzVFVV8eKLL4a70z///PMR+4uLi6moqADg3Xff5cCBA/Tu3ZtRo0bFolyRs8bBMnh8aWgYV0Fv6JXT/LHrd8LqIkhMgFuuOD5e+pgJg2B4P3jqALyxMhS4kxPga6PgmQ9CM5/vOgSFn3+O+/2weQfsPhyadfz8nqdf9yU/gx37IRAEfyDUff2ioXDXPEhsf29h0ozhw4fTt29fdu3axcaNG5k4cWJ4vHNtbS2LFy+mS5cujBgxIiKsfvOb32zyen379qV///6sWLGCPXv2mFp7XV0dH3/8MZ999hnXXHMNgwYNitifmprKlClTeOedd3j11Ve57777WhS416xZw9/+9jdGjhzJnDlzTmtOGZG2oMB9lktLgfzuocC9rzQ0MUvaF58mEjNWqzU8xmzcuHHcfffdTU6w0paOdTnr3bs3d911F7169YppPWeiurqahoYGbDYbTz/9NE8//XTE/mAwGO4K+Jvf/AaLxcKFF17Ia6+9Fu6CKCLRumTCpWPh7n/BmythdD5cNvF4y/WJ9h2FPSWQkwaHq2HT7uhjfIHQuti7DoX+brNBfi8Y1BM2F4fGdA/uCzYruL3w8vJQcC8879Rh/2Tzp0LRPmjwhiZbPVIOqz6FybfCDRfDD+dAd3OnlJBWkJKSwsUXX8wDDzzA2rVrOXToEN26hQbg/+c//2H//v185StfYcSIEU2e7/P5qKqqoqGhAbfbTSAQIC4ujmAwGL4Ja5YjR46we/dugsEgWVlZFBUVRYXgmpoa7HY7+/bto7q6muTkM2s1qqys5LbbbiM+Pp4rrriC888/vzWegkirUOA+y3l9UPv5cJnE+NAHtEh7FhcXR79+/YBQq2tpaWnMA/eQIUOA0OQzu3btapPAbbVaMQyDYDAYbmFvifT0dC677DLy8/Ob3H/kyBHeffddSkpKmD17Nt27d6egoEBhW+Q0fPvrsHUPPPk+/Pm10FjqEfkQ8c8nGOq+XV0PgQD8+BFwNNE5Z28JBIG6E2YJ75YFkwbDul2wbCN8dWRoArXSCli6Abpnw4j+8GU6+9zy38f/7POGgvxT78Gf34A/vgK1jfDgQmiFearERC6Xi0mTJvHoo4+ydu1aiouLw4H7qaeeIi4ujkGDBtG7d++I8wKBAGvXrmX9+vVs27aNsrIyqqqq8Pl8bN68GSBimJEZamtrwxOUPvfccyxZsiSqi3ddXR2HDh3CYrFQW1t7Ro8TDAZ59NFHWb58OTNmzGDOnDnqSi7tigJ3O1dWDe+thWF9oXcuGCd8uLs9sGwDbNgVuvs9pA+knObYLpFYcTqdDBkyhM6dO7N69Wree+89unXrRkJC5Ix/breb+vp6EhMTTe9SXlhYSK9evdi7dy+vvfYagwYNippoxefzUVtbi9PpbJWZVB0OB8nJyXg8nlbp1udyubjuuuua3b9u3Tq2bdtGSUkJ3/nOd5gwYUKLH1Oko0hMgpsvg+LDsHI7/N/L8KssyD3hbSIYhODnXbeTXTDivFB38SgDQ0H9qyc0SKYmhpby6vQeLFkPN5WHAvfSNVBaDSPz4IK8Jq51mmx2OL8v/KgTFB2EFz6EN1bB9z6DoU3fo5N2wmq1kpeXx+DBg1m1ahWbNm1i5MiRVFdXs2TJEtLT05k8eXLUslr//Oc/efjhhykqKiInJ4e+ffuSkpKC1WqNmoPELH6/P9yzql+/fvTr16/Zm7ypqank5uae0eOUlJTw0EMPYbFYcLlcUUOqtmzZQjAYpKGhgWeffZZVq1ZxwQUXMHDgwDN6PJEvS4G7nSupgJ8/EZqVdEQeDOwJ2SlQXgurtofGgJXVwJQhoaVG4jRcRUy2f/9+fv3rXze5z2Kx8N3vfheXq/k7PxaLhUGDBjFr1iweeeQR7r//fvbs2cMFF1xAbm4udXV1FBcXs2rVKlJSUvje974XvptvloyMDBYuXMiiRYt45plnqK+vZ+LEifTu3Ru/38+BAwdYvXo1NTU1XHfddVxwQcun97VYLIwYMYL33nuP1157jdzcXOLj43G5XEyZMuWMu9WJSOuzGJDfG747E/b/FV7+CPK6ws3/DfGfZxfDAnZHqKdZZjIsnA09mumybRjgOuG+nWEJjQ8f0gfeXQerPoF+3eGxJZAUDyP7Q1YrrPCXkhRqSX/pP6HlwbbvV+A+G+Tm5jJu3Dg++ugjPvjgA2bPns3SpUupqKhg+PDhjBs3LuL4bdu2cccdd1BWVsY3vvEN5s+fT3Z2Nk6nE4vFwvXXX8+BAwdO+/GPTQp6bP6V0+VwOMJjsi+66CLmzZvX7Lhqp9MZdeP9dB0+fDi8osnbb7/N0qVLI/Yf60pfW1vLgw8+SFxcHLfddhsDBgxQS7i0CQXudi4tCYb1CU2msnJ7qNu40x7qSl5VH1rb86Kh8NNvQF4PNEO5mCYhIQHDME4ZuA3D4JJLLmm2W/MxWVlZLFy4kJqaGl544QX+7//+j8cffzy85Eh9fT11dXVcfvnlbdLl2Wq1cvXVV1NeXs4DDzzAv/71L1577TUSEhIIBoO43W6qq6sZOnRoVCtCSyxatIgVK1awadMmfvKTn2CxWJg6dSqjRo1S4BZpZ5x2mHEBfPIZ3PcC/O4lKOwH08YcPyYzBbJSQ0t42SyQnHj61+/TJTRO+/2N8MLy0E32lduhayZMLYzs4dYSDe5Ql3bDaLrLu7Q/ycnJFBYW0qlTJ5YtW8aRI0d48sknsdlsTJw4kczMzIjjP/jgAw4ePEinTp24+eabOe+88yL2f9mJyRwOB3a7nbKysiaHQFVWVkYtBwahVU1yckITD+zfv5+EhARTJh3t2bMnN998c7Nd0nft2sVLL71EfHw8M2fOpGvXrgwfPlxhW9qMAnc71ykN/nQTLJgZas3eVAyHK0It2f27wvSRMGFIaAyWhmKKmRYsWEC3bt1obGxs9hibzUaPHj3Cf+/fvz/z588nEAhEBEiLxUJeXh5//vOfmTdvHq+++irbt2+nrq6OrKws8vPzmTJlCiNHjow4z+VyceWVVzJ06NAmJ4hJTU3lqquuYvTo0VGzoUJocrR58+Zx8ODBiOVTADIzM/nxj3/M17/+dV5++WXWr19PRUUFycnJ9O7dm4kTJzJhwoSoLzaXX345GRkZTJo0qcnfyaBBg/jud7/LgAEDorqpT5o0iaVLl/L3v/+dPXv2kJqayty5c00Z0961a1euvPJKxo4dG/XlS0ROT1Ii3PA12LgbXlsB3/odbMiDzM//yZ6XC3m5sGwzPPM+/KQ72E/zm5bdDqMHQI9seGctdE4N3Vzv3SU0Xvx0bSyCvC4Q10TYr6uFF/8T6voe72hZN3VpO4ZhMGDAAAoKCliyZAn/+te/WL58OQ6Hg5kzZ0YFR4/HQzAYxGKxhCcpPebIkSMUFRV9qcfPysoiJSWFPXv2sGTJEubPnx/eV1xczEMPPcSnn34adV6nTp0YOHAg8fHxPPPMMyxYsMCUwJ2SksKtt97a7Jj0xYsX88orr+ByuViwYAEDBw6MWGpUxGwK3O2cYYTCdOGA0I9IrAwePJjBgwd/qXPy8vK44447mtxnGAYul4upU6cyderU07peQkIC3/rWt5rdn5KSwo033tjs/szMTBYsWNBsPXFxcQwfPpzhw4efVj0As2fPZvbs2c3u79evHw8++GCT+6xWKyNHjmTkyJGn/XhnKjs7m1tuucX0xxE51+V2Co3n3nEAPtkLs++Cd34DcfGhZbu+OhzW7YR7ngrNMv7DS8H+eU/Z+jpYsQWe+RD+8G3oFHkPjtEDoF8u7DgIjywOhfmZ77UAACAASURBVOJZY8D6Jb6t/fQf8NE2uGEaXD4eeuSEWrS374FfPh1aI9xqhXkXQtcvMeu5xFbfvn0ZMmQI77//Pn/84x/xer0MGjSoyaUdhwwZgt1up7KykoceeoiFCxdis9nYunUrt9xyCzt27PhSjz106FDy8/PZsmULt9xyC9nZ2QwfPpxt27Zxzz338PHHH2OxWMLjtY+xWq1MmTKF119/neXLl3PxxRfz8MMPM2jQIKxWK36/n927d/Piiy+Snp7OwoULz3gpr1Odd2weGMMwsNvtWi5M2pwCt4iIiMhJLJbQTW9rE73HvjIEvn0J/OzxULi95wn4+bfAYoPrpsOhMnjhP/Db50M/XTLAboWSqtAM5tmp4GlicYL0VBhXAP/ZClV1oYlQvz76y9V9Qf/Q8mL3vwS/fAYcttBzafSE/pyVAlOHwy+uObPfi8SG0+lk5MiRdOvWjeLiYgzD4Bvf+EaTw67Gjh3LvHnzeOmll/jVr37F448/TkJCAocPHyYjI4OZM2fy/PPPR517bKz2yduP9R7bsWMHmzZtYvr06cTFxREIBOjatSuLFi3irbfeCgfvEw0bNoybbroJj8fDli1bmDRpEsnJyXTq1InKykqqq6txuVx885vfNG3W9BN7AGhlDokFBW4RERGRk4zsH1q/Or9HEzsN+H8z4GgVbNkdaskO+sGwQXY6/PJbMGoAvL0GDpeDxxeaTG1I39CSYlMLo1u3j5k6DP76ZihwTxgEuV9yrewfzYGhfeGddfDZwdDyX4EAxDlDy49NHQ6zxoZqlbPLqFGjuPLKK9myZQtxcXFcccUVTR5ntVq5//77KSgo4P3336empgabzcakSZO4+uqr8Xq9eDyeqNbx/Px8ZsyYQVpaWtQ1L7nkEhITE3nsscfYv38/hmHQvXt3Lr30UsaNG4dhGHTu3JnOnSNfsIZhMGvWLHr27Mnzzz/Ppk2bqKurIxAI0KdPH7KzsyksLGTmzJmmtTx37dqVr3/966SlpTX53ETMprdbERERkZNcMw2untz82tf2OLjrWvC6Pz/mhCGhLhdceRFcORlKKkMTlTnsoeW/4uM45QSn9R7wB0KHfGval6/b5oCLR4d+Guqgoha8AUhJCE3iZtHQ1bNW165dueuuu3C73eGJzJqTnJzMwoUL+da3vkVZWRl2u53MzMzwOYWFhVEBd/r06UyePLnJ6xqGweTJkxk7diyHDx8GQkOVji2Teeutt+L3+5tdcmzo0KEMHTqUqqoqKioqCAQCJCUlkZqaavrSnwUFBTz55JNYLBZ1J5eYUOAWEREROZkB9i9artgIBe9mWSH7y8yB6Ic3VsDRylBL+NgvN21GlHhX6EfOHTab7bRXyzg2V0pTS3UeC8onH9/U9hM5nc6IyVG/bF0pKSmkpKR84XGt7cvOzC7SmjSQQURERKQd2HkwtBRYvQeumvR5a7iIiJzVFLhFRERE2oEPt8D2faEJ1uZfGOtqRESkNahLuYiIiEg70KsTXDsVhvWBbl1iXY2IiLQGBW4RERGRdmDisNCPiIicO9SlXERERERERMQECtwiIiIiIiIiJlDgFhERERERETGBAreIiIiIiIiICRS4RUREREREREygwC0iIiIiIiJiAgVuERERERERERMocIuIiIiIiIiYQIFbRERERERExAQK3CIiIiIiIiImUOAWERERERERMYECt4iIiIiIiIgJFLhFRERERERETKDALSIiIiIiImICBW4REREREREREyhwi4iIiIiIiJhAgVtERERERETEBArcIiIiIiIiIiZQ4BYRERERERExgQK3iIiIiIiIiAkUuEVERERERERMoMAtIiIiIiIiYgIFbhERERERERETKHCLiIiIiIiImECBW0RERERERMQECtwiIiIiIiIiJlDgFhERERERETGBAreIiIiIiIiICRS4RUREREREREygwC0iIiIiIiJiAgVuERERERERERMocIuIiIiIiIiYQIFbRERERERExAQK3CIiIiIiIiImUOAWERERERERMYECt4iIiIiIiIgJbLEuoCOpr6+nobGR//0XPP5WrKuRjmrlp+B2u1m4cCEJCQmxLkekzVRWVuJ2u6mrq4t1KSIiItJBKHC3IZ/Ph9/vZ/Me2Hk41tVIR1VaBYFAgLVr12K1WmNdjkib8Xg8BAIB/H5/rEsRERGRDkKBuw0lJibiSkjgT9+p4SsFsa5GOqof/w0eey+OV199lZycnFiXI9Jmtm3bxqWXXkpSUlKsS5FYCMa6AOmwgqGXXzAYDP+ISMehwN2GLBYLhmGQmAipqbGuRjqqeCcYhkFGRgZZWVmxLkekzaSnp2MYBoZhxLoUaUPHhhA89HKMC5EOq6Ye9pRAqVHEI488Qnx8fKxLEmkz69evp76+vkP3LlPgFhERkXNWbW0tAH98KcaFSIfl88PhcrBUbOfhhx/GYtGcxdJxlJaWYrPZCAQCsS4lZhS4RURE5JyVlpYGwN9uiXEh0mGV18Avn4Dk7qO56aabSExMjHVJIm3moYceYvXq1R163iAFbhERETlnORwOAMZq7hSJkSPlkJ4I6dnZjBo1ilSNK5QO5JVXXmHDhg0dumdHx33mIiIiIiIiIiZS4BYRERERERExgQK3iIiIiIiIiAkUuEVERERERERMoMAtIiIiIiIiYgIFbhERERERERETKHCLiIiIiIiImECBW0RERERERMQECtwiIiIiIiIiJlDgFhERERERETGBAreIiIiIiIiICRS4RUREREREREygwC0iIiIiIiJiAgVuERERERERERMocIuIiIiIiIiYQIFbRERERERExAQK3CIiIiIiIiImUOAWERERERERMYECt4iIiIiIiIgJFLhFRERERERETKDALSIiIiIiImICBW4RERERERERE9hiXYB8sZo62LwT4hwwoDfEOUPbvT7Y8Gnov4P6QqLr+DnrPoHyahiRDynJx7f7GmHxGnDY4MJhYHEc3+d3w5L14PPBxSMj94ns2rWLzZs3c/7559O3b9/w9gMHDrBp0yZ69OhB//79sVhC9/HKyspYv3496enpDBw4EKfTGT6nurqaNWvWEAgEGD58OKmpqQAEg0EOHTrExx9/TO/evSkoKMBm09uUiIiIiJyd1MLdzgX88MZymHQLTP4RrNh2fN/WHTDmBzDjDnhi6fHte/bByAUw8y74+ZOR13vgFbj0bpjzy8hzAP66GObcA5f+HB5507znJGef2tparrvuOi677DImTZpEMBgMb7/nnnu45JJLmD59Oo2NjQA0NDTw2GOPMW3aNGbPns3mzZvD1/L7/bz33ntcfPHFfO1rX+Ptt98mEAiEz7vtttu44oorWLhwIRs2bGj7JysiIiIi0koUuNs5nx8q60L/rWsErwcIZR1KqyAQgHo31LmPn3OkEoJB8PigujbyeuW14A+ErldVF7mvsg68/tD+ypPOk46tpqaGxsZG/H4/VVVV+Hw+IBSQa2trCQQClJeXh4O41+ulsrKSQCBATU0NXq83fK1AIBC+htfrpa6uDr/fD4RauMvLywkEAtTX1+N2u6OLERERERE5S6ivZjvnsMPgPjC1EFJc0LUzYIT25feEaSMgzg5D+xw/J78nTBsO/iBMGRZ5vSlD4D+bITEexp4fuW/cQJhQAG4fTBxi6tOSs0xmZiZTpkzBbrczZMgQ7HY7AKmpqYwZM4Z9+/aRn58f7v6dkJDAyJEjmThxIr1796Zz587ha9lsNgYOHMjUqVOxWq0MGDAgfJ7dbmfGjBlUVFQwduxYevTo0fZPVkQE2HsEDldAmgv6dTu+vaQc9h6FpHjokws2a2h7dS3sOAjxDuiZAwmfj6IJBuFwGewrhawU6JYFx0bKlFbCrkOhz/c+OfD5Wyvl1bDrINhtMLDH8e3SsQSDQTZv3ozH46Fbt2506tQpvH3btm3U1taSm5tL165dgdAN7eLiYkpLS+nUqRM9e/aMuN7evXs5ePAgLpeLgoKC8PbGxkaKi4upqqqiZ8+eEZ/ZItJyCtztnQGjC+CVn4NhRH7o5naGV+8Gb+D4uG6ApCR4/RfQ4IGE+MjLTSyE0QPAYoA9LnLf2MHwUl6o28PJ+6Rjs9vt/PznP6empobk5OSI7TfccANz584lLi4uHMRtNhszZsxg8uTJ2Gy2iPHbhmFQWFjICy+8AEB8fDyGEbqL5HA4uP7665k7dy4OhwOHQxMJiEjbc7vht0/B8x/CgO6w9H7AAI8HnnwX7n8xFJCfvxsykkNzn7y3Bm76C+RmwB8WQGFe6FqNHnjwRfj7O/C1kfDTb0C3z/PMY2/CvS9AYV/43XfgvM/vMT77HtzzZCjsP3M7DOjTZJlyjquoqGDu3LlUVVWxcOFCbr75ZgzDoLy8nBtuuIGdO3dy5ZVX8vvf/x6A8vJyfvrTn7JkyRImTZrE008/Hb5WY2Mjv//973n88cfp0qULK1asID4+9CXxk08+4cc//jGrV6/mpptu4tZbb8VqtcbkOYucixS4zwYGOJxN77I6oKm3RMMGCc3833XGN70dwKmgLc2wWq3hyc1O3p6UlBS13WKx4HK5orZDKHQnJCQ0+ziJiYktK1ZEpAUa3LB9X6iFu6waCABWaHTD7kOw72hoWJbn89EyXh/sPgyfHYGqeiirOX4trx827IbD5bDzYGho17EG8xXb4UgFFB8O7T8WuDfuDm2vrIU9RxS4O6ry8nI2b96MYRjs3LmTYDCIYRiUlZWxdetWqqurI+Y6KS8vZ8eOHZSUlPDRRx9FXKuxsZFdu3ZRWlpKWVkZDQ0N4cBdUlLCnj17KCsrY/v27eHhYSLSOhS4RURERE7gSoDpF4S6i5/fg/CMNwnxMK4gFKz75YaGZ0Fo+NeI/jBzTKiFu9cJPXLj7HDpWAgGYPIQ6Jp5fN+VE6G2AQp6QV7X49u/dgHsK4G0RBjS2/SnK+1UTk4OV199NTU1NUyePDm8CkhOTg5XXHEFxcXFzJo1K+L4iy++mJSUFCZOnBhxLZfLxdSpU3G73XTr1i3iRnnfvn2ZPn063bt355JLLgk/joi0DgVuERERkRPYbXDtxTBrPCS7CM+dYrPB9NEw6vzQGG3X54HbaoURA+CPC0LhOyM58lpXTIHJIyAlAVJP6BA0YywU5kNCHGSd0IFoynAY2AfsVsjJMP3pSjvlcrn43//9X3w+HxkZx18ISUlJ3H333TQ0NERtX7BgAddccw1paWkR17Lb7cydO5cZM2YQHx8fHgIG0KNHD370ox9RX19PVlaWArdIK1PgFhERETlJalJkOD4mMSH0c7I4B3TrFL3dME5xjjM0wVqT2zVvlQBdunRpcntzE5tlZmaSmZnZ5L6UlBRSUlKitttsNrKzs8+8SBE5Jd3CEhERERERETGBAreIiIiIiIiICRS4RUREREREREygwC0iIiIiIiJiAgVuERERERERERMocIuIiIiIiIiYQIFbRERERERExAQK3CIiIiIiIiImUOAWERERERERMYECt4iIiIiIiIgJFLhFRERERERETKDALSIiIiIiImICBW4REREREREREyhwi4iIiIiIiJhAgVtERERERETEBArcIiIiIiIiIiZQ4BYRERERERExgQK3iIiIiIiIiAkUuEVERERERERMoMAtIiIiIiIiYgIFbhERERERERETKHCLiIiIiIiImECBW0RERERERMQEtlgXICJnv6NVHnYdbMDjC4a3Zafa6d/NFcOqpD2ra/Sz61ADlbW+iO1fKUiNUUUiIiIirU+BW0RabFNxLb97aS/lNd7wtguHpnPX3N4YhhHDyqS9OlLh4ZHFB1i7ozq8zTBg+X0jYliViIiISOtSl3IRabEmQ3UQgsHozSIAQaJfHxbdnBEREZFzjAK3iLSYxQi1Tp6oqUAlckwwGCR40gvEZlHgFhERkXOLAreItJjNanByVAoEgviVuKUZgSD4A5GvD7tVgVtERETOLQrcItJiVosR1a08FKhiVJC0e4FAMOr14bDrI0lERETOLfp2IyIt5rAZUV3K/YEgPiVuaUYgCD5/ZAu306GPJBERETm36NuNiLSYw2bh5OG3/kAQr09dyqVpfn8Q70k3ZBKc+kgSERGRc4u+3YhIizntRtQM0z6/Arc0z9fEDZkEhzVG1YiIiIiYQ4FbRFrM6bBiOendxOcP4vGpS7k0zecP4vZGvj5c8QrcIiIicm5R4BaRFktwWqJauL3+II1eBW5pmtcXiArcyQm2GFUjIiIiYg4FbhFpsQSnFetJg7i9viBujwK3NM3jC9LoVuAWERGRc5sCt4i0WLzDgt0WGbg9vgD1bgVuiRYIBmn0+PGcNGlaWqICt4iIiJxbFLhFpMUsFoOkBFvE0mBub4B6tz92RUm75fcHqW30EzxpTr30JAVuERERObcocItIq0hLtHFiG7fbG6CuUYFbonn9UF0X/drISnbEoBoRERER86g5QURaRWaSA8MwONZs2egJUKvALU3w+QNU1fuitmenKXCLiLSGN1eV8tqqoxHbrpvahRHnpcSoImnv1u+s4bkPj1BR5w1vG9QriW/P6BrDqs4NCtxtKBAIEAwGqayBoxWxrkY6qno3BINBSktLsdvtrXZdO/UYHO8j3OgJcLi0miMlBsYpzpOOp6LWz5HyupO2BsFTSUlJrWmPW1ZWRjAYJHhyX3YRkXPM0SoPG3dHvp9W1PgIgj6TpUmVdT627a2jpMoT3qbJTFuHfottqLGxkUa3m7+9AW99HOtqpKP6eDt4vV5++ctfkpCQ0GrXLTd64E+ZBkZoLWV/IMiSf3/Mxrc+JuhrbLXHkbOf35ZKSdKFQPbxbe5afnHXT0x93IqKCrxeLw0NDaY+johIrJ28VCeEJqxU4pbmBINBTrwdbQAWvVZahQJ3G+rcuTPjx48HoMymX73ERvcBjXTu68HtduP1er/4hNNkTaoBIlsOq+p8BCtqcFDfao8jZz+P1UqlFSwn3O9JcXqpOlRl6uMGg0HGjx9P167qHici5zarNTop+QMQJIj6nUlTjr0+wgyilnyVM6PU14bGjx9Pv379sNvtWK3WWJcjHZTb7cbn85GQkBAac91K6jwWFvz9KG7v8TfrfvlDmPeVcfTIar2u63L223HIwz0vVuI7YVWwoQO6ceOC+0x93EAggNvtJjs7+4sPlnOPRhJIO9BWw1octujPd18gSCAAhkX/GCSaPxCIWD3EMAxsFkPDsFqBAncbSktLIy0tLdZliJgiEAiSnlTFoXJ3eFuj30Fyeg69eiXFsDJpTwKBILurKvAFqiO253VLpVevLjGqSs5llZWVAHzn9zEuRDqs+kbYsgecVSu5+eabcTqdpj9mqfU8cI6P2Pavfz3Fm49txyDQzFnSkVXY86i2DwfiAAj4/axatYJvL/9ti667YsUKqqur8fmiJ0vtKBS4RaRVWCwG/XLiIwL30WoPFbWt121dzn6+QJDiQ9FjqHt1jotBNdIReDweLBYLz3+cGOtSpIMKBgLU1rkxavfz+uuvt2rvsuYk9ZpIp7GRgXvDpi1UFb1J0O9p5izpyFLOm0H64EFYnaHP42AwwJ7iXaxZ9WKLrltfX09iYmKHbilX4BaRVpPfPZEPtlaG/17b4OdQuRu3N4DTbolhZdJe+PxBPj0QOabfZjHokxMfo4rkXLd48eIO/UVPOqYPt1Rx22M7I7b95I6fcfm4h4hz6PNYoj3zQQn/WHKI6s+X7XQ6HVz/zfksfPX2Vrm+xdJxX3cK3CLSagb3jm5B2nWwgep6H1kpWmNZoMHtZ+veyKVqenaKwxWnjyMxh2EYbdKiKNKeJMZHzxXk8YWmTOvIwUea5/EF8QeO35y0GBDnsOr10gr0GxSRVtO/W0LUh/wn++oorfKiBiYB2FBcR2Vt5DiuAd0T1QNCRKQVJcVH38RscAciApXIiRrc/ojXh9UwiHdokufWoCYFEWk1cQ4rI/ol8/6mivC2/aWNvLmmlKID9XSkRiarxSA9yc75PVwkJRx/qw0CB0rd7DxYH+621ZG8s64s4u82i0FBr0R1cRQRaUXJCdFBqfGkQCVyonpPAL//hBZuCyQ49dncGhS4RaRVXTg0g2WbKzj2mR4Iwgv/KYltUTFgtRhkpzqYNCiNuZNzSE0Mvd1+sreOZz44wuqiaio1oRy5mU765MRja2LNWBEROTPJLhsGkavh1bn9+P2xqkjas2AQ6hv9+E5s4bYYJMSphbs16LaFiLSqQb0SOS/XFesyYs4fCHKo3M1LH5XwyoqjBINQUunhxeUlLNtUobANGAaM6p9CTrr5S+SIiHQk8Q4rcScN1ak9KVCJHOPxBWj0RK7DbbEYTc4FIF+eAreItKoUl43LxmdHfdB3VI2eAEs3lLPzYD3rd9Ww6tMqPD6tgQrQu3M8YwekRnS5FxGRljMMSE2yR2yrqffj1eePNKHBHcDtjXxt2KxGk3MByJenb8Qi0qpsVoNxA1O5cmInhW5C3fkOlbt5Y3UpG3bVUFajlm2ATqkOrpzQmSG9k7CoN7mISKvLSI4M3NX1Xnx+tXBLtNpGP42eyMBttRikuBS4W4N+iyLS6pITbFwzNZdxA9PYtreOBk/HGjS2ubiOVUVV4bvFdY1+lqwvJ95hiequdfXETh2uhTfVZWdonyRyM9WVXETELJnJkctxVtT61MNKmlTT4Iv6rmazGuH5Z6Rl9FsUEVPYrQb53V3kd+9447m376tj1+F6Dpa5w9vKm2jZzu+awI0zumqNYBERaXWdUiNbuGsb/dQ1+gkG6VCrhsgXq6n30+COvBnjtFtI7WANAmZRf08RkVbWJyeenDTHF36huWhYhsK2iIiY4uQJKYNBOFLhIRBUt3KJVFnnpc59vIXbMCAr1Y5VK4i0CgVuEZFWZrdZGNgjEespBidbDBjVP7kNqxIRkY4kNyN62M7BcrfW4pYoFTVeahuOB26LYZCrFURajQK3iIgJ8rsnYjlF63VGsoPczLg2rEhERDqSLhnOqBu/+0vdWotbInh9QcpqfDR6Ilu4u2boO0prUeAWETFBn5x4LKd4h+3XJeGULeAiIiItkRhvJeukmco/O9KotbglQnWDj7JqLye+LCwGdMtW4G4tCtwiIibonObA5bQ2u793jj7IRETEPA6bhR6d4iO2fXakgQa3L0YVSXtUUePlSKUnYpthGPTpHN/MGfJlKXCLiJjAZjVOeXe4R5YCt4iImMduM+h9UmhyewNs318fo4qkPSqt9nKorDFiW2aKnew0RzNnyJelwC0iYpKepwjcuQrcIiJiIofNQr/chKgVM1Z8UhWbgqTd8fmD7D/aGNXCXdhHk7q2Ji2uJiJiki7NTDhisxpR4+pERERak81q0D3LSUayndIqb3j78m1V7C9txGbtWO1uVotBUryVOEf08/b5g1TV+fD6O9b49opaLxt213LysP5R+SmxKegcpcAtImKSnPSmu2OlJdlw2DvWFx0REWl76Ul2BnZPZNnmivC2o1Ue7n1+D3GO5ucZORfFOSz075bAmAGpdMuMC7f8V9b6WLalgi3FtdQ2+ulIy5Q3uP18eiByiEGqy8awvkkxqujcpMAtImKS7NSm17BMT7RrhnIRETFdWpKdIb0TWbG9Crc3EN6+qqg6hlXFzodbKig+3Mj8C3PokuGk0RPgyfcP8dzyEtyewBdfoAOYMCiN5ARFxNakJhYREZNkpTTdbTxNgVtERNqA025hUK8kzstNiHUp7UKDJ8CyzRV8uKUCjy/A8m2VvLayVGH7c6mJNr4+KivWZZxzFLhFREySntj0HeKkBBsWBW4REWkDfXLimTosg4wkzR0CUF3v4+PtVew4UM8bq0qpadAyaRAa8z/nK52jZraXllN/ARERkzjsFlxOC3XuyDvnyfFWlLdFRKQtOOwWZozMJN5p4ZkPjrD7UAP+k2fJ6mC2flbHG6tK2VPSGDVhWEdjtRh0yXBy6dhsphVm4NQcM61OgVtExETJiXbq3O6IbYlxVrVwi4hIm4lzWJg+IpPpIzJjXUpM/PmN/fxz6aHw3+vcft5aUxYxK7lhwLiBqfxsbh/im5jJXORM6dUkImKipLjo+5rxcWrhFhERaSvTR2ZitUZ+8Lq9AQInNG8nxlkp7JussC2tTq8oERETJcZHv83GOyzh5UhERETEXN0ynfTIijvlMa44K+f3cLVRRdKRKHCLiJgowRm9zmmcw4pFiVtERKRNGIbBkD6nXls6xWWjpyYMExMocIuImCiuiclHnHZDLdwiIiJtaEC35luvLQZ0z4pv8ia5SEspcIuImMjZxFgwu82C8raIiEjb6dslvtmb3RaLQZ8ctW6LORS4RURM5LBGv83arKDELSIi0nZSE+2kuJpeoMkwoHv2qcd4i5wpBW4RERPZbNHJ2m41MJS4RURE2ozdZiEnzdnkPoth0DWz6X0iLaXALSJiIlsT639ZDI3hFhERaUs2K3ROczS5z2JA52bCuEhLNd2vQkREWoXTbsEVFzkJi82qtC0iItKWrBaDzJSmA3dSvA1XnNohxRwK3CIiJhrWNwmnIzJg56TrLrqIiEhbsloMMpLsTe7LSXdiqOuZmESBW0TERMPPS2b4ecmxLkNERKRDs1oM0hKbjj5ZqU0HcZHWoL4TIiIiIiJyTrNYIKWZwJ2Z3HRXc5HWoMAtIiIiIiLnNMv/b+9Oo6Oo0j6A/6v3TneSJqGzAlkkIUAIIWEXEggSUcCgMgoDyogziqIwDhN09AV0QFn0uOCGCowgR0eQTUVFwk5QQBACBiUJISGQfSfpve/7gUMPTXcwMASU+f/O6Q/UXeqp6j7AU/fWvZIEvUYOb8uotNNzhJvaDhNuIiIiIiK66SkVMmjVco/jAS2MfBNdC0y4iYiIiIjopqeQS14Tbr0PE25qO/x1EdH/GnoLCgAAIABJREFUPJvNhpKSEqhUKhiNRqhUfJeLiIjoZiOXSdCoPMcb/bQcg6S2w4SbiG4qZrMZNTU1cDgcLdbRarUwGAxQKM7/FVhUVIRBgwahe/fueO2115CQkHC9wiUiIqLrRC6ToFF6Jtc+GqZE1Hb46yKim4bVasWuXbvw8ccfw2q1tlivW7duePDBB9GpUycAQHNzM8rLyxESEoKmpqbrFS4RERFdR3IZoPKWcHsZ9Sa6VphwE9FNw2QyYevWrVixYgX0ej38/Pwgk3n+I2qz2XDu3LkbEOHvT2lpKTZv3oyqqio89NBDCAwMvNEhERERXRWZJEHpZZlyb9PMia4VJtxEdNNwOp2wWCwAgLS0NPzpT3+CwWDwqBcQEICIiIjrHd7vUlFREZYtW4ajR49i5MiRTLiJiOh3SyY7v3DapbyNehNdK0y4ieimFB4ejkGDBsFoNN7oUH7XbDYbmpub0dDQAKfTeaPDISIiumqSJHlNuJVKL5tzE10jTLiJiFrBarXixIkTyM3NhRACsbGx6NGjh2vhtUudOnUKZrMZcXFxAICqqiocOHAAZrMZ8fHxiI6Ohlz+n61JysvLceDAAZhMJiQlJSEqKsrrdPhLz3Ho0CGYTCZERkYiISEBvr6+HvUsFgvOnDkDrVaLoKAgyOVyVFZWIjs7GzabDT169EDnzp3drsXhcKCyshLl5eWu9+HPnj0LvV4PSZKg1+sREBBwxfeRiIjoRpFwfpT7UkoZE25qO0y4iYguw+FwYPfu3Xj66afxww8/uJJSu92Orl274s0330RKSopb8lxWVoY77rgDP//8M3766Sfs27cPs2fPxtmzZyGEgEKhwKRJk7B48WLYbDZ88sknmDt3LkpLSyGEgEwmw//93//hH//4B9RqtUc8x48fx4wZM5CVlQW5XA5JkuBwONCxY0fMmTMH999/P7RaravNtm3b8NRTTyE8PBxvvfUWVq1ahddeew1WqxVOpxNqtRpPPPEE/v73vyM4OBgAkJeXh759+6KxsdHVT3p6OoDzIwSDBw/G1q1bW3zgQERE9FsjSef/DbuUzMsxomuF/1MiImqBEAJffvklJk2aBABITU1FUlIShBD44Ycf8MMPPyAjIwNr167F8OHDXe0unnr97rvvYuXKlYiKikJiYiIqKiqQm5uLpUuXol27dtBoNFi8eDGio6PRq1cvlJWVITc3Fy+88AJ8fHwwc+ZMt3i+++47PPzwwzh16hSSk5PRt29f+Pr64ujRo9i/fz8ee+wxSJLkivlCOyEEqqqq8MgjjyAnJwfdunVDx44dcfbsWfzyyy949dVXodPp8PTTT0Or1UKn02HIkCE4efIkTp06haamJvTs2RM+Pj6QJAl9+/Z1e8hARET0W6eQSwj2VyEiSON2nPk2tSlBRHSTqKmpEdOnTxcAxO233y6WLVsmPvvsM7fP9u3bRW1trVu7I0eOCACiZ8+eYu/eva7jhYWFIjIyUmg0GvHXv/5VlJeXu8rOnj0r/vjHPwpJksSIESNEXV2dq+zMmTMiLi5OABBarVY89NBD4qeffhJCCFFSUiLGjRsnVCqV0Gq1wt/fXzz66KPil19+EUIIUVxcLDIyMoRcLhcxMTGivr7e1W9ZWZm46667hEKhEBkZGaKoqMjt2mfNmiUMBoOIjY0VlZWVrrJNmzaJ2NhYAUAYjUbx7LPPuq7lzJkzYsqUKUKr1YpbbrlFlJSUuN2bXbt2iaSkJCFJkjh27NhVfzdEREQ3ms3uFGW1FlFY2uz2IWpLXJKPiG5KW7ZswZQpUzB+/Hi3z6xZs1BQUNCqPtatW4eSkhJ06NABTz31FIKCglxloaGhyMzMhBACOTk5OHLkiNc+0tPTMXfuXHTr1g3A+cXc7rvvPuj1epjNZtxxxx2YM2cOYmNjAQAdO3bEuHHjoFarUVZWhpMnT7r62rt3L3JycqDT6TB//nzXPuIA0K5dO0yaNAnh4eE4ceIEdu3a5RGLSqXCtGnTMGfOHNe1hIWFISMjA5GRkSgoKEBRUVGr7g0REdHvjUIuIdigQmSI1u1D1JY4pZyIbkpJSUkYMmQIdDqd2/GOHTsiLCysVX1s374dDocDnTt3hlKpRGlpqVt5+/btodFoYLFYcPLkSaSkpHj0MWrUKISHh7sdi4uLc72bfeeddyI0NNStvGvXrpDL5XA6nSgvL3cdz8nJQWVlJWJiYuDv7+8Rj0ajcS1qlpOTg3vuucet3MfHB2PHjoVKpfK4J0ajEcePH0dZWVmr7g0RERER/Tom3ER0U0pMTMTjjz/usS2YXC6HRqNpodV/OBwOFBcXQwiBQ4cO4d577/Vaz2azwW63o7a21mu5t3PpdDrXCuSXLop2oVySJAghYDabAcCVfDc3N+PUqVMYO3as1/P9/PPPEEKgoqLCo0wul3td5Eyj0UCpVAKAa0VyIiIiIvrvMeEmopuSUqmEXq+HXq+/qvY2mw02mw3A+anYF6/6fbHU1FQEBQUhNTW11X3/2nZf3srtdjusViuEEFAqlS3Gk5ycDIVC0eIDgpZ4W7WViIiIiP47TLiJiLxQq9Wu0eC0tDSsWLHihsajUqmgUqkgSRJ69OiBrKwsJslEREREv3FcNI2IyAtJknDLLbdAJpOhsLDQNdp9I4WGhkKn06GoqAgWi+W6nFOSJFdi73A4rss5iYiIiG4WTLiJiFowbNgwyGQyHD16FDt27IDdbveoI4RAY2PjdYknMTERQUFBKCgowLp167w+BBBCoKGh4ZqdU6PRQK1WQwiB8vJyCCGuWd9ERERENztOKSeim9Lp06exbds2GAwGjzJ/f3907doV/v7+l+1jzJgxWLZsGY4ePYq5c+eipqYGcXFx8PX1hd1uR2VlJfLz81FZWYnp06e7Fh5rKwMGDMCAAQNQUlKC2bNnw2QyITExEQaDAUII1NTUoLCwEEePHsXs2bM9ViO/GoGBgWjfvj0A4JNPPoG/vz9kMhmsVisGDBjAae1EREREl8GEm4huGjKZzJVk7t69Gz/99BPkcrlHvdjYWLzwwgvo3bv3Zfvr0KEDFi5ciFmzZuG7777DyZMnERsbC39/f1itVpSVleHEiRNITEzEk08+2SbXdLH27dtj+vTpaGhowKZNm5CZmYnu3bsjICAAQghUVlYiLy8PKpUKzz777DVJuENDQ9G/f3/s3r0b//73v3HixAkIIRASEoLVq1d7vb9EREREdB4TbiK6aWi1WgwbNgxnzpy57PZWUVFR8PPzc/05MDAQo0ePRlRUFIKDg93qDh8+HAaDAVu2bMF3332H06dPo7y8HHq9HtHR0bj33nuRkpLiltzq9XoMGzYMUVFRiImJ8Ti/r68v0tPTUV5ejujoaI9yf39/3HnnnbBYLIiIiHAr6927NxYsWIDbbrsNu3btwsmTJ1FdXQ0fHx+EhYUhLS0NAwcOdFvFPDw8HGlpaTCZTPD19fV6voEDB0KtVnvEo9FoMHHiRCiVSmzfvh2nT59Gu3btkJKS8qurrRMRERH9r5MEX8gjopuI2WxGXV3dZRf4UqvV8Pf3d00Bt9vtKC0thUqlQkBAgMfUcCEEmpqaUFtbC5PJBKfTCYVCAR8fH/j7+0On07nVdzqdqKiogNVqRVBQkMde3Bf21LbZbAgODvbYi9vpdKK0tBROpxNBQUFe9+o2m82orq5Gc3MzHA6Ha39xPz8/+Pn5uU31tlgsqK2thRACRqPRYy9uh8Phujaj0eh17/DGxkZXHZVKhcDAQLeHFkRERETkiQk3ERERERERURvgfEAiIiIiIiKiNsCEm4iIiIiIiKgNMOEmIiIiIiIiagNMuImIiIiIiIjaABNuIiIiIiIiojbAfbiJiIiIiIh+h0pLS/H1118jIiIC/fv399iqlG48jnATEREREVGbcTgc2Lx5M1avXo3a2tobHc5Nw2w2Y8OGDcjMzMT69evR1NR03WOoqqrCN998g6ysLFit1ut+/t8DJtxERERERNRmSktL8ec//xkTJ07E1q1bb3Q4N43GxkZs2LABZrMZMTExMBqNEEJc1xh2796NJ598EhMnTkRNTc11PffvBRNuIiIiIiJqFbvdjilTpiA4OBhBQUFeP6GhoXjyySdht9sBAEIIOBwOOByO654Q/h44HA40NTXBYrFc0f05ffo0du7cibi4OCQlJeHpp5+Gn58fevXqBZvNdtm2Qgjs27cPkZGR6N69O3bu3HlVsV/4bp1O51W1/1/AhJuIiIiIiFrlwvTw6upqKBQKhISEeHyCgoKg1WqZhLWCEAIFBQWYP38+Vq9ejbq6ula3/eyzz2C32xEfH48ePXqgS5cu8PHxweHDh7Fnz57LtrVYLNizZw+KiooQGRmJkJCQ//ZSqAVcNI2IiIiIiFpNCAEfHx+MHz8eDz74oEe5TCZDYGAgVCrVDYju90UIgePHj+PFF19Eeno6evfujXbt2v1qu+bmZqxduxYBAQHo378/DAYDUlNTERISgoqKCqxatQpDhw5tsX1TUxO++eYbqFQqJCcno2PHjtfysugiTLiJiIiIiOiKyOVyhIWFoWfPnjc6lP9JO3fuRF5eHnr16oXU1FQAQFRUFJKTk5Gbm4stW7agoqICQUFBXtsXFxdj//796NChA5KSkuDj43M9w/+fwoSbiIiIiIhuKKvVii1btuDgwYOoqamBWq1G586dMXz4cHTq1Aky2X/ehLXb7cjOzkZOTg4yMjLQsWNHfP/998jKykJtbS3Cw8ORlpaG+Ph4KJVKAOcX99q+fTvq6uoQFhaGkSNHIjY2FnK53Gs8ZWVl2LFjB3JyctDY2AiDwYD4+HjXKPLFnE4n8vLy8O2336Jfv35ITk5GXl4evvnmG5w6dQo+Pj5ITk5GWlqa2+h1Xl4esrKykJOTAwAoKSnBp59+6up/yJAhiIuL8xrfkiVLoFQqkZiYiM6dOwM4/xAkIyMDa9asQVVVFbZu3Yrx48d7bf/tt9+ioaEBt956K3r16uU6Xl9fj127duHYsWOorKyE0+lEcHAwhgwZguTk5FbPWqiqqsKWLVtgsVhw++23IzQ01K28ubkZ2dnZOH78OG6//XbExMS4fccAUFNTg+zsbBw8eBDV1dXQ6XTo0qULhg4disjISK/nvRD/kSNHUF1dDV9fXyQkJGDEiBHQ6/Wtiv1aY8JNREREREQ3THFxMTIzM7Fv3z7U1NTAarVCJpPB19cXy5cvx9y5c3Hbbbe56ptMJnz++edYsWIFOnXqhJUrV2LlypUoLy+H1WqFVqvFJ598grlz5yI1NRULFy7Exx9/jPLycthsNmi1Wnz++edYsGAB+vfv75boCSGwY8cOvPLKKzh8+DDq6+ths9mgVCphMBjQr18/PPvss0hKSoIkSQDOv9e+f/9+vPDCC5g+fTpycnKwdOlS5OXloampCXK5HEajEffffz+mT5+OsLAwAEBWVhbmzJkDi8UCAMjPz8ebb77peggwa9Ysrwn3qVOnkJWVBb1ejzvvvNMtCR46dCiCg4Nx6tQpbNy4EePGjXPFebE1a9ZAp9MhKSkJHTp0cMUzf/585Ofno76+3rWIm0ajwYcffoiHHnoImZmZLT6kuNjp06fx1ltvoa6uDp07d/ZIuGtra7FmzRqsW7cO/v7+iIqKcl2HEAI5OTl4+eWXsXv3btTW1sJisUChUMDX1xc9evTAjBkzkJ6e7vbdVVZW4m9/+xt27dqFuro6WK1WKBQKGAwG7NmzB6+//vqvxt0WmHATEREREdENUVtbi0cffRRbt25FYGAg5s+fj4SEBJSVlWHJkiXYs2cPJk+ejKNHj8Lf3x/A+RHlc+fOobq6Gs8//zzy8/MRERGB2bNno6KiAmvWrMGhQ4fw4osvYtmyZfjqq6/QpUsXTJkyBWfOnMHatWuRnZ2NRYsW4aOPPoKvr68rnv379+P5559HdnY2Bg0ahEcffRQxMTE4ePAg3nvvPXz++efQarVYuHAhwsPDAZxPEE0mE6qrq/Hhhx/CZDIBAKZOnYrg4GB8/fXX+Oqrr7BkyRJ069YNEydOhFwuR2pqKh5++GHk5eVh7dq1CA8Px/DhwxEYGAjg/Ai3N2vXrkVzczM6deqE9PR0tzI/Pz9kZGTg1VdfxZEjR5Cfn4+YmBi3OsePH8fhw4cRERGBwYMHuxLopUuXYs+ePUhLS8OYMWPQqVMn1NXV4eOPP0ZWVhbmzZuH4cOHIzk5+Ve/V7vdjpqaGlfieymHw4GGhgZUV1ejubnZbXX2wsJC/POf/8QXX3yBHj164JlnnkGfPn1QUFCAd955B9u3b4ckSQgLC0NCQoKr3dtvv41PP/0UPXv2xMKFC9GlSxcUFxdj1apVOHr06K/G3GYEERERERFRK5jNZhERESE0Go0YMWKEmDdvntvnpZdeEp9//rlbm+LiYhEaGipkMplYvXq167jT6RQvv/yyMBgMws/PT5w8edKtXVlZmUhJSRGSJIlnnnnGdbyurk488sgjAoCQyWQiIyNDmEwmIYQQDodDfPTRRyIkJMRVfu+997qVL1myRBiNRqFQKMSxY8dc/dbX14vMzEwhSZIYNWqUKC0tdYsnOztb9OrVS2i1WvHVV18Jh8MhhBDCYrGI9957TwAQkiSJAQMGiNzcXOF0OoUQQpw9e1ZMmDBBABD333+/KC4udvXpcDjEhg0bBACRnp4ucnNzL3v/rVar6Nu3rwAgZs6c6bXOjz/+KCRJEu3btxfvv/++R/lzzz0nJEkSqamporGx0XX8yy+/FD/++KNH/bNnz4qhQ4cKSZLEtGnT3MrWrl0roqKihNFodLtf+/fvF3FxcSIkJERs3brVo8+ioiJx//33CwDinXfeEWazWQhx/ve1ZMkSIUmSGDhwoDh06JBbu8LCQjF06FChVqvFG2+8ISwWi6ssMTFRhISEiA8++MDjfBf6vxG4LRgREREREV0Ri8WCHTt2YNGiRW6fhQsX4v33329VH7W1tdi2bRvq6+sxbdo0REVFuZUHBwdj5MiR0Ov1+Oijj7zuUT148GAsX74cGo0GwPkV0pOSktC9e3cAQFpaGlatWuVW3r9/f8TExMBut+Pnn3929XXy5Ens2rULPj4+mDx5MoxGo9u5EhISkJqaCpPJhO3bt8NsNnvE0717d7z88suIi4tzTeUODg7GHXfcAY1Gg/z8fDQ0NLTq/nizZ88enDp1CkqlEuPGjfNap2fPnkhMTERdXR127tzpFqfFYsGnn34KrVaLYcOGub3XPHLkSCQmJnr0Fxoaiq5du0KlUiE/P/+qY2+Nuro6rF+/Hmq1GmPGjEF8fLxHLGPHjoXVasX+/ftRUVHhKrNYLLDZbKitrfX4btRqdZvGfTmcUk5ERERERFdErVYjLS0NgwcPdjsuSRK6dOnSqj4KCgpQUVEBIQSMRiMOHjzoUcdms0GSJJw9exbnzp1zm/4NnE+4dTqd27GAgAAYDAYA599pvnShr8DAQFeiWV5e7jpeWVmJvLw8BAYGor6+HocPH3ZrJ4SA2WyGTCZDcXEx7Ha7R7zdu3dHhw4d3N6bvrBNWrt27XDu3DnYbLbW3B4PTqcTmzZtQmNjI5KSklpcIV6SJDz44IN46qmncOLECeTm5iIpKQkAcODAARQWFsJoNOKOO+7w2l4IgdraWjQ1NcFsNsPhcMBms0Emk6G6uvqqYm+t5uZmHD58GL6+vrDb7a4F5S6O7dy5c5DL5SgvL0dzc7OrLD09HW+//TZWrVoFg8GAQYMGITIyElqttk1j/jVMuImIiIiI6IpoNBqkpaVhxowZV91HdXU1mpqaAADvvPMO/vWvf3nUaWhoQHNzM+RyOZqbmz0Sbm9UKtVlV9NWqVSu1csvvF8shEBjY6NrdHTBggVeE7ULI6pWq9XriHtL5HI5lEol7HY7nE5nq9tdrKSkBN9//z3MZjOmTJnisar3xUaPHo25c+eiqKgIBw4cQK9evSBJEtatWwen04nu3bu7vf8MnE/oc3JycPDgQdcq3w0NDbBYLMjPz4fVar3q2FvLZDKhsrISSqUSS5cuxerVqz3qNDQ0wOl0wmazucXz2GOPobCwEDt27EBmZib69OmDtLQ0DBs2DH369PG6eNz1wISbiIiIiIiuO4fD4UqY+vTp47Hd1sXat2+PgICAVvV7NYmVEAIOhwNCCPj6+qJfv34t7mEtk8kwaNCgKx45/W8TvuzsbBQVFSE4OBijR4++bN2wsDAMGTIEGzduxKFDh1BXV+dagV0IgbFjx3o8lPjiiy/w5ptv4uDBgzAajYiPj0f79u2hUChQWVl5XRLWC78JrVaLnj174pZbbvFaT5IkJCYmuv1mYmJi8Morr2DTpk3IysrC3r17sXv3bnzxxReYOnUqJkyY0Obxe8OEm4iIiIiIrjsfHx/XSPM999yDtLS0FutqNBpX3bYgk8lc5/D398ekSZMuuxq3TqeDQnH9Uqnm5mbs2bMHFRUVeOCBB1wrmbdEpVLh7rvvxvr165GTk4O8vDxUVVXh7Nmz0Ov1yMjIcKtfWFiI119/Hbt27cLdd9+NGTNmIDg4GBqNBnK5HPPnz8eJEyeuKGaZTOb2UKU1NBoN1Go1dDod7rrrLtx9990t1tVqtW4PDWQyGWJiYjBlyhSMHDkSR44cweLFi7F3715UVlaiT58+iI2NvaJruBaYcBMRERER0XUXHh7uetc6Ly/vssnV9WAwGBAeHo7y8nJYLBb4+fm1+aiuJElu+3m3NE39l19+QU5ODux2O8aPH/+r/crlciQnJ6Nz587Izc1Fbm6ua1/x0aNHe8wmyMnJQUFBAZxOJ2bPnu0x3Vyn013RvVAoFNBoNGhsbHRtk3axpqYm1NfXexzXaDSIjo5GcXExGhoaoNfrW7Xv96V9xMTEICoqCtHR0UhLS0NJSQkOHDhwQxJurlJORERERETXXXR0NDp37gyFQoHFixe7LYB1I4SFhSExMRH19fXYuHEjamtr2/yckiRBp9NBrVa7Firz5scff3QtftatW7dW9W00GjF06FA0NDTgyy+/xObNm2E2mzF58mSP5Nlut7uS/Uun7tfU1ODEiROwWCytvi69Xo/g4GCYzWZ89913biuz19TUYPny5cjKyvJo5+vri9TUVDQ1NWHbtm0oLCxs9TkdDofbnxUKhev3BaBNZ0hcDke4iYiIiIjoithsNvz888/45ptvPMokSUJYWBi6d+9+2YW9FAoFJkyYgOzsbBQUFCAlJQWvvfYaYmJiIJfLYbPZkJubizVr1iAhIQFTp05ty0tCREQERo0ahT179uCDDz6A3W7HzJkzYTAYIEkSmpqacODAAaxfvx4zZsxAUlLSNRkB1+v1CAsLw08//YTNmzfDaDSiuroaWq0W3bp1Q1VVFQ4cOIDa2lqMGjUKfn5+req3Xbt2GDJkCFasWIGNGzfC6XSiY8eOXqfux8TEICAgAGfOnMFzzz2H+fPnQ61Wo7i4GIsWLcLmzZs9EtrL6dChA1JSUrB161a8++67CA8PR0ZGBmpqarBgwQJs3LgRGo0G586dc2vn5+eHP/zhD/jyyy/xxRdfQJIkPP3004iKioJcLofZbMbRo0exfv16jBgxAmPGjIFMJsOhQ4cwfvx4zJw5E8OHD4ePjw/MZjPefvttnDt3Dv7+/ujdu3er47+WmHATEREREVGrSJIEPz8/FBUVYenSpVi6dKnXeqNGjcKyZcsQFBQEmUzmSkwvTcBvu+02ZGZm4o033kBubi6GDBmCdu3awd/fHzU1NTCbzTAYDIiLi3OL4UJ/LSW8LZ3v0jYXlysUCowZMwYlJSVYuXIlPvroIyxfvhyhoaFQq9WoqqqC3W5HcHCwx2jvhX4uju3Sc0qS5HYvLoiMjMSYMWOwdOlSzJo1Cy+99BLMZjMWLVqEbt26IT8/H/v27UNAQABSUlLg4+Pj9ZovJZfLERcXh8TEROzbtw+SJOG+++7z+u55fHw8xo8fj7q6OqxatQpZWVlo3749KisrodPpcNttt2Hbtm0e07svXNel16TVapGeno69e/di69ateOKJJ5CZmQmbzYaQkBA89NBDMJlMWL58uVt7mUyGvn37YtasWXjjjTewefNmbNy4EUFBQfD19UVVVRVMJhOMRiNSUlJco/K+vr6wWCx44oknoNVqYTQaUV9fj/r6eoSFheGZZ55BdHR0q+7btcaEm4iIiIiIWkUul+Pxxx/H3r17L1uvd+/erv2x9Xo97r77blRXV3skPZIk4S9/+Qvi4+OxYcMG5OXluaaW63Q6hIWFoU+fPhgzZoyrjUqlQr9+/VBXV4ekpCSPJFCj0eDWW2+Fw+FAz549PZJBHx8fDB06FHq9HvHx8W5lgYGBmDFjBhITE/Htt9+iuLgYZrMZCoUCvXv3RlRUFFJSUpCQkODqVy6XIzY2FuPGjcPgwYNde3xfLCwsDBkZGVAqlR4LngUFBeGxxx6Dn58fcnJyYDKZYDAYMHToUFitVhw7dgzHjx/H7bffjsjIyCsaVY+KisLkyZMRGRkJpVKJCRMmeH0IIZPJMG3aNHTq1AmbNm1yrWo+cOBAjBkzBoGBgQgODkZYWJhbu4iICIwePRp2u91j1fZevXph3rx5iIuLQ25uLqxWK4KCgjBixAiMHDkSWVlZMJlMiIuLc4tJr9fjgQceQExMDL766ivk5+ejqakJMpkMCQkJ6NixIwYOHIi0tDTXdx8TE4PFixdj8+bNOH36NCwWCzQaDcLDw3HXXXchPT291ffsWpPElWwgR0REREREdIVsNhscDgc0Gk2LdYQQqKurc73v6+fnBz8/P6+LZjkcDthsNqhUKq8JpN1uh91uh1qt9pqg/lr5hXNUVlaiubnZtXq5r6+v1/oX9oWWy+VeR5CFELDZbJAkCQqFwmsfDocD9fX1aG5uRkBAAHylfYKlAAABtklEQVR8fFBWVoYZM2Zg7dq1mDdvHqZOnXrF25E5HA5YrVbXXuC/lrBbLBZUV1dDCIHAwEDXd2Y2m6FUKt2+DyEErFYrZDJZi+9I22w2VFVVwWKxwGg0uh7EOBwO2O12KJXKFl89cDqdqKmpQWNjI+RyOfz8/ODv79/iNdjtdtTU1MBkMkGn08FgMFzX1eS9YcJNRERERET0GyOEwKFDhzB69GgYDAa8+eabGDZs2I0Oi64QVyknIiIiIiL6jbHb7di7dy/Ky8vRq1evVq9OTr8tHOEmIiIiIiL6jXE6nSgoKMChQ4eQkJCALl26XHbVd/ptYsJNRERERERE1Ab4iISIiIiIiIioDTDhJiIiIiIiImoDTLiJiIiIiIiI2gATbiIiIiIiIqI2wISbiIiIiIiIqA0w4SYiIiIiIiJqA0y4iYiIiIiIiNoAE24iIiIiIiKiNsCEm4iIiIiIiKgNMOEmIiIiIiIiagNMuImIiIiIiIjaABNuIiIiIiIiojbAhJuIiIiIiIioDTDhJiIiIiIiImoDTLiJiIiIiIiI2gATbiIiIiIiIqI2wISbiIiIiIiIqA38P1FYsDOYUgCzAAAAAElFTkSuQmCC)"
      ],
      "metadata": {
        "id": "KhTMTFOLCJNs"
      }
    },
    {
      "cell_type": "code",
      "source": [
        "#Price Information\n",
        "dict1={ \"radio\" : 20, \"key\" : 30 }"
      ],
      "metadata": {
        "id": "elezhERzB-KG"
      },
      "execution_count": 64,
      "outputs": []
    },
    {
      "cell_type": "code",
      "source": [
        "dict1[\"radio\"]"
      ],
      "metadata": {
        "colab": {
          "base_uri": "https://localhost:8080/"
        },
        "id": "Vkxa4c32CchA",
        "outputId": "0580775c-8e38-473b-bf33-ca475b8540a5"
      },
      "execution_count": 65,
      "outputs": [
        {
          "output_type": "execute_result",
          "data": {
            "text/plain": [
              "20"
            ]
          },
          "metadata": {},
          "execution_count": 65
        }
      ]
    },
    {
      "cell_type": "code",
      "source": [
        "dict1.keys()"
      ],
      "metadata": {
        "colab": {
          "base_uri": "https://localhost:8080/"
        },
        "id": "7GJWz80RCded",
        "outputId": "0301eb18-45d7-4aac-b234-0bbc5e0bc8ca"
      },
      "execution_count": 63,
      "outputs": [
        {
          "output_type": "execute_result",
          "data": {
            "text/plain": [
              "dict_keys(['key1', 'key2'])"
            ]
          },
          "metadata": {},
          "execution_count": 63
        }
      ]
    },
    {
      "cell_type": "markdown",
      "source": [
        "### Conditions in Python"
      ],
      "metadata": {
        "id": "NefzCabRDSmg"
      }
    },
    {
      "cell_type": "code",
      "source": [
        "a=2\n",
        "print(a==2)\n",
        "print(a>1)\n",
        "print(a!=2)"
      ],
      "metadata": {
        "colab": {
          "base_uri": "https://localhost:8080/"
        },
        "id": "75bmC-4JC1nI",
        "outputId": "f3de539b-9962-4d4c-9414-7150aacccaa9"
      },
      "execution_count": 69,
      "outputs": [
        {
          "output_type": "stream",
          "name": "stdout",
          "text": [
            "True\n",
            "True\n",
            "False\n"
          ]
        }
      ]
    },
    {
      "cell_type": "code",
      "source": [
        "g=18\n",
        "if g>18:\n",
        "  print(\"If part\")\n",
        "elif g==18:\n",
        "  print(\"elif part\")\n",
        "else:\n",
        "  print(\"In Else part\")"
      ],
      "metadata": {
        "colab": {
          "base_uri": "https://localhost:8080/"
        },
        "id": "L-nttD11DZSH",
        "outputId": "0cf925a6-a5f2-4ecb-b3eb-6b30f8aa1595"
      },
      "execution_count": 71,
      "outputs": [
        {
          "output_type": "stream",
          "name": "stdout",
          "text": [
            "elif part\n"
          ]
        }
      ]
    },
    {
      "cell_type": "markdown",
      "source": [
        "### Loops"
      ],
      "metadata": {
        "id": "SmpIegXJHU97"
      }
    },
    {
      "cell_type": "code",
      "source": [
        "a=[1,2,3,4,5]\n",
        "for i in a:\n",
        "  print(\"val: \",i)"
      ],
      "metadata": {
        "colab": {
          "base_uri": "https://localhost:8080/"
        },
        "id": "SBWW9L2mHJxL",
        "outputId": "c26e82ae-6b5e-49f7-d319-e37e6bbdb186"
      },
      "execution_count": 73,
      "outputs": [
        {
          "output_type": "stream",
          "name": "stdout",
          "text": [
            "val:  1\n",
            "val:  2\n",
            "val:  3\n",
            "val:  4\n",
            "val:  5\n"
          ]
        }
      ]
    },
    {
      "cell_type": "code",
      "source": [
        "for i in range(len(a)):\n",
        "  print(\"val :\",a[i]) "
      ],
      "metadata": {
        "colab": {
          "base_uri": "https://localhost:8080/"
        },
        "id": "ZPFdu0q-J51-",
        "outputId": "c1ace027-cacc-4762-e9a5-5e29db51f22f"
      },
      "execution_count": 75,
      "outputs": [
        {
          "output_type": "stream",
          "name": "stdout",
          "text": [
            "val : 1\n",
            "val : 2\n",
            "val : 3\n",
            "val : 4\n",
            "val : 5\n"
          ]
        }
      ]
    },
    {
      "cell_type": "code",
      "source": [
        "while True:\n",
        "  print(\"all good!\")\n",
        "  break"
      ],
      "metadata": {
        "colab": {
          "base_uri": "https://localhost:8080/"
        },
        "id": "wNsgBQ9eKEXC",
        "outputId": "842b7696-8b0f-4786-b878-26437a515b2f"
      },
      "execution_count": 76,
      "outputs": [
        {
          "output_type": "stream",
          "name": "stdout",
          "text": [
            "all good!\n"
          ]
        }
      ]
    },
    {
      "cell_type": "markdown",
      "source": [
        "## Functions"
      ],
      "metadata": {
        "id": "dnbcWNRyKf97"
      }
    },
    {
      "cell_type": "code",
      "source": [
        "def add(a,b):\n",
        "  c=a+b\n",
        "  return c"
      ],
      "metadata": {
        "id": "3rDYa3-KKT9x"
      },
      "execution_count": 79,
      "outputs": []
    },
    {
      "cell_type": "code",
      "source": [
        "add(3,4)"
      ],
      "metadata": {
        "colab": {
          "base_uri": "https://localhost:8080/"
        },
        "id": "ea-kjSDmKkWY",
        "outputId": "61e891f8-6f79-4154-dae4-22c02593efc4"
      },
      "execution_count": 80,
      "outputs": [
        {
          "output_type": "execute_result",
          "data": {
            "text/plain": [
              "7"
            ]
          },
          "metadata": {},
          "execution_count": 80
        }
      ]
    },
    {
      "cell_type": "code",
      "source": [
        "a=lambda x:x/2"
      ],
      "metadata": {
        "id": "6PVL_NcXKme5"
      },
      "execution_count": 82,
      "outputs": []
    },
    {
      "cell_type": "code",
      "source": [
        "a(2)"
      ],
      "metadata": {
        "colab": {
          "base_uri": "https://localhost:8080/"
        },
        "id": "pOEPeQ9pLUfQ",
        "outputId": "e90f7311-5514-47ff-fef1-32b7ecb46b82"
      },
      "execution_count": 83,
      "outputs": [
        {
          "output_type": "execute_result",
          "data": {
            "text/plain": [
              "1.0"
            ]
          },
          "metadata": {},
          "execution_count": 83
        }
      ]
    },
    {
      "cell_type": "markdown",
      "source": [
        "### Classes"
      ],
      "metadata": {
        "id": "75RC13QFLtP5"
      }
    },
    {
      "cell_type": "code",
      "source": [
        "class Circle:\n",
        "  def __init__(self,radius):\n",
        "    self.radius=10\n",
        "  \n",
        "  def set_color(self,color):\n",
        "    self.color=color\n",
        "\n",
        "c1=Circle(10)\n",
        "c1.set_color(\"red\")\n",
        "print(c1.color)"
      ],
      "metadata": {
        "colab": {
          "base_uri": "https://localhost:8080/"
        },
        "id": "1lp73NAhLbeC",
        "outputId": "1a4c073a-8ca5-4141-aee7-580d51d735b2"
      },
      "execution_count": 88,
      "outputs": [
        {
          "output_type": "stream",
          "name": "stdout",
          "text": [
            "red\n"
          ]
        }
      ]
    },
    {
      "cell_type": "code",
      "source": [
        ""
      ],
      "metadata": {
        "id": "mNoDcLVbMCce"
      },
      "execution_count": null,
      "outputs": []
    }
  ]
}