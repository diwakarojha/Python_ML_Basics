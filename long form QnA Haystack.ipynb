{
  "cells": [
    {
      "cell_type": "markdown",
      "metadata": {
        "id": "bEH-CRbeA6NU"
      },
      "source": [
        "# Long-Form Question Answering\n",
        "\n",
        "Follow this tutorial to learn how to build and use a pipeline for Long-Form Question Answering (LFQA). LFQA is a variety of the generative question answering task. LFQA systems query large document stores for relevant information and then use this information to generate accurate, multi-sentence answers. In a regular question answering system, the retrieved documents related to the query (context passages) act as source tokens for extracted answers. In an LFQS system, context passages provide the context the system uses to generate original, abstractive, long-form answers."
      ]
    },
    {
      "cell_type": "markdown",
      "metadata": {
        "id": "3K27Y5FbA6NV"
      },
      "source": [
        "### Prepare environment\n",
        "\n",
        "#### Colab: Enable the GPU runtime\n",
        "Make sure you enable the GPU runtime to experience decent speed in this tutorial.  \n",
        "**Runtime -> Change Runtime type -> Hardware accelerator -> GPU**\n",
        "\n",
        "<img src=\"https://raw.githubusercontent.com/deepset-ai/haystack/main/docs/img/colab_gpu_runtime.jpg\">\n",
        "\n",
        "You can double check whether the GPU runtime is enabled with the following command:"
      ]
    },
    {
      "cell_type": "code",
      "execution_count": 1,
      "metadata": {
        "id": "JlZgP8q1A6NW",
        "outputId": "ee80d7ac-7534-4751-ce2f-c2138686ec4a",
        "colab": {
          "base_uri": "https://localhost:8080/"
        }
      },
      "outputs": [
        {
          "output_type": "stream",
          "name": "stdout",
          "text": [
            "Wed Jan  4 13:38:29 2023       \n",
            "+-----------------------------------------------------------------------------+\n",
            "| NVIDIA-SMI 460.32.03    Driver Version: 460.32.03    CUDA Version: 11.2     |\n",
            "|-------------------------------+----------------------+----------------------+\n",
            "| GPU  Name        Persistence-M| Bus-Id        Disp.A | Volatile Uncorr. ECC |\n",
            "| Fan  Temp  Perf  Pwr:Usage/Cap|         Memory-Usage | GPU-Util  Compute M. |\n",
            "|                               |                      |               MIG M. |\n",
            "|===============================+======================+======================|\n",
            "|   0  Tesla T4            Off  | 00000000:00:04.0 Off |                    0 |\n",
            "| N/A   51C    P0    27W /  70W |      0MiB / 15109MiB |      0%      Default |\n",
            "|                               |                      |                  N/A |\n",
            "+-------------------------------+----------------------+----------------------+\n",
            "                                                                               \n",
            "+-----------------------------------------------------------------------------+\n",
            "| Processes:                                                                  |\n",
            "|  GPU   GI   CI        PID   Type   Process name                  GPU Memory |\n",
            "|        ID   ID                                                   Usage      |\n",
            "|=============================================================================|\n",
            "|  No running processes found                                                 |\n",
            "+-----------------------------------------------------------------------------+\n"
          ]
        }
      ],
      "source": [
        "%%bash\n",
        "\n",
        "nvidia-smi"
      ]
    },
    {
      "cell_type": "markdown",
      "metadata": {
        "id": "pXe8s0yKYeW8"
      },
      "source": [
        "To start, install the latest release of Haystack with `pip`:"
      ]
    },
    {
      "cell_type": "code",
      "execution_count": 2,
      "metadata": {
        "id": "NM36kbRFA6Nc",
        "vscode": {
          "languageId": "shellscript"
        },
        "outputId": "ea40f44d-fe2f-4119-dafa-2fad0fbd3d28",
        "colab": {
          "base_uri": "https://localhost:8080/"
        }
      },
      "outputs": [
        {
          "output_type": "stream",
          "name": "stdout",
          "text": [
            "Looking in indexes: https://pypi.org/simple, https://us-python.pkg.dev/colab-wheels/public/simple/\n",
            "Requirement already satisfied: pip in /usr/local/lib/python3.8/dist-packages (22.0.4)\n",
            "Collecting pip\n",
            "  Downloading pip-22.3.1-py3-none-any.whl (2.1 MB)\n",
            "     ━━━━━━━━━━━━━━━━━━━━━━━━━━━━━━━━━━━━━━━━ 2.1/2.1 MB 68.1 MB/s eta 0:00:00\n",
            "Installing collected packages: pip\n",
            "  Attempting uninstall: pip\n",
            "    Found existing installation: pip 22.0.4\n",
            "    Uninstalling pip-22.0.4:\n",
            "      Successfully uninstalled pip-22.0.4\n",
            "Successfully installed pip-22.3.1\n",
            "Looking in indexes: https://pypi.org/simple, https://us-python.pkg.dev/colab-wheels/public/simple/\n",
            "Collecting farm-haystack[colab,faiss]\n",
            "  Cloning https://github.com/deepset-ai/haystack.git to /tmp/pip-install-s1rnujr4/farm-haystack_583840abb1744ecdb0e47c494cbd43f0\n",
            "  Resolved https://github.com/deepset-ai/haystack.git to commit a2c160e7d8e706cd8184eb984db5882350d9d876\n",
            "  Installing build dependencies: started\n",
            "  Installing build dependencies: finished with status 'done'\n",
            "  Getting requirements to build wheel: started\n",
            "  Getting requirements to build wheel: finished with status 'done'\n",
            "  Preparing metadata (pyproject.toml): started\n",
            "  Preparing metadata (pyproject.toml): finished with status 'done'\n",
            "Requirement already satisfied: tqdm in /usr/local/lib/python3.8/dist-packages (from farm-haystack[colab,faiss]) (4.64.1)\n",
            "Requirement already satisfied: pandas in /usr/local/lib/python3.8/dist-packages (from farm-haystack[colab,faiss]) (1.3.5)\n",
            "Requirement already satisfied: jsonschema in /usr/local/lib/python3.8/dist-packages (from farm-haystack[colab,faiss]) (4.3.3)\n",
            "Collecting rapidfuzz<2.8.0,>=2.0.15\n",
            "  Downloading rapidfuzz-2.7.0-cp38-cp38-manylinux_2_17_x86_64.manylinux2014_x86_64.whl (2.1 MB)\n",
            "     ━━━━━━━━━━━━━━━━━━━━━━━━━━━━━━━━━━━━━━━━ 2.1/2.1 MB 70.7 MB/s eta 0:00:00\n",
            "Collecting posthog\n",
            "  Downloading posthog-2.2.0-py2.py3-none-any.whl (33 kB)\n",
            "Collecting transformers[torch]==4.25.1\n",
            "  Downloading transformers-4.25.1-py3-none-any.whl (5.8 MB)\n",
            "     ━━━━━━━━━━━━━━━━━━━━━━━━━━━━━━━━━━━━━━━━ 5.8/5.8 MB 37.5 MB/s eta 0:00:00\n",
            "Collecting python-docx\n",
            "  Downloading python-docx-0.8.11.tar.gz (5.6 MB)\n",
            "     ━━━━━━━━━━━━━━━━━━━━━━━━━━━━━━━━━━━━━━━━ 5.6/5.6 MB 91.7 MB/s eta 0:00:00\n",
            "  Preparing metadata (setup.py): started\n",
            "  Preparing metadata (setup.py): finished with status 'done'\n",
            "Requirement already satisfied: requests in /usr/local/lib/python3.8/dist-packages (from farm-haystack[colab,faiss]) (2.25.1)\n",
            "Collecting rank-bm25\n",
            "  Downloading rank_bm25-0.2.2-py3-none-any.whl (8.6 kB)\n",
            "Requirement already satisfied: nltk in /usr/local/lib/python3.8/dist-packages (from farm-haystack[colab,faiss]) (3.7)\n",
            "Requirement already satisfied: dill in /usr/local/lib/python3.8/dist-packages (from farm-haystack[colab,faiss]) (0.3.6)\n",
            "Requirement already satisfied: protobuf<=3.20.2 in /usr/local/lib/python3.8/dist-packages (from farm-haystack[colab,faiss]) (3.19.6)\n",
            "Collecting mmh3\n",
            "  Downloading mmh3-3.0.0-cp38-cp38-manylinux2010_x86_64.whl (50 kB)\n",
            "     ━━━━━━━━━━━━━━━━━━━━━━━━━━━━━━━━━━━━━━━━ 50.0/50.0 kB 6.7 MB/s eta 0:00:00\n",
            "Requirement already satisfied: pydantic in /usr/local/lib/python3.8/dist-packages (from farm-haystack[colab,faiss]) (1.10.2)\n",
            "Requirement already satisfied: scipy>=1.3.2 in /usr/local/lib/python3.8/dist-packages (from farm-haystack[colab,faiss]) (1.7.3)\n",
            "Requirement already satisfied: networkx in /usr/local/lib/python3.8/dist-packages (from farm-haystack[colab,faiss]) (2.8.8)\n",
            "Collecting huggingface-hub>=0.5.0\n",
            "  Downloading huggingface_hub-0.11.1-py3-none-any.whl (182 kB)\n",
            "     ━━━━━━━━━━━━━━━━━━━━━━━━━━━━━━━━━━━━━━ 182.4/182.4 kB 23.0 MB/s eta 0:00:00\n",
            "Collecting langdetect\n",
            "  Downloading langdetect-1.0.9.tar.gz (981 kB)\n",
            "     ━━━━━━━━━━━━━━━━━━━━━━━━━━━━━━━━━━━━━━ 981.5/981.5 kB 61.8 MB/s eta 0:00:00\n",
            "  Preparing metadata (setup.py): started\n",
            "  Preparing metadata (setup.py): finished with status 'done'\n",
            "Collecting elasticsearch<8,>=7.7\n",
            "  Downloading elasticsearch-7.17.8-py2.py3-none-any.whl (385 kB)\n",
            "     ━━━━━━━━━━━━━━━━━━━━━━━━━━━━━━━━━━━━━━ 386.0/386.0 kB 37.1 MB/s eta 0:00:00\n",
            "Collecting quantulum3\n",
            "  Downloading quantulum3-0.7.11-py3-none-any.whl (10.7 MB)\n",
            "     ━━━━━━━━━━━━━━━━━━━━━━━━━━━━━━━━━━━━━━━━ 10.7/10.7 MB 83.1 MB/s eta 0:00:00\n",
            "Requirement already satisfied: more-itertools in /usr/local/lib/python3.8/dist-packages (from farm-haystack[colab,faiss]) (9.0.0)\n",
            "Collecting mlflow\n",
            "  Downloading mlflow-2.1.1-py3-none-any.whl (16.7 MB)\n",
            "     ━━━━━━━━━━━━━━━━━━━━━━━━━━━━━━━━━━━━━━━━ 16.7/16.7 MB 86.5 MB/s eta 0:00:00\n",
            "Collecting seqeval\n",
            "  Downloading seqeval-1.2.2.tar.gz (43 kB)\n",
            "     ━━━━━━━━━━━━━━━━━━━━━━━━━━━━━━━━━━━━━━━━ 43.6/43.6 kB 4.3 MB/s eta 0:00:00\n",
            "  Preparing metadata (setup.py): started\n",
            "  Preparing metadata (setup.py): finished with status 'done'\n",
            "Collecting sentence-transformers>=2.2.0\n",
            "  Downloading sentence-transformers-2.2.2.tar.gz (85 kB)\n",
            "     ━━━━━━━━━━━━━━━━━━━━━━━━━━━━━━━━━━━━━━━━ 86.0/86.0 kB 11.8 MB/s eta 0:00:00\n",
            "  Preparing metadata (setup.py): started\n",
            "  Preparing metadata (setup.py): finished with status 'done'\n",
            "Requirement already satisfied: scikit-learn>=1.0.0 in /usr/local/lib/python3.8/dist-packages (from farm-haystack[colab,faiss]) (1.0.2)\n",
            "Collecting azure-ai-formrecognizer>=3.2.0b2\n",
            "  Downloading azure_ai_formrecognizer-3.2.0-py3-none-any.whl (228 kB)\n",
            "     ━━━━━━━━━━━━━━━━━━━━━━━━━━━━━━━━━━━━━━ 228.4/228.4 kB 26.7 MB/s eta 0:00:00\n",
            "Collecting tika\n",
            "  Downloading tika-2.6.0.tar.gz (27 kB)\n",
            "  Preparing metadata (setup.py): started\n",
            "  Preparing metadata (setup.py): finished with status 'done'\n",
            "Requirement already satisfied: pillow<=9.0.0 in /usr/local/lib/python3.8/dist-packages (from farm-haystack[colab,faiss]) (7.1.2)\n",
            "Requirement already satisfied: regex!=2019.12.17 in /usr/local/lib/python3.8/dist-packages (from transformers[torch]==4.25.1->farm-haystack[colab,faiss]) (2022.6.2)\n",
            "Requirement already satisfied: pyyaml>=5.1 in /usr/local/lib/python3.8/dist-packages (from transformers[torch]==4.25.1->farm-haystack[colab,faiss]) (6.0)\n",
            "Requirement already satisfied: packaging>=20.0 in /usr/local/lib/python3.8/dist-packages (from transformers[torch]==4.25.1->farm-haystack[colab,faiss]) (21.3)\n",
            "Requirement already satisfied: numpy>=1.17 in /usr/local/lib/python3.8/dist-packages (from transformers[torch]==4.25.1->farm-haystack[colab,faiss]) (1.21.6)\n",
            "Requirement already satisfied: filelock in /usr/local/lib/python3.8/dist-packages (from transformers[torch]==4.25.1->farm-haystack[colab,faiss]) (3.8.2)\n",
            "Collecting tokenizers!=0.11.3,<0.14,>=0.11.1\n",
            "  Downloading tokenizers-0.13.2-cp38-cp38-manylinux_2_17_x86_64.manylinux2014_x86_64.whl (7.6 MB)\n",
            "     ━━━━━━━━━━━━━━━━━━━━━━━━━━━━━━━━━━━━━━━━ 7.6/7.6 MB 108.9 MB/s eta 0:00:00\n",
            "Requirement already satisfied: torch!=1.12.0,>=1.7 in /usr/local/lib/python3.8/dist-packages (from transformers[torch]==4.25.1->farm-haystack[colab,faiss]) (1.13.0+cu116)\n",
            "Collecting azure-common~=1.1\n",
            "  Downloading azure_common-1.1.28-py2.py3-none-any.whl (14 kB)\n",
            "Collecting msrest>=0.6.21\n",
            "  Downloading msrest-0.7.1-py3-none-any.whl (85 kB)\n",
            "     ━━━━━━━━━━━━━━━━━━━━━━━━━━━━━━━━━━━━━━━━ 85.4/85.4 kB 11.6 MB/s eta 0:00:00\n",
            "Collecting azure-core<2.0.0,>=1.23.0\n",
            "  Downloading azure_core-1.26.1-py3-none-any.whl (172 kB)\n",
            "     ━━━━━━━━━━━━━━━━━━━━━━━━━━━━━━━━━━━━━━ 172.6/172.6 kB 23.3 MB/s eta 0:00:00\n",
            "Requirement already satisfied: typing-extensions>=4.0.1 in /usr/local/lib/python3.8/dist-packages (from azure-ai-formrecognizer>=3.2.0b2->farm-haystack[colab,faiss]) (4.4.0)\n",
            "Requirement already satisfied: certifi in /usr/local/lib/python3.8/dist-packages (from elasticsearch<8,>=7.7->farm-haystack[colab,faiss]) (2022.12.7)\n",
            "Requirement already satisfied: urllib3<2,>=1.21.1 in /usr/local/lib/python3.8/dist-packages (from elasticsearch<8,>=7.7->farm-haystack[colab,faiss]) (1.24.3)\n",
            "Collecting jarowinkler<2.0.0,>=1.2.0\n",
            "  Downloading jarowinkler-1.2.3-cp38-cp38-manylinux_2_17_x86_64.manylinux2014_x86_64.whl (114 kB)\n",
            "     ━━━━━━━━━━━━━━━━━━━━━━━━━━━━━━━━━━━━━━ 114.1/114.1 kB 13.7 MB/s eta 0:00:00\n",
            "Requirement already satisfied: threadpoolctl>=2.0.0 in /usr/local/lib/python3.8/dist-packages (from scikit-learn>=1.0.0->farm-haystack[colab,faiss]) (3.1.0)\n",
            "Requirement already satisfied: joblib>=0.11 in /usr/local/lib/python3.8/dist-packages (from scikit-learn>=1.0.0->farm-haystack[colab,faiss]) (1.2.0)\n",
            "Requirement already satisfied: torchvision in /usr/local/lib/python3.8/dist-packages (from sentence-transformers>=2.2.0->farm-haystack[colab,faiss]) (0.14.0+cu116)\n",
            "Collecting sentencepiece\n",
            "  Downloading sentencepiece-0.1.97-cp38-cp38-manylinux_2_17_x86_64.manylinux2014_x86_64.whl (1.3 MB)\n",
            "     ━━━━━━━━━━━━━━━━━━━━━━━━━━━━━━━━━━━━━━━━ 1.3/1.3 MB 61.7 MB/s eta 0:00:00\n",
            "Collecting psycopg2-binary\n",
            "  Downloading psycopg2_binary-2.9.5-cp38-cp38-manylinux_2_17_x86_64.manylinux2014_x86_64.whl (3.0 MB)\n",
            "     ━━━━━━━━━━━━━━━━━━━━━━━━━━━━━━━━━━━━━━━━ 3.0/3.0 MB 92.3 MB/s eta 0:00:00\n",
            "Requirement already satisfied: sqlalchemy<2,>=1.4.2 in /usr/local/lib/python3.8/dist-packages (from farm-haystack[colab,faiss]) (1.4.45)\n",
            "Collecting sqlalchemy-utils\n",
            "  Downloading SQLAlchemy_Utils-0.39.0-py3-none-any.whl (92 kB)\n",
            "     ━━━━━━━━━━━━━━━━━━━━━━━━━━━━━━━━━━━━━━━━ 92.5/92.5 kB 9.3 MB/s eta 0:00:00\n",
            "Collecting faiss-cpu<=1.7.2,>=1.6.3\n",
            "  Downloading faiss_cpu-1.7.2-cp38-cp38-manylinux_2_17_x86_64.manylinux2014_x86_64.whl (8.6 MB)\n",
            "     ━━━━━━━━━━━━━━━━━━━━━━━━━━━━━━━━━━━━━━━━ 8.6/8.6 MB 25.6 MB/s eta 0:00:00\n",
            "Requirement already satisfied: attrs>=17.4.0 in /usr/local/lib/python3.8/dist-packages (from jsonschema->farm-haystack[colab,faiss]) (22.2.0)\n",
            "Requirement already satisfied: pyrsistent!=0.17.0,!=0.17.1,!=0.17.2,>=0.14.0 in /usr/local/lib/python3.8/dist-packages (from jsonschema->farm-haystack[colab,faiss]) (0.19.2)\n",
            "Requirement already satisfied: importlib-resources>=1.4.0 in /usr/local/lib/python3.8/dist-packages (from jsonschema->farm-haystack[colab,faiss]) (5.10.1)\n",
            "Requirement already satisfied: six in /usr/local/lib/python3.8/dist-packages (from langdetect->farm-haystack[colab,faiss]) (1.15.0)\n",
            "Requirement already satisfied: sqlparse<1,>=0.4.0 in /usr/local/lib/python3.8/dist-packages (from mlflow->farm-haystack[colab,faiss]) (0.4.3)\n",
            "Collecting shap<1,>=0.40\n",
            "  Downloading shap-0.41.0-cp38-cp38-manylinux_2_12_x86_64.manylinux2010_x86_64.whl (575 kB)\n",
            "     ━━━━━━━━━━━━━━━━━━━━━━━━━━━━━━━━━━━━━━ 575.9/575.9 kB 31.5 MB/s eta 0:00:00\n",
            "Requirement already satisfied: Jinja2<4,>=2.11 in /usr/local/lib/python3.8/dist-packages (from mlflow->farm-haystack[colab,faiss]) (2.11.3)\n",
            "Collecting alembic<2\n",
            "  Downloading alembic-1.9.1-py3-none-any.whl (210 kB)\n",
            "     ━━━━━━━━━━━━━━━━━━━━━━━━━━━━━━━━━━━━━━ 210.4/210.4 kB 23.5 MB/s eta 0:00:00\n",
            "Requirement already satisfied: markdown<4,>=3.3 in /usr/local/lib/python3.8/dist-packages (from mlflow->farm-haystack[colab,faiss]) (3.4.1)\n",
            "Requirement already satisfied: entrypoints<1 in /usr/local/lib/python3.8/dist-packages (from mlflow->farm-haystack[colab,faiss]) (0.4)\n",
            "Collecting gitpython<4,>=2.1.0\n",
            "  Downloading GitPython-3.1.30-py3-none-any.whl (184 kB)\n",
            "     ━━━━━━━━━━━━━━━━━━━━━━━━━━━━━━━━━━━━━━ 184.0/184.0 kB 20.8 MB/s eta 0:00:00\n",
            "Collecting gunicorn<21\n",
            "  Downloading gunicorn-20.1.0-py3-none-any.whl (79 kB)\n",
            "     ━━━━━━━━━━━━━━━━━━━━━━━━━━━━━━━━━━━━━━━━ 79.5/79.5 kB 10.2 MB/s eta 0:00:00\n",
            "Requirement already satisfied: importlib-metadata!=4.7.0,<6,>=3.7.0 in /usr/local/lib/python3.8/dist-packages (from mlflow->farm-haystack[colab,faiss]) (5.2.0)\n",
            "Collecting databricks-cli<1,>=0.8.7\n",
            "  Downloading databricks-cli-0.17.4.tar.gz (82 kB)\n",
            "     ━━━━━━━━━━━━━━━━━━━━━━━━━━━━━━━━━━━━━━━━ 82.3/82.3 kB 7.9 MB/s eta 0:00:00\n",
            "  Preparing metadata (setup.py): started\n",
            "  Preparing metadata (setup.py): finished with status 'done'\n",
            "Requirement already satisfied: Flask<3 in /usr/local/lib/python3.8/dist-packages (from mlflow->farm-haystack[colab,faiss]) (1.1.4)\n",
            "Requirement already satisfied: click<9,>=7.0 in /usr/local/lib/python3.8/dist-packages (from mlflow->farm-haystack[colab,faiss]) (7.1.2)\n",
            "Requirement already satisfied: matplotlib<4 in /usr/local/lib/python3.8/dist-packages (from mlflow->farm-haystack[colab,faiss]) (3.2.2)\n",
            "Requirement already satisfied: cloudpickle<3 in /usr/local/lib/python3.8/dist-packages (from mlflow->farm-haystack[colab,faiss]) (1.5.0)\n",
            "Requirement already satisfied: pyarrow<11,>=4.0.0 in /usr/local/lib/python3.8/dist-packages (from mlflow->farm-haystack[colab,faiss]) (9.0.0)\n",
            "Collecting querystring-parser<2\n",
            "  Downloading querystring_parser-1.2.4-py2.py3-none-any.whl (7.9 kB)\n",
            "Collecting docker<7,>=4.0.0\n",
            "  Downloading docker-6.0.1-py3-none-any.whl (147 kB)\n",
            "     ━━━━━━━━━━━━━━━━━━━━━━━━━━━━━━━━━━━━━━ 147.5/147.5 kB 18.3 MB/s eta 0:00:00\n",
            "Requirement already satisfied: pytz<2023 in /usr/local/lib/python3.8/dist-packages (from mlflow->farm-haystack[colab,faiss]) (2022.7)\n",
            "Requirement already satisfied: python-dateutil>=2.7.3 in /usr/local/lib/python3.8/dist-packages (from pandas->farm-haystack[colab,faiss]) (2.8.2)\n",
            "Requirement already satisfied: chardet<5,>=3.0.2 in /usr/local/lib/python3.8/dist-packages (from requests->farm-haystack[colab,faiss]) (4.0.0)\n",
            "Requirement already satisfied: idna<3,>=2.5 in /usr/local/lib/python3.8/dist-packages (from requests->farm-haystack[colab,faiss]) (2.10)\n",
            "Collecting backoff<2.0.0,>=1.10.0\n",
            "  Downloading backoff-1.11.1-py2.py3-none-any.whl (13 kB)\n",
            "Collecting monotonic>=1.5\n",
            "  Downloading monotonic-1.6-py2.py3-none-any.whl (8.2 kB)\n",
            "Requirement already satisfied: lxml>=2.3.2 in /usr/local/lib/python3.8/dist-packages (from python-docx->farm-haystack[colab,faiss]) (4.9.2)\n",
            "Collecting num2words\n",
            "  Downloading num2words-0.5.12-py3-none-any.whl (125 kB)\n",
            "     ━━━━━━━━━━━━━━━━━━━━━━━━━━━━━━━━━━━━━━ 125.2/125.2 kB 16.3 MB/s eta 0:00:00\n",
            "Requirement already satisfied: inflect in /usr/local/lib/python3.8/dist-packages (from quantulum3->farm-haystack[colab,faiss]) (2.1.0)\n",
            "Requirement already satisfied: setuptools in /usr/local/lib/python3.8/dist-packages (from tika->farm-haystack[colab,faiss]) (57.4.0)\n",
            "Collecting Mako\n",
            "  Downloading Mako-1.2.4-py3-none-any.whl (78 kB)\n",
            "     ━━━━━━━━━━━━━━━━━━━━━━━━━━━━━━━━━━━━━━━━ 78.7/78.7 kB 11.5 MB/s eta 0:00:00\n",
            "Collecting pyjwt>=1.7.0\n",
            "  Downloading PyJWT-2.6.0-py3-none-any.whl (20 kB)\n",
            "Requirement already satisfied: oauthlib>=3.1.0 in /usr/local/lib/python3.8/dist-packages (from databricks-cli<1,>=0.8.7->mlflow->farm-haystack[colab,faiss]) (3.2.2)\n",
            "Requirement already satisfied: tabulate>=0.7.7 in /usr/local/lib/python3.8/dist-packages (from databricks-cli<1,>=0.8.7->mlflow->farm-haystack[colab,faiss]) (0.8.10)\n",
            "Collecting websocket-client>=0.32.0\n",
            "  Downloading websocket_client-1.4.2-py3-none-any.whl (55 kB)\n",
            "     ━━━━━━━━━━━━━━━━━━━━━━━━━━━━━━━━━━━━━━━━ 55.3/55.3 kB 4.1 MB/s eta 0:00:00\n",
            "Collecting urllib3<2,>=1.21.1\n",
            "  Downloading urllib3-1.26.13-py2.py3-none-any.whl (140 kB)\n",
            "     ━━━━━━━━━━━━━━━━━━━━━━━━━━━━━━━━━━━━━━ 140.6/140.6 kB 17.5 MB/s eta 0:00:00\n",
            "Collecting requests\n",
            "  Downloading requests-2.28.1-py3-none-any.whl (62 kB)\n",
            "     ━━━━━━━━━━━━━━━━━━━━━━━━━━━━━━━━━━━━━━━━ 62.8/62.8 kB 7.4 MB/s eta 0:00:00\n",
            "Requirement already satisfied: charset-normalizer<3,>=2 in /usr/local/lib/python3.8/dist-packages (from requests->farm-haystack[colab,faiss]) (2.1.1)\n",
            "Requirement already satisfied: itsdangerous<2.0,>=0.24 in /usr/local/lib/python3.8/dist-packages (from Flask<3->mlflow->farm-haystack[colab,faiss]) (1.1.0)\n",
            "Requirement already satisfied: Werkzeug<2.0,>=0.15 in /usr/local/lib/python3.8/dist-packages (from Flask<3->mlflow->farm-haystack[colab,faiss]) (1.0.1)\n",
            "Collecting gitdb<5,>=4.0.1\n",
            "  Downloading gitdb-4.0.10-py3-none-any.whl (62 kB)\n",
            "     ━━━━━━━━━━━━━━━━━━━━━━━━━━━━━━━━━━━━━━━━ 62.7/62.7 kB 8.7 MB/s eta 0:00:00\n",
            "Requirement already satisfied: zipp>=0.5 in /usr/local/lib/python3.8/dist-packages (from importlib-metadata!=4.7.0,<6,>=3.7.0->mlflow->farm-haystack[colab,faiss]) (3.11.0)\n",
            "Requirement already satisfied: MarkupSafe>=0.23 in /usr/local/lib/python3.8/dist-packages (from Jinja2<4,>=2.11->mlflow->farm-haystack[colab,faiss]) (2.0.1)\n",
            "Requirement already satisfied: kiwisolver>=1.0.1 in /usr/local/lib/python3.8/dist-packages (from matplotlib<4->mlflow->farm-haystack[colab,faiss]) (1.4.4)\n",
            "Requirement already satisfied: pyparsing!=2.0.4,!=2.1.2,!=2.1.6,>=2.0.1 in /usr/local/lib/python3.8/dist-packages (from matplotlib<4->mlflow->farm-haystack[colab,faiss]) (3.0.9)\n",
            "Requirement already satisfied: cycler>=0.10 in /usr/local/lib/python3.8/dist-packages (from matplotlib<4->mlflow->farm-haystack[colab,faiss]) (0.11.0)\n",
            "Collecting isodate>=0.6.0\n",
            "  Downloading isodate-0.6.1-py2.py3-none-any.whl (41 kB)\n",
            "     ━━━━━━━━━━━━━━━━━━━━━━━━━━━━━━━━━━━━━━━━ 41.7/41.7 kB 3.7 MB/s eta 0:00:00\n",
            "Requirement already satisfied: requests-oauthlib>=0.5.0 in /usr/local/lib/python3.8/dist-packages (from msrest>=0.6.21->azure-ai-formrecognizer>=3.2.0b2->farm-haystack[colab,faiss]) (1.3.1)\n",
            "Collecting slicer==0.0.7\n",
            "  Downloading slicer-0.0.7-py3-none-any.whl (14 kB)\n",
            "Requirement already satisfied: numba in /usr/local/lib/python3.8/dist-packages (from shap<1,>=0.40->mlflow->farm-haystack[colab,faiss]) (0.56.4)\n",
            "Requirement already satisfied: greenlet!=0.4.17 in /usr/local/lib/python3.8/dist-packages (from sqlalchemy<2,>=1.4.2->farm-haystack[colab,faiss]) (2.0.1)\n",
            "Collecting docopt>=0.6.2\n",
            "  Downloading docopt-0.6.2.tar.gz (25 kB)\n",
            "  Preparing metadata (setup.py): started\n",
            "  Preparing metadata (setup.py): finished with status 'done'\n",
            "Collecting smmap<6,>=3.0.1\n",
            "  Downloading smmap-5.0.0-py3-none-any.whl (24 kB)\n",
            "Requirement already satisfied: llvmlite<0.40,>=0.39.0dev0 in /usr/local/lib/python3.8/dist-packages (from numba->shap<1,>=0.40->mlflow->farm-haystack[colab,faiss]) (0.39.1)\n",
            "Building wheels for collected packages: sentence-transformers, farm-haystack, langdetect, python-docx, seqeval, tika, databricks-cli, docopt\n",
            "  Building wheel for sentence-transformers (setup.py): started\n",
            "  Building wheel for sentence-transformers (setup.py): finished with status 'done'\n",
            "  Created wheel for sentence-transformers: filename=sentence_transformers-2.2.2-py3-none-any.whl size=125938 sha256=49281227bde92e25f6c600cad57bc4fd600218b4767bbe31e4f6da9ee9686bfd\n",
            "  Stored in directory: /root/.cache/pip/wheels/30/b4/1c/7509ecb4c391a7be4cdf2ff04df077a568cd52471007e436e6\n",
            "  Building wheel for farm-haystack (pyproject.toml): started\n",
            "  Building wheel for farm-haystack (pyproject.toml): finished with status 'done'\n",
            "  Created wheel for farm-haystack: filename=farm_haystack-1.13.0rc0-py3-none-any.whl size=600386 sha256=563ac1d5ebbc7409a3d7494f96fc95aa5f07e0dde0afb7fb61d1b290506029bf\n",
            "  Stored in directory: /tmp/pip-ephem-wheel-cache-5nqxjx7k/wheels/97/0d/ae/77cde17929fbf66c8320f19b30789acfe52e2312bb1d125be1\n",
            "  Building wheel for langdetect (setup.py): started\n",
            "  Building wheel for langdetect (setup.py): finished with status 'done'\n",
            "  Created wheel for langdetect: filename=langdetect-1.0.9-py3-none-any.whl size=993242 sha256=40c8b9ff2123f1414d432daf6e0b173515024a8d91538515a7c4944bbbbb0b7e\n",
            "  Stored in directory: /root/.cache/pip/wheels/fc/af/97/539976921e53b1542a28f7160e511ac730b5d2cdcb41423ebb\n",
            "  Building wheel for python-docx (setup.py): started\n",
            "  Building wheel for python-docx (setup.py): finished with status 'done'\n",
            "  Created wheel for python-docx: filename=python_docx-0.8.11-py3-none-any.whl size=184505 sha256=5352a52b93286b6cc5f0a73ec97d8b501ff1017a51ca34a5799adc68fc209201\n",
            "  Stored in directory: /root/.cache/pip/wheels/1c/10/08/226d68e153dd4ec32713fbac0b1800b1311ff0adbc8eab3c06\n",
            "  Building wheel for seqeval (setup.py): started\n",
            "  Building wheel for seqeval (setup.py): finished with status 'done'\n",
            "  Created wheel for seqeval: filename=seqeval-1.2.2-py3-none-any.whl size=16179 sha256=5916ba36173fa9bc8356d05d1fb3504ddaf45df52550d18cfd1fc49acc25cef9\n",
            "  Stored in directory: /root/.cache/pip/wheels/e3/30/9b/6b670dac34775f2b7cc4e9b172202e81fbb4f9cdb103c1ca66\n",
            "  Building wheel for tika (setup.py): started\n",
            "  Building wheel for tika (setup.py): finished with status 'done'\n",
            "  Created wheel for tika: filename=tika-2.6.0-py3-none-any.whl size=32642 sha256=4bd377bc951f3a4b9ea9decc2507d9e0c8db3040d39da6e0d0ee8e57a2923aa2\n",
            "  Stored in directory: /root/.cache/pip/wheels/90/24/b6/6d3480f25c91fcc9a55b4e76f180baf087ee2acd16e561a015\n",
            "  Building wheel for databricks-cli (setup.py): started\n",
            "  Building wheel for databricks-cli (setup.py): finished with status 'done'\n",
            "  Created wheel for databricks-cli: filename=databricks_cli-0.17.4-py3-none-any.whl size=142894 sha256=0fc415f478d0e4be620cde5a9f3a192533e3429ac2ff3547cbbb88c4251e993d\n",
            "  Stored in directory: /root/.cache/pip/wheels/0a/0b/75/44edb38430dc44de74324d6e72d91d0d14d21df90349767335\n",
            "  Building wheel for docopt (setup.py): started\n",
            "  Building wheel for docopt (setup.py): finished with status 'done'\n",
            "  Created wheel for docopt: filename=docopt-0.6.2-py2.py3-none-any.whl size=13723 sha256=56369caefe8812581229f14b1b343eb3001a39f960abd161a4ad3e4c51679d1c\n",
            "  Stored in directory: /root/.cache/pip/wheels/ca/cc/e3/f1e272f628fdb013d969acc99cfe2e031ea15b3efb74ffe842\n",
            "Successfully built sentence-transformers farm-haystack langdetect python-docx seqeval tika databricks-cli docopt\n",
            "Installing collected packages: tokenizers, sentencepiece, monotonic, mmh3, faiss-cpu, docopt, azure-common, websocket-client, urllib3, smmap, slicer, rank-bm25, querystring-parser, python-docx, pyjwt, psycopg2-binary, num2words, Mako, langdetect, jarowinkler, isodate, gunicorn, backoff, sqlalchemy-utils, requests, rapidfuzz, quantulum3, gitdb, elasticsearch, alembic, tika, shap, seqeval, posthog, huggingface-hub, gitpython, docker, databricks-cli, azure-core, transformers, msrest, mlflow, sentence-transformers, azure-ai-formrecognizer, farm-haystack\n",
            "  Attempting uninstall: urllib3\n",
            "    Found existing installation: urllib3 1.24.3\n",
            "    Uninstalling urllib3-1.24.3:\n",
            "      Successfully uninstalled urllib3-1.24.3\n",
            "  Attempting uninstall: requests\n",
            "    Found existing installation: requests 2.25.1\n",
            "    Uninstalling requests-2.25.1:\n",
            "      Successfully uninstalled requests-2.25.1\n",
            "Successfully installed Mako-1.2.4 alembic-1.9.1 azure-ai-formrecognizer-3.2.0 azure-common-1.1.28 azure-core-1.26.1 backoff-1.11.1 databricks-cli-0.17.4 docker-6.0.1 docopt-0.6.2 elasticsearch-7.17.8 faiss-cpu-1.7.2 farm-haystack-1.13.0rc0 gitdb-4.0.10 gitpython-3.1.30 gunicorn-20.1.0 huggingface-hub-0.11.1 isodate-0.6.1 jarowinkler-1.2.3 langdetect-1.0.9 mlflow-2.1.1 mmh3-3.0.0 monotonic-1.6 msrest-0.7.1 num2words-0.5.12 posthog-2.2.0 psycopg2-binary-2.9.5 pyjwt-2.6.0 python-docx-0.8.11 quantulum3-0.7.11 querystring-parser-1.2.4 rank-bm25-0.2.2 rapidfuzz-2.7.0 requests-2.28.1 sentence-transformers-2.2.2 sentencepiece-0.1.97 seqeval-1.2.2 shap-0.41.0 slicer-0.0.7 smmap-5.0.0 sqlalchemy-utils-0.39.0 tika-2.6.0 tokenizers-0.13.2 transformers-4.25.1 urllib3-1.26.13 websocket-client-1.4.2\n"
          ]
        },
        {
          "output_type": "stream",
          "name": "stderr",
          "text": [
            "  Running command git clone --filter=blob:none --quiet https://github.com/deepset-ai/haystack.git /tmp/pip-install-s1rnujr4/farm-haystack_583840abb1744ecdb0e47c494cbd43f0\n",
            "WARNING: Running pip as the 'root' user can result in broken permissions and conflicting behaviour with the system package manager. It is recommended to use a virtual environment instead: https://pip.pypa.io/warnings/venv\n"
          ]
        }
      ],
      "source": [
        "%%bash\n",
        "\n",
        "pip install --upgrade pip\n",
        "pip install git+https://github.com/deepset-ai/haystack.git#egg=farm-haystack[colab,faiss]"
      ]
    },
    {
      "cell_type": "markdown",
      "metadata": {
        "collapsed": false,
        "pycharm": {
          "name": "#%% md\n"
        },
        "id": "NaYveqZeYeW-"
      },
      "source": [
        "## Logging\n",
        "\n",
        "We configure how logging messages should be displayed and which log level should be used before importing Haystack.\n",
        "Example log message:\n",
        "INFO - haystack.utils.preprocessing -  Converting data/tutorial1/218_Olenna_Tyrell.txt\n",
        "Default log level in basicConfig is WARNING so the explicit parameter is not necessary but can be changed easily:"
      ]
    },
    {
      "cell_type": "code",
      "execution_count": 3,
      "metadata": {
        "pycharm": {
          "name": "#%%\n"
        },
        "id": "i5YJP3zXYeW_"
      },
      "outputs": [],
      "source": [
        "import logging\n",
        "\n",
        "logging.basicConfig(format=\"%(levelname)s - %(name)s -  %(message)s\", level=logging.WARNING)\n",
        "logging.getLogger(\"haystack\").setLevel(logging.INFO)"
      ]
    },
    {
      "cell_type": "markdown",
      "metadata": {
        "id": "q3dSo7ZtA6Nl"
      },
      "source": [
        "### Document Store\n",
        "\n",
        "FAISS is a library for efficient similarity search on a cluster of dense vectors.\n",
        "The `FAISSDocumentStore` uses a SQL(SQLite in-memory be default) database under-the-hood\n",
        "to store the document text and other meta data. The vector embeddings of the text are\n",
        "indexed on a FAISS Index that later is queried for searching answers.\n",
        "The default flavour of FAISSDocumentStore is \"Flat\" but can also be set to \"HNSW\" for\n",
        "faster search at the expense of some accuracy. Just set the faiss_index_factor_str argument in the constructor.\n",
        "For more info on which suits your use case: https://github.com/facebookresearch/faiss/wiki/Guidelines-to-choose-an-index"
      ]
    },
    {
      "cell_type": "code",
      "execution_count": 4,
      "metadata": {
        "id": "1cYgDJmrA6Nv",
        "pycharm": {
          "name": "#%%\n"
        },
        "outputId": "ec508b48-60e3-40af-f852-8d6b1c2847d4",
        "colab": {
          "base_uri": "https://localhost:8080/"
        }
      },
      "outputs": [
        {
          "output_type": "stream",
          "name": "stderr",
          "text": [
            "INFO:haystack.telemetry:Haystack sends anonymous usage data to understand the actual usage and steer dev efforts towards features that are most meaningful to users. You can opt-out at anytime by calling disable_telemetry() or by manually setting the environment variable HAYSTACK_TELEMETRY_ENABLED as described for different operating systems on the documentation page. More information at https://docs.haystack.deepset.ai/docs/telemetry\n"
          ]
        }
      ],
      "source": [
        "from haystack.document_stores import FAISSDocumentStore\n",
        "\n",
        "document_store = FAISSDocumentStore(embedding_dim=128, faiss_index_factory_str=\"Flat\")"
      ]
    },
    {
      "cell_type": "markdown",
      "metadata": {
        "id": "06LatTJBA6N0",
        "pycharm": {
          "name": "#%% md\n"
        }
      },
      "source": [
        "### Cleaning & indexing documents\n",
        "\n",
        "Similarly to the previous tutorials, we download, convert and index some Game of Thrones articles to our DocumentStore"
      ]
    },
    {
      "cell_type": "code",
      "execution_count": 12,
      "metadata": {
        "id": "iqKnu6wxA6N1",
        "pycharm": {
          "name": "#%%\n"
        },
        "outputId": "bb89daa3-af79-41a6-e987-7afe2f88c7df",
        "colab": {
          "base_uri": "https://localhost:8080/",
          "height": 101,
          "referenced_widgets": [
            "d3831e7ba4254115bdc6f67c7e3ab6cf",
            "3fe66a2c688f43639b38a6ea2d088032",
            "04b36d0b0ef247a3a438ab4b4b7c59f2",
            "2fea084b1d054009b6c37d51b02eb3f9",
            "08959e43de644daebf89c75a894495b4",
            "88c878eb90d841958d04edd05e76b500",
            "98ec6558121a4349b6cd26819b741cb7",
            "2eca51359bbb47aea03b01a404dd9ea7",
            "23d3ce6526794e838bbe6154106587fc",
            "eb159e246b77407cafdef8871202f0e3",
            "38a8b148e74e43a38ae9d4b36d5a045f"
          ]
        }
      },
      "outputs": [
        {
          "output_type": "stream",
          "name": "stderr",
          "text": [
            "INFO:haystack.utils.preprocessing:Converting data/custom/Julian_Assange.txt\n",
            "INFO:haystack.utils.preprocessing:Converting data/custom/Ramakrishna.txt\n",
            "INFO:haystack.utils.preprocessing:Converting data/custom/Swami_Vivekananda.txt\n"
          ]
        },
        {
          "output_type": "display_data",
          "data": {
            "text/plain": [
              "Writing Documents:   0%|          | 0/93 [00:00<?, ?it/s]"
            ],
            "application/vnd.jupyter.widget-view+json": {
              "version_major": 2,
              "version_minor": 0,
              "model_id": "d3831e7ba4254115bdc6f67c7e3ab6cf"
            }
          },
          "metadata": {}
        }
      ],
      "source": [
        "from haystack.utils import convert_files_to_docs, fetch_archive_from_http, clean_wiki_text\n",
        "\n",
        "\n",
        "# Let's first get some files that we want to use\n",
        "# doc_dir = \"data/tutorial12\"\n",
        "# s3_url = \"https://s3.eu-central-1.amazonaws.com/deepset.ai-farm-qa/datasets/documents/wiki_gameofthrones_txt12.zip\"\n",
        "# fetch_archive_from_http(url=s3_url, output_dir=doc_dir)\n",
        "doc_dir = \"data/custom\"\n",
        "# Convert files to dicts\n",
        "docs = convert_files_to_docs(dir_path=doc_dir, clean_func=clean_wiki_text, split_paragraphs=True)\n",
        "\n",
        "# Now, let's write the dicts containing documents to our DB.\n",
        "document_store.write_documents(docs)"
      ]
    },
    {
      "cell_type": "markdown",
      "metadata": {
        "id": "wgjedxx_A6N6"
      },
      "source": [
        "### Initialize Retriever and Reader/Generator\n",
        "\n",
        "#### Retriever\n",
        "\n",
        "We use a `DensePassageRetriever` and we invoke `update_embeddings` to index the embeddings of documents in the `FAISSDocumentStore`\n",
        "\n"
      ]
    },
    {
      "cell_type": "code",
      "execution_count": 13,
      "metadata": {
        "id": "kFwiPP60A6N7",
        "pycharm": {
          "is_executing": true
        },
        "outputId": "2ee3305a-36ea-4dc2-d88f-fc6a40917bf6",
        "colab": {
          "base_uri": "https://localhost:8080/",
          "height": 191,
          "referenced_widgets": [
            "27107878cd2e41e984d7dc43d8821487",
            "e735cbbd06d94307abd924b1f27d1b0f",
            "d356741329814842a25e84094fe51764",
            "25b9f2e3df7c4931838f11487b354ca7",
            "727430e192ad42638789391ded132a6c",
            "bc40ad2a061a48de928df173bbd0ddc7",
            "0f01ea8e08e24d94be09474359726c04",
            "cab7cdd5ac7a468cad7fd7d6726a829b",
            "bacfad43bc174fa4a779952627063e21",
            "8e7b67f62c4f47e4908c1a74c89399c9",
            "7522b6e8e4f74db28944b06296f7ee1a",
            "d8080860aae549a0861dba8e3e812e91",
            "543bb212d42a45d4a9f516312d19a547",
            "92da7ebbd1014575955163f51f0a6ea9",
            "c55f6d7513e84cf783d65357644d4276",
            "1bb5289ca5bb460cb1908bca95f6bbe1",
            "6b3b3727060e4f3d98c6072c6db70202",
            "5b8785dd125042ccb721956e80c92f2d",
            "350e92b3a6124b80a397c7b526d2f671",
            "d36bb461ec2a424e87ab8f17dd193e97",
            "64fd32d88cd540df95264b80f6ce5f19",
            "161211089850473489f8793acf1dd5e7"
          ]
        }
      },
      "outputs": [
        {
          "output_type": "stream",
          "name": "stderr",
          "text": [
            "INFO:haystack.modeling.utils:Using devices: CUDA:0 - Number of GPUs: 1\n",
            "INFO:haystack.modeling.model.language_model:Auto-detected model language: english\n",
            "The tokenizer class you load from this checkpoint is not the same type as the class this function is called from. It may result in unexpected tokenization. \n",
            "The tokenizer class you load from this checkpoint is 'DPRQuestionEncoderTokenizer'. \n",
            "The class this function is called from is 'DPRContextEncoderTokenizerFast'.\n",
            "INFO:haystack.modeling.model.language_model:Auto-detected model language: english\n",
            "INFO:haystack.document_stores.faiss:Updating embeddings for 2450 docs...\n"
          ]
        },
        {
          "output_type": "display_data",
          "data": {
            "text/plain": [
              "Updating Embedding:   0%|          | 0/2450 [00:00<?, ? docs/s]"
            ],
            "application/vnd.jupyter.widget-view+json": {
              "version_major": 2,
              "version_minor": 0,
              "model_id": "27107878cd2e41e984d7dc43d8821487"
            }
          },
          "metadata": {}
        },
        {
          "output_type": "display_data",
          "data": {
            "text/plain": [
              "Create embeddings:   0%|          | 0/2464 [00:00<?, ? Docs/s]"
            ],
            "application/vnd.jupyter.widget-view+json": {
              "version_major": 2,
              "version_minor": 0,
              "model_id": "d8080860aae549a0861dba8e3e812e91"
            }
          },
          "metadata": {}
        }
      ],
      "source": [
        "from haystack.nodes import DensePassageRetriever\n",
        "\n",
        "retriever = DensePassageRetriever(\n",
        "    document_store=document_store,\n",
        "    query_embedding_model=\"vblagoje/dpr-question_encoder-single-lfqa-wiki\",\n",
        "    passage_embedding_model=\"vblagoje/dpr-ctx_encoder-single-lfqa-wiki\",\n",
        ")\n",
        "\n",
        "document_store.update_embeddings(retriever)"
      ]
    },
    {
      "cell_type": "markdown",
      "metadata": {
        "id": "sMlVEnJ2NkZZ"
      },
      "source": [
        "Before we blindly use the `DensePassageRetriever` let's empirically test it to make sure a simple search indeed finds the relevant documents."
      ]
    },
    {
      "cell_type": "code",
      "execution_count": 15,
      "metadata": {
        "id": "qpu-t9rndgpe",
        "outputId": "409efffe-1429-4da4-cf5e-7716bb742ae5",
        "colab": {
          "base_uri": "https://localhost:8080/"
        }
      },
      "outputs": [
        {
          "output_type": "stream",
          "name": "stdout",
          "text": [
            "\n",
            "Query: who is Vivekananda?\n",
            "\n",
            "{   'content': '\\n'\n",
            "               \"=== Parliament of the World's Religions ===\\n\"\n",
            "               \"The Parliament of the World's Religions opened on 11 September \"\n",
            "               \"1893 at the Art Institute of Chicago, as part of the World's \"\n",
            "               'Columbian Exposition. On this day, Vivekananda gave a brief '\n",
            "               'speech representing India and Hinduism. He was initially '\n",
            "               'nervous, bowed to Saraswati (the Hindu goddess of learning) '\n",
            "               'and began his speech with \"Sisters and brothers of America!\". '\n",
            "               'At these words, Vivekananda received a two-minute standing '\n",
            "               'ovation from the crowd of seven thousand. Acc...',\n",
            "    'name': 'Swami_Vivekananda.txt'}\n",
            "\n",
            "{   'content': '\\n'\n",
            "               '== Teachings and philosophy ==\\n'\n",
            "               'While synthesizing and popularizing various strands of '\n",
            "               'Hindu-thought, most notably classical yoga and (Advaita) '\n",
            "               'Vedanta, Vivekananda was influenced by western ideas such as '\n",
            "               'Universalism, via Unitarian missionaries who collaborated with '\n",
            "               'the Brahmo Samaj. His initial beliefs were shaped by Brahmo '\n",
            "               'concepts, which included belief in a formless God and the '\n",
            "               'deprecation of idolatry, and a \"streamlined, rationalized, '\n",
            "               'monotheistic theology strongly coloured by a selective and '\n",
            "               'modernis...',\n",
            "    'name': 'Swami_Vivekananda.txt'}\n",
            "\n",
            "{   'content': 'Swami Vivekananda (; Bengali: [ʃami bibekanɔndo] (listen); 12 '\n",
            "               'January 1863 – 4 July 1902), born Narendranath Datta (Bengali: '\n",
            "               '[nɔrendronatʰ dɔto]), was an Indian Hindu monk, philosopher, '\n",
            "               'author, religious teacher, and the chief disciple of the '\n",
            "               'Indian mystic Ramakrishna. He was a key figure in the '\n",
            "               'introduction of Vedanta and Yoga to the Western world; and is '\n",
            "               'credited with raising interfaith awareness, and bringing '\n",
            "               'Hinduism to the status of a major world religion. Vivekananda '\n",
            "               'became a popular figure after the ...',\n",
            "    'name': 'Swami_Vivekananda.txt'}\n",
            "\n",
            "{   'content': '\\n'\n",
            "               '=== Lecture tours in the UK and US ===\\n'\n",
            "               'After the Parliament of Religions, he toured many parts of the '\n",
            "               'US as a guest. His popularity opened up new views for '\n",
            "               'expanding on \"life and religion to thousands\". During a '\n",
            "               'question-answer session at Brooklyn Ethical Society, he '\n",
            "               'remarked, \"I have a message to the West as Buddha had a '\n",
            "               'message to the East.\"\\n'\n",
            "               'Vivekananda spent nearly two years lecturing in the eastern '\n",
            "               'and central United States, primarily in Chicago, Detroit, '\n",
            "               'Boston, and New York. He founded the Vedanta So...',\n",
            "    'name': 'Swami_Vivekananda.txt'}\n",
            "\n",
            "{   'content': '\\n'\n",
            "               '== Back in India (1897–1899) ==\\n'\n",
            "               'The ship from Europe arrived in Colombo, British Ceylon (now '\n",
            "               'Sri Lanka) on 15 January 1897, and Vivekananda received a warm '\n",
            "               'welcome. In Colombo, he gave his first public speech in the '\n",
            "               'East. From there on, his journey to Calcutta was triumphant. '\n",
            "               'Vivekananda travelled from Colombo to Pamban, Rameswaram, '\n",
            "               'Ramnad, Madurai, Kumbakonam and Madras, delivering lectures. '\n",
            "               'Common people and rajas gave him an enthusiastic reception. '\n",
            "               'During his train travels, people often sat on the rails...',\n",
            "    'name': 'Swami_Vivekananda.txt'}\n",
            "\n",
            "{   'content': '\\n'\n",
            "               '=== Lectures ===\\n'\n",
            "               'Although Vivekananda was a powerful orator and writer in '\n",
            "               'English and Bengali, he was not a thorough scholar, and most '\n",
            "               'of his published works were compiled from lectures given '\n",
            "               'around the world which were \"mainly delivered [...] impromptu '\n",
            "               'and with little preparation\". His main work, Raja Yoga, '\n",
            "               'consists of talks he delivered in New York.',\n",
            "    'name': 'Swami_Vivekananda.txt'}\n",
            "\n",
            "{   'content': '\\n'\n",
            "               '== External links ==\\n'\n",
            "               'Works about Vivekananda via the Open Library\\n'\n",
            "               'Works by Vivekananda via the Open Library\\n'\n",
            "               'Works by or about Swami Vivekananda at Internet Archive\\n'\n",
            "               'Works by Swami Vivekananda at LibriVox (public domain '\n",
            "               'audiobooks) \\n'\n",
            "               \"Biography at Belur Math's official website\\n\"\n",
            "               'Complete Works of Vivekananda, Belur Math publication',\n",
            "    'name': 'Swami_Vivekananda.txt'}\n",
            "\n",
            "{   'content': '\\n'\n",
            "               '== Second visit to the West and final years (1899–1902) ==\\n'\n",
            "               'Despite declining health, Vivekananda left for the West for a '\n",
            "               'second time in June 1899 accompanied by Sister Nivedita and '\n",
            "               'Swami Turiyananda. Following a brief stay in England, he went '\n",
            "               'to the United States. During this visit, Vivekananda '\n",
            "               'established Vedanta Societies in San Francisco and New York '\n",
            "               'and founded a shanti ashrama (peace retreat) in California. He '\n",
            "               'then went to Paris for the Congress of Religions in 1900. His '\n",
            "               'lectures in Paris concerned th...',\n",
            "    'name': 'Swami_Vivekananda.txt'}\n",
            "\n",
            "{   'content': '\\n'\n",
            "               '== See also ==\\n'\n",
            "               'Relationship between Ramakrishna and Swami Vivekananda',\n",
            "    'name': 'Ramakrishna.txt'}\n",
            "\n",
            "{   'content': '\\n'\n",
            "               '== Influence and legacy ==\\n'\n",
            "               'Ramakrishna is considered an important figure in the Bengali '\n",
            "               'Renaissance of 19th–20th century. Several organisations have '\n",
            "               'been established in his name. The Ramakrishna Math and Mission '\n",
            "               'is the main organisation founded by Swami Vivekananda in 1897. '\n",
            "               'The Mission conducts extensive work in health care, disaster '\n",
            "               'relief, rural management, tribal welfare, elementary and '\n",
            "               'higher education. The movement is considered one of the '\n",
            "               'revitalisation movements of India. Amiya Sen writes that '\n",
            "               'Vivek...',\n",
            "    'name': 'Ramakrishna.txt'}\n",
            "\n"
          ]
        }
      ],
      "source": [
        "from haystack.utils import print_documents\n",
        "from haystack.pipelines import DocumentSearchPipeline\n",
        "\n",
        "p_retrieval = DocumentSearchPipeline(retriever)\n",
        "res = p_retrieval.run(query=\"who is Vivekananda?\", params={\"Retriever\": {\"top_k\": 10}})\n",
        "print_documents(res, max_text_len=512)"
      ]
    },
    {
      "cell_type": "markdown",
      "metadata": {
        "id": "rnVR28OXA6OA"
      },
      "source": [
        "#### Reader/Generator\n",
        "\n",
        "Similar to previous Tutorials we now initalize our reader/generator.\n",
        "\n",
        "Here we use a `Seq2SeqGenerator` with the *vblagoje/bart_lfqa* model (see: https://huggingface.co/vblagoje/bart_lfqa)\n",
        "\n"
      ]
    },
    {
      "cell_type": "code",
      "execution_count": 16,
      "metadata": {
        "id": "fyIuWVwhA6OB",
        "outputId": "b9a5de36-3573-40ec-f21c-ea1c336cb178",
        "colab": {
          "base_uri": "https://localhost:8080/"
        }
      },
      "outputs": [
        {
          "output_type": "stream",
          "name": "stderr",
          "text": [
            "INFO:haystack.modeling.utils:Using devices: CUDA:0 - Number of GPUs: 1\n"
          ]
        }
      ],
      "source": [
        "from haystack.nodes import Seq2SeqGenerator\n",
        "\n",
        "\n",
        "generator = Seq2SeqGenerator(model_name_or_path=\"vblagoje/bart_lfqa\")"
      ]
    },
    {
      "cell_type": "markdown",
      "metadata": {
        "id": "unhLD18yA6OF"
      },
      "source": [
        "### Pipeline\n",
        "\n",
        "With a Haystack `Pipeline` you can stick together your building blocks to a search pipeline.\n",
        "Under the hood, `Pipelines` are Directed Acyclic Graphs (DAGs) that you can easily customize for your own use cases.\n",
        "To speed things up, Haystack also comes with a few predefined Pipelines. One of them is the `GenerativeQAPipeline` that combines a retriever and a reader/generator to answer our questions.\n",
        "You can learn more about `Pipelines` in the [docs](https://haystack.deepset.ai/docs/latest/pipelinesmd)."
      ]
    },
    {
      "cell_type": "code",
      "execution_count": 17,
      "metadata": {
        "id": "TssPQyzWA6OG"
      },
      "outputs": [],
      "source": [
        "from haystack.pipelines import GenerativeQAPipeline\n",
        "\n",
        "pipe = GenerativeQAPipeline(generator, retriever)"
      ]
    },
    {
      "cell_type": "markdown",
      "metadata": {
        "id": "bXlBBxKXA6OL"
      },
      "source": [
        "## Voilà! Ask a question!"
      ]
    },
    {
      "cell_type": "code",
      "execution_count": 21,
      "metadata": {
        "id": "Zi97Hif2A6OM",
        "outputId": "2882397e-fbee-4271-f945-ea943f50cc56",
        "colab": {
          "base_uri": "https://localhost:8080/"
        }
      },
      "outputs": [
        {
          "output_type": "execute_result",
          "data": {
            "text/plain": [
              "{'query': 'why vivekananda rebelled  against Ramakrishna ?',\n",
              " 'answers': [<Answer {'answer': \"Vivekananda rebelled against Ramakrishna because he didn't like the way he was being treated. He didn't want to be a part of a monastic order, he wanted to live his life as a free man. He wanted to be able to do what he wanted, and not be bound by the rules of the order.\", 'type': 'generative', 'score': None, 'context': None, 'offsets_in_document': None, 'offsets_in_context': None, 'document_id': None, 'meta': {'doc_ids': ['5cc91b096718db5a1b852ff4b3c444da', '88094ab98a156c1790824ac88da9df4c', '86c2bc5511976fe69f0c29e8ffd3526', '17cff40e080b9b2cc0c50a525cbbc440', '557423284967059e4311c7ac868cbad9'], 'doc_scores': [0.5615968776830655, 0.5612102090059436, 0.5600596466662053, 0.5585489118063406, 0.5570334590045094], 'content': ['\\n=== Vivekananda ===\\nAmong the Europeans who were influenced by Ramakrishna was Principal Dr. William Hastie of the Scottish Church College, Kolkata. In the course of explaining the word trance in the poem The Excursion by William Wordsworth, Hastie told his students that if they wanted to know its \"real meaning\", they should go to \"Ramakrishna of Dakshineswar.\" This prompted some of his students, including Narendranath Dutta (later Swami Vivekananda), to visit Ramakrishna.\\nDespite initial reservations, Vivekananda became Ramakrishna\\'s most influential follower, popularizing a modern interpretation of Indian traditions which harmonised Tantra, Yoga and Advaita Vedanta. Vivekananda established the Ramakrishna order, which eventually spread its mission posts throughout the world. Monastic disciples, who renounced their family and became the earliest monks of the Ramakrishna order, included Rakhal Chandra Ghosh (Swami Brahmananda), Kaliprasad Chandra (Swami Abhedananda), Taraknath Ghoshal (Swami Shivananda), Sashibhushan Chakravarty (Swami Ramakrishnananda), Saratchandra Chakravarty (Swami Saradananda), Tulasi Charan Dutta (Swami Nirmalananda), Gangadhar Ghatak (Swami Akhandananda), Hari Prasana (Swami Vijnanananda) Swami Turiyananda and others.', '\\n== Teachings and philosophy ==\\nWhile synthesizing and popularizing various strands of Hindu-thought, most notably classical yoga and (Advaita) Vedanta, Vivekananda was influenced by western ideas such as Universalism, via Unitarian missionaries who collaborated with the Brahmo Samaj. His initial beliefs were shaped by Brahmo concepts, which included belief in a formless God and the deprecation of idolatry, and a \"streamlined, rationalized, monotheistic theology strongly coloured by a selective and modernistic reading of the Upanisads and of the Vedanta\". He propagated the idea that \"the divine, the absolute, exists within all human beings regardless of social status\", and that \"seeing the divine as the essence of others will promote love and social harmony\". Via his affiliations with Keshub Chandra Sen\\'s Nava Vidhan, the Freemasonry lodge, the Sadharan Brahmo Samaj, and Sen\\'s Band of Hope, Vivekananda became acquainted with Western esotericism.He was also influenced by Ramakrishna, who gradually brought Narendra to a Vedanta-based worldview that \"provides the ontological basis for \\'śivajñāne jīver sevā\\', the spiritual practice of serving human beings as actual manifestations of God.\"Vivekananda propagated that the essence of Hinduism was best expressed in Adi Shankara\\'s Advaita Vedanta philosophy. Nevertheless, following Ramakrishna, and in contrast to Advaita Vedanta, Vivekananda believed that the Absolute is both immanent and transcendent. According to Anil Sooklal, Vivekananda\\'s neo-Vedanta \"reconciles Dvaita or dualism and Advaita or non-dualism,\" viewing Brahman as \"one without a second,\" yet \"both qualified, saguna, and qualityless, nirguna.\" Vivekananda summarised the Vedanta as follows, giving it a modern and Universalistic interpretation, showing the influence of classical yoga:\\nEach soul is potentially divine. The goal is to manifest this Divinity within by controlling nature, external and internal. Do this either by work, or worship, or mental discipline, or philosophy—by one, or more, or all of these—and be free. This is the whole of religion. Doctrines, or dogmas, or rituals, or books, or temples, or forms, are but secondary details.\\nVivekananda\\'s emphasis on nirvikalpa samadhi was preceded by medieval yogic influences on Advaita Vedanta. In line with Advaita Vedanta texts like Dŗg-Dŗśya-Viveka (14th century) and Vedantasara (of Sadananda) (15th century), Vivekananda saw samadhi as a means to attain liberation.Vivekananda popularized the notion of involution, a term which Vivekananda probably took from western Theosophists, notably Helena Blavatsky, in addition to Darwin\\'s notion of evolution, and possibly referring to the Samkhya term sātkarya. Theosophic ideas on involution has \"much in common\" with \"theories of the descent of God in Gnosticism, Kabbalah, and other esoteric schools.\" According to Meera Nanda, \"Vivekananda uses the word involution exactly how it appears in Theosophy: the descent, or the involvement, of divine cosnciousness into matter.\" With spirit, Vivekananda refers to prana or purusha, derived (\"with some original twists\") from Samkhya and classical yoga as presented by Patanjali in the Yoga sutras.Vivekananda linked morality with control of the mind, seeing truth, purity and unselfishness as traits which strengthened it. He advised his followers to be holy, unselfish and to have shraddhā (faith). Vivekananda supported brahmacharya, believing it the source of his physical and mental stamina and eloquence.Vivekananda\\'s acquaintance with Western esotericism made him very successful in Western esoteric circles, beginning with his speech in 1893 at the Parliament of Religions. Vivekananda adapted traditional Hindu ideas and religiosity to suit the needs and understandings of his Western audiences, who were especially attracted by and familiar with Western esoteric traditions and movements like Transcendentalism and New thought. An important element in his adaptation of Hindu religiosity was the introduction of his four yoga\\'s model, which includes Raja yoga, his interpretation of Patanjali\\'s Yoga sutras, which offered a practical means to realize the divine force within which is central to modern Western esotericism. In 1896, his book Raja Yoga was published, which became an instant success and was highly influential in the Western understanding of yoga.Nationalism was a prominent theme in Vivekananda\\'s thought. He believed that a country\\'s future depends on its people, and his teachings focused on human development. He wanted \"to set in motion a machinery which will bring noblest ideas to the doorstep of even the poorest and the meanest\".', '\\n=== Transformation into neo-Vedantin ===\\nVivekananda portrayed Ramakrishna as an Advaita Vedantin. Vivekananda\\'s approach can be located in the historical background of Ramakrishna and Calcutta during the mid-19th century. Neevel notes that the image of Ramakrishna underwent several transformations in the writings of his prominent admirers, who changed the \\'religious madman\\' into a calm and well-behaving proponent of Advaita Vedanta. Narasingha Sil has argued that Vivekananda revised and mythologised Ramakrishna\\'s image after Ramakrishna\\'s death. McDaniel notes that the Ramakrishna Mission is biased towards Advaita Vedanta, and downplays the importance of Shaktism in Ramakrishna\\'s spirituality. Malcolm McLean argued that the Ramakrishna Movement presents \"a particular kind of explanation of Ramakrishna, that he was some kind of neo-Vedantist who taught that all religions lead to the same Godhead.\"Carl Olson argued that in his presentation of his master, Vivekananda had hid much of Ramakrishna\\'s embarrassing sexual oddities from the public, because he feared that Ramakrishna would be misunderstood. Tyagananda and Vrajaprana argue that Oslon makes his \"astonishing claim\" based on Kripal\\'s speculations in Kali\\'s Child, which they argue are unsupported by any of the source texts.Sumit Sarkar argued that he found in the Kathamrita traces of a binary opposition between unlearned oral wisdom and learned literate knowledge. He argues that all of our information about Ramakrishna, a rustic near-illiterate Brahmin, comes from urban bhadralok devotees, \"...whose texts simultaneously illuminate and transform.\"Amiya Prosad Sen criticises Neevel\\'s analysis, and writes that \"it is really difficult to separate the Tantrik Ramakrishna from the Vedantic\", since Vedanta and Tantra \"may appear to be different in some respects\", but they also \"share some important postulates between them\".', '\\n== Second visit to the West and final years (1899–1902) ==\\nDespite declining health, Vivekananda left for the West for a second time in June 1899 accompanied by Sister Nivedita and Swami Turiyananda. Following a brief stay in England, he went to the United States. During this visit, Vivekananda established Vedanta Societies in San Francisco and New York and founded a shanti ashrama (peace retreat) in California. He then went to Paris for the Congress of Religions in 1900. His lectures in Paris concerned the worship of the lingam and the authenticity of the Bhagavad Gita. Vivekananda then visited Brittany, Vienna, Istanbul, Athens and Egypt. The French philosopher Jules Bois was his host for most of this period, until he returned to Calcutta on 9 December 1900.After a brief visit to the Advaita Ashrama in Mayavati, Vivekananda settled at Belur Math, where he continued co-ordinating the works of Ramakrishna Mission, the math and the work in England and the US. He had many visitors, including royalty and politicians. Although Vivekananda was unable to attend the Congress of Religions in 1901 in Japan due to deteriorating health, he made pilgrimages to Bodhgaya and Varanasi. Declining health (including asthma, diabetes and chronic insomnia) restricted his activity.', '\\n=== Indian nationalism ===\\nIn the background of emerging nationalism in British-ruled India, Vivekananda crystallised the nationalistic ideal. In the words of social reformer Charles Freer Andrews, \"The Swami\\'s intrepid patriotism gave a new colour to the national movement throughout India. More than any other single individual of that period Vivekananda had made his contribution to the new awakening of India\". Vivekananda drew attention to the extent of poverty in the country, and maintained that addressing such poverty was a prerequisite for national awakening. His nationalistic ideas influenced many Indian thinkers and leaders. Sri Aurobindo regarded Vivekananda as the one who awakened India spiritually. Mahatma Gandhi counted him among the few Hindu reformers \"who have maintained this Hindu religion in a state of splendor by cutting down the dead wood of tradition\".'], 'titles': ['Ramakrishna.txt', 'Swami_Vivekananda.txt', 'Ramakrishna.txt', 'Swami_Vivekananda.txt', 'Swami_Vivekananda.txt']}}>],\n",
              " 'documents': [<Document: {'content': '\\n=== Vivekananda ===\\nAmong the Europeans who were influenced by Ramakrishna was Principal Dr. William Hastie of the Scottish Church College, Kolkata. In the course of explaining the word trance in the poem The Excursion by William Wordsworth, Hastie told his students that if they wanted to know its \"real meaning\", they should go to \"Ramakrishna of Dakshineswar.\" This prompted some of his students, including Narendranath Dutta (later Swami Vivekananda), to visit Ramakrishna.\\nDespite initial reservations, Vivekananda became Ramakrishna\\'s most influential follower, popularizing a modern interpretation of Indian traditions which harmonised Tantra, Yoga and Advaita Vedanta. Vivekananda established the Ramakrishna order, which eventually spread its mission posts throughout the world. Monastic disciples, who renounced their family and became the earliest monks of the Ramakrishna order, included Rakhal Chandra Ghosh (Swami Brahmananda), Kaliprasad Chandra (Swami Abhedananda), Taraknath Ghoshal (Swami Shivananda), Sashibhushan Chakravarty (Swami Ramakrishnananda), Saratchandra Chakravarty (Swami Saradananda), Tulasi Charan Dutta (Swami Nirmalananda), Gangadhar Ghatak (Swami Akhandananda), Hari Prasana (Swami Vijnanananda) Swami Turiyananda and others.', 'content_type': 'text', 'score': 0.5615968776830655, 'meta': {'name': 'Ramakrishna.txt', 'vector_id': '2410'}, 'embedding': None, 'id': '5cc91b096718db5a1b852ff4b3c444da'}>,\n",
              "  <Document: {'content': '\\n== Teachings and philosophy ==\\nWhile synthesizing and popularizing various strands of Hindu-thought, most notably classical yoga and (Advaita) Vedanta, Vivekananda was influenced by western ideas such as Universalism, via Unitarian missionaries who collaborated with the Brahmo Samaj. His initial beliefs were shaped by Brahmo concepts, which included belief in a formless God and the deprecation of idolatry, and a \"streamlined, rationalized, monotheistic theology strongly coloured by a selective and modernistic reading of the Upanisads and of the Vedanta\". He propagated the idea that \"the divine, the absolute, exists within all human beings regardless of social status\", and that \"seeing the divine as the essence of others will promote love and social harmony\". Via his affiliations with Keshub Chandra Sen\\'s Nava Vidhan, the Freemasonry lodge, the Sadharan Brahmo Samaj, and Sen\\'s Band of Hope, Vivekananda became acquainted with Western esotericism.He was also influenced by Ramakrishna, who gradually brought Narendra to a Vedanta-based worldview that \"provides the ontological basis for \\'śivajñāne jīver sevā\\', the spiritual practice of serving human beings as actual manifestations of God.\"Vivekananda propagated that the essence of Hinduism was best expressed in Adi Shankara\\'s Advaita Vedanta philosophy. Nevertheless, following Ramakrishna, and in contrast to Advaita Vedanta, Vivekananda believed that the Absolute is both immanent and transcendent. According to Anil Sooklal, Vivekananda\\'s neo-Vedanta \"reconciles Dvaita or dualism and Advaita or non-dualism,\" viewing Brahman as \"one without a second,\" yet \"both qualified, saguna, and qualityless, nirguna.\" Vivekananda summarised the Vedanta as follows, giving it a modern and Universalistic interpretation, showing the influence of classical yoga:\\nEach soul is potentially divine. The goal is to manifest this Divinity within by controlling nature, external and internal. Do this either by work, or worship, or mental discipline, or philosophy—by one, or more, or all of these—and be free. This is the whole of religion. Doctrines, or dogmas, or rituals, or books, or temples, or forms, are but secondary details.\\nVivekananda\\'s emphasis on nirvikalpa samadhi was preceded by medieval yogic influences on Advaita Vedanta. In line with Advaita Vedanta texts like Dŗg-Dŗśya-Viveka (14th century) and Vedantasara (of Sadananda) (15th century), Vivekananda saw samadhi as a means to attain liberation.Vivekananda popularized the notion of involution, a term which Vivekananda probably took from western Theosophists, notably Helena Blavatsky, in addition to Darwin\\'s notion of evolution, and possibly referring to the Samkhya term sātkarya. Theosophic ideas on involution has \"much in common\" with \"theories of the descent of God in Gnosticism, Kabbalah, and other esoteric schools.\" According to Meera Nanda, \"Vivekananda uses the word involution exactly how it appears in Theosophy: the descent, or the involvement, of divine cosnciousness into matter.\" With spirit, Vivekananda refers to prana or purusha, derived (\"with some original twists\") from Samkhya and classical yoga as presented by Patanjali in the Yoga sutras.Vivekananda linked morality with control of the mind, seeing truth, purity and unselfishness as traits which strengthened it. He advised his followers to be holy, unselfish and to have shraddhā (faith). Vivekananda supported brahmacharya, believing it the source of his physical and mental stamina and eloquence.Vivekananda\\'s acquaintance with Western esotericism made him very successful in Western esoteric circles, beginning with his speech in 1893 at the Parliament of Religions. Vivekananda adapted traditional Hindu ideas and religiosity to suit the needs and understandings of his Western audiences, who were especially attracted by and familiar with Western esoteric traditions and movements like Transcendentalism and New thought. An important element in his adaptation of Hindu religiosity was the introduction of his four yoga\\'s model, which includes Raja yoga, his interpretation of Patanjali\\'s Yoga sutras, which offered a practical means to realize the divine force within which is central to modern Western esotericism. In 1896, his book Raja Yoga was published, which became an instant success and was highly influential in the Western understanding of yoga.Nationalism was a prominent theme in Vivekananda\\'s thought. He believed that a country\\'s future depends on its people, and his teachings focused on human development. He wanted \"to set in motion a machinery which will bring noblest ideas to the doorstep of even the poorest and the meanest\".', 'content_type': 'text', 'score': 0.5612102090059436, 'meta': {'name': 'Swami_Vivekananda.txt', 'vector_id': '2440'}, 'embedding': None, 'id': '88094ab98a156c1790824ac88da9df4c'}>,\n",
              "  <Document: {'content': '\\n=== Transformation into neo-Vedantin ===\\nVivekananda portrayed Ramakrishna as an Advaita Vedantin. Vivekananda\\'s approach can be located in the historical background of Ramakrishna and Calcutta during the mid-19th century. Neevel notes that the image of Ramakrishna underwent several transformations in the writings of his prominent admirers, who changed the \\'religious madman\\' into a calm and well-behaving proponent of Advaita Vedanta. Narasingha Sil has argued that Vivekananda revised and mythologised Ramakrishna\\'s image after Ramakrishna\\'s death. McDaniel notes that the Ramakrishna Mission is biased towards Advaita Vedanta, and downplays the importance of Shaktism in Ramakrishna\\'s spirituality. Malcolm McLean argued that the Ramakrishna Movement presents \"a particular kind of explanation of Ramakrishna, that he was some kind of neo-Vedantist who taught that all religions lead to the same Godhead.\"Carl Olson argued that in his presentation of his master, Vivekananda had hid much of Ramakrishna\\'s embarrassing sexual oddities from the public, because he feared that Ramakrishna would be misunderstood. Tyagananda and Vrajaprana argue that Oslon makes his \"astonishing claim\" based on Kripal\\'s speculations in Kali\\'s Child, which they argue are unsupported by any of the source texts.Sumit Sarkar argued that he found in the Kathamrita traces of a binary opposition between unlearned oral wisdom and learned literate knowledge. He argues that all of our information about Ramakrishna, a rustic near-illiterate Brahmin, comes from urban bhadralok devotees, \"...whose texts simultaneously illuminate and transform.\"Amiya Prosad Sen criticises Neevel\\'s analysis, and writes that \"it is really difficult to separate the Tantrik Ramakrishna from the Vedantic\", since Vedanta and Tantra \"may appear to be different in some respects\", but they also \"share some important postulates between them\".', 'content_type': 'text', 'score': 0.5600596466662053, 'meta': {'name': 'Ramakrishna.txt', 'vector_id': '2417'}, 'embedding': None, 'id': '86c2bc5511976fe69f0c29e8ffd3526'}>,\n",
              "  <Document: {'content': '\\n== Second visit to the West and final years (1899–1902) ==\\nDespite declining health, Vivekananda left for the West for a second time in June 1899 accompanied by Sister Nivedita and Swami Turiyananda. Following a brief stay in England, he went to the United States. During this visit, Vivekananda established Vedanta Societies in San Francisco and New York and founded a shanti ashrama (peace retreat) in California. He then went to Paris for the Congress of Religions in 1900. His lectures in Paris concerned the worship of the lingam and the authenticity of the Bhagavad Gita. Vivekananda then visited Brittany, Vienna, Istanbul, Athens and Egypt. The French philosopher Jules Bois was his host for most of this period, until he returned to Calcutta on 9 December 1900.After a brief visit to the Advaita Ashrama in Mayavati, Vivekananda settled at Belur Math, where he continued co-ordinating the works of Ramakrishna Mission, the math and the work in England and the US. He had many visitors, including royalty and politicians. Although Vivekananda was unable to attend the Congress of Religions in 1901 in Japan due to deteriorating health, he made pilgrimages to Bodhgaya and Varanasi. Declining health (including asthma, diabetes and chronic insomnia) restricted his activity.', 'content_type': 'text', 'score': 0.5585489118063406, 'meta': {'name': 'Swami_Vivekananda.txt', 'vector_id': '2438'}, 'embedding': None, 'id': '17cff40e080b9b2cc0c50a525cbbc440'}>,\n",
              "  <Document: {'content': '\\n=== Indian nationalism ===\\nIn the background of emerging nationalism in British-ruled India, Vivekananda crystallised the nationalistic ideal. In the words of social reformer Charles Freer Andrews, \"The Swami\\'s intrepid patriotism gave a new colour to the national movement throughout India. More than any other single individual of that period Vivekananda had made his contribution to the new awakening of India\". Vivekananda drew attention to the extent of poverty in the country, and maintained that addressing such poverty was a prerequisite for national awakening. His nationalistic ideas influenced many Indian thinkers and leaders. Sri Aurobindo regarded Vivekananda as the one who awakened India spiritually. Mahatma Gandhi counted him among the few Hindu reformers \"who have maintained this Hindu religion in a state of splendor by cutting down the dead wood of tradition\".', 'content_type': 'text', 'score': 0.5570334590045094, 'meta': {'name': 'Swami_Vivekananda.txt', 'vector_id': '2442'}, 'embedding': None, 'id': '557423284967059e4311c7ac868cbad9'}>],\n",
              " 'root_node': 'Query',\n",
              " 'params': {'Retriever': {'top_k': 5}},\n",
              " 'node_id': 'Generator'}"
            ]
          },
          "metadata": {},
          "execution_count": 21
        }
      ],
      "source": [
        "# pipe.run(\n",
        "#     query=\"How did Arya Stark's character get portrayed in a television adaptation?\", params={\"Retriever\": {\"top_k\": 3}}\n",
        "# )\n",
        "\n",
        "pipe.run(\n",
        "    query=\"why vivekananda rebelled against Ramakrishna ?\", params={\"Retriever\": {\"top_k\": 5}}\n",
        ")"
      ]
    },
    {
      "cell_type": "code",
      "execution_count": 11,
      "metadata": {
        "id": "IfTP9BfFGOo6",
        "outputId": "0ddfd0ca-285a-4d24-eaa7-d392d1fae502",
        "colab": {
          "base_uri": "https://localhost:8080/"
        }
      },
      "outputs": [
        {
          "output_type": "execute_result",
          "data": {
            "text/plain": [
              "{'query': 'Why is Arya Stark an unusual character?',\n",
              " 'answers': [<Answer {'answer': 'Arya is the third child of Lord Eddard Stark and his wife Lady Catelyn Stark. She is the only one out of her full-siblings to inherit the Stark features and is said to resemble her late aunt Lyanna in both looks and temperament. Unlike her sister Sansa, who favors activities traditionally befitting a noblewoman and expresses disdain for outdoor activities, Arya shows no interest in dancing, singing and sewing, and revels in fighting and exploring. She wields a smallsword named Needle, and is trained in the Braavosi style of sword fighting by Syrio Forel.', 'type': 'generative', 'score': None, 'context': None, 'offsets_in_document': None, 'offsets_in_context': None, 'document_id': None, 'meta': {'doc_ids': ['2ee56bdd46dfd30b23f91bcc046456a4', 'a64bb94eab347d5cc10686c16b52a4dd', '50c34729eb25b43fe5953f90e3f492b8'], 'doc_scores': [0.5678043629384324, 0.5643267524623801, 0.5635598183959124], 'content': [\"'''Arya Stark''' is a fictional character in American author George R. R. Martin's ''A Song of Ice and Fire'' epic fantasy novel series.  She is a prominent point of view character in the novels with the third most viewpoint chapters, and is the only viewpoint character to have appeared in every published book of the series.\\nIntroduced in 1996's ''A Game of Thrones'', Arya is the third child and younger daughter of Lord Eddard Stark and his wife Lady Catelyn Stark.  She is tomboyish, headstrong, feisty, independent, disdains traditional female pursuits, and is often mistaken for a boy.  She wields a smallsword named Needle, a gift from her half-brother, Jon Snow, and is trained in the Braavosi style of sword fighting by Syrio Forel.\\nArya is portrayed by English actress Maisie Williams in HBO's Emmy-winning television adaptation of the novel series, ''Game of Thrones''.  Her performance has garnered critical acclaim, particularly in the second season for her work opposite veteran actor Charles Dance (Tywin Lannister) when she served as his cupbearer. She is among the most popular characters in either version of the story.  Williams was nominated for a Primetime Emmy Award for Outstanding Supporting Actress in a Drama Series for the role in 2016. She and the rest of the cast were nominated for Screen Actors Guild Awards for Outstanding Performance by an Ensemble in a Drama Series in 2011, 2013, 2014, 2015, 2016 and 2017.\", '\\n=== Description ===\\nArya is left-handed and talented in sums and housekeeping, and is excellent at horse-riding.  In contrast to her more praised sister Sansa, who favors activities traditionally befitting a noblewoman and expresses disdain for outdoor activities, Arya shows no interest in dancing, singing and sewing, and revels in fighting and exploring, much to the chagrin of her mother and household tutor Septa Mordane.  She is described as \"wolf-blooded\", blunt, impulsive and \"always difficult to tame\" by her mother, and was given the nickname \"Arya Underfoot\" by the guards of Winterfell.  She is particularly close to her bastard half-brother Jon Snow, who encourages her to learn how to fight and gives her the smallsword Needle.  The sword is well suited to Arya\\'s slender build and her favored \"Water Dance\" (fencing) style  which emphasizes speed and agility with a thin, light rapier used in quick thrusting attacks.  Throughout her travels, Arya displays great resourcefulness and cunning and also becomes increasingly ruthless.\\nArya is the only one out of her full-siblings to inherit the Stark features and is said to resemble her late aunt Lyanna in both looks and temperament.  At the start of the series, she is generally regarded as messy and plain-looking, and often mistaken for a boy; but there are multiple instances in the books of her (favorable) comparison to the beautiful Lyanna, and catching the eye of men later on in the series.  She is also a skinchanger, capable of telepathically possessing her direwolf Nymeria in dreams, as well as psychically bonding with a street tomcat in Braavos.', '\\n=== Recognition and awards ===\\nMaisie Williams has received several award nominations for her portrayal of Arya. For her performance in the series she received two Portal Awards for Best Supporting Actress and Best Young Actor in 2012, an EWwy Award for Best Supporting Actress in a Drama Series in 2014, and a Saturn Award for Best Performance by a Young Actor in a Television Series in 2015.\\nWilliams was nominated for a Primetime Emmy Award for Outstanding Supporting Actress in a Drama Series in 2016. Other nominations include the Portal Award for Best Young Actor in 2011, the SFX Awards for Best Actress in 2012 and 2015, the Gold Derby TV Awards for Breakthrough Performer of the Year in 2012, the Young Artist Award for Best Performance in a TV Series by a Supporting Young Actress in 2013, the EWwy Award for Best Supporting Actress in a Drama Series in 2015, and the Saturn Award for Best Performance by a Young Actor in a Television Series in 2016.'], 'titles': ['43_Arya_Stark.txt', '43_Arya_Stark.txt', '43_Arya_Stark.txt']}}>],\n",
              " 'documents': [<Document: {'content': \"'''Arya Stark''' is a fictional character in American author George R. R. Martin's ''A Song of Ice and Fire'' epic fantasy novel series.  She is a prominent point of view character in the novels with the third most viewpoint chapters, and is the only viewpoint character to have appeared in every published book of the series.\\nIntroduced in 1996's ''A Game of Thrones'', Arya is the third child and younger daughter of Lord Eddard Stark and his wife Lady Catelyn Stark.  She is tomboyish, headstrong, feisty, independent, disdains traditional female pursuits, and is often mistaken for a boy.  She wields a smallsword named Needle, a gift from her half-brother, Jon Snow, and is trained in the Braavosi style of sword fighting by Syrio Forel.\\nArya is portrayed by English actress Maisie Williams in HBO's Emmy-winning television adaptation of the novel series, ''Game of Thrones''.  Her performance has garnered critical acclaim, particularly in the second season for her work opposite veteran actor Charles Dance (Tywin Lannister) when she served as his cupbearer. She is among the most popular characters in either version of the story.  Williams was nominated for a Primetime Emmy Award for Outstanding Supporting Actress in a Drama Series for the role in 2016. She and the rest of the cast were nominated for Screen Actors Guild Awards for Outstanding Performance by an Ensemble in a Drama Series in 2011, 2013, 2014, 2015, 2016 and 2017.\", 'content_type': 'text', 'score': 0.5678043629384324, 'meta': {'name': '43_Arya_Stark.txt', 'vector_id': '407'}, 'embedding': None, 'id': '2ee56bdd46dfd30b23f91bcc046456a4'}>,\n",
              "  <Document: {'content': '\\n=== Description ===\\nArya is left-handed and talented in sums and housekeeping, and is excellent at horse-riding.  In contrast to her more praised sister Sansa, who favors activities traditionally befitting a noblewoman and expresses disdain for outdoor activities, Arya shows no interest in dancing, singing and sewing, and revels in fighting and exploring, much to the chagrin of her mother and household tutor Septa Mordane.  She is described as \"wolf-blooded\", blunt, impulsive and \"always difficult to tame\" by her mother, and was given the nickname \"Arya Underfoot\" by the guards of Winterfell.  She is particularly close to her bastard half-brother Jon Snow, who encourages her to learn how to fight and gives her the smallsword Needle.  The sword is well suited to Arya\\'s slender build and her favored \"Water Dance\" (fencing) style  which emphasizes speed and agility with a thin, light rapier used in quick thrusting attacks.  Throughout her travels, Arya displays great resourcefulness and cunning and also becomes increasingly ruthless.\\nArya is the only one out of her full-siblings to inherit the Stark features and is said to resemble her late aunt Lyanna in both looks and temperament.  At the start of the series, she is generally regarded as messy and plain-looking, and often mistaken for a boy; but there are multiple instances in the books of her (favorable) comparison to the beautiful Lyanna, and catching the eye of men later on in the series.  She is also a skinchanger, capable of telepathically possessing her direwolf Nymeria in dreams, as well as psychically bonding with a street tomcat in Braavos.', 'content_type': 'text', 'score': 0.5643267524623801, 'meta': {'name': '43_Arya_Stark.txt', 'vector_id': '409'}, 'embedding': None, 'id': 'a64bb94eab347d5cc10686c16b52a4dd'}>,\n",
              "  <Document: {'content': '\\n=== Recognition and awards ===\\nMaisie Williams has received several award nominations for her portrayal of Arya. For her performance in the series she received two Portal Awards for Best Supporting Actress and Best Young Actor in 2012, an EWwy Award for Best Supporting Actress in a Drama Series in 2014, and a Saturn Award for Best Performance by a Young Actor in a Television Series in 2015.\\nWilliams was nominated for a Primetime Emmy Award for Outstanding Supporting Actress in a Drama Series in 2016. Other nominations include the Portal Award for Best Young Actor in 2011, the SFX Awards for Best Actress in 2012 and 2015, the Gold Derby TV Awards for Breakthrough Performer of the Year in 2012, the Young Artist Award for Best Performance in a TV Series by a Supporting Young Actress in 2013, the EWwy Award for Best Supporting Actress in a Drama Series in 2015, and the Saturn Award for Best Performance by a Young Actor in a Television Series in 2016.', 'content_type': 'text', 'score': 0.5635598183959124, 'meta': {'name': '43_Arya_Stark.txt', 'vector_id': '425'}, 'embedding': None, 'id': '50c34729eb25b43fe5953f90e3f492b8'}>],\n",
              " 'root_node': 'Query',\n",
              " 'params': {'Retriever': {'top_k': 3}},\n",
              " 'node_id': 'Generator'}"
            ]
          },
          "metadata": {},
          "execution_count": 11
        }
      ],
      "source": [
        "pipe.run(query=\"Why is Arya Stark an unusual character?\", params={\"Retriever\": {\"top_k\": 3}})"
      ]
    },
    {
      "cell_type": "markdown",
      "metadata": {
        "collapsed": false,
        "id": "i88KdOc2wUXQ"
      },
      "source": [
        "## About us\n",
        "\n",
        "This [Haystack](https://github.com/deepset-ai/haystack/) notebook was made with love by [deepset](https://deepset.ai/) in Berlin, Germany\n",
        "\n",
        "We bring NLP to the industry via open source!\n",
        "Our focus: Industry specific language models & large scale QA systems.\n",
        "\n",
        "Some of our other work:\n",
        "- [German BERT](https://deepset.ai/german-bert)\n",
        "- [GermanQuAD and GermanDPR](https://deepset.ai/germanquad)\n",
        "- [FARM](https://github.com/deepset-ai/FARM)\n",
        "\n",
        "Get in touch:\n",
        "[Twitter](https://twitter.com/deepset_ai) | [LinkedIn](https://www.linkedin.com/company/deepset-ai/) | [Discord](https://haystack.deepset.ai/community/join) | [GitHub Discussions](https://github.com/deepset-ai/haystack/discussions) | [Website](https://deepset.ai)\n",
        "\n",
        "By the way: [we're hiring!](https://www.deepset.ai/jobs)"
      ]
    }
  ],
  "metadata": {
    "accelerator": "GPU",
    "colab": {
      "name": "LFQA_via_Haystack.ipynb",
      "provenance": []
    },
    "kernelspec": {
      "display_name": "Python 3.8.9 64-bit",
      "language": "python",
      "name": "python3"
    },
    "language_info": {
      "codemirror_mode": {
        "name": "ipython",
        "version": 3
      },
      "file_extension": ".py",
      "mimetype": "text/x-python",
      "name": "python",
      "nbconvert_exporter": "python",
      "pygments_lexer": "ipython3",
      "version": "3.8.9"
    },
    "vscode": {
      "interpreter": {
        "hash": "31f2aee4e71d21fbe5cf8b01ff0e069b9275f58929596ceb00d14d90e3e16cd6"
      }
    },
    "gpuClass": "standard",
    "widgets": {
      "application/vnd.jupyter.widget-state+json": {
        "d3831e7ba4254115bdc6f67c7e3ab6cf": {
          "model_module": "@jupyter-widgets/controls",
          "model_name": "HBoxModel",
          "model_module_version": "1.5.0",
          "state": {
            "_dom_classes": [],
            "_model_module": "@jupyter-widgets/controls",
            "_model_module_version": "1.5.0",
            "_model_name": "HBoxModel",
            "_view_count": null,
            "_view_module": "@jupyter-widgets/controls",
            "_view_module_version": "1.5.0",
            "_view_name": "HBoxView",
            "box_style": "",
            "children": [
              "IPY_MODEL_3fe66a2c688f43639b38a6ea2d088032",
              "IPY_MODEL_04b36d0b0ef247a3a438ab4b4b7c59f2",
              "IPY_MODEL_2fea084b1d054009b6c37d51b02eb3f9"
            ],
            "layout": "IPY_MODEL_08959e43de644daebf89c75a894495b4"
          }
        },
        "3fe66a2c688f43639b38a6ea2d088032": {
          "model_module": "@jupyter-widgets/controls",
          "model_name": "HTMLModel",
          "model_module_version": "1.5.0",
          "state": {
            "_dom_classes": [],
            "_model_module": "@jupyter-widgets/controls",
            "_model_module_version": "1.5.0",
            "_model_name": "HTMLModel",
            "_view_count": null,
            "_view_module": "@jupyter-widgets/controls",
            "_view_module_version": "1.5.0",
            "_view_name": "HTMLView",
            "description": "",
            "description_tooltip": null,
            "layout": "IPY_MODEL_88c878eb90d841958d04edd05e76b500",
            "placeholder": "​",
            "style": "IPY_MODEL_98ec6558121a4349b6cd26819b741cb7",
            "value": "Writing Documents: "
          }
        },
        "04b36d0b0ef247a3a438ab4b4b7c59f2": {
          "model_module": "@jupyter-widgets/controls",
          "model_name": "FloatProgressModel",
          "model_module_version": "1.5.0",
          "state": {
            "_dom_classes": [],
            "_model_module": "@jupyter-widgets/controls",
            "_model_module_version": "1.5.0",
            "_model_name": "FloatProgressModel",
            "_view_count": null,
            "_view_module": "@jupyter-widgets/controls",
            "_view_module_version": "1.5.0",
            "_view_name": "ProgressView",
            "bar_style": "success",
            "description": "",
            "description_tooltip": null,
            "layout": "IPY_MODEL_2eca51359bbb47aea03b01a404dd9ea7",
            "max": 93,
            "min": 0,
            "orientation": "horizontal",
            "style": "IPY_MODEL_23d3ce6526794e838bbe6154106587fc",
            "value": 93
          }
        },
        "2fea084b1d054009b6c37d51b02eb3f9": {
          "model_module": "@jupyter-widgets/controls",
          "model_name": "HTMLModel",
          "model_module_version": "1.5.0",
          "state": {
            "_dom_classes": [],
            "_model_module": "@jupyter-widgets/controls",
            "_model_module_version": "1.5.0",
            "_model_name": "HTMLModel",
            "_view_count": null,
            "_view_module": "@jupyter-widgets/controls",
            "_view_module_version": "1.5.0",
            "_view_name": "HTMLView",
            "description": "",
            "description_tooltip": null,
            "layout": "IPY_MODEL_eb159e246b77407cafdef8871202f0e3",
            "placeholder": "​",
            "style": "IPY_MODEL_38a8b148e74e43a38ae9d4b36d5a045f",
            "value": " 10000/? [00:00&lt;00:00, 31735.99it/s]"
          }
        },
        "08959e43de644daebf89c75a894495b4": {
          "model_module": "@jupyter-widgets/base",
          "model_name": "LayoutModel",
          "model_module_version": "1.2.0",
          "state": {
            "_model_module": "@jupyter-widgets/base",
            "_model_module_version": "1.2.0",
            "_model_name": "LayoutModel",
            "_view_count": null,
            "_view_module": "@jupyter-widgets/base",
            "_view_module_version": "1.2.0",
            "_view_name": "LayoutView",
            "align_content": null,
            "align_items": null,
            "align_self": null,
            "border": null,
            "bottom": null,
            "display": null,
            "flex": null,
            "flex_flow": null,
            "grid_area": null,
            "grid_auto_columns": null,
            "grid_auto_flow": null,
            "grid_auto_rows": null,
            "grid_column": null,
            "grid_gap": null,
            "grid_row": null,
            "grid_template_areas": null,
            "grid_template_columns": null,
            "grid_template_rows": null,
            "height": null,
            "justify_content": null,
            "justify_items": null,
            "left": null,
            "margin": null,
            "max_height": null,
            "max_width": null,
            "min_height": null,
            "min_width": null,
            "object_fit": null,
            "object_position": null,
            "order": null,
            "overflow": null,
            "overflow_x": null,
            "overflow_y": null,
            "padding": null,
            "right": null,
            "top": null,
            "visibility": null,
            "width": null
          }
        },
        "88c878eb90d841958d04edd05e76b500": {
          "model_module": "@jupyter-widgets/base",
          "model_name": "LayoutModel",
          "model_module_version": "1.2.0",
          "state": {
            "_model_module": "@jupyter-widgets/base",
            "_model_module_version": "1.2.0",
            "_model_name": "LayoutModel",
            "_view_count": null,
            "_view_module": "@jupyter-widgets/base",
            "_view_module_version": "1.2.0",
            "_view_name": "LayoutView",
            "align_content": null,
            "align_items": null,
            "align_self": null,
            "border": null,
            "bottom": null,
            "display": null,
            "flex": null,
            "flex_flow": null,
            "grid_area": null,
            "grid_auto_columns": null,
            "grid_auto_flow": null,
            "grid_auto_rows": null,
            "grid_column": null,
            "grid_gap": null,
            "grid_row": null,
            "grid_template_areas": null,
            "grid_template_columns": null,
            "grid_template_rows": null,
            "height": null,
            "justify_content": null,
            "justify_items": null,
            "left": null,
            "margin": null,
            "max_height": null,
            "max_width": null,
            "min_height": null,
            "min_width": null,
            "object_fit": null,
            "object_position": null,
            "order": null,
            "overflow": null,
            "overflow_x": null,
            "overflow_y": null,
            "padding": null,
            "right": null,
            "top": null,
            "visibility": null,
            "width": null
          }
        },
        "98ec6558121a4349b6cd26819b741cb7": {
          "model_module": "@jupyter-widgets/controls",
          "model_name": "DescriptionStyleModel",
          "model_module_version": "1.5.0",
          "state": {
            "_model_module": "@jupyter-widgets/controls",
            "_model_module_version": "1.5.0",
            "_model_name": "DescriptionStyleModel",
            "_view_count": null,
            "_view_module": "@jupyter-widgets/base",
            "_view_module_version": "1.2.0",
            "_view_name": "StyleView",
            "description_width": ""
          }
        },
        "2eca51359bbb47aea03b01a404dd9ea7": {
          "model_module": "@jupyter-widgets/base",
          "model_name": "LayoutModel",
          "model_module_version": "1.2.0",
          "state": {
            "_model_module": "@jupyter-widgets/base",
            "_model_module_version": "1.2.0",
            "_model_name": "LayoutModel",
            "_view_count": null,
            "_view_module": "@jupyter-widgets/base",
            "_view_module_version": "1.2.0",
            "_view_name": "LayoutView",
            "align_content": null,
            "align_items": null,
            "align_self": null,
            "border": null,
            "bottom": null,
            "display": null,
            "flex": null,
            "flex_flow": null,
            "grid_area": null,
            "grid_auto_columns": null,
            "grid_auto_flow": null,
            "grid_auto_rows": null,
            "grid_column": null,
            "grid_gap": null,
            "grid_row": null,
            "grid_template_areas": null,
            "grid_template_columns": null,
            "grid_template_rows": null,
            "height": null,
            "justify_content": null,
            "justify_items": null,
            "left": null,
            "margin": null,
            "max_height": null,
            "max_width": null,
            "min_height": null,
            "min_width": null,
            "object_fit": null,
            "object_position": null,
            "order": null,
            "overflow": null,
            "overflow_x": null,
            "overflow_y": null,
            "padding": null,
            "right": null,
            "top": null,
            "visibility": null,
            "width": null
          }
        },
        "23d3ce6526794e838bbe6154106587fc": {
          "model_module": "@jupyter-widgets/controls",
          "model_name": "ProgressStyleModel",
          "model_module_version": "1.5.0",
          "state": {
            "_model_module": "@jupyter-widgets/controls",
            "_model_module_version": "1.5.0",
            "_model_name": "ProgressStyleModel",
            "_view_count": null,
            "_view_module": "@jupyter-widgets/base",
            "_view_module_version": "1.2.0",
            "_view_name": "StyleView",
            "bar_color": null,
            "description_width": ""
          }
        },
        "eb159e246b77407cafdef8871202f0e3": {
          "model_module": "@jupyter-widgets/base",
          "model_name": "LayoutModel",
          "model_module_version": "1.2.0",
          "state": {
            "_model_module": "@jupyter-widgets/base",
            "_model_module_version": "1.2.0",
            "_model_name": "LayoutModel",
            "_view_count": null,
            "_view_module": "@jupyter-widgets/base",
            "_view_module_version": "1.2.0",
            "_view_name": "LayoutView",
            "align_content": null,
            "align_items": null,
            "align_self": null,
            "border": null,
            "bottom": null,
            "display": null,
            "flex": null,
            "flex_flow": null,
            "grid_area": null,
            "grid_auto_columns": null,
            "grid_auto_flow": null,
            "grid_auto_rows": null,
            "grid_column": null,
            "grid_gap": null,
            "grid_row": null,
            "grid_template_areas": null,
            "grid_template_columns": null,
            "grid_template_rows": null,
            "height": null,
            "justify_content": null,
            "justify_items": null,
            "left": null,
            "margin": null,
            "max_height": null,
            "max_width": null,
            "min_height": null,
            "min_width": null,
            "object_fit": null,
            "object_position": null,
            "order": null,
            "overflow": null,
            "overflow_x": null,
            "overflow_y": null,
            "padding": null,
            "right": null,
            "top": null,
            "visibility": null,
            "width": null
          }
        },
        "38a8b148e74e43a38ae9d4b36d5a045f": {
          "model_module": "@jupyter-widgets/controls",
          "model_name": "DescriptionStyleModel",
          "model_module_version": "1.5.0",
          "state": {
            "_model_module": "@jupyter-widgets/controls",
            "_model_module_version": "1.5.0",
            "_model_name": "DescriptionStyleModel",
            "_view_count": null,
            "_view_module": "@jupyter-widgets/base",
            "_view_module_version": "1.2.0",
            "_view_name": "StyleView",
            "description_width": ""
          }
        },
        "27107878cd2e41e984d7dc43d8821487": {
          "model_module": "@jupyter-widgets/controls",
          "model_name": "HBoxModel",
          "model_module_version": "1.5.0",
          "state": {
            "_dom_classes": [],
            "_model_module": "@jupyter-widgets/controls",
            "_model_module_version": "1.5.0",
            "_model_name": "HBoxModel",
            "_view_count": null,
            "_view_module": "@jupyter-widgets/controls",
            "_view_module_version": "1.5.0",
            "_view_name": "HBoxView",
            "box_style": "",
            "children": [
              "IPY_MODEL_e735cbbd06d94307abd924b1f27d1b0f",
              "IPY_MODEL_d356741329814842a25e84094fe51764",
              "IPY_MODEL_25b9f2e3df7c4931838f11487b354ca7"
            ],
            "layout": "IPY_MODEL_727430e192ad42638789391ded132a6c"
          }
        },
        "e735cbbd06d94307abd924b1f27d1b0f": {
          "model_module": "@jupyter-widgets/controls",
          "model_name": "HTMLModel",
          "model_module_version": "1.5.0",
          "state": {
            "_dom_classes": [],
            "_model_module": "@jupyter-widgets/controls",
            "_model_module_version": "1.5.0",
            "_model_name": "HTMLModel",
            "_view_count": null,
            "_view_module": "@jupyter-widgets/controls",
            "_view_module_version": "1.5.0",
            "_view_name": "HTMLView",
            "description": "",
            "description_tooltip": null,
            "layout": "IPY_MODEL_bc40ad2a061a48de928df173bbd0ddc7",
            "placeholder": "​",
            "style": "IPY_MODEL_0f01ea8e08e24d94be09474359726c04",
            "value": "Documents Processed: "
          }
        },
        "d356741329814842a25e84094fe51764": {
          "model_module": "@jupyter-widgets/controls",
          "model_name": "FloatProgressModel",
          "model_module_version": "1.5.0",
          "state": {
            "_dom_classes": [],
            "_model_module": "@jupyter-widgets/controls",
            "_model_module_version": "1.5.0",
            "_model_name": "FloatProgressModel",
            "_view_count": null,
            "_view_module": "@jupyter-widgets/controls",
            "_view_module_version": "1.5.0",
            "_view_name": "ProgressView",
            "bar_style": "success",
            "description": "",
            "description_tooltip": null,
            "layout": "IPY_MODEL_cab7cdd5ac7a468cad7fd7d6726a829b",
            "max": 2450,
            "min": 0,
            "orientation": "horizontal",
            "style": "IPY_MODEL_bacfad43bc174fa4a779952627063e21",
            "value": 2450
          }
        },
        "25b9f2e3df7c4931838f11487b354ca7": {
          "model_module": "@jupyter-widgets/controls",
          "model_name": "HTMLModel",
          "model_module_version": "1.5.0",
          "state": {
            "_dom_classes": [],
            "_model_module": "@jupyter-widgets/controls",
            "_model_module_version": "1.5.0",
            "_model_name": "HTMLModel",
            "_view_count": null,
            "_view_module": "@jupyter-widgets/controls",
            "_view_module_version": "1.5.0",
            "_view_name": "HTMLView",
            "description": "",
            "description_tooltip": null,
            "layout": "IPY_MODEL_8e7b67f62c4f47e4908c1a74c89399c9",
            "placeholder": "​",
            "style": "IPY_MODEL_7522b6e8e4f74db28944b06296f7ee1a",
            "value": " 10000/? [00:42&lt;00:00, 233.76 docs/s]"
          }
        },
        "727430e192ad42638789391ded132a6c": {
          "model_module": "@jupyter-widgets/base",
          "model_name": "LayoutModel",
          "model_module_version": "1.2.0",
          "state": {
            "_model_module": "@jupyter-widgets/base",
            "_model_module_version": "1.2.0",
            "_model_name": "LayoutModel",
            "_view_count": null,
            "_view_module": "@jupyter-widgets/base",
            "_view_module_version": "1.2.0",
            "_view_name": "LayoutView",
            "align_content": null,
            "align_items": null,
            "align_self": null,
            "border": null,
            "bottom": null,
            "display": null,
            "flex": null,
            "flex_flow": null,
            "grid_area": null,
            "grid_auto_columns": null,
            "grid_auto_flow": null,
            "grid_auto_rows": null,
            "grid_column": null,
            "grid_gap": null,
            "grid_row": null,
            "grid_template_areas": null,
            "grid_template_columns": null,
            "grid_template_rows": null,
            "height": null,
            "justify_content": null,
            "justify_items": null,
            "left": null,
            "margin": null,
            "max_height": null,
            "max_width": null,
            "min_height": null,
            "min_width": null,
            "object_fit": null,
            "object_position": null,
            "order": null,
            "overflow": null,
            "overflow_x": null,
            "overflow_y": null,
            "padding": null,
            "right": null,
            "top": null,
            "visibility": null,
            "width": null
          }
        },
        "bc40ad2a061a48de928df173bbd0ddc7": {
          "model_module": "@jupyter-widgets/base",
          "model_name": "LayoutModel",
          "model_module_version": "1.2.0",
          "state": {
            "_model_module": "@jupyter-widgets/base",
            "_model_module_version": "1.2.0",
            "_model_name": "LayoutModel",
            "_view_count": null,
            "_view_module": "@jupyter-widgets/base",
            "_view_module_version": "1.2.0",
            "_view_name": "LayoutView",
            "align_content": null,
            "align_items": null,
            "align_self": null,
            "border": null,
            "bottom": null,
            "display": null,
            "flex": null,
            "flex_flow": null,
            "grid_area": null,
            "grid_auto_columns": null,
            "grid_auto_flow": null,
            "grid_auto_rows": null,
            "grid_column": null,
            "grid_gap": null,
            "grid_row": null,
            "grid_template_areas": null,
            "grid_template_columns": null,
            "grid_template_rows": null,
            "height": null,
            "justify_content": null,
            "justify_items": null,
            "left": null,
            "margin": null,
            "max_height": null,
            "max_width": null,
            "min_height": null,
            "min_width": null,
            "object_fit": null,
            "object_position": null,
            "order": null,
            "overflow": null,
            "overflow_x": null,
            "overflow_y": null,
            "padding": null,
            "right": null,
            "top": null,
            "visibility": null,
            "width": null
          }
        },
        "0f01ea8e08e24d94be09474359726c04": {
          "model_module": "@jupyter-widgets/controls",
          "model_name": "DescriptionStyleModel",
          "model_module_version": "1.5.0",
          "state": {
            "_model_module": "@jupyter-widgets/controls",
            "_model_module_version": "1.5.0",
            "_model_name": "DescriptionStyleModel",
            "_view_count": null,
            "_view_module": "@jupyter-widgets/base",
            "_view_module_version": "1.2.0",
            "_view_name": "StyleView",
            "description_width": ""
          }
        },
        "cab7cdd5ac7a468cad7fd7d6726a829b": {
          "model_module": "@jupyter-widgets/base",
          "model_name": "LayoutModel",
          "model_module_version": "1.2.0",
          "state": {
            "_model_module": "@jupyter-widgets/base",
            "_model_module_version": "1.2.0",
            "_model_name": "LayoutModel",
            "_view_count": null,
            "_view_module": "@jupyter-widgets/base",
            "_view_module_version": "1.2.0",
            "_view_name": "LayoutView",
            "align_content": null,
            "align_items": null,
            "align_self": null,
            "border": null,
            "bottom": null,
            "display": null,
            "flex": null,
            "flex_flow": null,
            "grid_area": null,
            "grid_auto_columns": null,
            "grid_auto_flow": null,
            "grid_auto_rows": null,
            "grid_column": null,
            "grid_gap": null,
            "grid_row": null,
            "grid_template_areas": null,
            "grid_template_columns": null,
            "grid_template_rows": null,
            "height": null,
            "justify_content": null,
            "justify_items": null,
            "left": null,
            "margin": null,
            "max_height": null,
            "max_width": null,
            "min_height": null,
            "min_width": null,
            "object_fit": null,
            "object_position": null,
            "order": null,
            "overflow": null,
            "overflow_x": null,
            "overflow_y": null,
            "padding": null,
            "right": null,
            "top": null,
            "visibility": null,
            "width": null
          }
        },
        "bacfad43bc174fa4a779952627063e21": {
          "model_module": "@jupyter-widgets/controls",
          "model_name": "ProgressStyleModel",
          "model_module_version": "1.5.0",
          "state": {
            "_model_module": "@jupyter-widgets/controls",
            "_model_module_version": "1.5.0",
            "_model_name": "ProgressStyleModel",
            "_view_count": null,
            "_view_module": "@jupyter-widgets/base",
            "_view_module_version": "1.2.0",
            "_view_name": "StyleView",
            "bar_color": null,
            "description_width": ""
          }
        },
        "8e7b67f62c4f47e4908c1a74c89399c9": {
          "model_module": "@jupyter-widgets/base",
          "model_name": "LayoutModel",
          "model_module_version": "1.2.0",
          "state": {
            "_model_module": "@jupyter-widgets/base",
            "_model_module_version": "1.2.0",
            "_model_name": "LayoutModel",
            "_view_count": null,
            "_view_module": "@jupyter-widgets/base",
            "_view_module_version": "1.2.0",
            "_view_name": "LayoutView",
            "align_content": null,
            "align_items": null,
            "align_self": null,
            "border": null,
            "bottom": null,
            "display": null,
            "flex": null,
            "flex_flow": null,
            "grid_area": null,
            "grid_auto_columns": null,
            "grid_auto_flow": null,
            "grid_auto_rows": null,
            "grid_column": null,
            "grid_gap": null,
            "grid_row": null,
            "grid_template_areas": null,
            "grid_template_columns": null,
            "grid_template_rows": null,
            "height": null,
            "justify_content": null,
            "justify_items": null,
            "left": null,
            "margin": null,
            "max_height": null,
            "max_width": null,
            "min_height": null,
            "min_width": null,
            "object_fit": null,
            "object_position": null,
            "order": null,
            "overflow": null,
            "overflow_x": null,
            "overflow_y": null,
            "padding": null,
            "right": null,
            "top": null,
            "visibility": null,
            "width": null
          }
        },
        "7522b6e8e4f74db28944b06296f7ee1a": {
          "model_module": "@jupyter-widgets/controls",
          "model_name": "DescriptionStyleModel",
          "model_module_version": "1.5.0",
          "state": {
            "_model_module": "@jupyter-widgets/controls",
            "_model_module_version": "1.5.0",
            "_model_name": "DescriptionStyleModel",
            "_view_count": null,
            "_view_module": "@jupyter-widgets/base",
            "_view_module_version": "1.2.0",
            "_view_name": "StyleView",
            "description_width": ""
          }
        },
        "d8080860aae549a0861dba8e3e812e91": {
          "model_module": "@jupyter-widgets/controls",
          "model_name": "HBoxModel",
          "model_module_version": "1.5.0",
          "state": {
            "_dom_classes": [],
            "_model_module": "@jupyter-widgets/controls",
            "_model_module_version": "1.5.0",
            "_model_name": "HBoxModel",
            "_view_count": null,
            "_view_module": "@jupyter-widgets/controls",
            "_view_module_version": "1.5.0",
            "_view_name": "HBoxView",
            "box_style": "",
            "children": [
              "IPY_MODEL_543bb212d42a45d4a9f516312d19a547",
              "IPY_MODEL_92da7ebbd1014575955163f51f0a6ea9",
              "IPY_MODEL_c55f6d7513e84cf783d65357644d4276"
            ],
            "layout": "IPY_MODEL_1bb5289ca5bb460cb1908bca95f6bbe1"
          }
        },
        "543bb212d42a45d4a9f516312d19a547": {
          "model_module": "@jupyter-widgets/controls",
          "model_name": "HTMLModel",
          "model_module_version": "1.5.0",
          "state": {
            "_dom_classes": [],
            "_model_module": "@jupyter-widgets/controls",
            "_model_module_version": "1.5.0",
            "_model_name": "HTMLModel",
            "_view_count": null,
            "_view_module": "@jupyter-widgets/controls",
            "_view_module_version": "1.5.0",
            "_view_name": "HTMLView",
            "description": "",
            "description_tooltip": null,
            "layout": "IPY_MODEL_6b3b3727060e4f3d98c6072c6db70202",
            "placeholder": "​",
            "style": "IPY_MODEL_5b8785dd125042ccb721956e80c92f2d",
            "value": "Create embeddings:  99%"
          }
        },
        "92da7ebbd1014575955163f51f0a6ea9": {
          "model_module": "@jupyter-widgets/controls",
          "model_name": "FloatProgressModel",
          "model_module_version": "1.5.0",
          "state": {
            "_dom_classes": [],
            "_model_module": "@jupyter-widgets/controls",
            "_model_module_version": "1.5.0",
            "_model_name": "FloatProgressModel",
            "_view_count": null,
            "_view_module": "@jupyter-widgets/controls",
            "_view_module_version": "1.5.0",
            "_view_name": "ProgressView",
            "bar_style": "",
            "description": "",
            "description_tooltip": null,
            "layout": "IPY_MODEL_350e92b3a6124b80a397c7b526d2f671",
            "max": 2464,
            "min": 0,
            "orientation": "horizontal",
            "style": "IPY_MODEL_d36bb461ec2a424e87ab8f17dd193e97",
            "value": 2464
          }
        },
        "c55f6d7513e84cf783d65357644d4276": {
          "model_module": "@jupyter-widgets/controls",
          "model_name": "HTMLModel",
          "model_module_version": "1.5.0",
          "state": {
            "_dom_classes": [],
            "_model_module": "@jupyter-widgets/controls",
            "_model_module_version": "1.5.0",
            "_model_name": "HTMLModel",
            "_view_count": null,
            "_view_module": "@jupyter-widgets/controls",
            "_view_module_version": "1.5.0",
            "_view_name": "HTMLView",
            "description": "",
            "description_tooltip": null,
            "layout": "IPY_MODEL_64fd32d88cd540df95264b80f6ce5f19",
            "placeholder": "​",
            "style": "IPY_MODEL_161211089850473489f8793acf1dd5e7",
            "value": " 2448/2464 [00:39&lt;00:00, 65.09 Docs/s]"
          }
        },
        "1bb5289ca5bb460cb1908bca95f6bbe1": {
          "model_module": "@jupyter-widgets/base",
          "model_name": "LayoutModel",
          "model_module_version": "1.2.0",
          "state": {
            "_model_module": "@jupyter-widgets/base",
            "_model_module_version": "1.2.0",
            "_model_name": "LayoutModel",
            "_view_count": null,
            "_view_module": "@jupyter-widgets/base",
            "_view_module_version": "1.2.0",
            "_view_name": "LayoutView",
            "align_content": null,
            "align_items": null,
            "align_self": null,
            "border": null,
            "bottom": null,
            "display": null,
            "flex": null,
            "flex_flow": null,
            "grid_area": null,
            "grid_auto_columns": null,
            "grid_auto_flow": null,
            "grid_auto_rows": null,
            "grid_column": null,
            "grid_gap": null,
            "grid_row": null,
            "grid_template_areas": null,
            "grid_template_columns": null,
            "grid_template_rows": null,
            "height": null,
            "justify_content": null,
            "justify_items": null,
            "left": null,
            "margin": null,
            "max_height": null,
            "max_width": null,
            "min_height": null,
            "min_width": null,
            "object_fit": null,
            "object_position": null,
            "order": null,
            "overflow": null,
            "overflow_x": null,
            "overflow_y": null,
            "padding": null,
            "right": null,
            "top": null,
            "visibility": "hidden",
            "width": null
          }
        },
        "6b3b3727060e4f3d98c6072c6db70202": {
          "model_module": "@jupyter-widgets/base",
          "model_name": "LayoutModel",
          "model_module_version": "1.2.0",
          "state": {
            "_model_module": "@jupyter-widgets/base",
            "_model_module_version": "1.2.0",
            "_model_name": "LayoutModel",
            "_view_count": null,
            "_view_module": "@jupyter-widgets/base",
            "_view_module_version": "1.2.0",
            "_view_name": "LayoutView",
            "align_content": null,
            "align_items": null,
            "align_self": null,
            "border": null,
            "bottom": null,
            "display": null,
            "flex": null,
            "flex_flow": null,
            "grid_area": null,
            "grid_auto_columns": null,
            "grid_auto_flow": null,
            "grid_auto_rows": null,
            "grid_column": null,
            "grid_gap": null,
            "grid_row": null,
            "grid_template_areas": null,
            "grid_template_columns": null,
            "grid_template_rows": null,
            "height": null,
            "justify_content": null,
            "justify_items": null,
            "left": null,
            "margin": null,
            "max_height": null,
            "max_width": null,
            "min_height": null,
            "min_width": null,
            "object_fit": null,
            "object_position": null,
            "order": null,
            "overflow": null,
            "overflow_x": null,
            "overflow_y": null,
            "padding": null,
            "right": null,
            "top": null,
            "visibility": null,
            "width": null
          }
        },
        "5b8785dd125042ccb721956e80c92f2d": {
          "model_module": "@jupyter-widgets/controls",
          "model_name": "DescriptionStyleModel",
          "model_module_version": "1.5.0",
          "state": {
            "_model_module": "@jupyter-widgets/controls",
            "_model_module_version": "1.5.0",
            "_model_name": "DescriptionStyleModel",
            "_view_count": null,
            "_view_module": "@jupyter-widgets/base",
            "_view_module_version": "1.2.0",
            "_view_name": "StyleView",
            "description_width": ""
          }
        },
        "350e92b3a6124b80a397c7b526d2f671": {
          "model_module": "@jupyter-widgets/base",
          "model_name": "LayoutModel",
          "model_module_version": "1.2.0",
          "state": {
            "_model_module": "@jupyter-widgets/base",
            "_model_module_version": "1.2.0",
            "_model_name": "LayoutModel",
            "_view_count": null,
            "_view_module": "@jupyter-widgets/base",
            "_view_module_version": "1.2.0",
            "_view_name": "LayoutView",
            "align_content": null,
            "align_items": null,
            "align_self": null,
            "border": null,
            "bottom": null,
            "display": null,
            "flex": null,
            "flex_flow": null,
            "grid_area": null,
            "grid_auto_columns": null,
            "grid_auto_flow": null,
            "grid_auto_rows": null,
            "grid_column": null,
            "grid_gap": null,
            "grid_row": null,
            "grid_template_areas": null,
            "grid_template_columns": null,
            "grid_template_rows": null,
            "height": null,
            "justify_content": null,
            "justify_items": null,
            "left": null,
            "margin": null,
            "max_height": null,
            "max_width": null,
            "min_height": null,
            "min_width": null,
            "object_fit": null,
            "object_position": null,
            "order": null,
            "overflow": null,
            "overflow_x": null,
            "overflow_y": null,
            "padding": null,
            "right": null,
            "top": null,
            "visibility": null,
            "width": null
          }
        },
        "d36bb461ec2a424e87ab8f17dd193e97": {
          "model_module": "@jupyter-widgets/controls",
          "model_name": "ProgressStyleModel",
          "model_module_version": "1.5.0",
          "state": {
            "_model_module": "@jupyter-widgets/controls",
            "_model_module_version": "1.5.0",
            "_model_name": "ProgressStyleModel",
            "_view_count": null,
            "_view_module": "@jupyter-widgets/base",
            "_view_module_version": "1.2.0",
            "_view_name": "StyleView",
            "bar_color": null,
            "description_width": ""
          }
        },
        "64fd32d88cd540df95264b80f6ce5f19": {
          "model_module": "@jupyter-widgets/base",
          "model_name": "LayoutModel",
          "model_module_version": "1.2.0",
          "state": {
            "_model_module": "@jupyter-widgets/base",
            "_model_module_version": "1.2.0",
            "_model_name": "LayoutModel",
            "_view_count": null,
            "_view_module": "@jupyter-widgets/base",
            "_view_module_version": "1.2.0",
            "_view_name": "LayoutView",
            "align_content": null,
            "align_items": null,
            "align_self": null,
            "border": null,
            "bottom": null,
            "display": null,
            "flex": null,
            "flex_flow": null,
            "grid_area": null,
            "grid_auto_columns": null,
            "grid_auto_flow": null,
            "grid_auto_rows": null,
            "grid_column": null,
            "grid_gap": null,
            "grid_row": null,
            "grid_template_areas": null,
            "grid_template_columns": null,
            "grid_template_rows": null,
            "height": null,
            "justify_content": null,
            "justify_items": null,
            "left": null,
            "margin": null,
            "max_height": null,
            "max_width": null,
            "min_height": null,
            "min_width": null,
            "object_fit": null,
            "object_position": null,
            "order": null,
            "overflow": null,
            "overflow_x": null,
            "overflow_y": null,
            "padding": null,
            "right": null,
            "top": null,
            "visibility": null,
            "width": null
          }
        },
        "161211089850473489f8793acf1dd5e7": {
          "model_module": "@jupyter-widgets/controls",
          "model_name": "DescriptionStyleModel",
          "model_module_version": "1.5.0",
          "state": {
            "_model_module": "@jupyter-widgets/controls",
            "_model_module_version": "1.5.0",
            "_model_name": "DescriptionStyleModel",
            "_view_count": null,
            "_view_module": "@jupyter-widgets/base",
            "_view_module_version": "1.2.0",
            "_view_name": "StyleView",
            "description_width": ""
          }
        }
      }
    }
  },
  "nbformat": 4,
  "nbformat_minor": 0
}