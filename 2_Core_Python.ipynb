{
  "nbformat": 4,
  "nbformat_minor": 0,
  "metadata": {
    "colab": {
      "provenance": [],
      "toc_visible": true,
      "include_colab_link": true
    },
    "kernelspec": {
      "name": "python3",
      "display_name": "Python 3"
    }
  },
  "cells": [
    {
      "cell_type": "markdown",
      "metadata": {
        "id": "view-in-github",
        "colab_type": "text"
      },
      "source": [
        "<a href=\"https://colab.research.google.com/github/diwakarojha/Python_ML_Basics/blob/main/1_Core_Python.ipynb\" target=\"_parent\"><img src=\"https://colab.research.google.com/assets/colab-badge.svg\" alt=\"Open In Colab\"/></a>"
      ]
    },
    {
      "cell_type": "markdown",
      "metadata": {
        "id": "qwF5deVc5s_P"
      },
      "source": [
        "## 1. List and Tuple"
      ]
    },
    {
      "cell_type": "code",
      "metadata": {
        "id": "N1-gV8wL1jel"
      },
      "source": [
        "a=[1,2,'3',4]\n",
        "b=(1,2,'3',4)"
      ],
      "execution_count": null,
      "outputs": []
    },
    {
      "cell_type": "code",
      "metadata": {
        "id": "tA5eg_-fhR2T"
      },
      "source": [
        "import numpy as np\n",
        "import pandas as pd\n",
        "import matplotlib.pyplot as plt\n",
        "import seaborn as sns"
      ],
      "execution_count": null,
      "outputs": []
    },
    {
      "cell_type": "markdown",
      "metadata": {
        "id": "ZyE1D8FW5sij"
      },
      "source": []
    },
    {
      "cell_type": "code",
      "metadata": {
        "id": "V5_fTyAr1r2H"
      },
      "source": [
        "rand_num=np.random.rand()"
      ],
      "execution_count": null,
      "outputs": []
    },
    {
      "cell_type": "code",
      "metadata": {
        "id": "UCvlP2TP4_5p"
      },
      "source": [
        "rand_num=10+2.5*np.random.randn(300)"
      ],
      "execution_count": null,
      "outputs": []
    },
    {
      "cell_type": "code",
      "metadata": {
        "colab": {
          "base_uri": "https://localhost:8080/",
          "height": 367
        },
        "id": "OeWKbSwy5Soo",
        "outputId": "d18c113f-cbf4-49a6-d81b-66eb50ae34bc"
      },
      "source": [
        "plt.hist(rand_num,density=True)"
      ],
      "execution_count": null,
      "outputs": [
        {
          "output_type": "execute_result",
          "data": {
            "text/plain": [
              "(array([0.00726193, 0.04357157, 0.06535735, 0.11861149, 0.15976242,\n",
              "        0.15734178, 0.11619085, 0.04357157, 0.00726193, 0.00726193]),\n",
              " array([ 3.37288502,  4.74992977,  6.12697453,  7.50401929,  8.88106405,\n",
              "        10.25810881, 11.63515357, 13.01219833, 14.38924309, 15.76628785,\n",
              "        17.14333261]),\n",
              " <a list of 10 Patch objects>)"
            ]
          },
          "metadata": {
            "tags": []
          },
          "execution_count": 21
        },
        {
          "output_type": "display_data",
          "data": {
            "image/png": "[encoded data removed]",
            "text/plain": [
              "<Figure size 432x288 with 1 Axes>"
            ]
          },
          "metadata": {
            "tags": [],
            "needs_background": "light"
          }
        }
      ]
    },
    {
      "cell_type": "code",
      "metadata": {
        "colab": {
          "base_uri": "https://localhost:8080/",
          "height": 388
        },
        "id": "yIhqpE7m5VE0",
        "outputId": "9a6c536d-44a5-4220-ccac-d967d3ad4156"
      },
      "source": [
        "plt.figure(figsize=(8,5))\n",
        "sns.distplot(rand_num)\n",
        "plt.xlabel('Price Per item')\n",
        "plt.show()"
      ],
      "execution_count": null,
      "outputs": [
        {
          "output_type": "stream",
          "text": [
            "/usr/local/lib/python3.6/dist-packages/seaborn/distributions.py:2551: FutureWarning: `distplot` is a deprecated function and will be removed in a future version. Please adapt your code to use either `displot` (a figure-level function with similar flexibility) or `histplot` (an axes-level function for histograms).\n",
            "  warnings.warn(msg, FutureWarning)\n"
          ],
          "name": "stderr"
        },
        {
          "output_type": "display_data",
          "data": {
            "image/png": "[encoded data removed]",
            "text/plain": [
              "<Figure size 576x360 with 1 Axes>"
            ]
          },
          "metadata": {
            "tags": [],
            "needs_background": "light"
          }
        }
      ]
    },
    {
      "cell_type": "code",
      "metadata": {
        "id": "Ho0qmTcY5WFS",
        "colab": {
          "base_uri": "https://localhost:8080/"
        },
        "outputId": "2dce6bf9-f9b8-4f4b-8376-3b9ed3316d72"
      },
      "source": [
        "a=(4,3,2,2)\n",
        "b=set(a)\n",
        "for x in b:\n",
        "   print( x)"
      ],
      "execution_count": null,
      "outputs": [
        {
          "output_type": "stream",
          "text": [
            "2\n",
            "3\n",
            "4\n"
          ],
          "name": "stdout"
        }
      ]
    },
    {
      "cell_type": "code",
      "metadata": {
        "colab": {
          "base_uri": "https://localhost:8080/"
        },
        "id": "WlIRrH2QqNna",
        "outputId": "5161f630-9774-409f-8f96-2fcd4a593820"
      },
      "source": [
        "def func1(c):\n",
        "   print(\"func1\",c)\n",
        "   return c*2\n",
        "\n",
        "def func2(ff,*b):\n",
        "   print(b)\n",
        "   for x in b:\n",
        "      print( x)\n",
        "   ff(5)\n",
        "func2(func1,1,2,3)"
      ],
      "execution_count": 10,
      "outputs": [
        {
          "output_type": "stream",
          "name": "stdout",
          "text": [
            "(1, 2, 3)\n",
            "1\n",
            "2\n",
            "3\n",
            "func1 5\n"
          ]
        }
      ]
    },
    {
      "cell_type": "code",
      "metadata": {
        "colab": {
          "base_uri": "https://localhost:8080/"
        },
        "id": "eVtiDIZJrh6I",
        "outputId": "4ab67f31-71fd-4a8c-9f05-09df71122e38"
      },
      "source": [
        "\n",
        "z=[1,2,3]\n",
        "# y=map(func1,z)\n",
        "# for val in map(func1,z):\n",
        "#   print(val)\n",
        "\n",
        "list(map(func1,z))"
      ],
      "execution_count": 11,
      "outputs": [
        {
          "output_type": "stream",
          "name": "stdout",
          "text": [
            "func1 1\n",
            "func1 2\n",
            "func1 3\n"
          ]
        },
        {
          "output_type": "execute_result",
          "data": {
            "text/plain": [
              "[2, 4, 6]"
            ]
          },
          "metadata": {},
          "execution_count": 11
        }
      ]
    },
    {
      "cell_type": "code",
      "metadata": {
        "id": "k1y0-1aqr83T"
      },
      "source": [
        "?map"
      ],
      "execution_count": 5,
      "outputs": []
    },
    {
      "cell_type": "code",
      "metadata": {
        "colab": {
          "base_uri": "https://localhost:8080/",
          "height": 129
        },
        "id": "h_II_3cDYeK_",
        "outputId": "bd48a4fc-4a1c-43ec-ba48-57e347e51fd1"
      },
      "source": [
        "#Hello Team\n",
        "\"\"\n",
        "How are you all doing\n",
        "I am qute ready to take off\n",
        "\"\"\n",
        "#print('Hi')"
      ],
      "execution_count": null,
      "outputs": [
        {
          "output_type": "error",
          "ename": "SyntaxError",
          "evalue": "ignored",
          "traceback": [
            "\u001b[0;36m  File \u001b[0;32m\"<ipython-input-7-2202e923bc94>\"\u001b[0;36m, line \u001b[0;32m3\u001b[0m\n\u001b[0;31m    How are you all doing\u001b[0m\n\u001b[0m          ^\u001b[0m\n\u001b[0;31mSyntaxError\u001b[0m\u001b[0;31m:\u001b[0m invalid syntax\n"
          ]
        }
      ]
    },
    {
      "cell_type": "code",
      "metadata": {
        "colab": {
          "base_uri": "https://localhost:8080/"
        },
        "id": "3VjBc4O_Yj9r",
        "outputId": "5fa4a3d5-db7b-494f-dfdd-19a56ad950cd"
      },
      "source": [
        "\"\"\"\n",
        "This is a comment\n",
        "written in\n",
        "more than just one line\n",
        "\"\"\"\n",
        "print(\"ffffg\",\"fghgfh\",\"JTYTYUT\",sep='hahaha',end=\"\\n\")\n",
        "print(\"ffffg\",flush=True)"
      ],
      "execution_count": null,
      "outputs": [
        {
          "output_type": "stream",
          "text": [
            "ffffghahahafghgfhhahahaJTYTYUT\n",
            "ffffg\n"
          ],
          "name": "stdout"
        }
      ]
    },
    {
      "cell_type": "code",
      "metadata": {
        "colab": {
          "base_uri": "https://localhost:8080/"
        },
        "id": "K1cyMAfCZN5L",
        "outputId": "50f29536-9554-4307-de3b-83992382b747"
      },
      "source": [
        "Y=\\\n",
        "input(\"name\").split()\n",
        "print(Y,flush=True)"
      ],
      "execution_count": 26,
      "outputs": [
        {
          "output_type": "stream",
          "name": "stdout",
          "text": [
            "namehi\n",
            "['hi']\n"
          ]
        }
      ]
    },
    {
      "cell_type": "code",
      "metadata": {
        "colab": {
          "base_uri": "https://localhost:8080/"
        },
        "id": "4mKjeON2aBSY",
        "outputId": "b3189a14-b730-4cf6-ff80-5f03584ee061"
      },
      "source": [
        "ls=[1,2,3,4,56]\n",
        "ss='hahaha'\n",
        "for x in ls:\n",
        "  print(x,end=ss+\"\\n\")"
      ],
      "execution_count": 25,
      "outputs": [
        {
          "output_type": "stream",
          "name": "stdout",
          "text": [
            "1hahaha\n",
            "2hahaha\n",
            "3hahaha\n",
            "4hahaha\n",
            "56hahaha\n"
          ]
        }
      ]
    },
    {
      "cell_type": "code",
      "metadata": {
        "colab": {
          "base_uri": "https://localhost:8080/"
        },
        "id": "DpnwiIqydbWS",
        "outputId": "15dc4acf-161b-4013-c922-69440d06aa1b"
      },
      "source": [
        "print(\"Rice Price is %7.6f and Quantity is %5d kg, %s\"%(12.234,456765756755,'ghg'))"
      ],
      "execution_count": 12,
      "outputs": [
        {
          "output_type": "stream",
          "name": "stdout",
          "text": [
            "Rice Price is 12.234000 and Quantity is 456765756755 kg, ghg\n"
          ]
        }
      ]
    },
    {
      "cell_type": "code",
      "metadata": {
        "colab": {
          "base_uri": "https://localhost:8080/"
        },
        "id": "M0u74mfnfE_5",
        "outputId": "9584ccd3-b81b-4f5e-c981-287085d0a885"
      },
      "source": [
        "print(\"First {1:5f} second {0:f} .\".format(34.876,23))"
      ],
      "execution_count": 16,
      "outputs": [
        {
          "output_type": "stream",
          "name": "stdout",
          "text": [
            "First 23.000000 second 34.876000 .\n"
          ]
        }
      ]
    },
    {
      "cell_type": "code",
      "metadata": {
        "colab": {
          "base_uri": "https://localhost:8080/"
        },
        "id": "f6_T6Xa9kwNy",
        "outputId": "c67e3866-225a-4af5-88f6-fc28a1b64230"
      },
      "source": [
        "tab={'a':12,'b':\"Hi\"}\n",
        "print('first {0[1]} second {0[0]}'.format((tab,tab)))"
      ],
      "execution_count": 38,
      "outputs": [
        {
          "output_type": "stream",
          "name": "stdout",
          "text": [
            "first {'a': 12, 'b': 'Hi'} second {'a': 12, 'b': 'Hi'}\n"
          ]
        }
      ]
    },
    {
      "cell_type": "code",
      "metadata": {
        "colab": {
          "base_uri": "https://localhost:8080/",
          "height": 35
        },
        "id": "aZNApKV8libX",
        "outputId": "7a5edbea-7418-4219-cd71-9687dd9a5a31"
      },
      "source": [
        "str1=\"hi this how you go\"\n",
        "str1.ljust(50,'*')"
      ],
      "execution_count": 43,
      "outputs": [
        {
          "output_type": "execute_result",
          "data": {
            "text/plain": [
              "'hi this how you go********************************'"
            ],
            "application/vnd.google.colaboratory.intrinsic+json": {
              "type": "string"
            }
          },
          "metadata": {},
          "execution_count": 43
        }
      ]
    },
    {
      "cell_type": "code",
      "metadata": {
        "colab": {
          "base_uri": "https://localhost:8080/"
        },
        "id": "OYK4k8uK1gpS",
        "outputId": "7e499bca-4c8b-4123-d1c7-45ee745cf21a"
      },
      "source": [
        "a1=[3]\n",
        "b1=[3]\n",
        "print(a1 == b1) # True as it compares value\n",
        "print(a1 is b1) # False as it compare the location"
      ],
      "execution_count": 49,
      "outputs": [
        {
          "output_type": "stream",
          "name": "stdout",
          "text": [
            "True\n",
            "False\n"
          ]
        }
      ]
    },
    {
      "cell_type": "code",
      "metadata": {
        "colab": {
          "base_uri": "https://localhost:8080/"
        },
        "id": "bDHQQOxS4wcP",
        "outputId": "7bb6afcd-55a9-4ac9-e9d8-446218165587"
      },
      "source": [
        "a,b=10,20\n",
        "print((a,b)[a<b])\n",
        "print({True:a,False:b}[a<b])\n",
        "print((lambda:a,lambda:b)[a<b]())"
      ],
      "execution_count": 17,
      "outputs": [
        {
          "output_type": "stream",
          "name": "stdout",
          "text": [
            "20\n",
            "10\n",
            "20\n"
          ]
        }
      ]
    },
    {
      "cell_type": "code",
      "metadata": {
        "colab": {
          "base_uri": "https://localhost:8080/"
        },
        "id": "GvEShDawLern",
        "outputId": "0e4d14f3-9dae-495c-9b45-384e34ad6a3f"
      },
      "source": [
        "-5//2"
      ],
      "execution_count": null,
      "outputs": [
        {
          "output_type": "execute_result",
          "data": {
            "text/plain": [
              "-3"
            ]
          },
          "metadata": {
            "tags": []
          },
          "execution_count": 77
        }
      ]
    },
    {
      "cell_type": "code",
      "metadata": {
        "colab": {
          "base_uri": "https://localhost:8080/"
        },
        "id": "qUDCu30cMVxK",
        "outputId": "ac1f76b2-1988-43e7-8571-52c2c4c50281"
      },
      "source": [
        "class A1:\n",
        "  def __init__(self, a):\n",
        "    self.a=a\n",
        "  def __add__(self,ob1):#Operator overloading\n",
        "    self.a+=ob1.a\n",
        "    return self\n",
        "X1=A1(6)\n",
        "X2=A1(5)\n",
        "X3=X1+X2\n",
        "print(X3.a)"
      ],
      "execution_count": 23,
      "outputs": [
        {
          "output_type": "stream",
          "name": "stdout",
          "text": [
            "11\n"
          ]
        }
      ]
    },
    {
      "cell_type": "code",
      "metadata": {
        "colab": {
          "base_uri": "https://localhost:8080/"
        },
        "id": "6FJELMDIOytQ",
        "outputId": "eabffc48-eac1-428d-816f-138207a23f90"
      },
      "source": [
        "all([])"
      ],
      "execution_count": null,
      "outputs": [
        {
          "output_type": "execute_result",
          "data": {
            "text/plain": [
              "True"
            ]
          },
          "metadata": {
            "tags": []
          },
          "execution_count": 93
        }
      ]
    },
    {
      "cell_type": "code",
      "metadata": {
        "colab": {
          "base_uri": "https://localhost:8080/"
        },
        "id": "DlNKTi6KqzMI",
        "outputId": "b4056fb3-e8bf-4987-c9e8-fbdaa4009d99"
      },
      "source": [
        "a=3\n",
        "b=3\n",
        "print(id(a),id(b))\n",
        "b=7\n",
        "print(id(a),id(b))"
      ],
      "execution_count": null,
      "outputs": [
        {
          "output_type": "stream",
          "text": [
            "10914560 10914560\n",
            "10914560 10914688\n"
          ],
          "name": "stdout"
        }
      ]
    },
    {
      "cell_type": "code",
      "metadata": {
        "colab": {
          "base_uri": "https://localhost:8080/"
        },
        "id": "jUp-AYPPtBDC",
        "outputId": "d8fbac70-5808-4430-d37e-f97502548619"
      },
      "source": [
        "s = \"Hello World\"\n",
        "for i in s :\n",
        "    print (i,end='')"
      ],
      "execution_count": null,
      "outputs": [
        {
          "output_type": "stream",
          "text": [
            "Hello World"
          ],
          "name": "stdout"
        }
      ]
    },
    {
      "cell_type": "code",
      "metadata": {
        "colab": {
          "base_uri": "https://localhost:8080/"
        },
        "id": "NtEB8juRvjry",
        "outputId": "ea9395c7-3dcf-4e03-f74d-68c76c89676b"
      },
      "source": [
        "print(\"C:\\python\\fgf\")"
      ],
      "execution_count": 51,
      "outputs": [
        {
          "output_type": "stream",
          "name": "stdout",
          "text": [
            "C:\\python\fgf\n"
          ]
        }
      ]
    },
    {
      "cell_type": "code",
      "metadata": {
        "id": "UnsO59ZxwcRd",
        "colab": {
          "base_uri": "https://localhost:8080/",
          "height": 35
        },
        "outputId": "5e8f71e7-d251-4f1d-bde3-1d8e1110faae"
      },
      "source": [
        "str1=r'C:\\address\\dfd'\n",
        "#del str1\n",
        "str1"
      ],
      "execution_count": 50,
      "outputs": [
        {
          "output_type": "execute_result",
          "data": {
            "text/plain": [
              "'C:\\\\address\\\\dfd'"
            ],
            "application/vnd.google.colaboratory.intrinsic+json": {
              "type": "string"
            }
          },
          "metadata": {},
          "execution_count": 50
        }
      ]
    },
    {
      "cell_type": "markdown",
      "metadata": {
        "id": "oMJsrVVJfbpp"
      },
      "source": [
        "### String Formatting"
      ]
    },
    {
      "cell_type": "code",
      "metadata": {
        "colab": {
          "base_uri": "https://localhost:8080/"
        },
        "id": "6C2EbGXqbjgK",
        "outputId": "3b5d2424-0448-46b8-e6c6-b549f47b4f57"
      },
      "source": [
        "print(\"Columns\")\n",
        "print(\"|{1:<20}|{0:^30}|{2:>12}|\".format(\"Name\",\"Address\",\"Phone No\"))\n",
        "print(\"|{:<20}|{:^30}|{:>12}|\".format(\"Diwakar Ojha\",\"430E, Azad nagar east\",\"9051270079\"))"
      ],
      "execution_count": 52,
      "outputs": [
        {
          "output_type": "stream",
          "name": "stdout",
          "text": [
            "Columns\n",
            "|Address             |             Name             |    Phone No|\n",
            "|Diwakar Ojha        |    430E, Azad nagar east     |  9051270079|\n"
          ]
        }
      ]
    },
    {
      "cell_type": "code",
      "metadata": {
        "colab": {
          "base_uri": "https://localhost:8080/"
        },
        "id": "-mqhOAVYebOw",
        "outputId": "2f019dc3-7702-40b2-dbae-3e9332e52cb3"
      },
      "source": [
        "import string\n",
        "name=\"diwakar ojha\"\n",
        "str1=\"12345.67\"\n",
        "print(\"Is Decimal:\",str1.isdecimal())\n",
        "print(\"Replace\",str1.replace('12','45'))\n",
        "print(\"Length of String:\",len(str1))\n",
        "print(\"Max of String: \", max(str1))\n",
        "#Istitle(name)\n",
        "print(\"IsTitle:\",name.istitle())\n",
        "print(name.rpartition(\"a\"))\n",
        "print(name.rsplit(\"a\"))\n",
        "print(\"Join: \",name.join(str1))\n",
        "\n",
        "for x in str1:\n",
        "  if x in string.digits:\n",
        "    print(x)\n",
        "\n",
        "print(name.endswith(\"ha\"))\n",
        "print(name.capitalize())"
      ],
      "execution_count": 66,
      "outputs": [
        {
          "output_type": "stream",
          "name": "stdout",
          "text": [
            "Is Decimal: False\n",
            "Replace 45345.67\n",
            "Length of String: 8\n",
            "Max of String:  7\n",
            "IsTitle: False\n",
            "('diwakar ojh', 'a', '')\n",
            "['diw', 'k', 'r ojh', '']\n",
            "Join:  1diwakar ojha2diwakar ojha3diwakar ojha4diwakar ojha5diwakar ojha.diwakar ojha6diwakar ojha7\n",
            "1\n",
            "2\n",
            "3\n",
            "4\n",
            "5\n",
            "6\n",
            "7\n",
            "True\n",
            "Diwakar ojha\n"
          ]
        }
      ]
    },
    {
      "cell_type": "code",
      "metadata": {
        "colab": {
          "base_uri": "https://localhost:8080/",
          "height": 35
        },
        "id": "4aMx7zh8fklD",
        "outputId": "f952cb20-811b-4f4f-bbab-af3bdc1e7f85"
      },
      "source": [
        "#anagram\n",
        "str1='anaananab'\n",
        "str1[::-1]\n",
        "str1[:-2:-1]\n",
        "# str1==str1[::-1]"
      ],
      "execution_count": 80,
      "outputs": [
        {
          "output_type": "execute_result",
          "data": {
            "text/plain": [
              "'b'"
            ],
            "application/vnd.google.colaboratory.intrinsic+json": {
              "type": "string"
            }
          },
          "metadata": {},
          "execution_count": 80
        }
      ]
    },
    {
      "cell_type": "code",
      "metadata": {
        "colab": {
          "base_uri": "https://localhost:8080/"
        },
        "id": "_yd0s57dl3Eg",
        "outputId": "36b6bf46-1761-4690-82e8-623fc941a8fe"
      },
      "source": [
        "lst=[1,2,'Hi',3.4]\n",
        "lst.append(['5'])\n",
        "lst"
      ],
      "execution_count": 81,
      "outputs": [
        {
          "output_type": "execute_result",
          "data": {
            "text/plain": [
              "[1, 2, 'Hi', 3.4, ['5']]"
            ]
          },
          "metadata": {},
          "execution_count": 81
        }
      ]
    },
    {
      "cell_type": "code",
      "metadata": {
        "colab": {
          "base_uri": "https://localhost:8080/"
        },
        "id": "6IkW77uomwH4",
        "outputId": "ac4b93fa-92d8-4315-bb8a-677d29cd4b28"
      },
      "source": [
        "lst.insert(0,'hello')\n",
        "lst"
      ],
      "execution_count": 82,
      "outputs": [
        {
          "output_type": "execute_result",
          "data": {
            "text/plain": [
              "['hello', 1, 2, 'Hi', 3.4, ['5']]"
            ]
          },
          "metadata": {},
          "execution_count": 82
        }
      ]
    },
    {
      "cell_type": "code",
      "metadata": {
        "colab": {
          "base_uri": "https://localhost:8080/"
        },
        "id": "UFCmJaSknhaL",
        "outputId": "81d989b4-965e-4755-b7a4-d2a33847b152"
      },
      "source": [
        "lst.insert(-1,\"hellohi2\") #Insert object before index.\n",
        "lst"
      ],
      "execution_count": 115,
      "outputs": [
        {
          "output_type": "execute_result",
          "data": {
            "text/plain": [
              "['hellohi1', 1, 2, 3, 'hellohi1', [4], 'hellohi1', 'hellohi2', 'hellohi1']"
            ]
          },
          "metadata": {},
          "execution_count": 115
        }
      ]
    },
    {
      "cell_type": "code",
      "metadata": {
        "colab": {
          "base_uri": "https://localhost:8080/"
        },
        "id": "fygCoaRDnzvz",
        "outputId": "7882ec92-a1ac-45ec-b894-95fc879f2397"
      },
      "source": [
        "lst=[1,2]\n",
        "lst.extend([3,4,5]) #Extend list by appending elements from the iterable\n",
        "lst"
      ],
      "execution_count": 85,
      "outputs": [
        {
          "output_type": "execute_result",
          "data": {
            "text/plain": [
              "[1, 2, 3, 4, 5]"
            ]
          },
          "metadata": {},
          "execution_count": 85
        }
      ]
    },
    {
      "cell_type": "code",
      "metadata": {
        "colab": {
          "base_uri": "https://localhost:8080/"
        },
        "id": "j4j9osMhoVGv",
        "outputId": "9071abf6-a430-4fc6-e72e-03c7be1fba06"
      },
      "source": [
        "lst=[[1,2],[3,4]]\n",
        "lst[:]"
      ],
      "execution_count": 93,
      "outputs": [
        {
          "output_type": "execute_result",
          "data": {
            "text/plain": [
              "[[1, 2], [3, 4]]"
            ]
          },
          "metadata": {},
          "execution_count": 93
        }
      ]
    },
    {
      "cell_type": "code",
      "metadata": {
        "colab": {
          "base_uri": "https://localhost:8080/"
        },
        "id": "LnjpI2xooc8Q",
        "outputId": "3f6489e6-2b66-4ba2-da1b-20ff76bd19e4"
      },
      "source": [
        "lst=[1,2,2,3,[4]]\n",
        "lst.remove(2) #Remove first occurrence of value.\n",
        "help(lst.insert)\n",
        "lst"
      ],
      "execution_count": 110,
      "outputs": [
        {
          "output_type": "stream",
          "name": "stdout",
          "text": [
            "Help on built-in function insert:\n",
            "\n",
            "insert(index, object, /) method of builtins.list instance\n",
            "    Insert object before index.\n",
            "\n"
          ]
        },
        {
          "output_type": "execute_result",
          "data": {
            "text/plain": [
              "[1, 2, 3, [4]]"
            ]
          },
          "metadata": {},
          "execution_count": 110
        }
      ]
    },
    {
      "cell_type": "code",
      "metadata": {
        "colab": {
          "base_uri": "https://localhost:8080/"
        },
        "id": "dAd9ORGmpFRa",
        "outputId": "bf506fa9-f4d6-431c-ae31-9852a678ddfd"
      },
      "source": [
        "lst.pop(1) #Remove and return item at index (default last)"
      ],
      "execution_count": 104,
      "outputs": [
        {
          "output_type": "execute_result",
          "data": {
            "text/plain": [
              "3"
            ]
          },
          "metadata": {},
          "execution_count": 104
        }
      ]
    },
    {
      "cell_type": "code",
      "metadata": {
        "colab": {
          "base_uri": "https://localhost:8080/"
        },
        "id": "dtutzhegp1Ky",
        "outputId": "35a621c8-d580-44cf-e4e7-8cdf51261ffb"
      },
      "source": [
        "lst.clear() #Remove all items from list.\n",
        "lst"
      ],
      "execution_count": 98,
      "outputs": [
        {
          "output_type": "execute_result",
          "data": {
            "text/plain": [
              "[]"
            ]
          },
          "metadata": {},
          "execution_count": 98
        }
      ]
    },
    {
      "cell_type": "code",
      "metadata": {
        "colab": {
          "base_uri": "https://localhost:8080/"
        },
        "id": "uiiXcQakp31z",
        "outputId": "f6282c58-ca85-4e4d-d27e-1e9d2d652f90"
      },
      "source": [
        "# Filter(function or None, iterable) : Return an iterator yielding those items of iterable for which function(item)\n",
        "#  is true. If function is None, return the items that are true.\n",
        "lst=[0,1,2,3,4]\n",
        "list(filter(lambda x: x%2!=0, lst))"
      ],
      "execution_count": 118,
      "outputs": [
        {
          "output_type": "execute_result",
          "data": {
            "text/plain": [
              "[1, 3]"
            ]
          },
          "metadata": {},
          "execution_count": 118
        }
      ]
    },
    {
      "cell_type": "markdown",
      "source": [
        "### List Comprehension"
      ],
      "metadata": {
        "id": "6b5Q2k6QEmib"
      }
    },
    {
      "cell_type": "code",
      "source": [
        "lst= [1,2,3]\n",
        "print(\n",
        "\n",
        "[x**2 for x in lst],                     #Simple for\n",
        "[x**2 for x in lst if x%2==0],           #for with only if\n",
        "[x**2 if x%2==0 else x/2 for x in lst ] #For with if else\n",
        "\n",
        "       , sep=\"\\n\")"
      ],
      "metadata": {
        "colab": {
          "base_uri": "https://localhost:8080/"
        },
        "id": "Oh_uKa5mEQQG",
        "outputId": "5e2c165f-0562-4184-88a0-984baf91dc4f"
      },
      "execution_count": 208,
      "outputs": [
        {
          "output_type": "stream",
          "name": "stdout",
          "text": [
            "[1, 4, 9]\n",
            "[4]\n",
            "[0.5, 4, 1.5]\n"
          ]
        }
      ]
    },
    {
      "cell_type": "code",
      "metadata": {
        "colab": {
          "base_uri": "https://localhost:8080/"
        },
        "id": "1z8aOE5TyV1F",
        "outputId": "2966328d-eb8c-447a-de04-cc0316ad31c3"
      },
      "source": [
        "# Tuple example\n",
        "a=1,(2,3)\n",
        "a*3"
      ],
      "execution_count": 119,
      "outputs": [
        {
          "output_type": "execute_result",
          "data": {
            "text/plain": [
              "(1, (2, 3), 1, (2, 3), 1, (2, 3))"
            ]
          },
          "metadata": {},
          "execution_count": 119
        }
      ]
    },
    {
      "cell_type": "code",
      "metadata": {
        "id": "PJM3akuTzM0E"
      },
      "source": [
        "# Set\n",
        "s1={1,2,3,3,4}\n"
      ],
      "execution_count": 122,
      "outputs": []
    },
    {
      "cell_type": "code",
      "metadata": {
        "colab": {
          "base_uri": "https://localhost:8080/"
        },
        "id": "6inXolEM0gTz",
        "outputId": "29813c50-88bd-4173-8f38-fae6273dc313"
      },
      "source": [
        "s1.add(5)\n",
        "s1 #'set' object is not subscriptable"
      ],
      "execution_count": 129,
      "outputs": [
        {
          "output_type": "execute_result",
          "data": {
            "text/plain": [
              "{1, 2, 3, 4, 5}"
            ]
          },
          "metadata": {},
          "execution_count": 129
        }
      ]
    },
    {
      "cell_type": "code",
      "metadata": {
        "colab": {
          "base_uri": "https://localhost:8080/"
        },
        "id": "F9jYycn700py",
        "outputId": "066cacb1-6f95-495a-c817-cbc237dd503c"
      },
      "source": [
        "s2=frozenset([2,3,45])\n",
        "s2\n",
        "s2.difference(s1)\n",
        "s1.difference_update(s2)\n",
        "s1"
      ],
      "execution_count": null,
      "outputs": [
        {
          "output_type": "execute_result",
          "data": {
            "text/plain": [
              "{(3, 4), 1, 4, 5}"
            ]
          },
          "metadata": {
            "tags": []
          },
          "execution_count": 135
        }
      ]
    },
    {
      "cell_type": "code",
      "metadata": {
        "colab": {
          "base_uri": "https://localhost:8080/"
        },
        "id": "PrdbCXre3VkZ",
        "outputId": "c6438e63-a6fb-4530-dd76-48ea23a79a90"
      },
      "source": [
        "s2.symmetric_difference(s1)"
      ],
      "execution_count": null,
      "outputs": [
        {
          "output_type": "execute_result",
          "data": {
            "text/plain": [
              "{4}"
            ]
          },
          "metadata": {
            "tags": []
          },
          "execution_count": 144
        }
      ]
    },
    {
      "cell_type": "code",
      "metadata": {
        "id": "8r-JZCc_43qX"
      },
      "source": [
        "s2={1,2,3,4}"
      ],
      "execution_count": null,
      "outputs": []
    },
    {
      "cell_type": "code",
      "metadata": {
        "id": "7m2uhGI14-pJ"
      },
      "source": [
        "s1={1,2,3}"
      ],
      "execution_count": null,
      "outputs": []
    },
    {
      "cell_type": "code",
      "metadata": {
        "colab": {
          "base_uri": "https://localhost:8080/"
        },
        "id": "BsYNBgM65C6p",
        "outputId": "dbe23223-bb7d-4a1f-e5aa-6cc186af3d81"
      },
      "source": [
        "d1={1:'Hi',2:'how',3:{'a':'are','b':'you'}}\n",
        "d1"
      ],
      "execution_count": null,
      "outputs": [
        {
          "output_type": "execute_result",
          "data": {
            "text/plain": [
              "{1: 'Hi', 2: 'how', 3: {'a': 'are', 'b': 'you'}}"
            ]
          },
          "metadata": {
            "tags": []
          },
          "execution_count": 146
        }
      ]
    },
    {
      "cell_type": "code",
      "metadata": {
        "id": "Jxbja7Sn6WsN"
      },
      "source": [
        "d1[3]['a']=d1[3]['a']+'hello'"
      ],
      "execution_count": null,
      "outputs": []
    },
    {
      "cell_type": "code",
      "metadata": {
        "colab": {
          "base_uri": "https://localhost:8080/"
        },
        "id": "KrOOotKI6auz",
        "outputId": "a3ea80b9-a927-46d4-cff2-669a3942a6f6"
      },
      "source": [
        "d1"
      ],
      "execution_count": null,
      "outputs": [
        {
          "output_type": "execute_result",
          "data": {
            "text/plain": [
              "{1: 'Hi', 2: 'how', 3: {'a': 'hellohello', 'b': 'you'}}"
            ]
          },
          "metadata": {
            "tags": []
          },
          "execution_count": 154
        }
      ]
    },
    {
      "cell_type": "code",
      "metadata": {
        "colab": {
          "base_uri": "https://localhost:8080/"
        },
        "id": "1udtfRCb6pGC",
        "outputId": "00a5a3eb-a62d-4bc1-86cd-1e6209ff1d76"
      },
      "source": [
        "d1.items()"
      ],
      "execution_count": null,
      "outputs": [
        {
          "output_type": "execute_result",
          "data": {
            "text/plain": [
              "dict_items([(1, 'Hi'), (2, 'how'), (3, {'a': 'hellohello', 'b': 'you'})])"
            ]
          },
          "metadata": {
            "tags": []
          },
          "execution_count": 158
        }
      ]
    },
    {
      "cell_type": "code",
      "metadata": {
        "colab": {
          "base_uri": "https://localhost:8080/",
          "height": 195
        },
        "id": "ootOFcIw7vLc",
        "outputId": "5c192da6-c65f-4113-fda8-ce010e8fde74"
      },
      "source": [
        "d2=d1.copy()\n",
        "d2.fromkeys(d1)"
      ],
      "execution_count": 130,
      "outputs": [
        {
          "output_type": "error",
          "ename": "NameError",
          "evalue": "ignored",
          "traceback": [
            "\u001b[0;31m---------------------------------------------------------------------------\u001b[0m",
            "\u001b[0;31mNameError\u001b[0m                                 Traceback (most recent call last)",
            "\u001b[0;32m<ipython-input-130-1732dd2d7ac0>\u001b[0m in \u001b[0;36m<cell line: 1>\u001b[0;34m()\u001b[0m\n\u001b[0;32m----> 1\u001b[0;31m \u001b[0md2\u001b[0m\u001b[0;34m=\u001b[0m\u001b[0md1\u001b[0m\u001b[0;34m.\u001b[0m\u001b[0mcopy\u001b[0m\u001b[0;34m(\u001b[0m\u001b[0;34m)\u001b[0m\u001b[0;34m\u001b[0m\u001b[0;34m\u001b[0m\u001b[0m\n\u001b[0m\u001b[1;32m      2\u001b[0m \u001b[0md2\u001b[0m\u001b[0;34m.\u001b[0m\u001b[0mfromkeys\u001b[0m\u001b[0;34m(\u001b[0m\u001b[0md1\u001b[0m\u001b[0;34m)\u001b[0m\u001b[0;34m\u001b[0m\u001b[0;34m\u001b[0m\u001b[0m\n",
            "\u001b[0;31mNameError\u001b[0m: name 'd1' is not defined"
          ]
        }
      ]
    },
    {
      "cell_type": "code",
      "metadata": {
        "colab": {
          "base_uri": "https://localhost:8080/",
          "height": 177
        },
        "id": "P26l3Itq82MU",
        "outputId": "81dbed2e-a43c-45c1-896c-fc73932c9caa"
      },
      "source": [
        "cmp(d1,d2)"
      ],
      "execution_count": 131,
      "outputs": [
        {
          "output_type": "error",
          "ename": "NameError",
          "evalue": "ignored",
          "traceback": [
            "\u001b[0;31m---------------------------------------------------------------------------\u001b[0m",
            "\u001b[0;31mNameError\u001b[0m                                 Traceback (most recent call last)",
            "\u001b[0;32m<ipython-input-131-4268087603fb>\u001b[0m in \u001b[0;36m<cell line: 1>\u001b[0;34m()\u001b[0m\n\u001b[0;32m----> 1\u001b[0;31m \u001b[0mcmp\u001b[0m\u001b[0;34m(\u001b[0m\u001b[0md1\u001b[0m\u001b[0;34m,\u001b[0m\u001b[0md2\u001b[0m\u001b[0;34m)\u001b[0m\u001b[0;34m\u001b[0m\u001b[0;34m\u001b[0m\u001b[0m\n\u001b[0m",
            "\u001b[0;31mNameError\u001b[0m: name 'cmp' is not defined"
          ]
        }
      ]
    },
    {
      "cell_type": "code",
      "metadata": {
        "colab": {
          "base_uri": "https://localhost:8080/"
        },
        "id": "QMxLOuBq9EJ1",
        "outputId": "71a1f724-fd88-434c-aaa1-1038726c094c"
      },
      "source": [
        "for x in range(10):\n",
        "  print(x)\n",
        "  if x==6:break\n",
        "else:\n",
        "  print(\"else\")"
      ],
      "execution_count": 135,
      "outputs": [
        {
          "output_type": "stream",
          "name": "stdout",
          "text": [
            "0\n",
            "1\n",
            "2\n",
            "3\n",
            "4\n",
            "5\n",
            "6\n"
          ]
        }
      ]
    },
    {
      "cell_type": "code",
      "metadata": {
        "colab": {
          "base_uri": "https://localhost:8080/"
        },
        "id": "ktl1XVhJBoMV",
        "outputId": "82b404d2-ed77-4f5d-d390-9b6a08fe9def"
      },
      "source": [
        "lst={'a':1,'b':2,'c':4}\n",
        "print(type(lst))\n",
        "for x,y in enumerate(lst.items()):\n",
        "  print(x,y)"
      ],
      "execution_count": 136,
      "outputs": [
        {
          "output_type": "stream",
          "name": "stdout",
          "text": [
            "<class 'dict'>\n",
            "0 ('a', 1)\n",
            "1 ('b', 2)\n",
            "2 ('c', 4)\n"
          ]
        }
      ]
    },
    {
      "cell_type": "code",
      "metadata": {
        "colab": {
          "base_uri": "https://localhost:8080/"
        },
        "id": "J0J7d-JRFAUP",
        "outputId": "68fbf846-6bee-45cc-f9ce-ebe33e1a5e03"
      },
      "source": [
        "prop=['name','color','shape']\n",
        "val=['apple','red','circle']\n",
        "for x in zip(prop,val):\n",
        "  print(x)"
      ],
      "execution_count": null,
      "outputs": [
        {
          "output_type": "stream",
          "text": [
            "('name', 'apple')\n",
            "('color', 'red')\n",
            "('shape', 'circle')\n"
          ],
          "name": "stdout"
        }
      ]
    },
    {
      "cell_type": "code",
      "metadata": {
        "colab": {
          "base_uri": "https://localhost:8080/",
          "height": 212
        },
        "id": "ZOnbMYi6GnJm",
        "outputId": "09e33e80-a559-412e-a963-7e613d3e5bb4"
      },
      "source": [
        "lst={'a':1,'b':2,'c':4}\n",
        "for item in lst.iteritems():\n",
        "  print(item)"
      ],
      "execution_count": 140,
      "outputs": [
        {
          "output_type": "error",
          "ename": "AttributeError",
          "evalue": "ignored",
          "traceback": [
            "\u001b[0;31m---------------------------------------------------------------------------\u001b[0m",
            "\u001b[0;31mAttributeError\u001b[0m                            Traceback (most recent call last)",
            "\u001b[0;32m<ipython-input-140-4882c9a7b8e6>\u001b[0m in \u001b[0;36m<cell line: 2>\u001b[0;34m()\u001b[0m\n\u001b[1;32m      1\u001b[0m \u001b[0mlst\u001b[0m\u001b[0;34m=\u001b[0m\u001b[0;34m{\u001b[0m\u001b[0;34m'a'\u001b[0m\u001b[0;34m:\u001b[0m\u001b[0;36m1\u001b[0m\u001b[0;34m,\u001b[0m\u001b[0;34m'b'\u001b[0m\u001b[0;34m:\u001b[0m\u001b[0;36m2\u001b[0m\u001b[0;34m,\u001b[0m\u001b[0;34m'c'\u001b[0m\u001b[0;34m:\u001b[0m\u001b[0;36m4\u001b[0m\u001b[0;34m}\u001b[0m\u001b[0;34m\u001b[0m\u001b[0;34m\u001b[0m\u001b[0m\n\u001b[0;32m----> 2\u001b[0;31m \u001b[0;32mfor\u001b[0m \u001b[0mitem\u001b[0m \u001b[0;32min\u001b[0m \u001b[0mlst\u001b[0m\u001b[0;34m.\u001b[0m\u001b[0miteritems\u001b[0m\u001b[0;34m(\u001b[0m\u001b[0;34m)\u001b[0m\u001b[0;34m:\u001b[0m\u001b[0;34m\u001b[0m\u001b[0;34m\u001b[0m\u001b[0m\n\u001b[0m\u001b[1;32m      3\u001b[0m   \u001b[0mprint\u001b[0m\u001b[0;34m(\u001b[0m\u001b[0mitem\u001b[0m\u001b[0;34m)\u001b[0m\u001b[0;34m\u001b[0m\u001b[0;34m\u001b[0m\u001b[0m\n",
            "\u001b[0;31mAttributeError\u001b[0m: 'dict' object has no attribute 'iteritems'"
          ]
        }
      ]
    },
    {
      "cell_type": "code",
      "metadata": {
        "colab": {
          "base_uri": "https://localhost:8080/"
        },
        "id": "oKe6N2mUG9o6",
        "outputId": "463fb6b4-eeb2-4267-a177-f3a96a1a07b6"
      },
      "source": [
        "for x in reversed(range(1,10,2)):\n",
        "  print(x)"
      ],
      "execution_count": 141,
      "outputs": [
        {
          "output_type": "stream",
          "name": "stdout",
          "text": [
            "9\n",
            "7\n",
            "5\n",
            "3\n",
            "1\n"
          ]
        }
      ]
    },
    {
      "cell_type": "code",
      "metadata": {
        "colab": {
          "base_uri": "https://localhost:8080/"
        },
        "id": "KzR-opEBH23C",
        "outputId": "60d4cbd2-3aa4-4880-ed19-53e6c095c61e"
      },
      "source": [
        "def func1(name,sname,**kargs):\n",
        "  print(name,sname,kargs['sname1'],kargs['sname2'])\n",
        "  print(kargs)\n",
        "func1(name='name',sname='sname',sname1='fgfg',sname2='sn2')"
      ],
      "execution_count": 144,
      "outputs": [
        {
          "output_type": "stream",
          "name": "stdout",
          "text": [
            "name sname fgfg sn2\n",
            "{'sname1': 'fgfg', 'sname2': 'sn2'}\n"
          ]
        }
      ]
    },
    {
      "cell_type": "code",
      "metadata": {
        "colab": {
          "base_uri": "https://localhost:8080/"
        },
        "id": "s4lLpJTJQgZL",
        "outputId": "cc9228fa-e308-4b2d-9435-6774c53f31f0"
      },
      "source": [
        "#Yield\n",
        "def myfunc():\n",
        "  yield 1\n",
        "  print(\"hello\")\n",
        "  yield 2\n",
        "  # print(\"heeello\")\n",
        "  # return 3\n",
        "  yield 4\n",
        "\n",
        "for val1 in myfunc():\n",
        "  print(val1)\n",
        "  # print(myfunc())"
      ],
      "execution_count": 150,
      "outputs": [
        {
          "output_type": "stream",
          "name": "stdout",
          "text": [
            "1\n",
            "hello\n",
            "2\n",
            "4\n"
          ]
        }
      ]
    },
    {
      "cell_type": "code",
      "metadata": {
        "colab": {
          "base_uri": "https://localhost:8080/"
        },
        "id": "BpSYzpazFKE9",
        "outputId": "9ab00df0-6296-4798-e3d5-4553e98b9494"
      },
      "source": [
        "def next_square():\n",
        "  i=1\n",
        "  while True:\n",
        "    yield i*i\n",
        "    i+=1\n",
        "for x in next_square():\n",
        "  print(x)\n",
        "  if x>=100: break"
      ],
      "execution_count": 152,
      "outputs": [
        {
          "output_type": "stream",
          "name": "stdout",
          "text": [
            "1\n",
            "4\n",
            "9\n",
            "16\n",
            "25\n",
            "36\n",
            "49\n",
            "64\n",
            "81\n",
            "100\n"
          ]
        }
      ]
    },
    {
      "cell_type": "code",
      "metadata": {
        "colab": {
          "base_uri": "https://localhost:8080/"
        },
        "id": "IMhoVNv7IzsO",
        "outputId": "98aa7e8d-b319-4aa9-b657-649c7c58c5e4"
      },
      "source": [
        "id(next_square())"
      ],
      "execution_count": 153,
      "outputs": [
        {
          "output_type": "execute_result",
          "data": {
            "text/plain": [
              "133829401000112"
            ]
          },
          "metadata": {},
          "execution_count": 153
        }
      ]
    },
    {
      "cell_type": "code",
      "metadata": {
        "colab": {
          "base_uri": "https://localhost:8080/"
        },
        "id": "eZeVbLkWKgDO",
        "outputId": "e30525c9-3441-4366-ccda-7968d4374910"
      },
      "source": [
        "x=[1,2,3,4]\n",
        "iter(x)"
      ],
      "execution_count": null,
      "outputs": [
        {
          "output_type": "execute_result",
          "data": {
            "text/plain": [
              "<list_iterator at 0x7f1ec60e9390>"
            ]
          },
          "metadata": {
            "tags": []
          },
          "execution_count": 24
        }
      ]
    },
    {
      "cell_type": "code",
      "metadata": {
        "id": "jx3MLBTjKnhF",
        "colab": {
          "base_uri": "https://localhost:8080/"
        },
        "outputId": "e50122b3-7d32-47de-aabf-02138e888310"
      },
      "source": [
        "(lambda s: s if s%2==0 else None)(4)"
      ],
      "execution_count": 157,
      "outputs": [
        {
          "output_type": "execute_result",
          "data": {
            "text/plain": [
              "4"
            ]
          },
          "metadata": {},
          "execution_count": 157
        }
      ]
    },
    {
      "cell_type": "code",
      "metadata": {
        "colab": {
          "base_uri": "https://localhost:8080/"
        },
        "id": "ecosFYSqOe-r",
        "outputId": "8fb94249-f36d-4717-90f3-00889b9fae87"
      },
      "source": [
        "s=4\n",
        "if s%2==0: print(s)"
      ],
      "execution_count": 158,
      "outputs": [
        {
          "output_type": "stream",
          "name": "stdout",
          "text": [
            "4\n"
          ]
        }
      ]
    },
    {
      "cell_type": "code",
      "metadata": {
        "colab": {
          "base_uri": "https://localhost:8080/"
        },
        "id": "GsspA3MMQnNt",
        "outputId": "524c9d42-dc9f-4bf5-b606-a1dff5d62270"
      },
      "source": [
        "(lambda x : print(x))(4)"
      ],
      "execution_count": 159,
      "outputs": [
        {
          "output_type": "stream",
          "name": "stdout",
          "text": [
            "4\n"
          ]
        }
      ]
    },
    {
      "cell_type": "code",
      "metadata": {
        "colab": {
          "base_uri": "https://localhost:8080/"
        },
        "id": "RnutS4rySZ9o",
        "outputId": "730856e9-e061-418b-e792-7b5c2b4ebeb1"
      },
      "source": [
        "g=lambda x:x**3\n",
        "g(3)"
      ],
      "execution_count": 160,
      "outputs": [
        {
          "output_type": "execute_result",
          "data": {
            "text/plain": [
              "27"
            ]
          },
          "metadata": {},
          "execution_count": 160
        }
      ]
    },
    {
      "cell_type": "code",
      "metadata": {
        "colab": {
          "base_uri": "https://localhost:8080/"
        },
        "id": "W558O4SvS3a7",
        "outputId": "801cac8c-fb45-4cb5-999a-5c7628b1bbbe"
      },
      "source": [
        "lst=[1,2,3,4,5,6,6,7]\n",
        "filtered= map(lambda x:x%2==0, lst)\n",
        "list(filtered)"
      ],
      "execution_count": 161,
      "outputs": [
        {
          "output_type": "execute_result",
          "data": {
            "text/plain": [
              "[False, True, False, True, False, True, True, False]"
            ]
          },
          "metadata": {},
          "execution_count": 161
        }
      ]
    },
    {
      "cell_type": "code",
      "metadata": {
        "colab": {
          "base_uri": "https://localhost:8080/"
        },
        "id": "m5LrE7u2T_lT",
        "outputId": "43c4d8f8-f16e-42d7-e414-4f55467911b2"
      },
      "source": [
        "def myfunc():\n",
        "  dfdf=565\n",
        "  global s\n",
        "  print(s)\n",
        "  s=\"hi hello\"\n",
        "  print(s)\n",
        "s=\"outside\"\n",
        "myfunc()\n",
        "print(s)"
      ],
      "execution_count": null,
      "outputs": [
        {
          "output_type": "stream",
          "text": [
            "outside\n",
            "hi hello\n",
            "hi hello\n"
          ],
          "name": "stdout"
        }
      ]
    },
    {
      "cell_type": "code",
      "metadata": {
        "colab": {
          "base_uri": "https://localhost:8080/"
        },
        "id": "K-3ExOW6VNO7",
        "outputId": "6cc675f4-d0cc-424b-9e8f-bc7c6b1c0128"
      },
      "source": [
        "def shout(text):\n",
        "  return text.upper()\n",
        "def whisper(text):\n",
        "  return text.lower()\n",
        "\n",
        "def callout(func):\n",
        "  print(func('Hello'))\n",
        "\n",
        "callout(shout)\n",
        "callout(whisper)"
      ],
      "execution_count": 162,
      "outputs": [
        {
          "output_type": "stream",
          "name": "stdout",
          "text": [
            "HELLO\n",
            "hello\n"
          ]
        }
      ]
    },
    {
      "cell_type": "code",
      "metadata": {
        "colab": {
          "base_uri": "https://localhost:8080/"
        },
        "id": "b1x_01KjbLvC",
        "outputId": "c7a93e2f-9943-4fd4-8c1f-67dff8a5eccf"
      },
      "source": [
        "def adder(y):\n",
        "  def addnum(x):\n",
        "    return x+y\n",
        "  return addnum\n",
        "addn=adder(7)\n",
        "print(addn(10))"
      ],
      "execution_count": 163,
      "outputs": [
        {
          "output_type": "stream",
          "name": "stdout",
          "text": [
            "17\n"
          ]
        }
      ]
    },
    {
      "cell_type": "code",
      "metadata": {
        "colab": {
          "base_uri": "https://localhost:8080/"
        },
        "id": "hMJakm3Ucw1R",
        "outputId": "eed33b5b-62cc-4114-b4cf-4763bae6ec71"
      },
      "source": [
        "# Python program to illustrate destructor\n",
        "\n",
        "class Employee:\n",
        "\n",
        "\t# Initializing\n",
        "\tdef __init__(self):\n",
        "\t\tprint('Employee created')\n",
        "\n",
        "\t# Calling destructor\n",
        "\tdef __del__(self):\n",
        "\t\tprint(\"Destructor called\")\n",
        "\n",
        "def Create_obj():\n",
        "\tprint('Making Object...')\n",
        "\tobj = Employee()\n",
        "\tprint('function end...')\n",
        "\treturn obj\n",
        "\n",
        "print('Calling Create_obj() function...')\n",
        "obj = Create_obj()\n",
        "print('Program End...')\n"
      ],
      "execution_count": 168,
      "outputs": [
        {
          "output_type": "stream",
          "name": "stdout",
          "text": [
            "Calling Create_obj() function...\n",
            "Making Object...\n",
            "Employee created\n",
            "function end...\n",
            "Program End...\n"
          ]
        }
      ]
    },
    {
      "cell_type": "code",
      "metadata": {
        "id": "E9XawgFh8fpf"
      },
      "source": [
        "del obj"
      ],
      "execution_count": 169,
      "outputs": []
    },
    {
      "cell_type": "code",
      "metadata": {
        "id": "aDd1lRXp8jMU",
        "colab": {
          "base_uri": "https://localhost:8080/",
          "height": 177
        },
        "outputId": "c89b5213-96a4-47f3-b0b0-fd30d028f3a3"
      },
      "source": [
        "obj"
      ],
      "execution_count": 167,
      "outputs": [
        {
          "output_type": "error",
          "ename": "NameError",
          "evalue": "ignored",
          "traceback": [
            "\u001b[0;31m---------------------------------------------------------------------------\u001b[0m",
            "\u001b[0;31mNameError\u001b[0m                                 Traceback (most recent call last)",
            "\u001b[0;32m<ipython-input-167-c88944e91e53>\u001b[0m in \u001b[0;36m<cell line: 1>\u001b[0;34m()\u001b[0m\n\u001b[0;32m----> 1\u001b[0;31m \u001b[0mobj\u001b[0m\u001b[0;34m\u001b[0m\u001b[0;34m\u001b[0m\u001b[0m\n\u001b[0m",
            "\u001b[0;31mNameError\u001b[0m: name 'obj' is not defined"
          ]
        }
      ]
    },
    {
      "cell_type": "code",
      "metadata": {
        "id": "J__Mb82S8ltO",
        "colab": {
          "base_uri": "https://localhost:8080/"
        },
        "outputId": "08cfb6de-8412-4a7d-b26d-345199bf8f45"
      },
      "source": [
        "def outerFunction(text):\n",
        "#  text=text\n",
        "  def innerFunc():\n",
        "    print(text)\n",
        "\n",
        "  return innerFunc\n",
        "if __name__=='__main__':\n",
        "  inFunc=outerFunction(\"Hello! How are you?\")\n",
        "  inFunc()"
      ],
      "execution_count": 172,
      "outputs": [
        {
          "output_type": "stream",
          "name": "stdout",
          "text": [
            "Hello! How are you?\n"
          ]
        }
      ]
    },
    {
      "cell_type": "code",
      "metadata": {
        "colab": {
          "base_uri": "https://localhost:8080/"
        },
        "id": "2ph54UY6IuOo",
        "outputId": "07acde5e-4e0b-4b16-bbc9-7e8cc3257ac2"
      },
      "source": [
        "import time\n",
        "def def_decorator(func):\n",
        "  def inner():\n",
        "    print(\"Inside Decorator\")\n",
        "    start=time.time()\n",
        "    func()\n",
        "    end=time.time()\n",
        "    print(\"time taken: {}\".format(end-start))\n",
        "  return inner\n",
        "\n",
        "@def_decorator\n",
        "def func1():\n",
        "  print(\"Inside main Function\")\n",
        "  time.sleep(2)\n",
        "\n",
        "func1()"
      ],
      "execution_count": null,
      "outputs": [
        {
          "output_type": "stream",
          "text": [
            "Inside Decorator\n",
            "Inside main Function\n",
            "time taken: 2.0035643577575684\n"
          ],
          "name": "stdout"
        }
      ]
    },
    {
      "cell_type": "code",
      "metadata": {
        "colab": {
          "base_uri": "https://localhost:8080/"
        },
        "id": "VuhJN7D8XHd6",
        "outputId": "febcf68c-5561-4d7a-bd83-6731c787b386"
      },
      "source": [
        "def def_decorator(*args,**kwargs):\n",
        "  print(args[0])\n",
        "  def finnner(func):\n",
        "    print('inside inner')\n",
        "    def wrapper(x,y):\n",
        "      print(\"inside wrapper\")\n",
        "      func(x,y)\n",
        "    return wrapper\n",
        "  return finnner\n",
        "\n",
        "#@def_decorator(\"hi\")\n",
        "def pr_num(x,y):\n",
        "  print(x,y)\n",
        "\n",
        "def_decorator(\"Hi\")(pr_num)(2,3)"
      ],
      "execution_count": null,
      "outputs": [
        {
          "output_type": "stream",
          "text": [
            "Hi\n",
            "inside inner\n",
            "inside wrapper\n",
            "2 3\n"
          ],
          "name": "stdout"
        }
      ]
    },
    {
      "cell_type": "code",
      "metadata": {
        "colab": {
          "base_uri": "https://localhost:8080/"
        },
        "id": "YrEIS7HeiNsZ",
        "outputId": "cc6310d6-71ce-4acc-befc-097f4252dad9"
      },
      "source": [
        "def memo_fact(func):\n",
        "  memory={}\n",
        "  def inner(num):\n",
        "    start=time.time()\n",
        "    if num not in memory:\n",
        "      time.sleep(1)\n",
        "      memory[num]=func(num)\n",
        "    end=time.time()\n",
        "    print(\"time taken {}\".format(end-start))\n",
        "    return memory[num]\n",
        "  return inner\n",
        "\n",
        "\n",
        "\n"
      ],
      "execution_count": null,
      "outputs": [
        {
          "output_type": "stream",
          "text": [
            "time taken 1.0009775161743164\n",
            "time taken 2.0023245811462402\n",
            "time taken 3.0036721229553223\n",
            "time taken 4.004889249801636\n",
            "time taken 5.00611686706543\n",
            "time taken 6.007293939590454\n"
          ],
          "name": "stdout"
        },
        {
          "output_type": "execute_result",
          "data": {
            "text/plain": [
              "720"
            ]
          },
          "metadata": {
            "tags": []
          },
          "execution_count": 50
        }
      ]
    },
    {
      "cell_type": "code",
      "metadata": {
        "id": "4Ep0OrgGy__7"
      },
      "source": [
        "@memo_fact\n",
        "def factorial(num):\n",
        "  if num==1:\n",
        "    return num\n",
        "  else:\n",
        "    return num*factorial(num-1)"
      ],
      "execution_count": null,
      "outputs": []
    },
    {
      "cell_type": "code",
      "metadata": {
        "colab": {
          "base_uri": "https://localhost:8080/"
        },
        "id": "z7SAPeam5KhW",
        "outputId": "4d7fe6f5-abf9-43b9-fcdd-e5e31fa82275"
      },
      "source": [
        "factorial(3)"
      ],
      "execution_count": null,
      "outputs": [
        {
          "output_type": "stream",
          "text": [
            "time taken 1.430511474609375e-06\n"
          ],
          "name": "stdout"
        },
        {
          "output_type": "execute_result",
          "data": {
            "text/plain": [
              "6"
            ]
          },
          "metadata": {
            "tags": []
          },
          "execution_count": 56
        }
      ]
    },
    {
      "cell_type": "code",
      "metadata": {
        "colab": {
          "base_uri": "https://localhost:8080/"
        },
        "id": "AeZ-IvPj9k1u",
        "outputId": "acdb67b4-85c9-41db-913a-0e290a3f7fce"
      },
      "source": [
        "class A:\n",
        "  def __init__(haha):\n",
        "    print(\"Called\")\n",
        "    haha.b=1\n",
        "  def add(self):\n",
        "    return 3\n",
        "  def __del__(self):\n",
        "    print(\"del called\")\n",
        "  a=1\n",
        "a1=A()"
      ],
      "execution_count": 173,
      "outputs": [
        {
          "output_type": "stream",
          "name": "stdout",
          "text": [
            "Called\n"
          ]
        }
      ]
    },
    {
      "cell_type": "code",
      "metadata": {
        "colab": {
          "base_uri": "https://localhost:8080/"
        },
        "id": "OKEVbPB2IwpO",
        "outputId": "c37001a9-0ebe-47e5-ddaf-85f1fa442e1a"
      },
      "source": [
        "a1.__init__()"
      ],
      "execution_count": 174,
      "outputs": [
        {
          "output_type": "stream",
          "name": "stdout",
          "text": [
            "Called\n"
          ]
        }
      ]
    },
    {
      "cell_type": "code",
      "metadata": {
        "colab": {
          "base_uri": "https://localhost:8080/"
        },
        "id": "4wlLU0UjIyEs",
        "outputId": "57e80563-e391-488e-fcb2-5c84417e8334"
      },
      "source": [
        "#Destructor called once object scope ends.\n",
        "def func1():\n",
        "  def func2():\n",
        "    a2=A()\n",
        "    print(a2.add())\n",
        "  func2()\n",
        "  print(\"func2 ended\")\n",
        "\n",
        "func1()\n"
      ],
      "execution_count": 175,
      "outputs": [
        {
          "output_type": "stream",
          "name": "stdout",
          "text": [
            "Called\n",
            "3\n",
            "del called\n",
            "func2 ended\n"
          ]
        }
      ]
    },
    {
      "cell_type": "code",
      "metadata": {
        "colab": {
          "base_uri": "https://localhost:8080/",
          "height": 299
        },
        "id": "gu3m2QhFQWEy",
        "outputId": "5e9da3bc-7e85-4842-ef06-9260545f9d7e"
      },
      "source": [
        "#Inheritance\n",
        "class A:\n",
        "  def __init__(self):\n",
        "    self.a=1\n",
        "    self._b=2\n",
        "  def display(self):\n",
        "    print(self._b)\n",
        "\n",
        "class B(A):\n",
        "  def __init__(self):\n",
        "    self.c=5\n",
        "    A.__init__(self)\n",
        "a1=A()\n",
        "b1=B()\n",
        "print(b1.c)\n",
        "print(b1.a)\n",
        "print(b1._B_b)\n",
        "print(a1._A_b)\n",
        "a1.display()\n",
        "b1.display()"
      ],
      "execution_count": 176,
      "outputs": [
        {
          "output_type": "stream",
          "name": "stdout",
          "text": [
            "5\n",
            "1\n"
          ]
        },
        {
          "output_type": "error",
          "ename": "AttributeError",
          "evalue": "ignored",
          "traceback": [
            "\u001b[0;31m---------------------------------------------------------------------------\u001b[0m",
            "\u001b[0;31mAttributeError\u001b[0m                            Traceback (most recent call last)",
            "\u001b[0;32m<ipython-input-176-04abb6b6c348>\u001b[0m in \u001b[0;36m<cell line: 17>\u001b[0;34m()\u001b[0m\n\u001b[1;32m     15\u001b[0m \u001b[0mprint\u001b[0m\u001b[0;34m(\u001b[0m\u001b[0mb1\u001b[0m\u001b[0;34m.\u001b[0m\u001b[0mc\u001b[0m\u001b[0;34m)\u001b[0m\u001b[0;34m\u001b[0m\u001b[0;34m\u001b[0m\u001b[0m\n\u001b[1;32m     16\u001b[0m \u001b[0mprint\u001b[0m\u001b[0;34m(\u001b[0m\u001b[0mb1\u001b[0m\u001b[0;34m.\u001b[0m\u001b[0ma\u001b[0m\u001b[0;34m)\u001b[0m\u001b[0;34m\u001b[0m\u001b[0;34m\u001b[0m\u001b[0m\n\u001b[0;32m---> 17\u001b[0;31m \u001b[0mprint\u001b[0m\u001b[0;34m(\u001b[0m\u001b[0mb1\u001b[0m\u001b[0;34m.\u001b[0m\u001b[0m_B_b\u001b[0m\u001b[0;34m)\u001b[0m\u001b[0;34m\u001b[0m\u001b[0;34m\u001b[0m\u001b[0m\n\u001b[0m\u001b[1;32m     18\u001b[0m \u001b[0mprint\u001b[0m\u001b[0;34m(\u001b[0m\u001b[0ma1\u001b[0m\u001b[0;34m.\u001b[0m\u001b[0m_A_b\u001b[0m\u001b[0;34m)\u001b[0m\u001b[0;34m\u001b[0m\u001b[0;34m\u001b[0m\u001b[0m\n\u001b[1;32m     19\u001b[0m \u001b[0ma1\u001b[0m\u001b[0;34m.\u001b[0m\u001b[0mdisplay\u001b[0m\u001b[0;34m(\u001b[0m\u001b[0;34m)\u001b[0m\u001b[0;34m\u001b[0m\u001b[0;34m\u001b[0m\u001b[0m\n",
            "\u001b[0;31mAttributeError\u001b[0m: 'B' object has no attribute '_B_b'"
          ]
        },
        {
          "output_type": "stream",
          "name": "stdout",
          "text": [
            "del called\n"
          ]
        }
      ]
    },
    {
      "cell_type": "code",
      "metadata": {
        "colab": {
          "base_uri": "https://localhost:8080/"
        },
        "id": "2yusd2OWX0sB",
        "outputId": "fc1296b3-6a23-4e82-907f-a2cac67ebf4f"
      },
      "source": [
        "# Python program to demonstrate\n",
        "# use of class method and static method.\n",
        "from datetime import date\n",
        "\n",
        "class Person:\n",
        "\tdef __init__(self, name, age):\n",
        "\t\tself.name = name\n",
        "\t\tself.age = age\n",
        "\n",
        "\t# a class method to create a Person object by birth year.\n",
        "\t@classmethod\n",
        "\tdef fromBirthYear(cls, name, year):\n",
        "\t\treturn cls(name, date.today().year - year)\n",
        "\n",
        "\t# a static method to check if a Person is adult or not.\n",
        "\t@staticmethod\n",
        "\tdef isAdult(age):\n",
        "\t\treturn age > 18\n",
        "\n",
        "person1 = Person('mayank', 21)\n",
        "person2 = Person.fromBirthYear('mayank', 1996)\n",
        "\n",
        "print (person1.age)\n",
        "print (person2.age)\n",
        "\n",
        "# print the result\n",
        "print (person1.isAdult(22))"
      ],
      "execution_count": 177,
      "outputs": [
        {
          "output_type": "stream",
          "name": "stdout",
          "text": [
            "21\n",
            "27\n",
            "True\n"
          ]
        }
      ]
    },
    {
      "cell_type": "code",
      "metadata": {
        "colab": {
          "base_uri": "https://localhost:8080/"
        },
        "id": "awuM_qzl27S8",
        "outputId": "fdfa138d-bc63-43de-cb42-b480774775ec"
      },
      "source": [
        "class A:\n",
        "  pass\n",
        "type(A)"
      ],
      "execution_count": 178,
      "outputs": [
        {
          "output_type": "execute_result",
          "data": {
            "text/plain": [
              "type"
            ]
          },
          "metadata": {},
          "execution_count": 178
        }
      ]
    },
    {
      "cell_type": "code",
      "metadata": {
        "colab": {
          "base_uri": "https://localhost:8080/"
        },
        "id": "VGT_NIIF4jvh",
        "outputId": "d9a0bf0f-7669-4f87-c629-b1477cde481e"
      },
      "source": [
        "A"
      ],
      "execution_count": null,
      "outputs": [
        {
          "output_type": "execute_result",
          "data": {
            "text/plain": [
              "__main__.A"
            ]
          },
          "metadata": {
            "tags": []
          },
          "execution_count": 123
        }
      ]
    },
    {
      "cell_type": "code",
      "metadata": {
        "colab": {
          "base_uri": "https://localhost:8080/"
        },
        "id": "BsudPesE5OYR",
        "outputId": "8dad6138-0b6c-4b80-99a2-f00d625f3713"
      },
      "source": [
        "try:\n",
        "  a=[1,2,3]\n",
        "  print(a[4])\n",
        "except Exception as e :\n",
        "  print(\"Exception raised\",e)"
      ],
      "execution_count": null,
      "outputs": [
        {
          "output_type": "stream",
          "text": [
            "Exception raised list index out of range\n"
          ],
          "name": "stdout"
        }
      ]
    },
    {
      "cell_type": "code",
      "metadata": {
        "colab": {
          "base_uri": "https://localhost:8080/",
          "height": 163
        },
        "id": "8oDt1bUxIcAp",
        "outputId": "03787ae8-a8ad-4482-9a81-5a70983f18b6"
      },
      "source": [
        "print(a[4])"
      ],
      "execution_count": null,
      "outputs": [
        {
          "output_type": "error",
          "ename": "IndexError",
          "evalue": "ignored",
          "traceback": [
            "\u001b[0;31m---------------------------------------------------------------------------\u001b[0m",
            "\u001b[0;31mIndexError\u001b[0m                                Traceback (most recent call last)",
            "\u001b[0;32m<ipython-input-134-ba4863cd608d>\u001b[0m in \u001b[0;36m<module>\u001b[0;34m()\u001b[0m\n\u001b[0;32m----> 1\u001b[0;31m \u001b[0mprint\u001b[0m\u001b[0;34m(\u001b[0m\u001b[0ma\u001b[0m\u001b[0;34m[\u001b[0m\u001b[0;36m4\u001b[0m\u001b[0;34m]\u001b[0m\u001b[0;34m)\u001b[0m\u001b[0;34m\u001b[0m\u001b[0;34m\u001b[0m\u001b[0m\n\u001b[0m",
            "\u001b[0;31mIndexError\u001b[0m: list index out of range"
          ]
        }
      ]
    },
    {
      "cell_type": "code",
      "metadata": {
        "colab": {
          "base_uri": "https://localhost:8080/"
        },
        "id": "QlHOCkS_Ko40",
        "outputId": "327042b1-9f42-4bc2-82a2-6a6802cdaddb"
      },
      "source": [
        "# try for unsafe code\n",
        "try:\n",
        "\tamount = 1999\n",
        "\tif amount < 2999:\n",
        "\n",
        "\t\t# raise the ValueError\n",
        "\t\traise ValueError(\"please add money in your account\")\n",
        "\telse:\n",
        "\t\tprint(\"You are eligible to purchase DSA Self Paced course\")\n",
        "\n",
        "# if false then raise the value error\n",
        "except Exception as e:\n",
        "\t\tprint(type(e))\n"
      ],
      "execution_count": null,
      "outputs": [
        {
          "output_type": "stream",
          "text": [
            "<class 'ValueError'>\n"
          ],
          "name": "stdout"
        }
      ]
    },
    {
      "cell_type": "code",
      "metadata": {
        "colab": {
          "base_uri": "https://localhost:8080/"
        },
        "id": "CjMJbnYTNfq-",
        "outputId": "80390241-21e0-43b0-96b9-93f4dd77c3da"
      },
      "source": [
        "locals()['__builtins__']"
      ],
      "execution_count": null,
      "outputs": [
        {
          "output_type": "execute_result",
          "data": {
            "text/plain": [
              "<module 'builtins' (built-in)>"
            ]
          },
          "metadata": {
            "tags": []
          },
          "execution_count": 144
        }
      ]
    },
    {
      "cell_type": "code",
      "metadata": {
        "id": "IVIQubDEN4rr"
      },
      "source": [
        "file=open(\"test.txt\",'w+')\n",
        "file.write(\"this is to test line 1.\")\n",
        "file.write('\\n')\n",
        "file.write(\"This is line 2.\")\n",
        "file.close()\n"
      ],
      "execution_count": 179,
      "outputs": []
    },
    {
      "cell_type": "code",
      "metadata": {
        "colab": {
          "base_uri": "https://localhost:8080/",
          "height": 35
        },
        "id": "2_B4DRT39CLn",
        "outputId": "5b14df08-069c-4cfb-e5ce-da92da78a1c7"
      },
      "source": [
        "file=open('test.txt','r')\n",
        "file.read()"
      ],
      "execution_count": 180,
      "outputs": [
        {
          "output_type": "execute_result",
          "data": {
            "text/plain": [
              "'this is to test line 1.\\nThis is line 2.'"
            ],
            "application/vnd.google.colaboratory.intrinsic+json": {
              "type": "string"
            }
          },
          "metadata": {},
          "execution_count": 180
        }
      ]
    },
    {
      "cell_type": "code",
      "metadata": {
        "id": "OANET-wv9F-m",
        "colab": {
          "base_uri": "https://localhost:8080/"
        },
        "outputId": "4335ee07-c482-4a95-9045-972021b3332d"
      },
      "source": [
        "with open('test.txt') as f:\n",
        "  data=f.readlines()\n",
        "  for line in data:\n",
        "    print(line)"
      ],
      "execution_count": 181,
      "outputs": [
        {
          "output_type": "stream",
          "name": "stdout",
          "text": [
            "this is to test line 1.\n",
            "\n",
            "This is line 2.\n"
          ]
        }
      ]
    },
    {
      "cell_type": "code",
      "metadata": {
        "id": "jvReBVjps0Ta"
      },
      "source": [
        "import csv\n",
        "\n",
        "fields=['col1','col2']\n",
        "rows=[['col1 data 1', 'col 2 data 1'],\n",
        "      ['col1 data 2', 'col 2 data 2']]\n",
        "\n",
        "with open('test.csv','w') as csvfile:\n",
        "  csvwriter=csv.writer(csvfile)\n",
        "  csvwriter.writerow(fields)\n",
        "  csvwriter.writerows(rows)"
      ],
      "execution_count": null,
      "outputs": []
    },
    {
      "cell_type": "code",
      "metadata": {
        "colab": {
          "base_uri": "https://localhost:8080/",
          "height": 35
        },
        "id": "p0oFoPNeyA2B",
        "outputId": "685c2008-4969-4de3-92e2-fb0d8e0bc616"
      },
      "source": [
        "file=open('test.csv','r')\n",
        "file.read()"
      ],
      "execution_count": null,
      "outputs": [
        {
          "output_type": "execute_result",
          "data": {
            "application/vnd.google.colaboratory.intrinsic+json": {
              "type": "string"
            },
            "text/plain": [
              "'col1,col2\\ncol1 data 1,col 2 data 1\\ncol1 data 2,col 2 data 2\\n'"
            ]
          },
          "metadata": {
            "tags": []
          },
          "execution_count": 29
        }
      ]
    },
    {
      "cell_type": "code",
      "metadata": {
        "colab": {
          "base_uri": "https://localhost:8080/",
          "height": 111
        },
        "id": "PAoG35iQyxoa",
        "outputId": "0e6d4a96-0890-408a-cb33-1c59d2bd042a"
      },
      "source": [
        "import pandas as pd\n",
        "\n",
        "pd.read_csv('test.csv')\n"
      ],
      "execution_count": null,
      "outputs": [
        {
          "output_type": "execute_result",
          "data": {
            "text/html": [
              "<div>\n",
              "<style scoped>\n",
              "    .dataframe tbody tr th:only-of-type {\n",
              "        vertical-align: middle;\n",
              "    }\n",
              "\n",
              "    .dataframe tbody tr th {\n",
              "        vertical-align: top;\n",
              "    }\n",
              "\n",
              "    .dataframe thead th {\n",
              "        text-align: right;\n",
              "    }\n",
              "</style>\n",
              "<table border=\"1\" class=\"dataframe\">\n",
              "  <thead>\n",
              "    <tr style=\"text-align: right;\">\n",
              "      <th></th>\n",
              "      <th>col1</th>\n",
              "      <th>col2</th>\n",
              "    </tr>\n",
              "  </thead>\n",
              "  <tbody>\n",
              "    <tr>\n",
              "      <th>0</th>\n",
              "      <td>col1 data 1</td>\n",
              "      <td>col 2 data 1</td>\n",
              "    </tr>\n",
              "    <tr>\n",
              "      <th>1</th>\n",
              "      <td>col1 data 2</td>\n",
              "      <td>col 2 data 2</td>\n",
              "    </tr>\n",
              "  </tbody>\n",
              "</table>\n",
              "</div>"
            ],
            "text/plain": [
              "          col1          col2\n",
              "0  col1 data 1  col 2 data 1\n",
              "1  col1 data 2  col 2 data 2"
            ]
          },
          "metadata": {
            "tags": []
          },
          "execution_count": 30
        }
      ]
    },
    {
      "cell_type": "code",
      "metadata": {
        "id": "DNTvMk7Ey5iX"
      },
      "source": [
        "data=[]\n",
        "with open('test.csv') as csvfile:\n",
        "  csvreader=csv.reader(csvfile)\n",
        "  data.append(next(csvreader))\n",
        "  for row in csvreader:\n",
        "    data.append(row)"
      ],
      "execution_count": null,
      "outputs": []
    },
    {
      "cell_type": "code",
      "metadata": {
        "colab": {
          "base_uri": "https://localhost:8080/"
        },
        "id": "WUfiyW7f0PFc",
        "outputId": "7950d877-e8af-454b-f5b1-51c8ca9ced96"
      },
      "source": [
        "data"
      ],
      "execution_count": null,
      "outputs": [
        {
          "output_type": "execute_result",
          "data": {
            "text/plain": [
              "[['col1', 'col2'],\n",
              " ['col1 data 1', 'col 2 data 1'],\n",
              " ['col1 data 2', 'col 2 data 2']]"
            ]
          },
          "metadata": {
            "tags": []
          },
          "execution_count": 32
        }
      ]
    },
    {
      "cell_type": "code",
      "metadata": {
        "colab": {
          "base_uri": "https://localhost:8080/",
          "height": 229
        },
        "id": "pjHTDmWD0QEA",
        "outputId": "686c2a6e-6ea3-438a-f37a-8296407f7241"
      },
      "source": [
        "data=[]\n",
        "with open('test.csv') as csvfile:\n",
        "  csvreader=csv.DictReader(csvfile)\n",
        "  print(next(csvreader))"
      ],
      "execution_count": 182,
      "outputs": [
        {
          "output_type": "error",
          "ename": "FileNotFoundError",
          "evalue": "ignored",
          "traceback": [
            "\u001b[0;31m---------------------------------------------------------------------------\u001b[0m",
            "\u001b[0;31mFileNotFoundError\u001b[0m                         Traceback (most recent call last)",
            "\u001b[0;32m<ipython-input-182-190994d0605a>\u001b[0m in \u001b[0;36m<cell line: 2>\u001b[0;34m()\u001b[0m\n\u001b[1;32m      1\u001b[0m \u001b[0mdata\u001b[0m\u001b[0;34m=\u001b[0m\u001b[0;34m[\u001b[0m\u001b[0;34m]\u001b[0m\u001b[0;34m\u001b[0m\u001b[0;34m\u001b[0m\u001b[0m\n\u001b[0;32m----> 2\u001b[0;31m \u001b[0;32mwith\u001b[0m \u001b[0mopen\u001b[0m\u001b[0;34m(\u001b[0m\u001b[0;34m'test.csv'\u001b[0m\u001b[0;34m)\u001b[0m \u001b[0;32mas\u001b[0m \u001b[0mcsvfile\u001b[0m\u001b[0;34m:\u001b[0m\u001b[0;34m\u001b[0m\u001b[0;34m\u001b[0m\u001b[0m\n\u001b[0m\u001b[1;32m      3\u001b[0m   \u001b[0mcsvreader\u001b[0m\u001b[0;34m=\u001b[0m\u001b[0mcsv\u001b[0m\u001b[0;34m.\u001b[0m\u001b[0mDictReader\u001b[0m\u001b[0;34m(\u001b[0m\u001b[0mcsvfile\u001b[0m\u001b[0;34m)\u001b[0m\u001b[0;34m\u001b[0m\u001b[0;34m\u001b[0m\u001b[0m\n\u001b[1;32m      4\u001b[0m   \u001b[0mprint\u001b[0m\u001b[0;34m(\u001b[0m\u001b[0mnext\u001b[0m\u001b[0;34m(\u001b[0m\u001b[0mcsvreader\u001b[0m\u001b[0;34m)\u001b[0m\u001b[0;34m)\u001b[0m\u001b[0;34m\u001b[0m\u001b[0;34m\u001b[0m\u001b[0m\n",
            "\u001b[0;31mFileNotFoundError\u001b[0m: [Errno 2] No such file or directory: 'test.csv'"
          ]
        }
      ]
    },
    {
      "cell_type": "code",
      "metadata": {
        "id": "3vm7-7bC1wn7"
      },
      "source": [
        "import collections"
      ],
      "execution_count": 183,
      "outputs": []
    },
    {
      "cell_type": "code",
      "metadata": {
        "id": "7k6VU4prX55a"
      },
      "source": [
        "con=collections.Counter()"
      ],
      "execution_count": 184,
      "outputs": []
    },
    {
      "cell_type": "code",
      "metadata": {
        "id": "cmThP-89X7yf"
      },
      "source": [
        "con.update(['A','A','B','B','C'])"
      ],
      "execution_count": 185,
      "outputs": []
    },
    {
      "cell_type": "code",
      "metadata": {
        "id": "6e_o156sYF5m",
        "colab": {
          "base_uri": "https://localhost:8080/"
        },
        "outputId": "c10cbe18-c30a-471d-c766-8748d0e3787d"
      },
      "source": [
        "con"
      ],
      "execution_count": 186,
      "outputs": [
        {
          "output_type": "execute_result",
          "data": {
            "text/plain": [
              "Counter({'A': 2, 'B': 2, 'C': 1})"
            ]
          },
          "metadata": {},
          "execution_count": 186
        }
      ]
    },
    {
      "cell_type": "code",
      "metadata": {
        "id": "3JtMRtjGYGaD"
      },
      "source": [
        "from collections import UserString"
      ],
      "execution_count": 187,
      "outputs": []
    },
    {
      "cell_type": "code",
      "metadata": {
        "colab": {
          "base_uri": "https://localhost:8080/"
        },
        "id": "6Wt-GYgAhLRD",
        "outputId": "a5d1940d-ded2-49a2-d930-bab2163732be"
      },
      "source": [
        "class MyString(UserString):\n",
        "  def remove(self,s):\n",
        "    self.data=self.data.replace(s,'')\n",
        "  def append(self,s):\n",
        "    self.data+=s\n",
        "\n",
        "s1=MyString(\"Hello\")\n",
        "print(s1.data)\n",
        "s1.append(\" Geeks!\")\n",
        "print(s1)\n",
        "s1.remove(\"Ge\")\n",
        "print(s1)"
      ],
      "execution_count": 188,
      "outputs": [
        {
          "output_type": "stream",
          "name": "stdout",
          "text": [
            "Hello\n",
            "Hello Geeks!\n",
            "Hello eks!\n"
          ]
        }
      ]
    },
    {
      "cell_type": "code",
      "metadata": {
        "id": "ZNsSIEbdhiDA"
      },
      "source": [],
      "execution_count": null,
      "outputs": []
    },
    {
      "cell_type": "markdown",
      "metadata": {
        "id": "-2dZ1ay1rCYR"
      },
      "source": []
    }
  ]
}
